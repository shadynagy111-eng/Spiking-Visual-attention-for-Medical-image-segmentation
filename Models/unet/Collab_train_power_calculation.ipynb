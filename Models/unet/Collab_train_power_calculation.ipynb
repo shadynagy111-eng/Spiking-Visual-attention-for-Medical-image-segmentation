{
  "cells": [
    {
      "cell_type": "code",
      "execution_count": 1,
      "metadata": {
        "id": "SMk6nrdfrWLb",
        "outputId": "ad7287cf-85c5-4afc-f56d-799f12b2ebfd",
        "colab": {
          "base_uri": "https://localhost:8080/"
        }
      },
      "outputs": [
        {
          "output_type": "stream",
          "name": "stdout",
          "text": [
            "Mounted at /content/drive\n"
          ]
        }
      ],
      "source": [
        "from google.colab import drive\n",
        "drive.mount('/content/drive')"
      ]
    },
    {
      "cell_type": "code",
      "execution_count": 2,
      "metadata": {
        "id": "swlvwrbUNYYB",
        "outputId": "ee12bfe2-11ad-46ae-81d7-035015b0c4dc",
        "colab": {
          "base_uri": "https://localhost:8080/"
        }
      },
      "outputs": [
        {
          "output_type": "stream",
          "name": "stdout",
          "text": [
            "Collecting eco2ai\n",
            "  Downloading eco2ai-0.3.12-py2.py3-none-any.whl.metadata (10.0 kB)\n",
            "Collecting APScheduler (from eco2ai)\n",
            "  Downloading APScheduler-3.11.0-py3-none-any.whl.metadata (6.4 kB)\n",
            "Requirement already satisfied: pandas>=1.4.0 in /usr/local/lib/python3.11/dist-packages (from eco2ai) (2.2.2)\n",
            "Requirement already satisfied: psutil>=5.9.1 in /usr/local/lib/python3.11/dist-packages (from eco2ai) (5.9.5)\n",
            "Requirement already satisfied: py-cpuinfo in /usr/local/lib/python3.11/dist-packages (from eco2ai) (9.0.0)\n",
            "Requirement already satisfied: pynvml in /usr/local/lib/python3.11/dist-packages (from eco2ai) (12.0.0)\n",
            "Requirement already satisfied: requests in /usr/local/lib/python3.11/dist-packages (from eco2ai) (2.32.3)\n",
            "Requirement already satisfied: setuptools in /usr/local/lib/python3.11/dist-packages (from eco2ai) (75.2.0)\n",
            "Requirement already satisfied: tornado in /usr/local/lib/python3.11/dist-packages (from eco2ai) (6.4.2)\n",
            "Requirement already satisfied: tzlocal in /usr/local/lib/python3.11/dist-packages (from eco2ai) (5.3.1)\n",
            "Requirement already satisfied: numpy>=1.23.2 in /usr/local/lib/python3.11/dist-packages (from pandas>=1.4.0->eco2ai) (2.0.2)\n",
            "Requirement already satisfied: python-dateutil>=2.8.2 in /usr/local/lib/python3.11/dist-packages (from pandas>=1.4.0->eco2ai) (2.9.0.post0)\n",
            "Requirement already satisfied: pytz>=2020.1 in /usr/local/lib/python3.11/dist-packages (from pandas>=1.4.0->eco2ai) (2025.2)\n",
            "Requirement already satisfied: tzdata>=2022.7 in /usr/local/lib/python3.11/dist-packages (from pandas>=1.4.0->eco2ai) (2025.2)\n",
            "Requirement already satisfied: nvidia-ml-py<13.0.0a0,>=12.0.0 in /usr/local/lib/python3.11/dist-packages (from pynvml->eco2ai) (12.570.86)\n",
            "Requirement already satisfied: charset-normalizer<4,>=2 in /usr/local/lib/python3.11/dist-packages (from requests->eco2ai) (3.4.1)\n",
            "Requirement already satisfied: idna<4,>=2.5 in /usr/local/lib/python3.11/dist-packages (from requests->eco2ai) (3.10)\n",
            "Requirement already satisfied: urllib3<3,>=1.21.1 in /usr/local/lib/python3.11/dist-packages (from requests->eco2ai) (2.4.0)\n",
            "Requirement already satisfied: certifi>=2017.4.17 in /usr/local/lib/python3.11/dist-packages (from requests->eco2ai) (2025.4.26)\n",
            "Requirement already satisfied: six>=1.5 in /usr/local/lib/python3.11/dist-packages (from python-dateutil>=2.8.2->pandas>=1.4.0->eco2ai) (1.17.0)\n",
            "Downloading eco2ai-0.3.12-py2.py3-none-any.whl (117 kB)\n",
            "\u001b[2K   \u001b[90m━━━━━━━━━━━━━━━━━━━━━━━━━━━━━━━━━━━━━━━━\u001b[0m \u001b[32m117.6/117.6 kB\u001b[0m \u001b[31m8.8 MB/s\u001b[0m eta \u001b[36m0:00:00\u001b[0m\n",
            "\u001b[?25hDownloading APScheduler-3.11.0-py3-none-any.whl (64 kB)\n",
            "\u001b[2K   \u001b[90m━━━━━━━━━━━━━━━━━━━━━━━━━━━━━━━━━━━━━━━━\u001b[0m \u001b[32m64.0/64.0 kB\u001b[0m \u001b[31m6.8 MB/s\u001b[0m eta \u001b[36m0:00:00\u001b[0m\n",
            "\u001b[?25hInstalling collected packages: APScheduler, eco2ai\n",
            "Successfully installed APScheduler-3.11.0 eco2ai-0.3.12\n"
          ]
        }
      ],
      "source": [
        "!pip install eco2ai"
      ]
    },
    {
      "cell_type": "code",
      "execution_count": 3,
      "metadata": {
        "id": "p951OBxknZE8"
      },
      "outputs": [],
      "source": [
        "import sys\n",
        "# sys.path.append('E:/Code/Spiking-Visual-attention-for-Medical-image-segmentation/models/unet')\n",
        "\n",
        "import torch\n",
        "import torch.nn as nn\n",
        "import torch.optim as optim\n",
        "from torchsummary import summary\n",
        "from torch.optim.lr_scheduler import ReduceLROnPlateau, CosineAnnealingLR, CosineAnnealingWarmRestarts\n",
        "\n",
        "import albumentations as A\n",
        "from albumentations.pytorch import ToTensorV2\n",
        "from tqdm import tqdm\n",
        "\n",
        "from utils import (\n",
        "    save_checkpoint,\n",
        "    load_checkpoint,\n",
        "    get_loaders,\n",
        "    check_accuracy,\n",
        "    save_predictions_as_imgs,\n",
        "    summarize_eco2ai_log,\n",
        "    )\n",
        "\n",
        "from model import UNET\n",
        "\n",
        "from eco2ai import Tracker\n",
        "\n",
        "from google.colab import files\n",
        "\n",
        "import warnings\n",
        "warnings.filterwarnings(\"ignore\", category=FutureWarning)\n",
        "warnings.filterwarnings(\"ignore\", category=UserWarning)"
      ]
    },
    {
      "cell_type": "code",
      "execution_count": 4,
      "metadata": {
        "colab": {
          "base_uri": "https://localhost:8080/"
        },
        "id": "4JEuqu_vatU5",
        "outputId": "8af92515-abd9-4848-ab82-a23e7ff4bdf9"
      },
      "outputs": [
        {
          "output_type": "stream",
          "name": "stdout",
          "text": [
            "----------------------------------------------------------------\n",
            "        Layer (type)               Output Shape         Param #\n",
            "================================================================\n",
            "            Conv2d-1         [32, 64, 256, 256]             576\n",
            "       BatchNorm2d-2         [32, 64, 256, 256]             128\n",
            "              ReLU-3         [32, 64, 256, 256]               0\n",
            "            Conv2d-4         [32, 64, 256, 256]          36,864\n",
            "       BatchNorm2d-5         [32, 64, 256, 256]             128\n",
            "              ReLU-6         [32, 64, 256, 256]               0\n",
            "        DoubleConv-7         [32, 64, 256, 256]               0\n",
            "         MaxPool2d-8         [32, 64, 128, 128]               0\n",
            "            Conv2d-9        [32, 128, 128, 128]          73,728\n",
            "      BatchNorm2d-10        [32, 128, 128, 128]             256\n",
            "             ReLU-11        [32, 128, 128, 128]               0\n",
            "           Conv2d-12        [32, 128, 128, 128]         147,456\n",
            "      BatchNorm2d-13        [32, 128, 128, 128]             256\n",
            "             ReLU-14        [32, 128, 128, 128]               0\n",
            "       DoubleConv-15        [32, 128, 128, 128]               0\n",
            "        MaxPool2d-16          [32, 128, 64, 64]               0\n",
            "           Conv2d-17          [32, 256, 64, 64]         294,912\n",
            "      BatchNorm2d-18          [32, 256, 64, 64]             512\n",
            "             ReLU-19          [32, 256, 64, 64]               0\n",
            "           Conv2d-20          [32, 256, 64, 64]         589,824\n",
            "      BatchNorm2d-21          [32, 256, 64, 64]             512\n",
            "             ReLU-22          [32, 256, 64, 64]               0\n",
            "       DoubleConv-23          [32, 256, 64, 64]               0\n",
            "        MaxPool2d-24          [32, 256, 32, 32]               0\n",
            "           Conv2d-25          [32, 512, 32, 32]       1,179,648\n",
            "      BatchNorm2d-26          [32, 512, 32, 32]           1,024\n",
            "             ReLU-27          [32, 512, 32, 32]               0\n",
            "           Conv2d-28          [32, 512, 32, 32]       2,359,296\n",
            "      BatchNorm2d-29          [32, 512, 32, 32]           1,024\n",
            "             ReLU-30          [32, 512, 32, 32]               0\n",
            "       DoubleConv-31          [32, 512, 32, 32]               0\n",
            "        MaxPool2d-32          [32, 512, 16, 16]               0\n",
            "           Conv2d-33         [32, 1024, 16, 16]       4,718,592\n",
            "      BatchNorm2d-34         [32, 1024, 16, 16]           2,048\n",
            "             ReLU-35         [32, 1024, 16, 16]               0\n",
            "           Conv2d-36         [32, 1024, 16, 16]       9,437,184\n",
            "      BatchNorm2d-37         [32, 1024, 16, 16]           2,048\n",
            "             ReLU-38         [32, 1024, 16, 16]               0\n",
            "       DoubleConv-39         [32, 1024, 16, 16]               0\n",
            "  ConvTranspose2d-40          [32, 512, 32, 32]       2,097,664\n",
            "           Conv2d-41          [32, 512, 32, 32]       4,718,592\n",
            "      BatchNorm2d-42          [32, 512, 32, 32]           1,024\n",
            "             ReLU-43          [32, 512, 32, 32]               0\n",
            "           Conv2d-44          [32, 512, 32, 32]       2,359,296\n",
            "      BatchNorm2d-45          [32, 512, 32, 32]           1,024\n",
            "             ReLU-46          [32, 512, 32, 32]               0\n",
            "       DoubleConv-47          [32, 512, 32, 32]               0\n",
            "  ConvTranspose2d-48          [32, 256, 64, 64]         524,544\n",
            "           Conv2d-49          [32, 256, 64, 64]       1,179,648\n",
            "      BatchNorm2d-50          [32, 256, 64, 64]             512\n",
            "             ReLU-51          [32, 256, 64, 64]               0\n",
            "           Conv2d-52          [32, 256, 64, 64]         589,824\n",
            "      BatchNorm2d-53          [32, 256, 64, 64]             512\n",
            "             ReLU-54          [32, 256, 64, 64]               0\n",
            "       DoubleConv-55          [32, 256, 64, 64]               0\n",
            "  ConvTranspose2d-56        [32, 128, 128, 128]         131,200\n",
            "           Conv2d-57        [32, 128, 128, 128]         294,912\n",
            "      BatchNorm2d-58        [32, 128, 128, 128]             256\n",
            "             ReLU-59        [32, 128, 128, 128]               0\n",
            "           Conv2d-60        [32, 128, 128, 128]         147,456\n",
            "      BatchNorm2d-61        [32, 128, 128, 128]             256\n",
            "             ReLU-62        [32, 128, 128, 128]               0\n",
            "       DoubleConv-63        [32, 128, 128, 128]               0\n",
            "  ConvTranspose2d-64         [32, 64, 256, 256]          32,832\n",
            "           Conv2d-65         [32, 64, 256, 256]          73,728\n",
            "      BatchNorm2d-66         [32, 64, 256, 256]             128\n",
            "             ReLU-67         [32, 64, 256, 256]               0\n",
            "           Conv2d-68         [32, 64, 256, 256]          36,864\n",
            "      BatchNorm2d-69         [32, 64, 256, 256]             128\n",
            "             ReLU-70         [32, 64, 256, 256]               0\n",
            "       DoubleConv-71         [32, 64, 256, 256]               0\n",
            "           Conv2d-72          [32, 1, 256, 256]              65\n",
            "================================================================\n",
            "Total params: 31,036,481\n",
            "Trainable params: 31,036,481\n",
            "Non-trainable params: 0\n",
            "----------------------------------------------------------------\n",
            "Input size (MB): 8.00\n",
            "Forward/backward pass size (MB): 29744.00\n",
            "Params size (MB): 118.39\n",
            "Estimated Total Size (MB): 29870.39\n",
            "----------------------------------------------------------------\n"
          ]
        }
      ],
      "source": [
        "device = torch.device(\"cuda\" if torch.cuda.is_available() else \"cpu\")\n",
        "model = UNET(in_channel=1, out_channel=1).to(device)\n",
        "summary(model, input_size=(1, 256, 256), batch_size=32)"
      ]
    },
    {
      "cell_type": "code",
      "execution_count": 5,
      "metadata": {
        "colab": {
          "base_uri": "https://localhost:8080/"
        },
        "id": "9VCgCBUt5FII",
        "outputId": "19923f3d-8dee-4a6e-cee1-41d6a07e0055"
      },
      "outputs": [
        {
          "output_type": "execute_result",
          "data": {
            "text/plain": [
              "['Modified_3_Brain_Tumor_Segmentation']"
            ]
          },
          "metadata": {},
          "execution_count": 5
        }
      ],
      "source": [
        "import zipfile\n",
        "import os\n",
        "\n",
        "zip_path = \"/content/drive/MyDrive/05-GP25-Mostafa-SpikingNeuralNetwork/Dataset/Modified_3_Brain_Tumor_Segmentation.zip\"\n",
        "extract_path = \"/content/drive/MyDrive/05-GP25-Mostafa-SpikingNeuralNetwork/Dataset/Modified_3_Brain_Tumor_Segmentation Extracted\"\n",
        "\n",
        "# Extract ZIP\n",
        "# with zipfile.ZipFile(zip_path, 'r') as zip_ref:\n",
        "#     zip_ref.extractall(extract_path)\n",
        "\n",
        "# List extracted files\n",
        "os.listdir(extract_path)"
      ]
    },
    {
      "cell_type": "code",
      "execution_count": 6,
      "metadata": {
        "id": "haTEVFwi41yC"
      },
      "outputs": [],
      "source": [
        "IMG_DIR      =  \"/content/drive/MyDrive/05-GP25-Mostafa-SpikingNeuralNetwork/Dataset/Modified_3_Brain_Tumor_Segmentation Extracted/Modified_3_Brain_Tumor_Segmentation/images\"\n",
        "MASK_DIR     =  \"/content/drive/MyDrive/05-GP25-Mostafa-SpikingNeuralNetwork/Dataset/Modified_3_Brain_Tumor_Segmentation Extracted/Modified_3_Brain_Tumor_Segmentation/masks\"\n",
        "VAL_IMG_DIR  =  \"/content/drive/MyDrive/05-GP25-Mostafa-SpikingNeuralNetwork/Dataset/Modified_3_Brain_Tumor_Segmentation Extracted/Modified_3_Brain_Tumor_Segmentation/val_images\"\n",
        "VAL_MASK_DIR =  \"/content/drive/MyDrive/05-GP25-Mostafa-SpikingNeuralNetwork/Dataset/Modified_3_Brain_Tumor_Segmentation Extracted/Modified_3_Brain_Tumor_Segmentation/val_masks\""
      ]
    },
    {
      "cell_type": "code",
      "execution_count": 7,
      "metadata": {
        "id": "LYRuU4iGnZE-"
      },
      "outputs": [],
      "source": [
        "Device = \"cuda\" if torch.cuda.is_available() else \"cpu\"\n",
        "Learning_rate = 1e-3 # 1e-4 originally\n",
        "Batch_size  = 32\n",
        "num_epochs  = 30\n",
        "num_workers = 4\n",
        "IMAGE_HEIGHT = 256 # 512 originally\n",
        "IMAGE_WIDTH  = 256 # 512 originally\n",
        "PIN_MEMORY = True\n",
        "LOAD_MODEL = False\n",
        "CHECKPOINT_NAME = None"
      ]
    },
    {
      "cell_type": "code",
      "execution_count": 8,
      "metadata": {
        "id": "wtgaXcl0nZE_"
      },
      "outputs": [],
      "source": [
        "def train_fn(loader, model, optimizer, loss_fn, scaler):\n",
        "    tracker = Tracker(\n",
        "        project_name=\"U_Net_Training_Project\",\n",
        "        experiment_description=\"Training U_Net Model\",\n",
        "        file_name=\"U_Net_eco2ai_logs.csv\",\n",
        "        alpha_2_code=\"EG\",\n",
        "    )\n",
        "    tracker.start()\n",
        "\n",
        "    loop = tqdm(loader)\n",
        "    running_loss=0\n",
        "\n",
        "    for batch_idx, (data, targets) in enumerate(loop):\n",
        "        data = data.to(device=Device)\n",
        "        targets = targets.float().unsqueeze(1).to(device=Device)\n",
        "\n",
        "        with torch.amp.autocast(device_type=Device):\n",
        "            predictions = model(data)\n",
        "            loss = loss_fn(predictions, targets)\n",
        "\n",
        "        running_loss+=loss.item()\n",
        "\n",
        "        optimizer.zero_grad()\n",
        "        scaler.scale(loss).backward()\n",
        "        scaler.step(optimizer)\n",
        "        scaler.update()\n",
        "\n",
        "        loop.set_postfix(loss=loss.item())\n",
        "\n",
        "    tracker.stop()\n",
        "\n",
        "    return running_loss/len(loader)"
      ]
    },
    {
      "cell_type": "code",
      "execution_count": 9,
      "metadata": {
        "id": "1XBWepI1nZFA"
      },
      "outputs": [],
      "source": [
        "def main():\n",
        "    train_transform = A.Compose(\n",
        "        [\n",
        "            A.Resize(height=IMAGE_HEIGHT, width=IMAGE_WIDTH),\n",
        "            A.Rotate(limit=35, p=1.0),\n",
        "            A.HorizontalFlip(p=0.5),\n",
        "            A.VerticalFlip(p=0.1),\n",
        "            A.Normalize(\n",
        "                mean=[0.0],\n",
        "                std=[1.0],\n",
        "                max_pixel_value=255.0,\n",
        "            ),\n",
        "            ToTensorV2(),\n",
        "        ]\n",
        "    )\n",
        "    val_transform = A.Compose(\n",
        "        [\n",
        "            A.Resize(height=IMAGE_HEIGHT, width=IMAGE_WIDTH),\n",
        "            A.Normalize(\n",
        "                mean=[0.0],\n",
        "                std=[1.0],\n",
        "                max_pixel_value=255.0,\n",
        "            ),\n",
        "            ToTensorV2(),\n",
        "        ]\n",
        "    )\n",
        "    model = UNET(in_channel=1, out_channel=1).to(Device)\n",
        "    loss_fn = nn.BCEWithLogitsLoss()\n",
        "    optimizer = optim.Adam(model.parameters(), lr=Learning_rate)\n",
        "    # scheduler = ReduceLROnPlateau(optimizer, mode='min', patience=5, factor=0.5)\n",
        "    # scheduler = CosineAnnealingLR(optimizer, T_max=num_epochs)\n",
        "    scheduler = CosineAnnealingWarmRestarts(optimizer, T_0=10, T_mult=2)\n",
        "    train_loader, val_loader = get_loaders(\n",
        "        IMG_DIR,\n",
        "        MASK_DIR,\n",
        "        VAL_IMG_DIR,\n",
        "        VAL_MASK_DIR,\n",
        "        Batch_size,\n",
        "        train_transform,\n",
        "        val_transform,\n",
        "        num_workers,\n",
        "        PIN_MEMORY,\n",
        "    )\n",
        "\n",
        "    train_losses=[]\n",
        "    val_dice_scores=[]\n",
        "    val_accs=[]\n",
        "\n",
        "    if LOAD_MODEL:\n",
        "        load_checkpoint(model=model, optimizer=optimizer, checkpoint_name=CHECKPOINT_NAME)\n",
        "        check_accuracy(val_loader, model, device=Device)\n",
        "\n",
        "    scaler = torch.amp.GradScaler()\n",
        "\n",
        "    for epoch in range(num_epochs):\n",
        "        train_fn(train_loader, model, optimizer, loss_fn, scaler)\n",
        "        if epoch!=0 and epoch%10==0:\n",
        "            files.download(\"U_Net_eco2ai_logs.csv\")"
      ]
    },
    {
      "cell_type": "code",
      "execution_count": 10,
      "metadata": {
        "id": "BGMBxUSCnZFB",
        "outputId": "e74904a9-9a1e-457e-b363-e23476d7fc54",
        "colab": {
          "base_uri": "https://localhost:8080/",
          "height": 538
        }
      },
      "outputs": [
        {
          "output_type": "stream",
          "name": "stderr",
          "text": [
            "100%|██████████| 82/82 [06:05<00:00,  4.46s/it, loss=0.125]\n",
            "100%|██████████| 82/82 [01:00<00:00,  1.36it/s, loss=0.079]\n",
            "100%|██████████| 82/82 [01:01<00:00,  1.33it/s, loss=0.0465]\n",
            "100%|██████████| 82/82 [01:02<00:00,  1.32it/s, loss=0.0548]\n",
            "100%|██████████| 82/82 [01:02<00:00,  1.31it/s, loss=0.0388]\n",
            "100%|██████████| 82/82 [01:02<00:00,  1.31it/s, loss=0.0415]\n",
            "100%|██████████| 82/82 [01:02<00:00,  1.31it/s, loss=0.0393]\n",
            "100%|██████████| 82/82 [01:02<00:00,  1.30it/s, loss=0.0282]\n",
            "100%|██████████| 82/82 [01:02<00:00,  1.31it/s, loss=0.0351]\n",
            "100%|██████████| 82/82 [01:02<00:00,  1.31it/s, loss=0.0321]\n",
            "100%|██████████| 82/82 [01:02<00:00,  1.31it/s, loss=0.0381]\n"
          ]
        },
        {
          "output_type": "display_data",
          "data": {
            "text/plain": [
              "<IPython.core.display.Javascript object>"
            ],
            "application/javascript": [
              "\n",
              "    async function download(id, filename, size) {\n",
              "      if (!google.colab.kernel.accessAllowed) {\n",
              "        return;\n",
              "      }\n",
              "      const div = document.createElement('div');\n",
              "      const label = document.createElement('label');\n",
              "      label.textContent = `Downloading \"${filename}\": `;\n",
              "      div.appendChild(label);\n",
              "      const progress = document.createElement('progress');\n",
              "      progress.max = size;\n",
              "      div.appendChild(progress);\n",
              "      document.body.appendChild(div);\n",
              "\n",
              "      const buffers = [];\n",
              "      let downloaded = 0;\n",
              "\n",
              "      const channel = await google.colab.kernel.comms.open(id);\n",
              "      // Send a message to notify the kernel that we're ready.\n",
              "      channel.send({})\n",
              "\n",
              "      for await (const message of channel.messages) {\n",
              "        // Send a message to notify the kernel that we're ready.\n",
              "        channel.send({})\n",
              "        if (message.buffers) {\n",
              "          for (const buffer of message.buffers) {\n",
              "            buffers.push(buffer);\n",
              "            downloaded += buffer.byteLength;\n",
              "            progress.value = downloaded;\n",
              "          }\n",
              "        }\n",
              "      }\n",
              "      const blob = new Blob(buffers, {type: 'application/binary'});\n",
              "      const a = document.createElement('a');\n",
              "      a.href = window.URL.createObjectURL(blob);\n",
              "      a.download = filename;\n",
              "      div.appendChild(a);\n",
              "      a.click();\n",
              "      div.remove();\n",
              "    }\n",
              "  "
            ]
          },
          "metadata": {}
        },
        {
          "output_type": "display_data",
          "data": {
            "text/plain": [
              "<IPython.core.display.Javascript object>"
            ],
            "application/javascript": [
              "download(\"download_519c3fd2-60da-4fed-abc2-5d896cc70683\", \"U_Net_eco2ai_logs.csv\", 2851)"
            ]
          },
          "metadata": {}
        },
        {
          "output_type": "stream",
          "name": "stderr",
          "text": [
            "100%|██████████| 82/82 [01:02<00:00,  1.30it/s, loss=0.0386]\n",
            "100%|██████████| 82/82 [01:02<00:00,  1.31it/s, loss=0.0327]\n",
            "100%|██████████| 82/82 [01:02<00:00,  1.31it/s, loss=0.0232]\n",
            "100%|██████████| 82/82 [01:02<00:00,  1.31it/s, loss=0.0309]\n",
            "100%|██████████| 82/82 [01:03<00:00,  1.29it/s, loss=0.0252]\n",
            "100%|██████████| 82/82 [01:02<00:00,  1.30it/s, loss=0.0282]\n",
            "100%|██████████| 82/82 [01:03<00:00,  1.30it/s, loss=0.0254]\n",
            "100%|██████████| 82/82 [01:03<00:00,  1.29it/s, loss=0.0179]\n",
            "100%|██████████| 82/82 [01:02<00:00,  1.30it/s, loss=0.0309]\n",
            "100%|██████████| 82/82 [01:02<00:00,  1.31it/s, loss=0.0237]\n"
          ]
        },
        {
          "output_type": "display_data",
          "data": {
            "text/plain": [
              "<IPython.core.display.Javascript object>"
            ],
            "application/javascript": [
              "\n",
              "    async function download(id, filename, size) {\n",
              "      if (!google.colab.kernel.accessAllowed) {\n",
              "        return;\n",
              "      }\n",
              "      const div = document.createElement('div');\n",
              "      const label = document.createElement('label');\n",
              "      label.textContent = `Downloading \"${filename}\": `;\n",
              "      div.appendChild(label);\n",
              "      const progress = document.createElement('progress');\n",
              "      progress.max = size;\n",
              "      div.appendChild(progress);\n",
              "      document.body.appendChild(div);\n",
              "\n",
              "      const buffers = [];\n",
              "      let downloaded = 0;\n",
              "\n",
              "      const channel = await google.colab.kernel.comms.open(id);\n",
              "      // Send a message to notify the kernel that we're ready.\n",
              "      channel.send({})\n",
              "\n",
              "      for await (const message of channel.messages) {\n",
              "        // Send a message to notify the kernel that we're ready.\n",
              "        channel.send({})\n",
              "        if (message.buffers) {\n",
              "          for (const buffer of message.buffers) {\n",
              "            buffers.push(buffer);\n",
              "            downloaded += buffer.byteLength;\n",
              "            progress.value = downloaded;\n",
              "          }\n",
              "        }\n",
              "      }\n",
              "      const blob = new Blob(buffers, {type: 'application/binary'});\n",
              "      const a = document.createElement('a');\n",
              "      a.href = window.URL.createObjectURL(blob);\n",
              "      a.download = filename;\n",
              "      div.appendChild(a);\n",
              "      a.click();\n",
              "      div.remove();\n",
              "    }\n",
              "  "
            ]
          },
          "metadata": {}
        },
        {
          "output_type": "display_data",
          "data": {
            "text/plain": [
              "<IPython.core.display.Javascript object>"
            ],
            "application/javascript": [
              "download(\"download_0c16abdc-f0cf-4661-bf9e-d5f6a3016698\", \"U_Net_eco2ai_logs.csv\", 5299)"
            ]
          },
          "metadata": {}
        },
        {
          "output_type": "stream",
          "name": "stderr",
          "text": [
            "100%|██████████| 82/82 [01:03<00:00,  1.28it/s, loss=0.0208]\n",
            "100%|██████████| 82/82 [01:03<00:00,  1.29it/s, loss=0.0219]\n",
            "100%|██████████| 82/82 [01:02<00:00,  1.31it/s, loss=0.0201]\n",
            "100%|██████████| 82/82 [01:03<00:00,  1.28it/s, loss=0.0176]\n",
            "100%|██████████| 82/82 [01:03<00:00,  1.30it/s, loss=0.0149]\n",
            "100%|██████████| 82/82 [01:03<00:00,  1.30it/s, loss=0.0288]\n",
            "100%|██████████| 82/82 [01:03<00:00,  1.29it/s, loss=0.0155]\n",
            "100%|██████████| 82/82 [01:03<00:00,  1.30it/s, loss=0.0139]\n",
            "100%|██████████| 82/82 [01:03<00:00,  1.30it/s, loss=0.0276]\n"
          ]
        }
      ],
      "source": [
        "if __name__ == \"__main__\":\n",
        "    main()"
      ]
    },
    {
      "cell_type": "code",
      "execution_count": 11,
      "metadata": {
        "id": "BfUxCK3kNYYF",
        "outputId": "f3a7b482-dcf4-472f-bf76-ceeefa8e6288",
        "colab": {
          "base_uri": "https://localhost:8080/",
          "height": 17
        }
      },
      "outputs": [
        {
          "output_type": "display_data",
          "data": {
            "text/plain": [
              "<IPython.core.display.Javascript object>"
            ],
            "application/javascript": [
              "\n",
              "    async function download(id, filename, size) {\n",
              "      if (!google.colab.kernel.accessAllowed) {\n",
              "        return;\n",
              "      }\n",
              "      const div = document.createElement('div');\n",
              "      const label = document.createElement('label');\n",
              "      label.textContent = `Downloading \"${filename}\": `;\n",
              "      div.appendChild(label);\n",
              "      const progress = document.createElement('progress');\n",
              "      progress.max = size;\n",
              "      div.appendChild(progress);\n",
              "      document.body.appendChild(div);\n",
              "\n",
              "      const buffers = [];\n",
              "      let downloaded = 0;\n",
              "\n",
              "      const channel = await google.colab.kernel.comms.open(id);\n",
              "      // Send a message to notify the kernel that we're ready.\n",
              "      channel.send({})\n",
              "\n",
              "      for await (const message of channel.messages) {\n",
              "        // Send a message to notify the kernel that we're ready.\n",
              "        channel.send({})\n",
              "        if (message.buffers) {\n",
              "          for (const buffer of message.buffers) {\n",
              "            buffers.push(buffer);\n",
              "            downloaded += buffer.byteLength;\n",
              "            progress.value = downloaded;\n",
              "          }\n",
              "        }\n",
              "      }\n",
              "      const blob = new Blob(buffers, {type: 'application/binary'});\n",
              "      const a = document.createElement('a');\n",
              "      a.href = window.URL.createObjectURL(blob);\n",
              "      a.download = filename;\n",
              "      div.appendChild(a);\n",
              "      a.click();\n",
              "      div.remove();\n",
              "    }\n",
              "  "
            ]
          },
          "metadata": {}
        },
        {
          "output_type": "display_data",
          "data": {
            "text/plain": [
              "<IPython.core.display.Javascript object>"
            ],
            "application/javascript": [
              "download(\"download_9de28a7c-3976-4216-8997-3df2058098ea\", \"U_Net_eco2ai_logs.csv\", 7503)"
            ]
          },
          "metadata": {}
        }
      ],
      "source": [
        "from google.colab import files\n",
        "\n",
        "# Download the Eco2AI Logs\n",
        "files.download(\"U_Net_eco2ai_logs.csv\")"
      ]
    },
    {
      "cell_type": "code",
      "execution_count": 12,
      "metadata": {
        "id": "YFiPmYWANYYF",
        "outputId": "5c7df2c0-9b56-4b0c-e73d-8c5abf7529c0",
        "colab": {
          "base_uri": "https://localhost:8080/",
          "height": 468
        }
      },
      "outputs": [
        {
          "output_type": "stream",
          "name": "stdout",
          "text": [
            "✅ Log loaded successfully.\n",
            "\n",
            "🔍 Summary:\n",
            "   🕒 Duration: 2193.36 seconds\n",
            "   ⚡ Power Consumed: 0.0515 kWh\n",
            "   🌱 CO₂ Emissions: 0.0242 kg\n"
          ]
        },
        {
          "output_type": "display_data",
          "data": {
            "text/plain": [
              "<Figure size 1000x400 with 1 Axes>"
            ],
            "image/png": "[encoded data removed]"
          },
          "metadata": {}
        },
        {
          "output_type": "stream",
          "name": "stdout",
          "text": [
            "✅ Summary plot saved as 'U_Net_eco2ai_summary_plot.png'.\n"
          ]
        }
      ],
      "source": [
        "summarize_eco2ai_log(\"U_Net_eco2ai_logs.csv\")"
      ]
    },
    {
      "cell_type": "code",
      "execution_count": 13,
      "metadata": {
        "id": "Arq-QPAvNYYG",
        "outputId": "63e9f0d1-b1a6-40b2-8a0e-357ec6eedcf4",
        "colab": {
          "base_uri": "https://localhost:8080/",
          "height": 17
        }
      },
      "outputs": [
        {
          "output_type": "display_data",
          "data": {
            "text/plain": [
              "<IPython.core.display.Javascript object>"
            ],
            "application/javascript": [
              "\n",
              "    async function download(id, filename, size) {\n",
              "      if (!google.colab.kernel.accessAllowed) {\n",
              "        return;\n",
              "      }\n",
              "      const div = document.createElement('div');\n",
              "      const label = document.createElement('label');\n",
              "      label.textContent = `Downloading \"${filename}\": `;\n",
              "      div.appendChild(label);\n",
              "      const progress = document.createElement('progress');\n",
              "      progress.max = size;\n",
              "      div.appendChild(progress);\n",
              "      document.body.appendChild(div);\n",
              "\n",
              "      const buffers = [];\n",
              "      let downloaded = 0;\n",
              "\n",
              "      const channel = await google.colab.kernel.comms.open(id);\n",
              "      // Send a message to notify the kernel that we're ready.\n",
              "      channel.send({})\n",
              "\n",
              "      for await (const message of channel.messages) {\n",
              "        // Send a message to notify the kernel that we're ready.\n",
              "        channel.send({})\n",
              "        if (message.buffers) {\n",
              "          for (const buffer of message.buffers) {\n",
              "            buffers.push(buffer);\n",
              "            downloaded += buffer.byteLength;\n",
              "            progress.value = downloaded;\n",
              "          }\n",
              "        }\n",
              "      }\n",
              "      const blob = new Blob(buffers, {type: 'application/binary'});\n",
              "      const a = document.createElement('a');\n",
              "      a.href = window.URL.createObjectURL(blob);\n",
              "      a.download = filename;\n",
              "      div.appendChild(a);\n",
              "      a.click();\n",
              "      div.remove();\n",
              "    }\n",
              "  "
            ]
          },
          "metadata": {}
        },
        {
          "output_type": "display_data",
          "data": {
            "text/plain": [
              "<IPython.core.display.Javascript object>"
            ],
            "application/javascript": [
              "download(\"download_3b195d29-fdb9-4eb7-8519-be9381b26497\", \"U_Net_eco2ai_summary_plot.png\", 2397)"
            ]
          },
          "metadata": {}
        }
      ],
      "source": [
        "# Download the Eco2AI Plot\n",
        "files.download(\"U_Net_eco2ai_summary_plot.png\")"
      ]
    }
  ],
  "metadata": {
    "accelerator": "GPU",
    "colab": {
      "gpuType": "T4",
      "provenance": []
    },
    "kernelspec": {
      "display_name": "Python 3",
      "name": "python3"
    },
    "language_info": {
      "codemirror_mode": {
        "name": "ipython",
        "version": 3
      },
      "file_extension": ".py",
      "mimetype": "text/x-python",
      "name": "python",
      "nbconvert_exporter": "python",
      "pygments_lexer": "ipython3",
      "version": "3.13.1"
    }
  },
  "nbformat": 4,
  "nbformat_minor": 0
}