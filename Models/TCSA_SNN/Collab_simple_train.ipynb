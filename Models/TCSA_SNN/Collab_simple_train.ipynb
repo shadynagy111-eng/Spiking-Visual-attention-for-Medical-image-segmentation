{
  "cells": [
    {
      "cell_type": "code",
      "execution_count": 1,
      "id": "44dd4bc0",
      "metadata": {
        "id": "44dd4bc0",
        "outputId": "d56cd414-ade7-419d-e7e9-22d09cce4fe8",
        "colab": {
          "base_uri": "https://localhost:8080/"
        }
      },
      "outputs": [
        {
          "output_type": "stream",
          "name": "stdout",
          "text": [
            "Mounted at /content/drive\n"
          ]
        }
      ],
      "source": [
        "from google.colab import drive\n",
        "drive.mount('/content/drive')"
      ]
    },
    {
      "cell_type": "code",
      "execution_count": 17,
      "id": "e9861d66",
      "metadata": {
        "id": "e9861d66"
      },
      "outputs": [],
      "source": [
        "import sys\n",
        "# sys.path.append('E:/Code/Spiking-Visual-attention-for-Medical-image-segmentation/models/TCSA_SNN')\n",
        "\n",
        "import torch\n",
        "import torch.nn as nn\n",
        "import torch.optim as optim\n",
        "from torchsummary import summary\n",
        "from torch.optim.lr_scheduler import ReduceLROnPlateau, CosineAnnealingLR, CosineAnnealingWarmRestarts\n",
        "\n",
        "from pytorch_grad_cam import GradCAM\n",
        "from pytorch_grad_cam.utils.image import show_cam_on_image\n",
        "from pytorch_grad_cam.utils.model_targets import SemanticSegmentationTarget\n",
        "\n",
        "import numpy as np\n",
        "import matplotlib.pyplot as plt\n",
        "from PIL import Image\n",
        "import os\n",
        "import cv2\n",
        "\n",
        "import albumentations as A\n",
        "from albumentations.pytorch import ToTensorV2\n",
        "\n",
        "from tqdm import tqdm\n",
        "\n",
        "from simple_utils import (\n",
        "    save_checkpoint,\n",
        "    load_checkpoint,\n",
        "    get_loaders,\n",
        "    check_accuracy,\n",
        "    save_predictions_as_imgs\n",
        "    )\n",
        "\n",
        "import resnet_2_copy\n",
        "\n",
        "from datetime import datetime\n",
        "import glob\n",
        "import random\n",
        "# from fvcore.nn import FlopCountAnalysis\n",
        "# from thop import profile\n",
        "# from ptflops import get_model_complexity_info"
      ]
    },
    {
      "cell_type": "code",
      "execution_count": 6,
      "id": "cb2fcd61",
      "metadata": {
        "id": "cb2fcd61",
        "outputId": "1c66be32-a7bf-45f5-e3f8-4535a39c3028",
        "colab": {
          "base_uri": "https://localhost:8080/"
        }
      },
      "outputs": [
        {
          "output_type": "stream",
          "name": "stdout",
          "text": [
            "----------------------------------------------------------------\n",
            "        Layer (type)               Output Shape         Param #\n",
            "================================================================\n",
            "        Snn_Conv2d-1      [32, 2, 64, 128, 128]           3,136\n",
            "      BatchNorm3d1-2      [32, 64, 4, 128, 128]             128\n",
            "     batch_norm_2d-3      [32, 2, 64, 128, 128]               0\n",
            "        mem_update-4      [32, 2, 64, 128, 128]               0\n",
            "        Snn_Conv2d-5        [32, 2, 64, 64, 64]          36,864\n",
            "      BatchNorm3d1-6        [32, 64, 4, 64, 64]             128\n",
            "     batch_norm_2d-7        [32, 2, 64, 64, 64]               0\n",
            "        mem_update-8        [32, 2, 64, 64, 64]               0\n",
            "        Snn_Conv2d-9        [32, 2, 64, 64, 64]          36,864\n",
            "     BatchNorm3d2-10        [32, 64, 4, 64, 64]             128\n",
            "   batch_norm_2d1-11        [32, 2, 64, 64, 64]               0\n",
            "AdaptiveAvgPool3d-12           [32, 4, 1, 1, 1]               0\n",
            "           Conv3d-13           [32, 1, 1, 1, 1]               4\n",
            "             ReLU-14           [32, 1, 1, 1, 1]               0\n",
            "           Conv3d-15           [32, 4, 1, 1, 1]               4\n",
            "AdaptiveMaxPool3d-16           [32, 4, 1, 1, 1]               0\n",
            "           Conv3d-17           [32, 1, 1, 1, 1]               4\n",
            "             ReLU-18           [32, 1, 1, 1, 1]               0\n",
            "           Conv3d-19           [32, 4, 1, 1, 1]               4\n",
            "          Sigmoid-20           [32, 4, 1, 1, 1]               0\n",
            "    TimeAttention-21           [32, 4, 1, 1, 1]               0\n",
            "AdaptiveAvgPool3d-22          [32, 64, 1, 1, 1]               0\n",
            "           Conv3d-23          [32, 12, 1, 1, 1]             768\n",
            "             ReLU-24          [32, 12, 1, 1, 1]               0\n",
            "           Conv3d-25          [32, 64, 1, 1, 1]             768\n",
            "AdaptiveMaxPool3d-26          [32, 64, 1, 1, 1]               0\n",
            "           Conv3d-27          [32, 12, 1, 1, 1]             768\n",
            "             ReLU-28          [32, 12, 1, 1, 1]               0\n",
            "           Conv3d-29          [32, 64, 1, 1, 1]             768\n",
            "          Sigmoid-30          [32, 64, 1, 1, 1]               0\n",
            " ChannelAttention-31          [32, 1, 64, 1, 1]               0\n",
            "           Conv2d-32            [32, 1, 64, 64]              18\n",
            "          Sigmoid-33         [32, 1, 1, 64, 64]               0\n",
            " SpatialAttention-34         [32, 1, 1, 64, 64]               0\n",
            "             ReLU-35        [32, 4, 64, 64, 64]               0\n",
            "             TCSA-36        [32, 4, 64, 64, 64]               0\n",
            "      PruningCell-37        [32, 2, 64, 64, 64]               0\n",
            "        AvgPool3d-38        [32, 2, 64, 64, 64]               0\n",
            "       Snn_Conv2d-39        [32, 2, 64, 64, 64]           4,096\n",
            "     BatchNorm3d1-40        [32, 64, 4, 64, 64]             128\n",
            "    batch_norm_2d-41        [32, 2, 64, 64, 64]               0\n",
            "       BasicBlock-42        [32, 2, 64, 64, 64]               0\n",
            "       mem_update-43        [32, 2, 64, 64, 64]               0\n",
            "       Snn_Conv2d-44        [32, 2, 64, 64, 64]          36,864\n",
            "     BatchNorm3d1-45        [32, 64, 4, 64, 64]             128\n",
            "    batch_norm_2d-46        [32, 2, 64, 64, 64]               0\n",
            "       mem_update-47        [32, 2, 64, 64, 64]               0\n",
            "       Snn_Conv2d-48        [32, 2, 64, 64, 64]          36,864\n",
            "     BatchNorm3d2-49        [32, 64, 4, 64, 64]             128\n",
            "   batch_norm_2d1-50        [32, 2, 64, 64, 64]               0\n",
            "AdaptiveAvgPool3d-51           [32, 4, 1, 1, 1]               0\n",
            "           Conv3d-52           [32, 1, 1, 1, 1]               4\n",
            "             ReLU-53           [32, 1, 1, 1, 1]               0\n",
            "           Conv3d-54           [32, 4, 1, 1, 1]               4\n",
            "AdaptiveMaxPool3d-55           [32, 4, 1, 1, 1]               0\n",
            "           Conv3d-56           [32, 1, 1, 1, 1]               4\n",
            "             ReLU-57           [32, 1, 1, 1, 1]               0\n",
            "           Conv3d-58           [32, 4, 1, 1, 1]               4\n",
            "          Sigmoid-59           [32, 4, 1, 1, 1]               0\n",
            "    TimeAttention-60           [32, 4, 1, 1, 1]               0\n",
            "AdaptiveAvgPool3d-61          [32, 64, 1, 1, 1]               0\n",
            "           Conv3d-62          [32, 12, 1, 1, 1]             768\n",
            "             ReLU-63          [32, 12, 1, 1, 1]               0\n",
            "           Conv3d-64          [32, 64, 1, 1, 1]             768\n",
            "AdaptiveMaxPool3d-65          [32, 64, 1, 1, 1]               0\n",
            "           Conv3d-66          [32, 12, 1, 1, 1]             768\n",
            "             ReLU-67          [32, 12, 1, 1, 1]               0\n",
            "           Conv3d-68          [32, 64, 1, 1, 1]             768\n",
            "          Sigmoid-69          [32, 64, 1, 1, 1]               0\n",
            " ChannelAttention-70          [32, 1, 64, 1, 1]               0\n",
            "           Conv2d-71            [32, 1, 64, 64]              18\n",
            "          Sigmoid-72         [32, 1, 1, 64, 64]               0\n",
            " SpatialAttention-73         [32, 1, 1, 64, 64]               0\n",
            "             ReLU-74        [32, 4, 64, 64, 64]               0\n",
            "             TCSA-75        [32, 4, 64, 64, 64]               0\n",
            "      PruningCell-76        [32, 2, 64, 64, 64]               0\n",
            "       BasicBlock-77        [32, 2, 64, 64, 64]               0\n",
            "       mem_update-78        [32, 2, 64, 64, 64]               0\n",
            "       Snn_Conv2d-79        [32, 2, 64, 64, 64]          36,864\n",
            "     BatchNorm3d1-80        [32, 64, 4, 64, 64]             128\n",
            "    batch_norm_2d-81        [32, 2, 64, 64, 64]               0\n",
            "       mem_update-82        [32, 2, 64, 64, 64]               0\n",
            "       Snn_Conv2d-83        [32, 2, 64, 64, 64]          36,864\n",
            "     BatchNorm3d2-84        [32, 64, 4, 64, 64]             128\n",
            "   batch_norm_2d1-85        [32, 2, 64, 64, 64]               0\n",
            "AdaptiveAvgPool3d-86           [32, 4, 1, 1, 1]               0\n",
            "           Conv3d-87           [32, 1, 1, 1, 1]               4\n",
            "             ReLU-88           [32, 1, 1, 1, 1]               0\n",
            "           Conv3d-89           [32, 4, 1, 1, 1]               4\n",
            "AdaptiveMaxPool3d-90           [32, 4, 1, 1, 1]               0\n",
            "           Conv3d-91           [32, 1, 1, 1, 1]               4\n",
            "             ReLU-92           [32, 1, 1, 1, 1]               0\n",
            "           Conv3d-93           [32, 4, 1, 1, 1]               4\n",
            "          Sigmoid-94           [32, 4, 1, 1, 1]               0\n",
            "    TimeAttention-95           [32, 4, 1, 1, 1]               0\n",
            "AdaptiveAvgPool3d-96          [32, 64, 1, 1, 1]               0\n",
            "           Conv3d-97          [32, 12, 1, 1, 1]             768\n",
            "             ReLU-98          [32, 12, 1, 1, 1]               0\n",
            "           Conv3d-99          [32, 64, 1, 1, 1]             768\n",
            "AdaptiveMaxPool3d-100          [32, 64, 1, 1, 1]               0\n",
            "          Conv3d-101          [32, 12, 1, 1, 1]             768\n",
            "            ReLU-102          [32, 12, 1, 1, 1]               0\n",
            "          Conv3d-103          [32, 64, 1, 1, 1]             768\n",
            "         Sigmoid-104          [32, 64, 1, 1, 1]               0\n",
            "ChannelAttention-105          [32, 1, 64, 1, 1]               0\n",
            "          Conv2d-106            [32, 1, 64, 64]              18\n",
            "         Sigmoid-107         [32, 1, 1, 64, 64]               0\n",
            "SpatialAttention-108         [32, 1, 1, 64, 64]               0\n",
            "            ReLU-109        [32, 4, 64, 64, 64]               0\n",
            "            TCSA-110        [32, 4, 64, 64, 64]               0\n",
            "     PruningCell-111        [32, 2, 64, 64, 64]               0\n",
            "      BasicBlock-112        [32, 2, 64, 64, 64]               0\n",
            "      mem_update-113        [32, 2, 64, 64, 64]               0\n",
            "      Snn_Conv2d-114       [32, 2, 128, 32, 32]          73,728\n",
            "    BatchNorm3d1-115       [32, 128, 4, 32, 32]             256\n",
            "   batch_norm_2d-116       [32, 2, 128, 32, 32]               0\n",
            "      mem_update-117       [32, 2, 128, 32, 32]               0\n",
            "      Snn_Conv2d-118       [32, 2, 128, 32, 32]         147,456\n",
            "    BatchNorm3d2-119       [32, 128, 4, 32, 32]             256\n",
            "  batch_norm_2d1-120       [32, 2, 128, 32, 32]               0\n",
            "AdaptiveAvgPool3d-121           [32, 4, 1, 1, 1]               0\n",
            "          Conv3d-122           [32, 1, 1, 1, 1]               4\n",
            "            ReLU-123           [32, 1, 1, 1, 1]               0\n",
            "          Conv3d-124           [32, 4, 1, 1, 1]               4\n",
            "AdaptiveMaxPool3d-125           [32, 4, 1, 1, 1]               0\n",
            "          Conv3d-126           [32, 1, 1, 1, 1]               4\n",
            "            ReLU-127           [32, 1, 1, 1, 1]               0\n",
            "          Conv3d-128           [32, 4, 1, 1, 1]               4\n",
            "         Sigmoid-129           [32, 4, 1, 1, 1]               0\n",
            "   TimeAttention-130           [32, 4, 1, 1, 1]               0\n",
            "AdaptiveAvgPool3d-131         [32, 128, 1, 1, 1]               0\n",
            "          Conv3d-132          [32, 25, 1, 1, 1]           3,200\n",
            "            ReLU-133          [32, 25, 1, 1, 1]               0\n",
            "          Conv3d-134         [32, 128, 1, 1, 1]           3,200\n",
            "AdaptiveMaxPool3d-135         [32, 128, 1, 1, 1]               0\n",
            "          Conv3d-136          [32, 25, 1, 1, 1]           3,200\n",
            "            ReLU-137          [32, 25, 1, 1, 1]               0\n",
            "          Conv3d-138         [32, 128, 1, 1, 1]           3,200\n",
            "         Sigmoid-139         [32, 128, 1, 1, 1]               0\n",
            "ChannelAttention-140         [32, 1, 128, 1, 1]               0\n",
            "          Conv2d-141            [32, 1, 32, 32]              18\n",
            "         Sigmoid-142         [32, 1, 1, 32, 32]               0\n",
            "SpatialAttention-143         [32, 1, 1, 32, 32]               0\n",
            "            ReLU-144       [32, 4, 128, 32, 32]               0\n",
            "            TCSA-145       [32, 4, 128, 32, 32]               0\n",
            "     PruningCell-146       [32, 2, 128, 32, 32]               0\n",
            "       AvgPool3d-147        [32, 2, 64, 32, 32]               0\n",
            "      Snn_Conv2d-148       [32, 2, 128, 32, 32]           8,192\n",
            "    BatchNorm3d1-149       [32, 128, 4, 32, 32]             256\n",
            "   batch_norm_2d-150       [32, 2, 128, 32, 32]               0\n",
            "      BasicBlock-151       [32, 2, 128, 32, 32]               0\n",
            "      mem_update-152       [32, 2, 128, 32, 32]               0\n",
            "      Snn_Conv2d-153       [32, 2, 128, 32, 32]         147,456\n",
            "    BatchNorm3d1-154       [32, 128, 4, 32, 32]             256\n",
            "   batch_norm_2d-155       [32, 2, 128, 32, 32]               0\n",
            "      mem_update-156       [32, 2, 128, 32, 32]               0\n",
            "      Snn_Conv2d-157       [32, 2, 128, 32, 32]         147,456\n",
            "    BatchNorm3d2-158       [32, 128, 4, 32, 32]             256\n",
            "  batch_norm_2d1-159       [32, 2, 128, 32, 32]               0\n",
            "AdaptiveAvgPool3d-160           [32, 4, 1, 1, 1]               0\n",
            "          Conv3d-161           [32, 1, 1, 1, 1]               4\n",
            "            ReLU-162           [32, 1, 1, 1, 1]               0\n",
            "          Conv3d-163           [32, 4, 1, 1, 1]               4\n",
            "AdaptiveMaxPool3d-164           [32, 4, 1, 1, 1]               0\n",
            "          Conv3d-165           [32, 1, 1, 1, 1]               4\n",
            "            ReLU-166           [32, 1, 1, 1, 1]               0\n",
            "          Conv3d-167           [32, 4, 1, 1, 1]               4\n",
            "         Sigmoid-168           [32, 4, 1, 1, 1]               0\n",
            "   TimeAttention-169           [32, 4, 1, 1, 1]               0\n",
            "AdaptiveAvgPool3d-170         [32, 128, 1, 1, 1]               0\n",
            "          Conv3d-171          [32, 25, 1, 1, 1]           3,200\n",
            "            ReLU-172          [32, 25, 1, 1, 1]               0\n",
            "          Conv3d-173         [32, 128, 1, 1, 1]           3,200\n",
            "AdaptiveMaxPool3d-174         [32, 128, 1, 1, 1]               0\n",
            "          Conv3d-175          [32, 25, 1, 1, 1]           3,200\n",
            "            ReLU-176          [32, 25, 1, 1, 1]               0\n",
            "          Conv3d-177         [32, 128, 1, 1, 1]           3,200\n",
            "         Sigmoid-178         [32, 128, 1, 1, 1]               0\n",
            "ChannelAttention-179         [32, 1, 128, 1, 1]               0\n",
            "          Conv2d-180            [32, 1, 32, 32]              18\n",
            "         Sigmoid-181         [32, 1, 1, 32, 32]               0\n",
            "SpatialAttention-182         [32, 1, 1, 32, 32]               0\n",
            "            ReLU-183       [32, 4, 128, 32, 32]               0\n",
            "            TCSA-184       [32, 4, 128, 32, 32]               0\n",
            "     PruningCell-185       [32, 2, 128, 32, 32]               0\n",
            "      BasicBlock-186       [32, 2, 128, 32, 32]               0\n",
            "      mem_update-187       [32, 2, 128, 32, 32]               0\n",
            "      Snn_Conv2d-188       [32, 2, 128, 32, 32]         147,456\n",
            "    BatchNorm3d1-189       [32, 128, 4, 32, 32]             256\n",
            "   batch_norm_2d-190       [32, 2, 128, 32, 32]               0\n",
            "      mem_update-191       [32, 2, 128, 32, 32]               0\n",
            "      Snn_Conv2d-192       [32, 2, 128, 32, 32]         147,456\n",
            "    BatchNorm3d2-193       [32, 128, 4, 32, 32]             256\n",
            "  batch_norm_2d1-194       [32, 2, 128, 32, 32]               0\n",
            "AdaptiveAvgPool3d-195           [32, 4, 1, 1, 1]               0\n",
            "          Conv3d-196           [32, 1, 1, 1, 1]               4\n",
            "            ReLU-197           [32, 1, 1, 1, 1]               0\n",
            "          Conv3d-198           [32, 4, 1, 1, 1]               4\n",
            "AdaptiveMaxPool3d-199           [32, 4, 1, 1, 1]               0\n",
            "          Conv3d-200           [32, 1, 1, 1, 1]               4\n",
            "            ReLU-201           [32, 1, 1, 1, 1]               0\n",
            "          Conv3d-202           [32, 4, 1, 1, 1]               4\n",
            "         Sigmoid-203           [32, 4, 1, 1, 1]               0\n",
            "   TimeAttention-204           [32, 4, 1, 1, 1]               0\n",
            "AdaptiveAvgPool3d-205         [32, 128, 1, 1, 1]               0\n",
            "          Conv3d-206          [32, 25, 1, 1, 1]           3,200\n",
            "            ReLU-207          [32, 25, 1, 1, 1]               0\n",
            "          Conv3d-208         [32, 128, 1, 1, 1]           3,200\n",
            "AdaptiveMaxPool3d-209         [32, 128, 1, 1, 1]               0\n",
            "          Conv3d-210          [32, 25, 1, 1, 1]           3,200\n",
            "            ReLU-211          [32, 25, 1, 1, 1]               0\n",
            "          Conv3d-212         [32, 128, 1, 1, 1]           3,200\n",
            "         Sigmoid-213         [32, 128, 1, 1, 1]               0\n",
            "ChannelAttention-214         [32, 1, 128, 1, 1]               0\n",
            "          Conv2d-215            [32, 1, 32, 32]              18\n",
            "         Sigmoid-216         [32, 1, 1, 32, 32]               0\n",
            "SpatialAttention-217         [32, 1, 1, 32, 32]               0\n",
            "            ReLU-218       [32, 4, 128, 32, 32]               0\n",
            "            TCSA-219       [32, 4, 128, 32, 32]               0\n",
            "     PruningCell-220       [32, 2, 128, 32, 32]               0\n",
            "      BasicBlock-221       [32, 2, 128, 32, 32]               0\n",
            "      mem_update-222       [32, 2, 128, 32, 32]               0\n",
            "      Snn_Conv2d-223       [32, 2, 128, 32, 32]         147,456\n",
            "    BatchNorm3d1-224       [32, 128, 4, 32, 32]             256\n",
            "   batch_norm_2d-225       [32, 2, 128, 32, 32]               0\n",
            "      mem_update-226       [32, 2, 128, 32, 32]               0\n",
            "      Snn_Conv2d-227       [32, 2, 128, 32, 32]         147,456\n",
            "    BatchNorm3d2-228       [32, 128, 4, 32, 32]             256\n",
            "  batch_norm_2d1-229       [32, 2, 128, 32, 32]               0\n",
            "AdaptiveAvgPool3d-230           [32, 4, 1, 1, 1]               0\n",
            "          Conv3d-231           [32, 1, 1, 1, 1]               4\n",
            "            ReLU-232           [32, 1, 1, 1, 1]               0\n",
            "          Conv3d-233           [32, 4, 1, 1, 1]               4\n",
            "AdaptiveMaxPool3d-234           [32, 4, 1, 1, 1]               0\n",
            "          Conv3d-235           [32, 1, 1, 1, 1]               4\n",
            "            ReLU-236           [32, 1, 1, 1, 1]               0\n",
            "          Conv3d-237           [32, 4, 1, 1, 1]               4\n",
            "         Sigmoid-238           [32, 4, 1, 1, 1]               0\n",
            "   TimeAttention-239           [32, 4, 1, 1, 1]               0\n",
            "AdaptiveAvgPool3d-240         [32, 128, 1, 1, 1]               0\n",
            "          Conv3d-241          [32, 25, 1, 1, 1]           3,200\n",
            "            ReLU-242          [32, 25, 1, 1, 1]               0\n",
            "          Conv3d-243         [32, 128, 1, 1, 1]           3,200\n",
            "AdaptiveMaxPool3d-244         [32, 128, 1, 1, 1]               0\n",
            "          Conv3d-245          [32, 25, 1, 1, 1]           3,200\n",
            "            ReLU-246          [32, 25, 1, 1, 1]               0\n",
            "          Conv3d-247         [32, 128, 1, 1, 1]           3,200\n",
            "         Sigmoid-248         [32, 128, 1, 1, 1]               0\n",
            "ChannelAttention-249         [32, 1, 128, 1, 1]               0\n",
            "          Conv2d-250            [32, 1, 32, 32]              18\n",
            "         Sigmoid-251         [32, 1, 1, 32, 32]               0\n",
            "SpatialAttention-252         [32, 1, 1, 32, 32]               0\n",
            "            ReLU-253       [32, 4, 128, 32, 32]               0\n",
            "            TCSA-254       [32, 4, 128, 32, 32]               0\n",
            "     PruningCell-255       [32, 2, 128, 32, 32]               0\n",
            "      BasicBlock-256       [32, 2, 128, 32, 32]               0\n",
            "      mem_update-257       [32, 2, 128, 32, 32]               0\n",
            "      Snn_Conv2d-258       [32, 2, 256, 16, 16]         294,912\n",
            "    BatchNorm3d1-259       [32, 256, 4, 16, 16]             512\n",
            "   batch_norm_2d-260       [32, 2, 256, 16, 16]               0\n",
            "      mem_update-261       [32, 2, 256, 16, 16]               0\n",
            "      Snn_Conv2d-262       [32, 2, 256, 16, 16]         589,824\n",
            "    BatchNorm3d2-263       [32, 256, 4, 16, 16]             512\n",
            "  batch_norm_2d1-264       [32, 2, 256, 16, 16]               0\n",
            "AdaptiveAvgPool3d-265           [32, 4, 1, 1, 1]               0\n",
            "          Conv3d-266           [32, 1, 1, 1, 1]               4\n",
            "            ReLU-267           [32, 1, 1, 1, 1]               0\n",
            "          Conv3d-268           [32, 4, 1, 1, 1]               4\n",
            "AdaptiveMaxPool3d-269           [32, 4, 1, 1, 1]               0\n",
            "          Conv3d-270           [32, 1, 1, 1, 1]               4\n",
            "            ReLU-271           [32, 1, 1, 1, 1]               0\n",
            "          Conv3d-272           [32, 4, 1, 1, 1]               4\n",
            "         Sigmoid-273           [32, 4, 1, 1, 1]               0\n",
            "   TimeAttention-274           [32, 4, 1, 1, 1]               0\n",
            "AdaptiveAvgPool3d-275         [32, 256, 1, 1, 1]               0\n",
            "          Conv3d-276          [32, 51, 1, 1, 1]          13,056\n",
            "            ReLU-277          [32, 51, 1, 1, 1]               0\n",
            "          Conv3d-278         [32, 256, 1, 1, 1]          13,056\n",
            "AdaptiveMaxPool3d-279         [32, 256, 1, 1, 1]               0\n",
            "          Conv3d-280          [32, 51, 1, 1, 1]          13,056\n",
            "            ReLU-281          [32, 51, 1, 1, 1]               0\n",
            "          Conv3d-282         [32, 256, 1, 1, 1]          13,056\n",
            "         Sigmoid-283         [32, 256, 1, 1, 1]               0\n",
            "ChannelAttention-284         [32, 1, 256, 1, 1]               0\n",
            "          Conv2d-285            [32, 1, 16, 16]              18\n",
            "         Sigmoid-286         [32, 1, 1, 16, 16]               0\n",
            "SpatialAttention-287         [32, 1, 1, 16, 16]               0\n",
            "            ReLU-288       [32, 4, 256, 16, 16]               0\n",
            "            TCSA-289       [32, 4, 256, 16, 16]               0\n",
            "     PruningCell-290       [32, 2, 256, 16, 16]               0\n",
            "       AvgPool3d-291       [32, 2, 128, 16, 16]               0\n",
            "      Snn_Conv2d-292       [32, 2, 256, 16, 16]          32,768\n",
            "    BatchNorm3d1-293       [32, 256, 4, 16, 16]             512\n",
            "   batch_norm_2d-294       [32, 2, 256, 16, 16]               0\n",
            "      BasicBlock-295       [32, 2, 256, 16, 16]               0\n",
            "      mem_update-296       [32, 2, 256, 16, 16]               0\n",
            "      Snn_Conv2d-297       [32, 2, 256, 16, 16]         589,824\n",
            "    BatchNorm3d1-298       [32, 256, 4, 16, 16]             512\n",
            "   batch_norm_2d-299       [32, 2, 256, 16, 16]               0\n",
            "      mem_update-300       [32, 2, 256, 16, 16]               0\n",
            "      Snn_Conv2d-301       [32, 2, 256, 16, 16]         589,824\n",
            "    BatchNorm3d2-302       [32, 256, 4, 16, 16]             512\n",
            "  batch_norm_2d1-303       [32, 2, 256, 16, 16]               0\n",
            "AdaptiveAvgPool3d-304           [32, 4, 1, 1, 1]               0\n",
            "          Conv3d-305           [32, 1, 1, 1, 1]               4\n",
            "            ReLU-306           [32, 1, 1, 1, 1]               0\n",
            "          Conv3d-307           [32, 4, 1, 1, 1]               4\n",
            "AdaptiveMaxPool3d-308           [32, 4, 1, 1, 1]               0\n",
            "          Conv3d-309           [32, 1, 1, 1, 1]               4\n",
            "            ReLU-310           [32, 1, 1, 1, 1]               0\n",
            "          Conv3d-311           [32, 4, 1, 1, 1]               4\n",
            "         Sigmoid-312           [32, 4, 1, 1, 1]               0\n",
            "   TimeAttention-313           [32, 4, 1, 1, 1]               0\n",
            "AdaptiveAvgPool3d-314         [32, 256, 1, 1, 1]               0\n",
            "          Conv3d-315          [32, 51, 1, 1, 1]          13,056\n",
            "            ReLU-316          [32, 51, 1, 1, 1]               0\n",
            "          Conv3d-317         [32, 256, 1, 1, 1]          13,056\n",
            "AdaptiveMaxPool3d-318         [32, 256, 1, 1, 1]               0\n",
            "          Conv3d-319          [32, 51, 1, 1, 1]          13,056\n",
            "            ReLU-320          [32, 51, 1, 1, 1]               0\n",
            "          Conv3d-321         [32, 256, 1, 1, 1]          13,056\n",
            "         Sigmoid-322         [32, 256, 1, 1, 1]               0\n",
            "ChannelAttention-323         [32, 1, 256, 1, 1]               0\n",
            "          Conv2d-324            [32, 1, 16, 16]              18\n",
            "         Sigmoid-325         [32, 1, 1, 16, 16]               0\n",
            "SpatialAttention-326         [32, 1, 1, 16, 16]               0\n",
            "            ReLU-327       [32, 4, 256, 16, 16]               0\n",
            "            TCSA-328       [32, 4, 256, 16, 16]               0\n",
            "     PruningCell-329       [32, 2, 256, 16, 16]               0\n",
            "      BasicBlock-330       [32, 2, 256, 16, 16]               0\n",
            "      mem_update-331       [32, 2, 256, 16, 16]               0\n",
            "      Snn_Conv2d-332       [32, 2, 256, 16, 16]         589,824\n",
            "    BatchNorm3d1-333       [32, 256, 4, 16, 16]             512\n",
            "   batch_norm_2d-334       [32, 2, 256, 16, 16]               0\n",
            "      mem_update-335       [32, 2, 256, 16, 16]               0\n",
            "      Snn_Conv2d-336       [32, 2, 256, 16, 16]         589,824\n",
            "    BatchNorm3d2-337       [32, 256, 4, 16, 16]             512\n",
            "  batch_norm_2d1-338       [32, 2, 256, 16, 16]               0\n",
            "AdaptiveAvgPool3d-339           [32, 4, 1, 1, 1]               0\n",
            "          Conv3d-340           [32, 1, 1, 1, 1]               4\n",
            "            ReLU-341           [32, 1, 1, 1, 1]               0\n",
            "          Conv3d-342           [32, 4, 1, 1, 1]               4\n",
            "AdaptiveMaxPool3d-343           [32, 4, 1, 1, 1]               0\n",
            "          Conv3d-344           [32, 1, 1, 1, 1]               4\n",
            "            ReLU-345           [32, 1, 1, 1, 1]               0\n",
            "          Conv3d-346           [32, 4, 1, 1, 1]               4\n",
            "         Sigmoid-347           [32, 4, 1, 1, 1]               0\n",
            "   TimeAttention-348           [32, 4, 1, 1, 1]               0\n",
            "AdaptiveAvgPool3d-349         [32, 256, 1, 1, 1]               0\n",
            "          Conv3d-350          [32, 51, 1, 1, 1]          13,056\n",
            "            ReLU-351          [32, 51, 1, 1, 1]               0\n",
            "          Conv3d-352         [32, 256, 1, 1, 1]          13,056\n",
            "AdaptiveMaxPool3d-353         [32, 256, 1, 1, 1]               0\n",
            "          Conv3d-354          [32, 51, 1, 1, 1]          13,056\n",
            "            ReLU-355          [32, 51, 1, 1, 1]               0\n",
            "          Conv3d-356         [32, 256, 1, 1, 1]          13,056\n",
            "         Sigmoid-357         [32, 256, 1, 1, 1]               0\n",
            "ChannelAttention-358         [32, 1, 256, 1, 1]               0\n",
            "          Conv2d-359            [32, 1, 16, 16]              18\n",
            "         Sigmoid-360         [32, 1, 1, 16, 16]               0\n",
            "SpatialAttention-361         [32, 1, 1, 16, 16]               0\n",
            "            ReLU-362       [32, 4, 256, 16, 16]               0\n",
            "            TCSA-363       [32, 4, 256, 16, 16]               0\n",
            "     PruningCell-364       [32, 2, 256, 16, 16]               0\n",
            "      BasicBlock-365       [32, 2, 256, 16, 16]               0\n",
            "      mem_update-366       [32, 2, 256, 16, 16]               0\n",
            "      Snn_Conv2d-367       [32, 2, 256, 16, 16]         589,824\n",
            "    BatchNorm3d1-368       [32, 256, 4, 16, 16]             512\n",
            "   batch_norm_2d-369       [32, 2, 256, 16, 16]               0\n",
            "      mem_update-370       [32, 2, 256, 16, 16]               0\n",
            "      Snn_Conv2d-371       [32, 2, 256, 16, 16]         589,824\n",
            "    BatchNorm3d2-372       [32, 256, 4, 16, 16]             512\n",
            "  batch_norm_2d1-373       [32, 2, 256, 16, 16]               0\n",
            "AdaptiveAvgPool3d-374           [32, 4, 1, 1, 1]               0\n",
            "          Conv3d-375           [32, 1, 1, 1, 1]               4\n",
            "            ReLU-376           [32, 1, 1, 1, 1]               0\n",
            "          Conv3d-377           [32, 4, 1, 1, 1]               4\n",
            "AdaptiveMaxPool3d-378           [32, 4, 1, 1, 1]               0\n",
            "          Conv3d-379           [32, 1, 1, 1, 1]               4\n",
            "            ReLU-380           [32, 1, 1, 1, 1]               0\n",
            "          Conv3d-381           [32, 4, 1, 1, 1]               4\n",
            "         Sigmoid-382           [32, 4, 1, 1, 1]               0\n",
            "   TimeAttention-383           [32, 4, 1, 1, 1]               0\n",
            "AdaptiveAvgPool3d-384         [32, 256, 1, 1, 1]               0\n",
            "          Conv3d-385          [32, 51, 1, 1, 1]          13,056\n",
            "            ReLU-386          [32, 51, 1, 1, 1]               0\n",
            "          Conv3d-387         [32, 256, 1, 1, 1]          13,056\n",
            "AdaptiveMaxPool3d-388         [32, 256, 1, 1, 1]               0\n",
            "          Conv3d-389          [32, 51, 1, 1, 1]          13,056\n",
            "            ReLU-390          [32, 51, 1, 1, 1]               0\n",
            "          Conv3d-391         [32, 256, 1, 1, 1]          13,056\n",
            "         Sigmoid-392         [32, 256, 1, 1, 1]               0\n",
            "ChannelAttention-393         [32, 1, 256, 1, 1]               0\n",
            "          Conv2d-394            [32, 1, 16, 16]              18\n",
            "         Sigmoid-395         [32, 1, 1, 16, 16]               0\n",
            "SpatialAttention-396         [32, 1, 1, 16, 16]               0\n",
            "            ReLU-397       [32, 4, 256, 16, 16]               0\n",
            "            TCSA-398       [32, 4, 256, 16, 16]               0\n",
            "     PruningCell-399       [32, 2, 256, 16, 16]               0\n",
            "      BasicBlock-400       [32, 2, 256, 16, 16]               0\n",
            "      mem_update-401       [32, 2, 256, 16, 16]               0\n",
            "      Snn_Conv2d-402       [32, 2, 256, 16, 16]         589,824\n",
            "    BatchNorm3d1-403       [32, 256, 4, 16, 16]             512\n",
            "   batch_norm_2d-404       [32, 2, 256, 16, 16]               0\n",
            "      mem_update-405       [32, 2, 256, 16, 16]               0\n",
            "      Snn_Conv2d-406       [32, 2, 256, 16, 16]         589,824\n",
            "    BatchNorm3d2-407       [32, 256, 4, 16, 16]             512\n",
            "  batch_norm_2d1-408       [32, 2, 256, 16, 16]               0\n",
            "AdaptiveAvgPool3d-409           [32, 4, 1, 1, 1]               0\n",
            "          Conv3d-410           [32, 1, 1, 1, 1]               4\n",
            "            ReLU-411           [32, 1, 1, 1, 1]               0\n",
            "          Conv3d-412           [32, 4, 1, 1, 1]               4\n",
            "AdaptiveMaxPool3d-413           [32, 4, 1, 1, 1]               0\n",
            "          Conv3d-414           [32, 1, 1, 1, 1]               4\n",
            "            ReLU-415           [32, 1, 1, 1, 1]               0\n",
            "          Conv3d-416           [32, 4, 1, 1, 1]               4\n",
            "         Sigmoid-417           [32, 4, 1, 1, 1]               0\n",
            "   TimeAttention-418           [32, 4, 1, 1, 1]               0\n",
            "AdaptiveAvgPool3d-419         [32, 256, 1, 1, 1]               0\n",
            "          Conv3d-420          [32, 51, 1, 1, 1]          13,056\n",
            "            ReLU-421          [32, 51, 1, 1, 1]               0\n",
            "          Conv3d-422         [32, 256, 1, 1, 1]          13,056\n",
            "AdaptiveMaxPool3d-423         [32, 256, 1, 1, 1]               0\n",
            "          Conv3d-424          [32, 51, 1, 1, 1]          13,056\n",
            "            ReLU-425          [32, 51, 1, 1, 1]               0\n",
            "          Conv3d-426         [32, 256, 1, 1, 1]          13,056\n",
            "         Sigmoid-427         [32, 256, 1, 1, 1]               0\n",
            "ChannelAttention-428         [32, 1, 256, 1, 1]               0\n",
            "          Conv2d-429            [32, 1, 16, 16]              18\n",
            "         Sigmoid-430         [32, 1, 1, 16, 16]               0\n",
            "SpatialAttention-431         [32, 1, 1, 16, 16]               0\n",
            "            ReLU-432       [32, 4, 256, 16, 16]               0\n",
            "            TCSA-433       [32, 4, 256, 16, 16]               0\n",
            "     PruningCell-434       [32, 2, 256, 16, 16]               0\n",
            "      BasicBlock-435       [32, 2, 256, 16, 16]               0\n",
            "      mem_update-436       [32, 2, 256, 16, 16]               0\n",
            "      Snn_Conv2d-437       [32, 2, 256, 16, 16]         589,824\n",
            "    BatchNorm3d1-438       [32, 256, 4, 16, 16]             512\n",
            "   batch_norm_2d-439       [32, 2, 256, 16, 16]               0\n",
            "      mem_update-440       [32, 2, 256, 16, 16]               0\n",
            "      Snn_Conv2d-441       [32, 2, 256, 16, 16]         589,824\n",
            "    BatchNorm3d2-442       [32, 256, 4, 16, 16]             512\n",
            "  batch_norm_2d1-443       [32, 2, 256, 16, 16]               0\n",
            "AdaptiveAvgPool3d-444           [32, 4, 1, 1, 1]               0\n",
            "          Conv3d-445           [32, 1, 1, 1, 1]               4\n",
            "            ReLU-446           [32, 1, 1, 1, 1]               0\n",
            "          Conv3d-447           [32, 4, 1, 1, 1]               4\n",
            "AdaptiveMaxPool3d-448           [32, 4, 1, 1, 1]               0\n",
            "          Conv3d-449           [32, 1, 1, 1, 1]               4\n",
            "            ReLU-450           [32, 1, 1, 1, 1]               0\n",
            "          Conv3d-451           [32, 4, 1, 1, 1]               4\n",
            "         Sigmoid-452           [32, 4, 1, 1, 1]               0\n",
            "   TimeAttention-453           [32, 4, 1, 1, 1]               0\n",
            "AdaptiveAvgPool3d-454         [32, 256, 1, 1, 1]               0\n",
            "          Conv3d-455          [32, 51, 1, 1, 1]          13,056\n",
            "            ReLU-456          [32, 51, 1, 1, 1]               0\n",
            "          Conv3d-457         [32, 256, 1, 1, 1]          13,056\n",
            "AdaptiveMaxPool3d-458         [32, 256, 1, 1, 1]               0\n",
            "          Conv3d-459          [32, 51, 1, 1, 1]          13,056\n",
            "            ReLU-460          [32, 51, 1, 1, 1]               0\n",
            "          Conv3d-461         [32, 256, 1, 1, 1]          13,056\n",
            "         Sigmoid-462         [32, 256, 1, 1, 1]               0\n",
            "ChannelAttention-463         [32, 1, 256, 1, 1]               0\n",
            "          Conv2d-464            [32, 1, 16, 16]              18\n",
            "         Sigmoid-465         [32, 1, 1, 16, 16]               0\n",
            "SpatialAttention-466         [32, 1, 1, 16, 16]               0\n",
            "            ReLU-467       [32, 4, 256, 16, 16]               0\n",
            "            TCSA-468       [32, 4, 256, 16, 16]               0\n",
            "     PruningCell-469       [32, 2, 256, 16, 16]               0\n",
            "      BasicBlock-470       [32, 2, 256, 16, 16]               0\n",
            "      mem_update-471       [32, 2, 256, 16, 16]               0\n",
            "      Snn_Conv2d-472         [32, 2, 512, 8, 8]       1,179,648\n",
            "    BatchNorm3d1-473         [32, 512, 4, 8, 8]           1,024\n",
            "   batch_norm_2d-474         [32, 2, 512, 8, 8]               0\n",
            "      mem_update-475         [32, 2, 512, 8, 8]               0\n",
            "      Snn_Conv2d-476         [32, 2, 512, 8, 8]       2,359,296\n",
            "    BatchNorm3d2-477         [32, 512, 4, 8, 8]           1,024\n",
            "  batch_norm_2d1-478         [32, 2, 512, 8, 8]               0\n",
            "AdaptiveAvgPool3d-479           [32, 4, 1, 1, 1]               0\n",
            "          Conv3d-480           [32, 1, 1, 1, 1]               4\n",
            "            ReLU-481           [32, 1, 1, 1, 1]               0\n",
            "          Conv3d-482           [32, 4, 1, 1, 1]               4\n",
            "AdaptiveMaxPool3d-483           [32, 4, 1, 1, 1]               0\n",
            "          Conv3d-484           [32, 1, 1, 1, 1]               4\n",
            "            ReLU-485           [32, 1, 1, 1, 1]               0\n",
            "          Conv3d-486           [32, 4, 1, 1, 1]               4\n",
            "         Sigmoid-487           [32, 4, 1, 1, 1]               0\n",
            "   TimeAttention-488           [32, 4, 1, 1, 1]               0\n",
            "AdaptiveAvgPool3d-489         [32, 512, 1, 1, 1]               0\n",
            "          Conv3d-490         [32, 102, 1, 1, 1]          52,224\n",
            "            ReLU-491         [32, 102, 1, 1, 1]               0\n",
            "          Conv3d-492         [32, 512, 1, 1, 1]          52,224\n",
            "AdaptiveMaxPool3d-493         [32, 512, 1, 1, 1]               0\n",
            "          Conv3d-494         [32, 102, 1, 1, 1]          52,224\n",
            "            ReLU-495         [32, 102, 1, 1, 1]               0\n",
            "          Conv3d-496         [32, 512, 1, 1, 1]          52,224\n",
            "         Sigmoid-497         [32, 512, 1, 1, 1]               0\n",
            "ChannelAttention-498         [32, 1, 512, 1, 1]               0\n",
            "          Conv2d-499              [32, 1, 8, 8]              18\n",
            "         Sigmoid-500           [32, 1, 1, 8, 8]               0\n",
            "SpatialAttention-501           [32, 1, 1, 8, 8]               0\n",
            "            ReLU-502         [32, 4, 512, 8, 8]               0\n",
            "            TCSA-503         [32, 4, 512, 8, 8]               0\n",
            "     PruningCell-504         [32, 2, 512, 8, 8]               0\n",
            "       AvgPool3d-505         [32, 2, 256, 8, 8]               0\n",
            "      Snn_Conv2d-506         [32, 2, 512, 8, 8]         131,072\n",
            "    BatchNorm3d1-507         [32, 512, 4, 8, 8]           1,024\n",
            "   batch_norm_2d-508         [32, 2, 512, 8, 8]               0\n",
            "      BasicBlock-509         [32, 2, 512, 8, 8]               0\n",
            "      mem_update-510         [32, 2, 512, 8, 8]               0\n",
            "      Snn_Conv2d-511         [32, 2, 512, 8, 8]       2,359,296\n",
            "    BatchNorm3d1-512         [32, 512, 4, 8, 8]           1,024\n",
            "   batch_norm_2d-513         [32, 2, 512, 8, 8]               0\n",
            "      mem_update-514         [32, 2, 512, 8, 8]               0\n",
            "      Snn_Conv2d-515         [32, 2, 512, 8, 8]       2,359,296\n",
            "    BatchNorm3d2-516         [32, 512, 4, 8, 8]           1,024\n",
            "  batch_norm_2d1-517         [32, 2, 512, 8, 8]               0\n",
            "AdaptiveAvgPool3d-518           [32, 4, 1, 1, 1]               0\n",
            "          Conv3d-519           [32, 1, 1, 1, 1]               4\n",
            "            ReLU-520           [32, 1, 1, 1, 1]               0\n",
            "          Conv3d-521           [32, 4, 1, 1, 1]               4\n",
            "AdaptiveMaxPool3d-522           [32, 4, 1, 1, 1]               0\n",
            "          Conv3d-523           [32, 1, 1, 1, 1]               4\n",
            "            ReLU-524           [32, 1, 1, 1, 1]               0\n",
            "          Conv3d-525           [32, 4, 1, 1, 1]               4\n",
            "         Sigmoid-526           [32, 4, 1, 1, 1]               0\n",
            "   TimeAttention-527           [32, 4, 1, 1, 1]               0\n",
            "AdaptiveAvgPool3d-528         [32, 512, 1, 1, 1]               0\n",
            "          Conv3d-529         [32, 102, 1, 1, 1]          52,224\n",
            "            ReLU-530         [32, 102, 1, 1, 1]               0\n",
            "          Conv3d-531         [32, 512, 1, 1, 1]          52,224\n",
            "AdaptiveMaxPool3d-532         [32, 512, 1, 1, 1]               0\n",
            "          Conv3d-533         [32, 102, 1, 1, 1]          52,224\n",
            "            ReLU-534         [32, 102, 1, 1, 1]               0\n",
            "          Conv3d-535         [32, 512, 1, 1, 1]          52,224\n",
            "         Sigmoid-536         [32, 512, 1, 1, 1]               0\n",
            "ChannelAttention-537         [32, 1, 512, 1, 1]               0\n",
            "          Conv2d-538              [32, 1, 8, 8]              18\n",
            "         Sigmoid-539           [32, 1, 1, 8, 8]               0\n",
            "SpatialAttention-540           [32, 1, 1, 8, 8]               0\n",
            "            ReLU-541         [32, 4, 512, 8, 8]               0\n",
            "            TCSA-542         [32, 4, 512, 8, 8]               0\n",
            "     PruningCell-543         [32, 2, 512, 8, 8]               0\n",
            "      BasicBlock-544         [32, 2, 512, 8, 8]               0\n",
            "      mem_update-545         [32, 2, 512, 8, 8]               0\n",
            "      Snn_Conv2d-546         [32, 2, 512, 8, 8]       2,359,296\n",
            "    BatchNorm3d1-547         [32, 512, 4, 8, 8]           1,024\n",
            "   batch_norm_2d-548         [32, 2, 512, 8, 8]               0\n",
            "      mem_update-549         [32, 2, 512, 8, 8]               0\n",
            "      Snn_Conv2d-550         [32, 2, 512, 8, 8]       2,359,296\n",
            "    BatchNorm3d2-551         [32, 512, 4, 8, 8]           1,024\n",
            "  batch_norm_2d1-552         [32, 2, 512, 8, 8]               0\n",
            "AdaptiveAvgPool3d-553           [32, 4, 1, 1, 1]               0\n",
            "          Conv3d-554           [32, 1, 1, 1, 1]               4\n",
            "            ReLU-555           [32, 1, 1, 1, 1]               0\n",
            "          Conv3d-556           [32, 4, 1, 1, 1]               4\n",
            "AdaptiveMaxPool3d-557           [32, 4, 1, 1, 1]               0\n",
            "          Conv3d-558           [32, 1, 1, 1, 1]               4\n",
            "            ReLU-559           [32, 1, 1, 1, 1]               0\n",
            "          Conv3d-560           [32, 4, 1, 1, 1]               4\n",
            "         Sigmoid-561           [32, 4, 1, 1, 1]               0\n",
            "   TimeAttention-562           [32, 4, 1, 1, 1]               0\n",
            "AdaptiveAvgPool3d-563         [32, 512, 1, 1, 1]               0\n",
            "          Conv3d-564         [32, 102, 1, 1, 1]          52,224\n",
            "            ReLU-565         [32, 102, 1, 1, 1]               0\n",
            "          Conv3d-566         [32, 512, 1, 1, 1]          52,224\n",
            "AdaptiveMaxPool3d-567         [32, 512, 1, 1, 1]               0\n",
            "          Conv3d-568         [32, 102, 1, 1, 1]          52,224\n",
            "            ReLU-569         [32, 102, 1, 1, 1]               0\n",
            "          Conv3d-570         [32, 512, 1, 1, 1]          52,224\n",
            "         Sigmoid-571         [32, 512, 1, 1, 1]               0\n",
            "ChannelAttention-572         [32, 1, 512, 1, 1]               0\n",
            "          Conv2d-573              [32, 1, 8, 8]              18\n",
            "         Sigmoid-574           [32, 1, 1, 8, 8]               0\n",
            "SpatialAttention-575           [32, 1, 1, 8, 8]               0\n",
            "            ReLU-576         [32, 4, 512, 8, 8]               0\n",
            "            TCSA-577         [32, 4, 512, 8, 8]               0\n",
            "     PruningCell-578         [32, 2, 512, 8, 8]               0\n",
            "      BasicBlock-579         [32, 2, 512, 8, 8]               0\n",
            "      mem_update-580         [32, 2, 512, 8, 8]               0\n",
            " ConvTranspose2d-581          [32, 256, 16, 16]         524,544\n",
            "            ReLU-582          [32, 256, 16, 16]               0\n",
            " ConvTranspose2d-583          [32, 128, 32, 32]         131,200\n",
            "            ReLU-584          [32, 128, 32, 32]               0\n",
            " ConvTranspose2d-585           [32, 64, 64, 64]          32,832\n",
            "            ReLU-586           [32, 64, 64, 64]               0\n",
            " ConvTranspose2d-587         [32, 32, 128, 128]           8,224\n",
            "            ReLU-588         [32, 32, 128, 128]               0\n",
            " ConvTranspose2d-589         [32, 16, 256, 256]           2,064\n",
            "            ReLU-590         [32, 16, 256, 256]               0\n",
            "          Conv2d-591          [32, 1, 256, 256]              17\n",
            "================================================================\n",
            "Total params: 22,982,497\n",
            "Trainable params: 22,982,497\n",
            "Non-trainable params: 0\n",
            "----------------------------------------------------------------\n",
            "Input size (MB): 8.00\n",
            "Forward/backward pass size (MB): 18811.64\n",
            "Params size (MB): 87.67\n",
            "Estimated Total Size (MB): 18907.31\n",
            "----------------------------------------------------------------\n"
          ]
        }
      ],
      "source": [
        "device = torch.device(\"cuda\" if torch.cuda.is_available() else \"cpu\")\n",
        "model = resnet_2_copy.resnet34().to(device)\n",
        "summary(model, input_size=(1, 256, 256), batch_size=32)"
      ]
    },
    {
      "cell_type": "code",
      "execution_count": 7,
      "id": "8516833e",
      "metadata": {
        "id": "8516833e",
        "outputId": "bd355eb6-31ee-4731-ac0e-4d82a9c7972c",
        "colab": {
          "base_uri": "https://localhost:8080/"
        }
      },
      "outputs": [
        {
          "output_type": "execute_result",
          "data": {
            "text/plain": [
              "['Modified_3_Brain_Tumor_Segmentation']"
            ]
          },
          "metadata": {},
          "execution_count": 7
        }
      ],
      "source": [
        "import zipfile\n",
        "import os\n",
        "\n",
        "zip_path = \"/content/drive/MyDrive/05-GP25-Mostafa-SpikingNeuralNetwork/Dataset/Modified_3_Brain_Tumor_Segmentation.zip\"\n",
        "extract_path = \"/content/drive/MyDrive/05-GP25-Mostafa-SpikingNeuralNetwork/Dataset/Modified_3_Brain_Tumor_Segmentation Extracted\"\n",
        "\n",
        "# # Extract ZIP\n",
        "# with zipfile.ZipFile(zip_path, 'r') as zip_ref:\n",
        "#     zip_ref.extractall(extract_path)\n",
        "\n",
        "# List extracted files\n",
        "os.listdir(extract_path)"
      ]
    },
    {
      "cell_type": "code",
      "execution_count": 8,
      "id": "890da0e5",
      "metadata": {
        "id": "890da0e5"
      },
      "outputs": [],
      "source": [
        "IMG_DIR      =  \"/content/drive/MyDrive/05-GP25-Mostafa-SpikingNeuralNetwork/Dataset/Modified_3_Brain_Tumor_Segmentation Extracted/Modified_3_Brain_Tumor_Segmentation/images\"\n",
        "MASK_DIR     =  \"/content/drive/MyDrive/05-GP25-Mostafa-SpikingNeuralNetwork/Dataset/Modified_3_Brain_Tumor_Segmentation Extracted/Modified_3_Brain_Tumor_Segmentation/masks\"\n",
        "VAL_IMG_DIR  =  \"/content/drive/MyDrive/05-GP25-Mostafa-SpikingNeuralNetwork/Dataset/Modified_3_Brain_Tumor_Segmentation Extracted/Modified_3_Brain_Tumor_Segmentation/val_images\"\n",
        "VAL_MASK_DIR =  \"/content/drive/MyDrive/05-GP25-Mostafa-SpikingNeuralNetwork/Dataset/Modified_3_Brain_Tumor_Segmentation Extracted/Modified_3_Brain_Tumor_Segmentation/val_masks\""
      ]
    },
    {
      "cell_type": "code",
      "execution_count": 22,
      "id": "d822dc74",
      "metadata": {
        "id": "d822dc74"
      },
      "outputs": [],
      "source": [
        "Device = \"cuda\" if torch.cuda.is_available() else \"cpu\"\n",
        "Learning_rate = 1e-3\n",
        "Batch_size  = 32\n",
        "num_epochs  = 60\n",
        "num_workers = 4\n",
        "IMAGE_HEIGHT = 256 # 256 -> 512 originally\n",
        "IMAGE_WIDTH  = 256 # 256 -> 512 originally\n",
        "PIN_MEMORY = True\n",
        "LOAD_MODEL = False\n",
        "CHECKPOINT_NAME = None"
      ]
    },
    {
      "cell_type": "code",
      "execution_count": 10,
      "id": "929a5f2c",
      "metadata": {
        "id": "929a5f2c"
      },
      "outputs": [],
      "source": [
        "def train_fn(loader, model, optimizer, loss_fn, scaler):\n",
        "    loop = tqdm(loader)\n",
        "    running_loss=0\n",
        "\n",
        "    for batch_idx, (data, targets) in enumerate(loop):\n",
        "        data = data.to(device=Device)\n",
        "        targets = targets.float().unsqueeze(1).to(device=Device)\n",
        "\n",
        "        with torch.amp.autocast(device_type=Device):\n",
        "            predictions = model(data)\n",
        "            loss = loss_fn(predictions, targets)\n",
        "\n",
        "        running_loss+=loss.item()\n",
        "\n",
        "        optimizer.zero_grad()\n",
        "        scaler.scale(loss).backward()\n",
        "        scaler.step(optimizer)\n",
        "        scaler.update()\n",
        "\n",
        "        loop.set_postfix(loss=loss.item())\n",
        "\n",
        "    nasar = model.calculate_nasar()\n",
        "\n",
        "    return running_loss/len(loader), nasar"
      ]
    },
    {
      "cell_type": "code",
      "execution_count": 23,
      "id": "776f1658",
      "metadata": {
        "id": "776f1658"
      },
      "outputs": [],
      "source": [
        "def main():\n",
        "    train_transform = A.Compose(\n",
        "        [\n",
        "            A.Resize(height=IMAGE_HEIGHT, width=IMAGE_WIDTH),\n",
        "            A.Rotate(limit=35, p=1.0),\n",
        "            A.HorizontalFlip(p=0.5),\n",
        "            A.VerticalFlip(p=0.1),\n",
        "            A.Normalize(\n",
        "                mean=[0.0],\n",
        "                std=[1.0],\n",
        "                max_pixel_value=255.0,\n",
        "            ),\n",
        "            ToTensorV2(),\n",
        "        ]\n",
        "    )\n",
        "    val_transform = A.Compose(\n",
        "        [\n",
        "            A.Resize(height=IMAGE_HEIGHT, width=IMAGE_WIDTH),\n",
        "            A.Normalize(\n",
        "                mean=[0.0],\n",
        "                std=[1.0],\n",
        "                max_pixel_value=255.0,\n",
        "            ),\n",
        "            ToTensorV2(),\n",
        "        ]\n",
        "    )\n",
        "    model = resnet_2_copy.resnet34().to(device)\n",
        "    loss_fn = nn.BCEWithLogitsLoss()\n",
        "    optimizer = optim.Adam(model.parameters(), lr=Learning_rate)\n",
        "    # scheduler = ReduceLROnPlateau(optimizer, mode='min', patience=5, factor=0.5)\n",
        "    # scheduler = CosineAnnealingLR(optimizer, T_max=num_epochs)\n",
        "    scheduler = CosineAnnealingWarmRestarts(optimizer, T_0=10, T_mult=2)\n",
        "\n",
        "    train_loader, val_loader = get_loaders(\n",
        "        IMG_DIR,\n",
        "        MASK_DIR,\n",
        "        VAL_IMG_DIR,\n",
        "        VAL_MASK_DIR,\n",
        "        Batch_size,\n",
        "        train_transform,\n",
        "        val_transform,\n",
        "        num_workers,\n",
        "        PIN_MEMORY,\n",
        "    )\n",
        "\n",
        "    train_losses=[]\n",
        "    val_dice_scores=[]\n",
        "    val_accs=[]\n",
        "    train_nasar=[]\n",
        "\n",
        "    if LOAD_MODEL:\n",
        "        load_checkpoint(model=model, optimizer=optimizer, checkpoint_name=CHECKPOINT_NAME)\n",
        "        val_acc_loaded, val_dice_loaded = check_accuracy(val_loader, model, device=Device)\n",
        "\n",
        "    scaler = torch.amp.GradScaler()\n",
        "\n",
        "    for epoch in range(num_epochs):\n",
        "        train_loss, nasar = train_fn(train_loader, model, optimizer, loss_fn, scaler)\n",
        "\n",
        "        val_acc, val_dice = check_accuracy(val_loader, model, device=Device)\n",
        "\n",
        "        train_losses.append(train_loss)\n",
        "        val_accs.append(val_acc.cpu().item())\n",
        "        val_dice_scores.append(val_dice.cpu().item())\n",
        "        train_nasar.append(nasar)\n",
        "\n",
        "        scheduler.step(val_dice)\n",
        "        print(f\"Epoch {epoch}: LR = {optimizer.param_groups[0]['lr']}\")\n",
        "\n",
        "        checkpoint = {\n",
        "        \"state_dict\": model.state_dict(),\n",
        "        \"optimizer\": optimizer.state_dict(),\n",
        "        }\n",
        "\n",
        "        checkpoint_filename = save_checkpoint(checkpoint, is_best=len(val_dice_scores) == 1 or val_dice_scores[-1] > max(val_dice_scores[:-1]))\n",
        "\n",
        "        if epoch != num_epochs - 1:\n",
        "            save_predictions_as_imgs(\n",
        "                val_loader,\n",
        "                model,\n",
        "                checkpoint_filename=checkpoint_filename,\n",
        "                train_losses=train_losses,\n",
        "                val_accs=val_accs,\n",
        "                val_dice_scores=val_dice_scores,\n",
        "                train_nasar=train_nasar,\n",
        "                folder=\"Att_Res_SNN_saved_images/\",\n",
        "                device=Device,\n",
        "                show_last_epoch=False,\n",
        "            )\n",
        "        else:\n",
        "            save_predictions_as_imgs(\n",
        "                val_loader,\n",
        "                model,\n",
        "                checkpoint_filename=checkpoint_filename,\n",
        "                train_losses=train_losses,\n",
        "                val_accs=val_accs,\n",
        "                val_dice_scores=val_dice_scores,\n",
        "                train_nasar=train_nasar,\n",
        "                folder=\"Att_Res_SNN_saved_images/\",\n",
        "                device=Device,\n",
        "                show_last_epoch=True,\n",
        "            )"
      ]
    },
    {
      "cell_type": "code",
      "execution_count": null,
      "id": "693d6caf",
      "metadata": {
        "id": "693d6caf",
        "outputId": "1209946e-d4f4-4f48-9aed-c56b342a1558",
        "colab": {
          "base_uri": "https://localhost:8080/"
        }
      },
      "outputs": [
        {
          "output_type": "stream",
          "name": "stderr",
          "text": [
            "/usr/local/lib/python3.11/dist-packages/torch/utils/data/dataloader.py:624: UserWarning: This DataLoader will create 4 worker processes in total. Our suggested max number of worker in current system is 2, which is smaller than what this DataLoader is going to create. Please be aware that excessive worker creation might get DataLoader running slow or even freeze, lower the worker number to avoid potential slowness/freeze if necessary.\n",
            "  warnings.warn(\n",
            "100%|██████████| 82/82 [03:02<00:00,  2.23s/it, loss=0.0646]\n"
          ]
        },
        {
          "output_type": "stream",
          "name": "stdout",
          "text": [
            "NASAR: 0.2411674803971125\n",
            "Got 28818978/29360128 with acc  98.16\n",
            "Dice score: 0.0\n",
            "Epoch 0: LR = 0.001\n",
            "✅ Checkpoint saved: Att_Res_SNN_checkpoint_7_2025-04-26_07-54-35.pth.tar\n"
          ]
        },
        {
          "output_type": "stream",
          "name": "stderr",
          "text": [
            "100%|██████████| 82/82 [02:45<00:00,  2.02s/it, loss=0.0498]"
          ]
        },
        {
          "output_type": "stream",
          "name": "stdout",
          "text": [
            "NASAR: 0.2377642421095584\n"
          ]
        },
        {
          "output_type": "stream",
          "name": "stderr",
          "text": [
            "\n"
          ]
        },
        {
          "output_type": "stream",
          "name": "stdout",
          "text": [
            "Got 28820961/29360128 with acc  98.16\n",
            "Dice score: 0.010084839537739754\n",
            "Epoch 1: LR = 0.0009999974905567724\n",
            "✅ Checkpoint saved: Att_Res_SNN_checkpoint_8_2025-04-26_07-58-01.pth.tar\n"
          ]
        },
        {
          "output_type": "stream",
          "name": "stderr",
          "text": [
            "100%|██████████| 82/82 [02:45<00:00,  2.02s/it, loss=0.0386]"
          ]
        },
        {
          "output_type": "stream",
          "name": "stdout",
          "text": [
            "NASAR: 0.226367046015923\n"
          ]
        },
        {
          "output_type": "stream",
          "name": "stderr",
          "text": [
            "\n"
          ]
        },
        {
          "output_type": "stream",
          "name": "stdout",
          "text": [
            "Got 28853132/29360128 with acc  98.27\n",
            "Dice score: 0.1394859403371811\n",
            "Epoch 2: LR = 0.0009995200111414387\n",
            "✅ Checkpoint saved: Att_Res_SNN_checkpoint_9_2025-04-26_08-01-27.pth.tar\n"
          ]
        },
        {
          "output_type": "stream",
          "name": "stderr",
          "text": [
            "100%|██████████| 82/82 [02:45<00:00,  2.02s/it, loss=0.0399]"
          ]
        },
        {
          "output_type": "stream",
          "name": "stdout",
          "text": [
            "NASAR: 0.23205121358235678\n"
          ]
        },
        {
          "output_type": "stream",
          "name": "stderr",
          "text": [
            "\n"
          ]
        },
        {
          "output_type": "stream",
          "name": "stdout",
          "text": [
            "Got 28891523/29360128 with acc  98.40\n",
            "Dice score: 0.42168572545051575\n",
            "Epoch 3: LR = 0.0009956189076349342\n",
            "✅ Checkpoint saved: Att_Res_SNN_checkpoint_10_2025-04-26_08-04-53.pth.tar\n"
          ]
        },
        {
          "output_type": "stream",
          "name": "stderr",
          "text": [
            "100%|██████████| 82/82 [02:45<00:00,  2.02s/it, loss=0.04]"
          ]
        },
        {
          "output_type": "stream",
          "name": "stdout",
          "text": [
            "NASAR: 0.22824993939466878\n"
          ]
        },
        {
          "output_type": "stream",
          "name": "stderr",
          "text": [
            "\n"
          ]
        },
        {
          "output_type": "stream",
          "name": "stdout",
          "text": [
            "Got 28965722/29360128 with acc  98.66\n",
            "Dice score: 0.5357621908187866\n",
            "Epoch 4: LR = 0.0009929342479555985\n",
            "✅ Checkpoint saved: Att_Res_SNN_checkpoint_11_2025-04-26_08-08-18.pth.tar\n"
          ]
        },
        {
          "output_type": "stream",
          "name": "stderr",
          "text": [
            "100%|██████████| 82/82 [02:45<00:00,  2.02s/it, loss=0.0352]\n"
          ]
        },
        {
          "output_type": "stream",
          "name": "stdout",
          "text": [
            "NASAR: 0.21532982839664944\n",
            "Got 28931496/29360128 with acc  98.54\n",
            "Dice score: 0.4165295660495758\n",
            "Epoch 5: LR = 0.0009957252414749581\n",
            " Checkpoint not saved as best model.\n"
          ]
        },
        {
          "output_type": "stream",
          "name": "stderr",
          "text": [
            "100%|██████████| 82/82 [02:46<00:00,  2.03s/it, loss=0.0404]"
          ]
        },
        {
          "output_type": "stream",
          "name": "stdout",
          "text": [
            "NASAR: 0.21561234881620453\n"
          ]
        },
        {
          "output_type": "stream",
          "name": "stderr",
          "text": [
            "\n"
          ]
        },
        {
          "output_type": "stream",
          "name": "stdout",
          "text": [
            "Got 28919844/29360128 with acc  98.50\n",
            "Dice score: 0.44129478931427\n",
            "Epoch 6: LR = 0.000995202646673508\n",
            " Checkpoint not saved as best model.\n"
          ]
        },
        {
          "output_type": "stream",
          "name": "stderr",
          "text": [
            "100%|██████████| 82/82 [02:45<00:00,  2.02s/it, loss=0.0367]"
          ]
        },
        {
          "output_type": "stream",
          "name": "stdout",
          "text": [
            "NASAR: 0.20712736067077922\n"
          ]
        },
        {
          "output_type": "stream",
          "name": "stderr",
          "text": [
            "\n"
          ]
        },
        {
          "output_type": "stream",
          "name": "stdout",
          "text": [
            "Got 28971806/29360128 with acc  98.68\n",
            "Dice score: 0.48480498790740967\n",
            "Epoch 7: LR = 0.0009942119231972793\n",
            " Checkpoint not saved as best model.\n"
          ]
        },
        {
          "output_type": "stream",
          "name": "stderr",
          "text": [
            "100%|██████████| 82/82 [02:45<00:00,  2.02s/it, loss=0.0207]"
          ]
        },
        {
          "output_type": "stream",
          "name": "stdout",
          "text": [
            "NASAR: 0.2043639617346822\n"
          ]
        },
        {
          "output_type": "stream",
          "name": "stderr",
          "text": [
            "\n"
          ]
        },
        {
          "output_type": "stream",
          "name": "stdout",
          "text": [
            "Got 28906082/29360128 with acc  98.45\n",
            "Dice score: 0.3464163839817047\n",
            "Epoch 8: LR = 0.0009970419337008163\n",
            " Checkpoint not saved as best model.\n"
          ]
        },
        {
          "output_type": "stream",
          "name": "stderr",
          "text": [
            "100%|██████████| 82/82 [02:46<00:00,  2.03s/it, loss=0.0288]"
          ]
        },
        {
          "output_type": "stream",
          "name": "stdout",
          "text": [
            "NASAR: 0.20855484546070369\n"
          ]
        },
        {
          "output_type": "stream",
          "name": "stderr",
          "text": [
            "\n"
          ]
        },
        {
          "output_type": "stream",
          "name": "stdout",
          "text": [
            "Got 28993627/29360128 with acc  98.75\n",
            "Dice score: 0.5519629716873169\n",
            "Epoch 9: LR = 0.0009925015554820857\n",
            "✅ Checkpoint saved: Att_Res_SNN_checkpoint_12_2025-04-26_08-25-25.pth.tar\n"
          ]
        },
        {
          "output_type": "stream",
          "name": "stderr",
          "text": [
            "100%|██████████| 82/82 [02:45<00:00,  2.02s/it, loss=0.0323]"
          ]
        },
        {
          "output_type": "stream",
          "name": "stdout",
          "text": [
            "NASAR: 0.19480467066518578\n"
          ]
        },
        {
          "output_type": "stream",
          "name": "stderr",
          "text": [
            "\n"
          ]
        },
        {
          "output_type": "stream",
          "name": "stdout",
          "text": [
            "Got 28947204/29360128 with acc  98.59\n",
            "Dice score: 0.40866032242774963\n",
            "Epoch 10: LR = 0.0009958850156043097\n",
            " Checkpoint not saved as best model.\n"
          ]
        },
        {
          "output_type": "stream",
          "name": "stderr",
          "text": [
            "100%|██████████| 82/82 [02:45<00:00,  2.02s/it, loss=0.0242]\n"
          ]
        },
        {
          "output_type": "stream",
          "name": "stdout",
          "text": [
            "NASAR: 0.18872458050508453\n",
            "Got 29025991/29360128 with acc  98.86\n",
            "Dice score: 0.6195486187934875\n",
            "Epoch 11: LR = 0.0009905589767920447\n",
            "✅ Checkpoint saved: Att_Res_SNN_checkpoint_13_2025-04-26_08-32-18.pth.tar\n"
          ]
        },
        {
          "output_type": "stream",
          "name": "stderr",
          "text": [
            "100%|██████████| 82/82 [02:45<00:00,  2.02s/it, loss=0.0263]"
          ]
        },
        {
          "output_type": "stream",
          "name": "stdout",
          "text": [
            "NASAR: 0.18667477173424663\n"
          ]
        },
        {
          "output_type": "stream",
          "name": "stderr",
          "text": [
            "\n"
          ]
        },
        {
          "output_type": "stream",
          "name": "stdout",
          "text": [
            "Got 28941719/29360128 with acc  98.57\n",
            "Dice score: 0.5544072985649109\n",
            "Epoch 12: LR = 0.0009924351634374167\n",
            " Checkpoint not saved as best model.\n"
          ]
        },
        {
          "output_type": "stream",
          "name": "stderr",
          "text": [
            "100%|██████████| 82/82 [02:45<00:00,  2.02s/it, loss=0.0247]"
          ]
        },
        {
          "output_type": "stream",
          "name": "stdout",
          "text": [
            "NASAR: 0.18110333474029397\n"
          ]
        },
        {
          "output_type": "stream",
          "name": "stderr",
          "text": [
            "\n"
          ]
        },
        {
          "output_type": "stream",
          "name": "stdout",
          "text": [
            "Got 29021036/29360128 with acc  98.85\n",
            "Dice score: 0.6567437052726746\n",
            "Epoch 13: LR = 0.0009893954944816372\n",
            "✅ Checkpoint saved: Att_Res_SNN_checkpoint_14_2025-04-26_08-39-09.pth.tar\n"
          ]
        },
        {
          "output_type": "stream",
          "name": "stderr",
          "text": [
            "100%|██████████| 82/82 [02:45<00:00,  2.02s/it, loss=0.0311]"
          ]
        },
        {
          "output_type": "stream",
          "name": "stdout",
          "text": [
            "NASAR: 0.18566094877574366\n"
          ]
        },
        {
          "output_type": "stream",
          "name": "stderr",
          "text": [
            "\n"
          ]
        },
        {
          "output_type": "stream",
          "name": "stdout",
          "text": [
            "Got 28969316/29360128 with acc  98.67\n",
            "Dice score: 0.5065150260925293\n",
            "Epoch 14: LR = 0.0009936830446198566\n",
            " Checkpoint not saved as best model.\n"
          ]
        },
        {
          "output_type": "stream",
          "name": "stderr",
          "text": [
            "100%|██████████| 82/82 [02:46<00:00,  2.03s/it, loss=0.0326]"
          ]
        },
        {
          "output_type": "stream",
          "name": "stdout",
          "text": [
            "NASAR: 0.1810575135996644\n"
          ]
        },
        {
          "output_type": "stream",
          "name": "stderr",
          "text": [
            "\n"
          ]
        },
        {
          "output_type": "stream",
          "name": "stdout",
          "text": [
            "Got 28956869/29360128 with acc  98.63\n",
            "Dice score: 0.46589845418930054\n",
            "Epoch 15: LR = 0.0009946537791253372\n",
            " Checkpoint not saved as best model.\n"
          ]
        },
        {
          "output_type": "stream",
          "name": "stderr",
          "text": [
            "100%|██████████| 82/82 [02:45<00:00,  2.02s/it, loss=0.021]"
          ]
        },
        {
          "output_type": "stream",
          "name": "stdout",
          "text": [
            "NASAR: 0.17138781122198687\n"
          ]
        },
        {
          "output_type": "stream",
          "name": "stderr",
          "text": [
            "\n"
          ]
        },
        {
          "output_type": "stream",
          "name": "stdout",
          "text": [
            "Got 29009338/29360128 with acc  98.81\n",
            "Dice score: 0.5731886029243469\n",
            "Epoch 16: LR = 0.0009919153538282181\n",
            " Checkpoint not saved as best model.\n"
          ]
        },
        {
          "output_type": "stream",
          "name": "stderr",
          "text": [
            "100%|██████████| 82/82 [02:45<00:00,  2.02s/it, loss=0.0215]"
          ]
        },
        {
          "output_type": "stream",
          "name": "stdout",
          "text": [
            "NASAR: 0.17634305819659166\n"
          ]
        },
        {
          "output_type": "stream",
          "name": "stderr",
          "text": [
            "\n"
          ]
        },
        {
          "output_type": "stream",
          "name": "stdout",
          "text": [
            "Got 28892966/29360128 with acc  98.41\n",
            "Dice score: 0.24139411747455597\n",
            "Epoch 17: LR = 0.000998562906481722\n",
            " Checkpoint not saved as best model.\n"
          ]
        },
        {
          "output_type": "stream",
          "name": "stderr",
          "text": [
            "100%|██████████| 82/82 [02:46<00:00,  2.03s/it, loss=0.019]"
          ]
        },
        {
          "output_type": "stream",
          "name": "stdout",
          "text": [
            "NASAR: 0.16845177484789925\n"
          ]
        },
        {
          "output_type": "stream",
          "name": "stderr",
          "text": [
            "\n"
          ]
        },
        {
          "output_type": "stream",
          "name": "stdout",
          "text": [
            "Got 29050320/29360128 with acc  98.94\n",
            "Dice score: 0.6719690561294556\n",
            "Epoch 18: LR = 0.0009888999531026843\n",
            "✅ Checkpoint saved: Att_Res_SNN_checkpoint_15_2025-04-26_08-56-18.pth.tar\n"
          ]
        },
        {
          "output_type": "stream",
          "name": "stderr",
          "text": [
            "100%|██████████| 82/82 [02:45<00:00,  2.02s/it, loss=0.0246]"
          ]
        },
        {
          "output_type": "stream",
          "name": "stdout",
          "text": [
            "NASAR: 0.1661270392332838\n"
          ]
        },
        {
          "output_type": "stream",
          "name": "stderr",
          "text": [
            "\n"
          ]
        },
        {
          "output_type": "stream",
          "name": "stdout",
          "text": [
            "Got 28869788/29360128 with acc  98.33\n",
            "Dice score: 0.5801485776901245\n",
            "Epoch 19: LR = 0.0009917183713520198\n",
            " Checkpoint not saved as best model.\n"
          ]
        },
        {
          "output_type": "stream",
          "name": "stderr",
          "text": [
            "100%|██████████| 82/82 [02:45<00:00,  2.02s/it, loss=0.0213]"
          ]
        },
        {
          "output_type": "stream",
          "name": "stdout",
          "text": [
            "NASAR: 0.16741540398396237\n"
          ]
        },
        {
          "output_type": "stream",
          "name": "stderr",
          "text": [
            "\n"
          ]
        },
        {
          "output_type": "stream",
          "name": "stdout",
          "text": [
            "Got 28901679/29360128 with acc  98.44\n",
            "Dice score: 0.35947301983833313\n",
            "Epoch 20: LR = 0.0009968149900018955\n",
            " Checkpoint not saved as best model.\n"
          ]
        },
        {
          "output_type": "stream",
          "name": "stderr",
          "text": [
            "100%|██████████| 82/82 [02:46<00:00,  2.03s/it, loss=0.0185]"
          ]
        },
        {
          "output_type": "stream",
          "name": "stdout",
          "text": [
            "NASAR: 0.16299460863283544\n"
          ]
        },
        {
          "output_type": "stream",
          "name": "stderr",
          "text": [
            "\n"
          ]
        },
        {
          "output_type": "stream",
          "name": "stdout",
          "text": [
            "Got 29059594/29360128 with acc  98.98\n",
            "Dice score: 0.7204538583755493\n",
            "Epoch 21: LR = 0.0009872474411706366\n",
            "✅ Checkpoint saved: Att_Res_SNN_checkpoint_16_2025-04-26_09-06-35.pth.tar\n"
          ]
        },
        {
          "output_type": "stream",
          "name": "stderr",
          "text": [
            "100%|██████████| 82/82 [02:45<00:00,  2.02s/it, loss=0.023]"
          ]
        },
        {
          "output_type": "stream",
          "name": "stdout",
          "text": [
            "NASAR: 0.1562346964374954\n"
          ]
        },
        {
          "output_type": "stream",
          "name": "stderr",
          "text": [
            "\n"
          ]
        },
        {
          "output_type": "stream",
          "name": "stdout",
          "text": [
            "Got 29057194/29360128 with acc  98.97\n",
            "Dice score: 0.7253310084342957\n",
            "Epoch 22: LR = 0.00098707494934734\n",
            "✅ Checkpoint saved: Att_Res_SNN_checkpoint_17_2025-04-26_09-10-00.pth.tar\n"
          ]
        },
        {
          "output_type": "stream",
          "name": "stderr",
          "text": [
            "100%|██████████| 82/82 [02:45<00:00,  2.02s/it, loss=0.0217]"
          ]
        },
        {
          "output_type": "stream",
          "name": "stdout",
          "text": [
            "NASAR: 0.15112772122235366\n"
          ]
        },
        {
          "output_type": "stream",
          "name": "stderr",
          "text": [
            "\n"
          ]
        },
        {
          "output_type": "stream",
          "name": "stdout",
          "text": [
            "Got 29078136/29360128 with acc  99.04\n",
            "Dice score: 0.7354661822319031\n",
            "Epoch 23: LR = 0.0009867128383427143\n",
            "✅ Checkpoint saved: Att_Res_SNN_checkpoint_18_2025-04-26_09-13-27.pth.tar\n"
          ]
        },
        {
          "output_type": "stream",
          "name": "stderr",
          "text": [
            "100%|██████████| 82/82 [02:45<00:00,  2.02s/it, loss=0.0189]"
          ]
        },
        {
          "output_type": "stream",
          "name": "stdout",
          "text": [
            "NASAR: 0.1509432725503411\n"
          ]
        },
        {
          "output_type": "stream",
          "name": "stderr",
          "text": [
            "\n"
          ]
        },
        {
          "output_type": "stream",
          "name": "stdout",
          "text": [
            "Got 29033519/29360128 with acc  98.89\n",
            "Dice score: 0.6945561766624451\n",
            "Epoch 24: LR = 0.0009881442038521965\n",
            " Checkpoint not saved as best model.\n"
          ]
        },
        {
          "output_type": "stream",
          "name": "stderr",
          "text": [
            "100%|██████████| 82/82 [02:46<00:00,  2.03s/it, loss=0.0262]"
          ]
        },
        {
          "output_type": "stream",
          "name": "stdout",
          "text": [
            "NASAR: 0.14906045080910266\n"
          ]
        },
        {
          "output_type": "stream",
          "name": "stderr",
          "text": [
            "\n"
          ]
        },
        {
          "output_type": "stream",
          "name": "stdout",
          "text": [
            "Got 29055953/29360128 with acc  98.96\n",
            "Dice score: 0.6691561937332153\n",
            "Epoch 25: LR = 0.0009889923445223867\n",
            " Checkpoint not saved as best model.\n"
          ]
        },
        {
          "output_type": "stream",
          "name": "stderr",
          "text": [
            "100%|██████████| 82/82 [02:45<00:00,  2.02s/it, loss=0.0192]"
          ]
        },
        {
          "output_type": "stream",
          "name": "stdout",
          "text": [
            "NASAR: 0.1422230536948907\n"
          ]
        },
        {
          "output_type": "stream",
          "name": "stderr",
          "text": [
            "\n"
          ]
        },
        {
          "output_type": "stream",
          "name": "stdout",
          "text": [
            "Got 29064847/29360128 with acc  98.99\n",
            "Dice score: 0.6915758848190308\n",
            "Epoch 26: LR = 0.0009882453288619995\n",
            " Checkpoint not saved as best model.\n"
          ]
        },
        {
          "output_type": "stream",
          "name": "stderr",
          "text": [
            "100%|██████████| 82/82 [02:46<00:00,  2.03s/it, loss=0.0148]"
          ]
        },
        {
          "output_type": "stream",
          "name": "stdout",
          "text": [
            "NASAR: 0.14514716242400694\n"
          ]
        },
        {
          "output_type": "stream",
          "name": "stderr",
          "text": [
            "\n"
          ]
        },
        {
          "output_type": "stream",
          "name": "stdout",
          "text": [
            "Got 29067157/29360128 with acc  99.00\n",
            "Dice score: 0.6770237684249878\n",
            "Epoch 27: LR = 0.0009887329627215901\n",
            " Checkpoint not saved as best model.\n"
          ]
        },
        {
          "output_type": "stream",
          "name": "stderr",
          "text": [
            "100%|██████████| 82/82 [02:45<00:00,  2.02s/it, loss=0.0125]"
          ]
        },
        {
          "output_type": "stream",
          "name": "stdout",
          "text": [
            "NASAR: 0.15225164207494316\n"
          ]
        },
        {
          "output_type": "stream",
          "name": "stderr",
          "text": [
            "\n"
          ]
        },
        {
          "output_type": "stream",
          "name": "stdout",
          "text": [
            "Got 29027424/29360128 with acc  98.87\n",
            "Dice score: 0.6380624175071716\n",
            "Epoch 28: LR = 0.0009899882164741338\n",
            " Checkpoint not saved as best model.\n"
          ]
        },
        {
          "output_type": "stream",
          "name": "stderr",
          "text": [
            "100%|██████████| 82/82 [02:46<00:00,  2.03s/it, loss=0.0196]"
          ]
        },
        {
          "output_type": "stream",
          "name": "stdout",
          "text": [
            "NASAR: 0.15033763115394844\n"
          ]
        },
        {
          "output_type": "stream",
          "name": "stderr",
          "text": [
            "\n"
          ]
        },
        {
          "output_type": "stream",
          "name": "stdout",
          "text": [
            "Got 29077111/29360128 with acc  99.04\n",
            "Dice score: 0.7034572958946228\n",
            "Epoch 29: LR = 0.0009878396238515936\n",
            " Checkpoint not saved as best model.\n"
          ]
        },
        {
          "output_type": "stream",
          "name": "stderr",
          "text": [
            "100%|██████████| 82/82 [02:45<00:00,  2.02s/it, loss=0.0122]"
          ]
        },
        {
          "output_type": "stream",
          "name": "stdout",
          "text": [
            "NASAR: 0.14582393986518394\n"
          ]
        },
        {
          "output_type": "stream",
          "name": "stderr",
          "text": [
            "\n"
          ]
        },
        {
          "output_type": "stream",
          "name": "stdout",
          "text": [
            "Got 29058638/29360128 with acc  98.97\n",
            "Dice score: 0.6836495995521545\n",
            "Epoch 30: LR = 0.0009885121994491993\n",
            " Checkpoint not saved as best model.\n"
          ]
        },
        {
          "output_type": "stream",
          "name": "stderr",
          "text": [
            "100%|██████████| 82/82 [02:45<00:00,  2.02s/it, loss=0.0192]"
          ]
        },
        {
          "output_type": "stream",
          "name": "stdout",
          "text": [
            "NASAR: 0.1465805841723518\n"
          ]
        },
        {
          "output_type": "stream",
          "name": "stderr",
          "text": [
            "\n"
          ]
        },
        {
          "output_type": "stream",
          "name": "stdout",
          "text": [
            "Got 29052262/29360128 with acc  98.95\n",
            "Dice score: 0.6504748463630676\n",
            "Epoch 31: LR = 0.000989596272021652\n",
            " Checkpoint not saved as best model.\n"
          ]
        },
        {
          "output_type": "stream",
          "name": "stderr",
          "text": [
            "100%|██████████| 82/82 [02:45<00:00,  2.02s/it, loss=0.0138]"
          ]
        },
        {
          "output_type": "stream",
          "name": "stdout",
          "text": [
            "NASAR: 0.146952060466641\n"
          ]
        },
        {
          "output_type": "stream",
          "name": "stderr",
          "text": [
            "\n"
          ]
        },
        {
          "output_type": "stream",
          "name": "stdout",
          "text": [
            "Got 29047719/29360128 with acc  98.94\n",
            "Dice score: 0.7116969227790833\n",
            "Epoch 32: LR = 0.0009875542817244746\n",
            " Checkpoint not saved as best model.\n"
          ]
        },
        {
          "output_type": "stream",
          "name": "stderr",
          "text": [
            "100%|██████████| 82/82 [02:46<00:00,  2.03s/it, loss=0.0165]"
          ]
        },
        {
          "output_type": "stream",
          "name": "stdout",
          "text": [
            "NASAR: 0.14871896376632188\n"
          ]
        },
        {
          "output_type": "stream",
          "name": "stderr",
          "text": [
            "\n"
          ]
        },
        {
          "output_type": "stream",
          "name": "stdout",
          "text": [
            "Got 29065674/29360128 with acc  99.00\n",
            "Dice score: 0.7365753054618835\n",
            "Epoch 33: LR = 0.0009866729108614408\n",
            "✅ Checkpoint saved: Att_Res_SNN_checkpoint_19_2025-04-26_09-47-43.pth.tar\n"
          ]
        },
        {
          "output_type": "stream",
          "name": "stderr",
          "text": [
            "100%|██████████| 82/82 [02:45<00:00,  2.02s/it, loss=0.0186]"
          ]
        },
        {
          "output_type": "stream",
          "name": "stdout",
          "text": [
            "NASAR: 0.14114510621263388\n"
          ]
        },
        {
          "output_type": "stream",
          "name": "stderr",
          "text": [
            "\n"
          ]
        },
        {
          "output_type": "stream",
          "name": "stdout",
          "text": [
            "Got 29099935/29360128 with acc  99.11\n",
            "Dice score: 0.7505325675010681\n",
            "Epoch 34: LR = 0.0009861654219880652\n",
            "✅ Checkpoint saved: Att_Res_SNN_checkpoint_20_2025-04-26_09-51-08.pth.tar\n"
          ]
        },
        {
          "output_type": "stream",
          "name": "stderr",
          "text": [
            "100%|██████████| 82/82 [02:45<00:00,  2.02s/it, loss=0.0132]"
          ]
        },
        {
          "output_type": "stream",
          "name": "stdout",
          "text": [
            "NASAR: 0.12991536279239566\n"
          ]
        },
        {
          "output_type": "stream",
          "name": "stderr",
          "text": [
            "\n"
          ]
        },
        {
          "output_type": "stream",
          "name": "stdout",
          "text": [
            "Got 29043665/29360128 with acc  98.92\n",
            "Dice score: 0.644734799861908\n",
            "Epoch 35: LR = 0.0009897784516366204\n",
            " Checkpoint not saved as best model.\n"
          ]
        },
        {
          "output_type": "stream",
          "name": "stderr",
          "text": [
            "100%|██████████| 82/82 [02:46<00:00,  2.03s/it, loss=0.014]"
          ]
        },
        {
          "output_type": "stream",
          "name": "stdout",
          "text": [
            "NASAR: 0.1329233232238483\n"
          ]
        },
        {
          "output_type": "stream",
          "name": "stderr",
          "text": [
            "\n"
          ]
        },
        {
          "output_type": "stream",
          "name": "stdout",
          "text": [
            "Got 29057372/29360128 with acc  98.97\n",
            "Dice score: 0.6826799511909485\n",
            "Epoch 36: LR = 0.0009885446387025737\n",
            " Checkpoint not saved as best model.\n"
          ]
        },
        {
          "output_type": "stream",
          "name": "stderr",
          "text": [
            "100%|██████████| 82/82 [02:45<00:00,  2.02s/it, loss=0.0228]"
          ]
        },
        {
          "output_type": "stream",
          "name": "stdout",
          "text": [
            "NASAR: 0.13422568415252256\n"
          ]
        },
        {
          "output_type": "stream",
          "name": "stderr",
          "text": [
            "\n"
          ]
        },
        {
          "output_type": "stream",
          "name": "stdout",
          "text": [
            "Got 29039173/29360128 with acc  98.91\n",
            "Dice score: 0.6687406897544861\n",
            "Epoch 37: LR = 0.0009890059600737885\n",
            " Checkpoint not saved as best model.\n"
          ]
        },
        {
          "output_type": "stream",
          "name": "stderr",
          "text": [
            "\r  0%|          | 0/82 [00:00<?, ?it/s]"
          ]
        }
      ],
      "source": [
        "if __name__ == \"__main__\":\n",
        "    main()"
      ]
    },
    {
      "cell_type": "markdown",
      "id": "39dfb49f",
      "metadata": {
        "id": "39dfb49f"
      },
      "source": [
        "## Grad-CAM"
      ]
    },
    {
      "cell_type": "code",
      "execution_count": 15,
      "id": "24a93c12",
      "metadata": {
        "id": "24a93c12"
      },
      "outputs": [],
      "source": [
        "def load_and_preprocess_image(image_path):\n",
        "    transform = A.Compose([\n",
        "    A.Resize(height=256, width=256),\n",
        "    A.Normalize(mean=(0.0), std=(1.0), max_pixel_value=255.0),\n",
        "    ToTensorV2(),\n",
        "    ])\n",
        "    image = Image.open(image_path).convert(\"L\")\n",
        "    image_rgb = Image.open(image_path).convert(\"RGB\")\n",
        "    processed = transform(image=np.array(image))\n",
        "    input_tensor = processed['image'].unsqueeze(0)\n",
        "    vis_image = np.array(image_rgb.resize((256, 256))) / 255.0\n",
        "    return input_tensor, vis_image\n",
        "\n",
        "def reshape_transform_csa(tensor):\n",
        "    # If tensor shape is [B, C, T, H, W], convert to [B, C*T, H, W]\n",
        "    if tensor.ndim == 5:\n",
        "        B, C, T, H, W = tensor.size()\n",
        "        return tensor.permute(0, 2, 1, 3, 4).reshape(B, T * C, H, W)\n",
        "    elif tensor.ndim == 4:\n",
        "        return tensor  # Already [B, C, H, W]\n",
        "    else:\n",
        "        raise ValueError(f\"Unexpected tensor shape: {tensor.shape}\")\n",
        "\n",
        "def reshape_transform_spiking(tensor):\n",
        "    \"\"\"Special reshape for spiking networks with attention\"\"\"\n",
        "    if tensor.ndim == 5:  # [T,B,C,H,W]\n",
        "        # For attention weights\n",
        "        if tensor.shape[2] == 1:  # Attention mask case\n",
        "            return tensor.mean(dim=0).mean(dim=1)  # [B,H,W]\n",
        "\n",
        "        # For regular feature maps\n",
        "        B, C, T, H, W = tensor.permute(1,2,0,3,4).shape\n",
        "        return tensor.permute(1,0,2,3,4).reshape(B, T*C, H, W)\n",
        "\n",
        "    elif tensor.ndim == 4:  # [B,C,H,W]\n",
        "        return tensor\n",
        "\n",
        "    raise ValueError(f\"Unexpected tensor shape: {tensor.shape}\")\n",
        "\n",
        "def generate_gradcam_grid_multi_layers(\n",
        "    model,\n",
        "    image_paths,\n",
        "    mask_paths,\n",
        "    target_layers_dict,\n",
        "    device=\"cuda\",\n",
        "    save_folder=\"Att_Res_SNN_gradcam_results\",\n",
        "    grid_rows=3,\n",
        "    grid_cols=6\n",
        "    ):\n",
        "    os.makedirs(save_folder, exist_ok=True)\n",
        "    model.to(device).eval()\n",
        "\n",
        "    selected = random.sample(list(zip(image_paths, mask_paths)), grid_rows * grid_cols)\n",
        "\n",
        "    for layer_name, target_layer in target_layers_dict.items():\n",
        "\n",
        "        timestamp = datetime.now().strftime(\"%Y%m%d-%H%M%S\")\n",
        "        layer_folder_name = f\"{layer_name.replace('.', '_').replace('[', '_').replace(']', '')}_{timestamp}\"\n",
        "        layer_folder = os.path.join(save_folder, layer_folder_name)\n",
        "        os.makedirs(layer_folder, exist_ok=True)\n",
        "\n",
        "        cam = GradCAM(model=model, target_layers=[target_layer], reshape_transform=reshape_transform_csa)\n",
        "        # cam = GradCAM(model=model, target_layers=[target_layer], reshape_transform=reshape_transform_spiking)\n",
        "\n",
        "        fig_cam, axes_cam = plt.subplots(grid_rows, grid_cols, figsize=(grid_cols * 4, grid_rows * 4))\n",
        "        fig_mask, axes_mask = plt.subplots(grid_rows, grid_cols, figsize=(grid_cols * 4, grid_rows * 4))\n",
        "        fig_idx = 0\n",
        "\n",
        "        for img_path, mask_path in selected:\n",
        "            input_tensor, vis_image = load_and_preprocess_image(img_path)\n",
        "            input_tensor = input_tensor.to(device)\n",
        "\n",
        "            mask_tensor, _ = load_and_preprocess_image(mask_path)\n",
        "            input_mask_tensor = mask_tensor.squeeze(0).cpu().numpy()\n",
        "\n",
        "            targets = [SemanticSegmentationTarget(0, input_mask_tensor)]\n",
        "            grayscale_cam = cam(input_tensor=input_tensor, targets=targets)[0]\n",
        "            binary_seg_mask = (grayscale_cam > 0.8).astype(np.uint8)\n",
        "\n",
        "            # Save CAM image\n",
        "            cam_image = show_cam_on_image(vis_image, grayscale_cam, use_rgb=True)\n",
        "            cam_save_path = os.path.join(layer_folder, f\"cam_{os.path.basename(img_path)}\")\n",
        "            plt.imsave(cam_save_path, cam_image)\n",
        "\n",
        "            # Save binary segmentation mask\n",
        "            bin_mask_path = os.path.join(layer_folder, f\"mask_{os.path.basename(img_path)}\")\n",
        "            plt.imsave(bin_mask_path, binary_seg_mask, cmap='gray')\n",
        "\n",
        "            row = fig_idx // grid_cols\n",
        "            col = fig_idx % grid_cols\n",
        "\n",
        "            if row < grid_rows:\n",
        "                axes_cam[row, col].imshow(cam_image)\n",
        "                axes_cam[row, col].axis(\"off\")\n",
        "                axes_cam[row, col].set_title(f\"{os.path.basename(img_path)}\")\n",
        "\n",
        "                axes_mask[row, col].imshow(binary_seg_mask, cmap='gray')\n",
        "                axes_mask[row, col].axis(\"off\")\n",
        "                axes_mask[row, col].set_title(f\"{os.path.basename(img_path)}\")\n",
        "\n",
        "                fig_idx += 1\n",
        "\n",
        "        # Save full CAM grid\n",
        "        grid_cam_path = os.path.join(layer_folder, f\"grid_cam_{layer_name}_{timestamp}.png\")\n",
        "        plt.tight_layout()\n",
        "        fig_cam.savefig(grid_cam_path)\n",
        "        plt.close(fig_cam)\n",
        "\n",
        "        # Save full binary segmentation mask grid\n",
        "        grid_mask_path = os.path.join(layer_folder, f\"grid_mask_{layer_name}_{timestamp}.png\")\n",
        "        plt.tight_layout()\n",
        "        fig_mask.savefig(grid_mask_path)\n",
        "        plt.close(fig_mask)\n",
        "\n",
        "        print(f\"✅ Saved {grid_cam_path}\")\n",
        "        print(f\"✅ Saved {grid_mask_path}\")"
      ]
    },
    {
      "cell_type": "code",
      "execution_count": 20,
      "id": "ecbda1ba",
      "metadata": {
        "id": "ecbda1ba",
        "outputId": "65b262c2-60da-4e74-b3e3-55a55e4047d9",
        "colab": {
          "base_uri": "https://localhost:8080/"
        }
      },
      "outputs": [
        {
          "output_type": "stream",
          "name": "stdout",
          "text": [
            "✅ Saved Att_Res_SNN_gradcam_results/conv4_attention_sa_20250426-071052/grid_cam_conv4_attention_sa_20250426-071052.png\n",
            "✅ Saved Att_Res_SNN_gradcam_results/conv4_attention_sa_20250426-071052/grid_mask_conv4_attention_sa_20250426-071052.png\n",
            "✅ Saved Att_Res_SNN_gradcam_results/conv4_residual_20250426-071101/grid_cam_conv4_residual_20250426-071101.png\n",
            "✅ Saved Att_Res_SNN_gradcam_results/conv4_residual_20250426-071101/grid_mask_conv4_residual_20250426-071101.png\n",
            "✅ Saved Att_Res_SNN_gradcam_results/conv4_20250426-071110/grid_cam_conv4_20250426-071110.png\n",
            "✅ Saved Att_Res_SNN_gradcam_results/conv4_20250426-071110/grid_mask_conv4_20250426-071110.png\n",
            "✅ Saved Att_Res_SNN_gradcam_results/conv5_attention_sa_20250426-071118/grid_cam_conv5_attention_sa_20250426-071118.png\n",
            "✅ Saved Att_Res_SNN_gradcam_results/conv5_attention_sa_20250426-071118/grid_mask_conv5_attention_sa_20250426-071118.png\n",
            "✅ Saved Att_Res_SNN_gradcam_results/conv5_residual_20250426-071126/grid_cam_conv5_residual_20250426-071126.png\n",
            "✅ Saved Att_Res_SNN_gradcam_results/conv5_residual_20250426-071126/grid_mask_conv5_residual_20250426-071126.png\n",
            "✅ Saved Att_Res_SNN_gradcam_results/conv5_20250426-071136/grid_cam_conv5_20250426-071136.png\n",
            "✅ Saved Att_Res_SNN_gradcam_results/conv5_20250426-071136/grid_mask_conv5_20250426-071136.png\n",
            "✅ Saved Att_Res_SNN_gradcam_results/upsampling_layer_0_20250426-071145/grid_cam_upsampling_layer[0]_20250426-071145.png\n",
            "✅ Saved Att_Res_SNN_gradcam_results/upsampling_layer_0_20250426-071145/grid_mask_upsampling_layer[0]_20250426-071145.png\n",
            "✅ Saved Att_Res_SNN_gradcam_results/upsampling_layer_1_20250426-071153/grid_cam_upsampling_layer[1]_20250426-071153.png\n",
            "✅ Saved Att_Res_SNN_gradcam_results/upsampling_layer_1_20250426-071153/grid_mask_upsampling_layer[1]_20250426-071153.png\n",
            "✅ Saved Att_Res_SNN_gradcam_results/upsampling_layer_2_20250426-071203/grid_cam_upsampling_layer[2]_20250426-071203.png\n",
            "✅ Saved Att_Res_SNN_gradcam_results/upsampling_layer_2_20250426-071203/grid_mask_upsampling_layer[2]_20250426-071203.png\n",
            "✅ Saved Att_Res_SNN_gradcam_results/upsampling_layer_3_20250426-071212/grid_cam_upsampling_layer[3]_20250426-071212.png\n",
            "✅ Saved Att_Res_SNN_gradcam_results/upsampling_layer_3_20250426-071212/grid_mask_upsampling_layer[3]_20250426-071212.png\n",
            "✅ Saved Att_Res_SNN_gradcam_results/upsampling_layer_4_20250426-071220/grid_cam_upsampling_layer[4]_20250426-071220.png\n",
            "✅ Saved Att_Res_SNN_gradcam_results/upsampling_layer_4_20250426-071220/grid_mask_upsampling_layer[4]_20250426-071220.png\n"
          ]
        }
      ],
      "source": [
        "model = resnet_2_copy.resnet34().to(device)\n",
        "checkpoint = torch.load(\"./Att_Res_SNN_checkpoints/Att_Res_SNN_checkpoint_6_2025-04-26_06-49-48.pth.tar\", map_location=\"cuda\")\n",
        "model.load_state_dict(checkpoint[\"state_dict\"])\n",
        "\n",
        "image_paths = sorted(glob.glob(os.path.join(VAL_IMG_DIR, \"*.png\")))\n",
        "mask_paths = sorted(glob.glob(os.path.join(VAL_MASK_DIR, \"*.png\")))\n",
        "\n",
        "target_layers = {\n",
        "    \"conv4_attention_sa\": model.conv4_x[-1].residual_function[-1].attention.sa.conv,\n",
        "    \"conv4_residual\":     model.conv4_x[-1].residual_function[-1],\n",
        "    \"conv4\":              model.conv4_x[-1],\n",
        "\n",
        "    \"conv5_attention_sa\": model.conv5_x[-1].residual_function[-1].attention.sa.conv,\n",
        "    \"conv5_residual\":     model.conv5_x[-1].residual_function[-1],\n",
        "    \"conv5\":              model.conv5_x[-1],\n",
        "\n",
        "    \"upsampling_layer[0]\": model.upsampling_layer[0],\n",
        "    \"upsampling_layer[1]\": model.upsampling_layer[1],\n",
        "    \"upsampling_layer[2]\": model.upsampling_layer[2],\n",
        "    \"upsampling_layer[3]\": model.upsampling_layer[3],\n",
        "    \"upsampling_layer[4]\": model.upsampling_layer[4],\n",
        "}\n",
        "\n",
        "generate_gradcam_grid_multi_layers(\n",
        "    model=model,\n",
        "    image_paths=image_paths,\n",
        "    mask_paths=mask_paths,\n",
        "    target_layers_dict=target_layers,\n",
        "    device=device,\n",
        "    save_folder=\"Att_Res_SNN_gradcam_results\",\n",
        "    grid_rows=3,\n",
        "    grid_cols=6\n",
        ")"
      ]
    },
    {
      "cell_type": "code",
      "source": [
        "from google.colab import files\n",
        "\n",
        "!zip -r Att_Res_SNN_gradcam_results.zip Att_Res_SNN_gradcam_results\n",
        "files.download('Att_Res_SNN_gradcam_results.zip')\n",
        "\n",
        "!zip -r Att_Res_SNN_saved_images.zip Att_Res_SNN_saved_images\n",
        "files.download('Att_Res_SNN_saved_images.zip')"
      ],
      "metadata": {
        "id": "8zEHkHzx_4EO",
        "outputId": "9d3df9af-6a44-4ddf-f1bb-86d9c5dc7fc1",
        "colab": {
          "base_uri": "https://localhost:8080/",
          "height": 1000
        }
      },
      "id": "8zEHkHzx_4EO",
      "execution_count": 21,
      "outputs": [
        {
          "output_type": "stream",
          "name": "stdout",
          "text": [
            "  adding: Att_Res_SNN_gradcam_results/ (stored 0%)\n",
            "  adding: Att_Res_SNN_gradcam_results/conv5_attention_sa_20250426-071118/ (stored 0%)\n",
            "  adding: Att_Res_SNN_gradcam_results/conv5_attention_sa_20250426-071118/cam_1952.png (deflated 1%)\n",
            "  adding: Att_Res_SNN_gradcam_results/conv5_attention_sa_20250426-071118/mask_1952.png (deflated 81%)\n",
            "  adding: Att_Res_SNN_gradcam_results/conv5_attention_sa_20250426-071118/mask_1936.png (deflated 81%)\n",
            "  adding: Att_Res_SNN_gradcam_results/conv5_attention_sa_20250426-071118/cam_2676.png (deflated 1%)\n",
            "  adding: Att_Res_SNN_gradcam_results/conv5_attention_sa_20250426-071118/cam_1529.png (deflated 1%)\n",
            "  adding: Att_Res_SNN_gradcam_results/conv5_attention_sa_20250426-071118/cam_1539.png (deflated 1%)\n",
            "  adding: Att_Res_SNN_gradcam_results/conv5_attention_sa_20250426-071118/cam_1936.png (deflated 1%)\n",
            "  adding: Att_Res_SNN_gradcam_results/conv5_attention_sa_20250426-071118/cam_13.png (deflated 0%)\n",
            "  adding: Att_Res_SNN_gradcam_results/conv5_attention_sa_20250426-071118/cam_1545.png (deflated 1%)\n",
            "  adding: Att_Res_SNN_gradcam_results/conv5_attention_sa_20250426-071118/mask_13.png (deflated 81%)\n",
            "  adding: Att_Res_SNN_gradcam_results/conv5_attention_sa_20250426-071118/cam_555.png (deflated 1%)\n",
            "  adding: Att_Res_SNN_gradcam_results/conv5_attention_sa_20250426-071118/mask_1925.png (deflated 81%)\n",
            "  adding: Att_Res_SNN_gradcam_results/conv5_attention_sa_20250426-071118/mask_1545.png (deflated 81%)\n",
            "  adding: Att_Res_SNN_gradcam_results/conv5_attention_sa_20250426-071118/cam_1527.png (deflated 0%)\n",
            "  adding: Att_Res_SNN_gradcam_results/conv5_attention_sa_20250426-071118/mask_1527.png (deflated 81%)\n",
            "  adding: Att_Res_SNN_gradcam_results/conv5_attention_sa_20250426-071118/cam_1933.png (deflated 1%)\n",
            "  adding: Att_Res_SNN_gradcam_results/conv5_attention_sa_20250426-071118/mask_1933.png (deflated 81%)\n",
            "  adding: Att_Res_SNN_gradcam_results/conv5_attention_sa_20250426-071118/mask_1445.png (deflated 81%)\n",
            "  adding: Att_Res_SNN_gradcam_results/conv5_attention_sa_20250426-071118/cam_1925.png (deflated 1%)\n",
            "  adding: Att_Res_SNN_gradcam_results/conv5_attention_sa_20250426-071118/mask_2676.png (deflated 81%)\n",
            "  adding: Att_Res_SNN_gradcam_results/conv5_attention_sa_20250426-071118/mask_3064.png (deflated 81%)\n",
            "  adding: Att_Res_SNN_gradcam_results/conv5_attention_sa_20250426-071118/cam_1512.png (deflated 1%)\n",
            "  adding: Att_Res_SNN_gradcam_results/conv5_attention_sa_20250426-071118/cam_2307.png (deflated 1%)\n",
            "  adding: Att_Res_SNN_gradcam_results/conv5_attention_sa_20250426-071118/grid_cam_conv5_attention_sa_20250426-071118.png (deflated 2%)\n",
            "  adding: Att_Res_SNN_gradcam_results/conv5_attention_sa_20250426-071118/mask_2279.png (deflated 81%)\n",
            "  adding: Att_Res_SNN_gradcam_results/conv5_attention_sa_20250426-071118/mask_1529.png (deflated 81%)\n",
            "  adding: Att_Res_SNN_gradcam_results/conv5_attention_sa_20250426-071118/mask_1923.png (deflated 81%)\n",
            "  adding: Att_Res_SNN_gradcam_results/conv5_attention_sa_20250426-071118/mask_1512.png (deflated 81%)\n",
            "  adding: Att_Res_SNN_gradcam_results/conv5_attention_sa_20250426-071118/cam_1445.png (deflated 1%)\n",
            "  adding: Att_Res_SNN_gradcam_results/conv5_attention_sa_20250426-071118/mask_2307.png (deflated 81%)\n",
            "  adding: Att_Res_SNN_gradcam_results/conv5_attention_sa_20250426-071118/cam_553.png (deflated 1%)\n",
            "  adding: Att_Res_SNN_gradcam_results/conv5_attention_sa_20250426-071118/mask_553.png (deflated 81%)\n",
            "  adding: Att_Res_SNN_gradcam_results/conv5_attention_sa_20250426-071118/cam_1923.png (deflated 1%)\n",
            "  adding: Att_Res_SNN_gradcam_results/conv5_attention_sa_20250426-071118/cam_3064.png (deflated 1%)\n",
            "  adding: Att_Res_SNN_gradcam_results/conv5_attention_sa_20250426-071118/mask_1539.png (deflated 81%)\n",
            "  adding: Att_Res_SNN_gradcam_results/conv5_attention_sa_20250426-071118/grid_mask_conv5_attention_sa_20250426-071118.png (deflated 46%)\n",
            "  adding: Att_Res_SNN_gradcam_results/conv5_attention_sa_20250426-071118/cam_2279.png (deflated 1%)\n",
            "  adding: Att_Res_SNN_gradcam_results/conv5_attention_sa_20250426-071118/mask_555.png (deflated 81%)\n",
            "  adding: Att_Res_SNN_gradcam_results/conv5_20250426-071136/ (stored 0%)\n",
            "  adding: Att_Res_SNN_gradcam_results/conv5_20250426-071136/grid_mask_conv5_20250426-071136.png (deflated 34%)\n",
            "  adding: Att_Res_SNN_gradcam_results/conv5_20250426-071136/cam_1952.png (deflated 1%)\n",
            "  adding: Att_Res_SNN_gradcam_results/conv5_20250426-071136/mask_1952.png (deflated 55%)\n",
            "  adding: Att_Res_SNN_gradcam_results/conv5_20250426-071136/mask_1936.png (deflated 81%)\n",
            "  adding: Att_Res_SNN_gradcam_results/conv5_20250426-071136/cam_2676.png (deflated 1%)\n",
            "  adding: Att_Res_SNN_gradcam_results/conv5_20250426-071136/cam_1529.png (deflated 1%)\n",
            "  adding: Att_Res_SNN_gradcam_results/conv5_20250426-071136/cam_1539.png (deflated 0%)\n",
            "  adding: Att_Res_SNN_gradcam_results/conv5_20250426-071136/cam_1936.png (deflated 1%)\n",
            "  adding: Att_Res_SNN_gradcam_results/conv5_20250426-071136/cam_13.png (deflated 0%)\n",
            "  adding: Att_Res_SNN_gradcam_results/conv5_20250426-071136/cam_1545.png (deflated 1%)\n",
            "  adding: Att_Res_SNN_gradcam_results/conv5_20250426-071136/mask_13.png (deflated 52%)\n",
            "  adding: Att_Res_SNN_gradcam_results/conv5_20250426-071136/cam_555.png (deflated 1%)\n",
            "  adding: Att_Res_SNN_gradcam_results/conv5_20250426-071136/mask_1925.png (deflated 60%)\n",
            "  adding: Att_Res_SNN_gradcam_results/conv5_20250426-071136/mask_1545.png (deflated 81%)\n",
            "  adding: Att_Res_SNN_gradcam_results/conv5_20250426-071136/cam_1527.png (deflated 0%)\n",
            "  adding: Att_Res_SNN_gradcam_results/conv5_20250426-071136/mask_1527.png (deflated 81%)\n",
            "  adding: Att_Res_SNN_gradcam_results/conv5_20250426-071136/cam_1933.png (deflated 1%)\n",
            "  adding: Att_Res_SNN_gradcam_results/conv5_20250426-071136/mask_1933.png (deflated 52%)\n",
            "  adding: Att_Res_SNN_gradcam_results/conv5_20250426-071136/mask_1445.png (deflated 81%)\n",
            "  adding: Att_Res_SNN_gradcam_results/conv5_20250426-071136/cam_1925.png (deflated 0%)\n",
            "  adding: Att_Res_SNN_gradcam_results/conv5_20250426-071136/mask_2676.png (deflated 57%)\n",
            "  adding: Att_Res_SNN_gradcam_results/conv5_20250426-071136/mask_3064.png (deflated 62%)\n",
            "  adding: Att_Res_SNN_gradcam_results/conv5_20250426-071136/cam_1512.png (deflated 1%)\n",
            "  adding: Att_Res_SNN_gradcam_results/conv5_20250426-071136/cam_2307.png (deflated 1%)\n",
            "  adding: Att_Res_SNN_gradcam_results/conv5_20250426-071136/mask_2279.png (deflated 56%)\n",
            "  adding: Att_Res_SNN_gradcam_results/conv5_20250426-071136/mask_1529.png (deflated 81%)\n",
            "  adding: Att_Res_SNN_gradcam_results/conv5_20250426-071136/mask_1923.png (deflated 54%)\n",
            "  adding: Att_Res_SNN_gradcam_results/conv5_20250426-071136/mask_1512.png (deflated 81%)\n",
            "  adding: Att_Res_SNN_gradcam_results/conv5_20250426-071136/cam_1445.png (deflated 1%)\n",
            "  adding: Att_Res_SNN_gradcam_results/conv5_20250426-071136/mask_2307.png (deflated 61%)\n",
            "  adding: Att_Res_SNN_gradcam_results/conv5_20250426-071136/cam_553.png (deflated 1%)\n",
            "  adding: Att_Res_SNN_gradcam_results/conv5_20250426-071136/mask_553.png (deflated 81%)\n",
            "  adding: Att_Res_SNN_gradcam_results/conv5_20250426-071136/cam_1923.png (deflated 0%)\n",
            "  adding: Att_Res_SNN_gradcam_results/conv5_20250426-071136/cam_3064.png (deflated 1%)\n",
            "  adding: Att_Res_SNN_gradcam_results/conv5_20250426-071136/mask_1539.png (deflated 69%)\n",
            "  adding: Att_Res_SNN_gradcam_results/conv5_20250426-071136/grid_cam_conv5_20250426-071136.png (deflated 2%)\n",
            "  adding: Att_Res_SNN_gradcam_results/conv5_20250426-071136/cam_2279.png (deflated 1%)\n",
            "  adding: Att_Res_SNN_gradcam_results/conv5_20250426-071136/mask_555.png (deflated 81%)\n",
            "  adding: Att_Res_SNN_gradcam_results/conv4_residual_20250426-071101/ (stored 0%)\n",
            "  adding: Att_Res_SNN_gradcam_results/conv4_residual_20250426-071101/cam_1952.png (deflated 0%)\n",
            "  adding: Att_Res_SNN_gradcam_results/conv4_residual_20250426-071101/mask_1952.png (deflated 66%)\n",
            "  adding: Att_Res_SNN_gradcam_results/conv4_residual_20250426-071101/mask_1936.png (deflated 26%)\n",
            "  adding: Att_Res_SNN_gradcam_results/conv4_residual_20250426-071101/cam_2676.png (deflated 0%)\n",
            "  adding: Att_Res_SNN_gradcam_results/conv4_residual_20250426-071101/cam_1529.png (deflated 0%)\n",
            "  adding: Att_Res_SNN_gradcam_results/conv4_residual_20250426-071101/cam_1539.png (deflated 0%)\n",
            "  adding: Att_Res_SNN_gradcam_results/conv4_residual_20250426-071101/cam_1936.png (deflated 0%)\n",
            "  adding: Att_Res_SNN_gradcam_results/conv4_residual_20250426-071101/cam_13.png (deflated 0%)\n",
            "  adding: Att_Res_SNN_gradcam_results/conv4_residual_20250426-071101/cam_1545.png (deflated 1%)\n",
            "  adding: Att_Res_SNN_gradcam_results/conv4_residual_20250426-071101/mask_13.png (deflated 66%)\n",
            "  adding: Att_Res_SNN_gradcam_results/conv4_residual_20250426-071101/cam_555.png (deflated 0%)\n",
            "  adding: Att_Res_SNN_gradcam_results/conv4_residual_20250426-071101/mask_1925.png (deflated 31%)\n",
            "  adding: Att_Res_SNN_gradcam_results/conv4_residual_20250426-071101/mask_1545.png (deflated 68%)\n",
            "  adding: Att_Res_SNN_gradcam_results/conv4_residual_20250426-071101/cam_1527.png (deflated 1%)\n",
            "  adding: Att_Res_SNN_gradcam_results/conv4_residual_20250426-071101/mask_1527.png (deflated 72%)\n",
            "  adding: Att_Res_SNN_gradcam_results/conv4_residual_20250426-071101/cam_1933.png (deflated 0%)\n",
            "  adding: Att_Res_SNN_gradcam_results/conv4_residual_20250426-071101/mask_1933.png (deflated 28%)\n",
            "  adding: Att_Res_SNN_gradcam_results/conv4_residual_20250426-071101/mask_1445.png (deflated 70%)\n",
            "  adding: Att_Res_SNN_gradcam_results/conv4_residual_20250426-071101/cam_1925.png (deflated 0%)\n",
            "  adding: Att_Res_SNN_gradcam_results/conv4_residual_20250426-071101/mask_2676.png (deflated 40%)\n",
            "  adding: Att_Res_SNN_gradcam_results/conv4_residual_20250426-071101/mask_3064.png (deflated 50%)\n",
            "  adding: Att_Res_SNN_gradcam_results/conv4_residual_20250426-071101/cam_1512.png (deflated 1%)\n",
            "  adding: Att_Res_SNN_gradcam_results/conv4_residual_20250426-071101/cam_2307.png (deflated 0%)\n",
            "  adding: Att_Res_SNN_gradcam_results/conv4_residual_20250426-071101/mask_2279.png (deflated 46%)\n",
            "  adding: Att_Res_SNN_gradcam_results/conv4_residual_20250426-071101/mask_1529.png (deflated 69%)\n",
            "  adding: Att_Res_SNN_gradcam_results/conv4_residual_20250426-071101/mask_1923.png (deflated 23%)\n",
            "  adding: Att_Res_SNN_gradcam_results/conv4_residual_20250426-071101/mask_1512.png (deflated 70%)\n",
            "  adding: Att_Res_SNN_gradcam_results/conv4_residual_20250426-071101/cam_1445.png (deflated 1%)\n",
            "  adding: Att_Res_SNN_gradcam_results/conv4_residual_20250426-071101/mask_2307.png (deflated 49%)\n",
            "  adding: Att_Res_SNN_gradcam_results/conv4_residual_20250426-071101/grid_mask_conv4_residual_20250426-071101.png (deflated 27%)\n",
            "  adding: Att_Res_SNN_gradcam_results/conv4_residual_20250426-071101/cam_553.png (deflated 0%)\n",
            "  adding: Att_Res_SNN_gradcam_results/conv4_residual_20250426-071101/mask_553.png (deflated 67%)\n",
            "  adding: Att_Res_SNN_gradcam_results/conv4_residual_20250426-071101/cam_1923.png (deflated 0%)\n",
            "  adding: Att_Res_SNN_gradcam_results/conv4_residual_20250426-071101/cam_3064.png (deflated 1%)\n",
            "  adding: Att_Res_SNN_gradcam_results/conv4_residual_20250426-071101/mask_1539.png (deflated 70%)\n",
            "  adding: Att_Res_SNN_gradcam_results/conv4_residual_20250426-071101/grid_cam_conv4_residual_20250426-071101.png (deflated 1%)\n",
            "  adding: Att_Res_SNN_gradcam_results/conv4_residual_20250426-071101/cam_2279.png (deflated 0%)\n",
            "  adding: Att_Res_SNN_gradcam_results/conv4_residual_20250426-071101/mask_555.png (deflated 67%)\n",
            "  adding: Att_Res_SNN_gradcam_results/conv4_20250426-071110/ (stored 0%)\n",
            "  adding: Att_Res_SNN_gradcam_results/conv4_20250426-071110/grid_cam_conv4_20250426-071110.png (deflated 1%)\n",
            "  adding: Att_Res_SNN_gradcam_results/conv4_20250426-071110/cam_1952.png (deflated 0%)\n",
            "  adding: Att_Res_SNN_gradcam_results/conv4_20250426-071110/mask_1952.png (deflated 36%)\n",
            "  adding: Att_Res_SNN_gradcam_results/conv4_20250426-071110/mask_1936.png (deflated 56%)\n",
            "  adding: Att_Res_SNN_gradcam_results/conv4_20250426-071110/cam_2676.png (deflated 1%)\n",
            "  adding: Att_Res_SNN_gradcam_results/conv4_20250426-071110/cam_1529.png (deflated 0%)\n",
            "  adding: Att_Res_SNN_gradcam_results/conv4_20250426-071110/cam_1539.png (deflated 0%)\n",
            "  adding: Att_Res_SNN_gradcam_results/conv4_20250426-071110/cam_1936.png (deflated 0%)\n",
            "  adding: Att_Res_SNN_gradcam_results/conv4_20250426-071110/cam_13.png (deflated 0%)\n",
            "  adding: Att_Res_SNN_gradcam_results/conv4_20250426-071110/cam_1545.png (deflated 0%)\n",
            "  adding: Att_Res_SNN_gradcam_results/conv4_20250426-071110/mask_13.png (deflated 41%)\n",
            "  adding: Att_Res_SNN_gradcam_results/conv4_20250426-071110/cam_555.png (deflated 1%)\n",
            "  adding: Att_Res_SNN_gradcam_results/conv4_20250426-071110/mask_1925.png (deflated 37%)\n",
            "  adding: Att_Res_SNN_gradcam_results/conv4_20250426-071110/mask_1545.png (deflated 69%)\n",
            "  adding: Att_Res_SNN_gradcam_results/conv4_20250426-071110/cam_1527.png (deflated 1%)\n",
            "  adding: Att_Res_SNN_gradcam_results/conv4_20250426-071110/mask_1527.png (deflated 73%)\n",
            "  adding: Att_Res_SNN_gradcam_results/conv4_20250426-071110/cam_1933.png (deflated 0%)\n",
            "  adding: Att_Res_SNN_gradcam_results/conv4_20250426-071110/mask_1933.png (deflated 39%)\n",
            "  adding: Att_Res_SNN_gradcam_results/conv4_20250426-071110/mask_1445.png (deflated 68%)\n",
            "  adding: Att_Res_SNN_gradcam_results/conv4_20250426-071110/cam_1925.png (deflated 0%)\n",
            "  adding: Att_Res_SNN_gradcam_results/conv4_20250426-071110/mask_2676.png (deflated 49%)\n",
            "  adding: Att_Res_SNN_gradcam_results/conv4_20250426-071110/mask_3064.png (deflated 60%)\n",
            "  adding: Att_Res_SNN_gradcam_results/conv4_20250426-071110/cam_1512.png (deflated 1%)\n",
            "  adding: Att_Res_SNN_gradcam_results/conv4_20250426-071110/cam_2307.png (deflated 1%)\n",
            "  adding: Att_Res_SNN_gradcam_results/conv4_20250426-071110/mask_2279.png (deflated 48%)\n",
            "  adding: Att_Res_SNN_gradcam_results/conv4_20250426-071110/mask_1529.png (deflated 67%)\n",
            "  adding: Att_Res_SNN_gradcam_results/conv4_20250426-071110/mask_1923.png (deflated 32%)\n",
            "  adding: Att_Res_SNN_gradcam_results/conv4_20250426-071110/mask_1512.png (deflated 66%)\n",
            "  adding: Att_Res_SNN_gradcam_results/conv4_20250426-071110/cam_1445.png (deflated 0%)\n",
            "  adding: Att_Res_SNN_gradcam_results/conv4_20250426-071110/mask_2307.png (deflated 42%)\n",
            "  adding: Att_Res_SNN_gradcam_results/conv4_20250426-071110/cam_553.png (deflated 0%)\n",
            "  adding: Att_Res_SNN_gradcam_results/conv4_20250426-071110/mask_553.png (deflated 70%)\n",
            "  adding: Att_Res_SNN_gradcam_results/conv4_20250426-071110/cam_1923.png (deflated 0%)\n",
            "  adding: Att_Res_SNN_gradcam_results/conv4_20250426-071110/cam_3064.png (deflated 0%)\n",
            "  adding: Att_Res_SNN_gradcam_results/conv4_20250426-071110/grid_mask_conv4_20250426-071110.png (deflated 28%)\n",
            "  adding: Att_Res_SNN_gradcam_results/conv4_20250426-071110/mask_1539.png (deflated 72%)\n",
            "  adding: Att_Res_SNN_gradcam_results/conv4_20250426-071110/cam_2279.png (deflated 1%)\n",
            "  adding: Att_Res_SNN_gradcam_results/conv4_20250426-071110/mask_555.png (deflated 73%)\n",
            "  adding: Att_Res_SNN_gradcam_results/upsampling_layer_1_20250426-071153/ (stored 0%)\n",
            "  adding: Att_Res_SNN_gradcam_results/upsampling_layer_1_20250426-071153/cam_1952.png (deflated 0%)\n",
            "  adding: Att_Res_SNN_gradcam_results/upsampling_layer_1_20250426-071153/mask_1952.png (deflated 69%)\n",
            "  adding: Att_Res_SNN_gradcam_results/upsampling_layer_1_20250426-071153/mask_1936.png (deflated 81%)\n",
            "  adding: Att_Res_SNN_gradcam_results/upsampling_layer_1_20250426-071153/cam_2676.png (deflated 1%)\n",
            "  adding: Att_Res_SNN_gradcam_results/upsampling_layer_1_20250426-071153/cam_1529.png (deflated 1%)\n",
            "  adding: Att_Res_SNN_gradcam_results/upsampling_layer_1_20250426-071153/cam_1539.png (deflated 0%)\n",
            "  adding: Att_Res_SNN_gradcam_results/upsampling_layer_1_20250426-071153/cam_1936.png (deflated 1%)\n",
            "  adding: Att_Res_SNN_gradcam_results/upsampling_layer_1_20250426-071153/cam_13.png (deflated 0%)\n",
            "  adding: Att_Res_SNN_gradcam_results/upsampling_layer_1_20250426-071153/cam_1545.png (deflated 1%)\n",
            "  adding: Att_Res_SNN_gradcam_results/upsampling_layer_1_20250426-071153/mask_13.png (deflated 68%)\n",
            "  adding: Att_Res_SNN_gradcam_results/upsampling_layer_1_20250426-071153/cam_555.png (deflated 0%)\n",
            "  adding: Att_Res_SNN_gradcam_results/upsampling_layer_1_20250426-071153/mask_1925.png (deflated 81%)\n",
            "  adding: Att_Res_SNN_gradcam_results/upsampling_layer_1_20250426-071153/mask_1545.png (deflated 81%)\n",
            "  adding: Att_Res_SNN_gradcam_results/upsampling_layer_1_20250426-071153/cam_1527.png (deflated 0%)\n",
            "  adding: Att_Res_SNN_gradcam_results/upsampling_layer_1_20250426-071153/mask_1527.png (deflated 81%)\n",
            "  adding: Att_Res_SNN_gradcam_results/upsampling_layer_1_20250426-071153/cam_1933.png (deflated 1%)\n",
            "  adding: Att_Res_SNN_gradcam_results/upsampling_layer_1_20250426-071153/mask_1933.png (deflated 81%)\n",
            "  adding: Att_Res_SNN_gradcam_results/upsampling_layer_1_20250426-071153/mask_1445.png (deflated 74%)\n",
            "  adding: Att_Res_SNN_gradcam_results/upsampling_layer_1_20250426-071153/cam_1925.png (deflated 1%)\n",
            "  adding: Att_Res_SNN_gradcam_results/upsampling_layer_1_20250426-071153/mask_2676.png (deflated 68%)\n",
            "  adding: Att_Res_SNN_gradcam_results/upsampling_layer_1_20250426-071153/grid_mask_upsampling_layer[1]_20250426-071153.png (deflated 41%)\n",
            "  adding: Att_Res_SNN_gradcam_results/upsampling_layer_1_20250426-071153/mask_3064.png (deflated 81%)\n",
            "  adding: Att_Res_SNN_gradcam_results/upsampling_layer_1_20250426-071153/grid_cam_upsampling_layer[1]_20250426-071153.png (deflated 2%)\n",
            "  adding: Att_Res_SNN_gradcam_results/upsampling_layer_1_20250426-071153/cam_1512.png (deflated 1%)\n",
            "  adding: Att_Res_SNN_gradcam_results/upsampling_layer_1_20250426-071153/cam_2307.png (deflated 1%)\n",
            "  adding: Att_Res_SNN_gradcam_results/upsampling_layer_1_20250426-071153/mask_2279.png (deflated 81%)\n",
            "  adding: Att_Res_SNN_gradcam_results/upsampling_layer_1_20250426-071153/mask_1529.png (deflated 81%)\n",
            "  adding: Att_Res_SNN_gradcam_results/upsampling_layer_1_20250426-071153/mask_1923.png (deflated 81%)\n",
            "  adding: Att_Res_SNN_gradcam_results/upsampling_layer_1_20250426-071153/mask_1512.png (deflated 81%)\n",
            "  adding: Att_Res_SNN_gradcam_results/upsampling_layer_1_20250426-071153/cam_1445.png (deflated 1%)\n",
            "  adding: Att_Res_SNN_gradcam_results/upsampling_layer_1_20250426-071153/mask_2307.png (deflated 73%)\n",
            "  adding: Att_Res_SNN_gradcam_results/upsampling_layer_1_20250426-071153/cam_553.png (deflated 1%)\n",
            "  adding: Att_Res_SNN_gradcam_results/upsampling_layer_1_20250426-071153/mask_553.png (deflated 81%)\n",
            "  adding: Att_Res_SNN_gradcam_results/upsampling_layer_1_20250426-071153/cam_1923.png (deflated 1%)\n",
            "  adding: Att_Res_SNN_gradcam_results/upsampling_layer_1_20250426-071153/cam_3064.png (deflated 1%)\n",
            "  adding: Att_Res_SNN_gradcam_results/upsampling_layer_1_20250426-071153/mask_1539.png (deflated 68%)\n",
            "  adding: Att_Res_SNN_gradcam_results/upsampling_layer_1_20250426-071153/cam_2279.png (deflated 1%)\n",
            "  adding: Att_Res_SNN_gradcam_results/upsampling_layer_1_20250426-071153/mask_555.png (deflated 73%)\n",
            "  adding: Att_Res_SNN_gradcam_results/upsampling_layer_3_20250426-071212/ (stored 0%)\n",
            "  adding: Att_Res_SNN_gradcam_results/upsampling_layer_3_20250426-071212/cam_1952.png (deflated 0%)\n",
            "  adding: Att_Res_SNN_gradcam_results/upsampling_layer_3_20250426-071212/mask_1952.png (deflated 64%)\n",
            "  adding: Att_Res_SNN_gradcam_results/upsampling_layer_3_20250426-071212/mask_1936.png (deflated 81%)\n",
            "  adding: Att_Res_SNN_gradcam_results/upsampling_layer_3_20250426-071212/cam_2676.png (deflated 1%)\n",
            "  adding: Att_Res_SNN_gradcam_results/upsampling_layer_3_20250426-071212/cam_1529.png (deflated 1%)\n",
            "  adding: Att_Res_SNN_gradcam_results/upsampling_layer_3_20250426-071212/cam_1539.png (deflated 0%)\n",
            "  adding: Att_Res_SNN_gradcam_results/upsampling_layer_3_20250426-071212/cam_1936.png (deflated 1%)\n",
            "  adding: Att_Res_SNN_gradcam_results/upsampling_layer_3_20250426-071212/cam_13.png (deflated 0%)\n",
            "  adding: Att_Res_SNN_gradcam_results/upsampling_layer_3_20250426-071212/cam_1545.png (deflated 1%)\n",
            "  adding: Att_Res_SNN_gradcam_results/upsampling_layer_3_20250426-071212/mask_13.png (deflated 65%)\n",
            "  adding: Att_Res_SNN_gradcam_results/upsampling_layer_3_20250426-071212/cam_555.png (deflated 0%)\n",
            "  adding: Att_Res_SNN_gradcam_results/upsampling_layer_3_20250426-071212/mask_1925.png (deflated 81%)\n",
            "  adding: Att_Res_SNN_gradcam_results/upsampling_layer_3_20250426-071212/mask_1545.png (deflated 81%)\n",
            "  adding: Att_Res_SNN_gradcam_results/upsampling_layer_3_20250426-071212/cam_1527.png (deflated 0%)\n",
            "  adding: Att_Res_SNN_gradcam_results/upsampling_layer_3_20250426-071212/mask_1527.png (deflated 81%)\n",
            "  adding: Att_Res_SNN_gradcam_results/upsampling_layer_3_20250426-071212/cam_1933.png (deflated 1%)\n",
            "  adding: Att_Res_SNN_gradcam_results/upsampling_layer_3_20250426-071212/mask_1933.png (deflated 76%)\n",
            "  adding: Att_Res_SNN_gradcam_results/upsampling_layer_3_20250426-071212/mask_1445.png (deflated 70%)\n",
            "  adding: Att_Res_SNN_gradcam_results/upsampling_layer_3_20250426-071212/cam_1925.png (deflated 1%)\n",
            "  adding: Att_Res_SNN_gradcam_results/upsampling_layer_3_20250426-071212/mask_2676.png (deflated 68%)\n",
            "  adding: Att_Res_SNN_gradcam_results/upsampling_layer_3_20250426-071212/mask_3064.png (deflated 81%)\n",
            "  adding: Att_Res_SNN_gradcam_results/upsampling_layer_3_20250426-071212/cam_1512.png (deflated 2%)\n",
            "  adding: Att_Res_SNN_gradcam_results/upsampling_layer_3_20250426-071212/grid_cam_upsampling_layer[3]_20250426-071212.png (deflated 2%)\n",
            "  adding: Att_Res_SNN_gradcam_results/upsampling_layer_3_20250426-071212/cam_2307.png (deflated 1%)\n",
            "  adding: Att_Res_SNN_gradcam_results/upsampling_layer_3_20250426-071212/mask_2279.png (deflated 81%)\n",
            "  adding: Att_Res_SNN_gradcam_results/upsampling_layer_3_20250426-071212/mask_1529.png (deflated 81%)\n",
            "  adding: Att_Res_SNN_gradcam_results/upsampling_layer_3_20250426-071212/mask_1923.png (deflated 81%)\n",
            "  adding: Att_Res_SNN_gradcam_results/upsampling_layer_3_20250426-071212/mask_1512.png (deflated 75%)\n",
            "  adding: Att_Res_SNN_gradcam_results/upsampling_layer_3_20250426-071212/cam_1445.png (deflated 1%)\n",
            "  adding: Att_Res_SNN_gradcam_results/upsampling_layer_3_20250426-071212/mask_2307.png (deflated 74%)\n",
            "  adding: Att_Res_SNN_gradcam_results/upsampling_layer_3_20250426-071212/cam_553.png (deflated 1%)\n",
            "  adding: Att_Res_SNN_gradcam_results/upsampling_layer_3_20250426-071212/mask_553.png (deflated 81%)\n",
            "  adding: Att_Res_SNN_gradcam_results/upsampling_layer_3_20250426-071212/cam_1923.png (deflated 1%)\n",
            "  adding: Att_Res_SNN_gradcam_results/upsampling_layer_3_20250426-071212/cam_3064.png (deflated 1%)\n",
            "  adding: Att_Res_SNN_gradcam_results/upsampling_layer_3_20250426-071212/grid_mask_upsampling_layer[3]_20250426-071212.png (deflated 39%)\n",
            "  adding: Att_Res_SNN_gradcam_results/upsampling_layer_3_20250426-071212/mask_1539.png (deflated 63%)\n",
            "  adding: Att_Res_SNN_gradcam_results/upsampling_layer_3_20250426-071212/cam_2279.png (deflated 1%)\n",
            "  adding: Att_Res_SNN_gradcam_results/upsampling_layer_3_20250426-071212/mask_555.png (deflated 70%)\n",
            "  adding: Att_Res_SNN_gradcam_results/upsampling_layer_4_20250426-071220/ (stored 0%)\n",
            "  adding: Att_Res_SNN_gradcam_results/upsampling_layer_4_20250426-071220/cam_1952.png (deflated 1%)\n",
            "  adding: Att_Res_SNN_gradcam_results/upsampling_layer_4_20250426-071220/mask_1952.png (deflated 64%)\n",
            "  adding: Att_Res_SNN_gradcam_results/upsampling_layer_4_20250426-071220/mask_1936.png (deflated 81%)\n",
            "  adding: Att_Res_SNN_gradcam_results/upsampling_layer_4_20250426-071220/cam_2676.png (deflated 1%)\n",
            "  adding: Att_Res_SNN_gradcam_results/upsampling_layer_4_20250426-071220/cam_1529.png (deflated 1%)\n",
            "  adding: Att_Res_SNN_gradcam_results/upsampling_layer_4_20250426-071220/cam_1539.png (deflated 0%)\n",
            "  adding: Att_Res_SNN_gradcam_results/upsampling_layer_4_20250426-071220/cam_1936.png (deflated 1%)\n",
            "  adding: Att_Res_SNN_gradcam_results/upsampling_layer_4_20250426-071220/cam_13.png (deflated 0%)\n",
            "  adding: Att_Res_SNN_gradcam_results/upsampling_layer_4_20250426-071220/cam_1545.png (deflated 1%)\n",
            "  adding: Att_Res_SNN_gradcam_results/upsampling_layer_4_20250426-071220/mask_13.png (deflated 66%)\n",
            "  adding: Att_Res_SNN_gradcam_results/upsampling_layer_4_20250426-071220/cam_555.png (deflated 0%)\n",
            "  adding: Att_Res_SNN_gradcam_results/upsampling_layer_4_20250426-071220/mask_1925.png (deflated 81%)\n",
            "  adding: Att_Res_SNN_gradcam_results/upsampling_layer_4_20250426-071220/mask_1545.png (deflated 81%)\n",
            "  adding: Att_Res_SNN_gradcam_results/upsampling_layer_4_20250426-071220/cam_1527.png (deflated 0%)\n",
            "  adding: Att_Res_SNN_gradcam_results/upsampling_layer_4_20250426-071220/mask_1527.png (deflated 81%)\n",
            "  adding: Att_Res_SNN_gradcam_results/upsampling_layer_4_20250426-071220/cam_1933.png (deflated 2%)\n",
            "  adding: Att_Res_SNN_gradcam_results/upsampling_layer_4_20250426-071220/mask_1933.png (deflated 76%)\n",
            "  adding: Att_Res_SNN_gradcam_results/upsampling_layer_4_20250426-071220/mask_1445.png (deflated 70%)\n",
            "  adding: Att_Res_SNN_gradcam_results/upsampling_layer_4_20250426-071220/cam_1925.png (deflated 1%)\n",
            "  adding: Att_Res_SNN_gradcam_results/upsampling_layer_4_20250426-071220/grid_mask_upsampling_layer[4]_20250426-071220.png (deflated 39%)\n",
            "  adding: Att_Res_SNN_gradcam_results/upsampling_layer_4_20250426-071220/mask_2676.png (deflated 66%)\n",
            "  adding: Att_Res_SNN_gradcam_results/upsampling_layer_4_20250426-071220/mask_3064.png (deflated 81%)\n",
            "  adding: Att_Res_SNN_gradcam_results/upsampling_layer_4_20250426-071220/cam_1512.png (deflated 2%)\n",
            "  adding: Att_Res_SNN_gradcam_results/upsampling_layer_4_20250426-071220/cam_2307.png (deflated 1%)\n",
            "  adding: Att_Res_SNN_gradcam_results/upsampling_layer_4_20250426-071220/mask_2279.png (deflated 81%)\n",
            "  adding: Att_Res_SNN_gradcam_results/upsampling_layer_4_20250426-071220/mask_1529.png (deflated 78%)\n",
            "  adding: Att_Res_SNN_gradcam_results/upsampling_layer_4_20250426-071220/mask_1923.png (deflated 78%)\n",
            "  adding: Att_Res_SNN_gradcam_results/upsampling_layer_4_20250426-071220/mask_1512.png (deflated 75%)\n",
            "  adding: Att_Res_SNN_gradcam_results/upsampling_layer_4_20250426-071220/cam_1445.png (deflated 1%)\n",
            "  adding: Att_Res_SNN_gradcam_results/upsampling_layer_4_20250426-071220/mask_2307.png (deflated 73%)\n",
            "  adding: Att_Res_SNN_gradcam_results/upsampling_layer_4_20250426-071220/cam_553.png (deflated 1%)\n",
            "  adding: Att_Res_SNN_gradcam_results/upsampling_layer_4_20250426-071220/grid_cam_upsampling_layer[4]_20250426-071220.png (deflated 2%)\n",
            "  adding: Att_Res_SNN_gradcam_results/upsampling_layer_4_20250426-071220/mask_553.png (deflated 78%)\n",
            "  adding: Att_Res_SNN_gradcam_results/upsampling_layer_4_20250426-071220/cam_1923.png (deflated 1%)\n",
            "  adding: Att_Res_SNN_gradcam_results/upsampling_layer_4_20250426-071220/cam_3064.png (deflated 1%)\n",
            "  adding: Att_Res_SNN_gradcam_results/upsampling_layer_4_20250426-071220/mask_1539.png (deflated 63%)\n",
            "  adding: Att_Res_SNN_gradcam_results/upsampling_layer_4_20250426-071220/cam_2279.png (deflated 1%)\n",
            "  adding: Att_Res_SNN_gradcam_results/upsampling_layer_4_20250426-071220/mask_555.png (deflated 70%)\n",
            "  adding: Att_Res_SNN_gradcam_results/conv4_attention_sa_20250426-071052/ (stored 0%)\n",
            "  adding: Att_Res_SNN_gradcam_results/conv4_attention_sa_20250426-071052/cam_1952.png (deflated 0%)\n",
            "  adding: Att_Res_SNN_gradcam_results/conv4_attention_sa_20250426-071052/mask_1952.png (deflated 59%)\n",
            "  adding: Att_Res_SNN_gradcam_results/conv4_attention_sa_20250426-071052/mask_1936.png (deflated 81%)\n",
            "  adding: Att_Res_SNN_gradcam_results/conv4_attention_sa_20250426-071052/cam_2676.png (deflated 0%)\n",
            "  adding: Att_Res_SNN_gradcam_results/conv4_attention_sa_20250426-071052/cam_1529.png (deflated 0%)\n",
            "  adding: Att_Res_SNN_gradcam_results/conv4_attention_sa_20250426-071052/cam_1539.png (deflated 0%)\n",
            "  adding: Att_Res_SNN_gradcam_results/conv4_attention_sa_20250426-071052/cam_1936.png (deflated 1%)\n",
            "  adding: Att_Res_SNN_gradcam_results/conv4_attention_sa_20250426-071052/cam_13.png (deflated 0%)\n",
            "  adding: Att_Res_SNN_gradcam_results/conv4_attention_sa_20250426-071052/cam_1545.png (deflated 0%)\n",
            "  adding: Att_Res_SNN_gradcam_results/conv4_attention_sa_20250426-071052/mask_13.png (deflated 61%)\n",
            "  adding: Att_Res_SNN_gradcam_results/conv4_attention_sa_20250426-071052/cam_555.png (deflated 0%)\n",
            "  adding: Att_Res_SNN_gradcam_results/conv4_attention_sa_20250426-071052/mask_1925.png (deflated 46%)\n",
            "  adding: Att_Res_SNN_gradcam_results/conv4_attention_sa_20250426-071052/mask_1545.png (deflated 49%)\n",
            "  adding: Att_Res_SNN_gradcam_results/conv4_attention_sa_20250426-071052/cam_1527.png (deflated 0%)\n",
            "  adding: Att_Res_SNN_gradcam_results/conv4_attention_sa_20250426-071052/mask_1527.png (deflated 48%)\n",
            "  adding: Att_Res_SNN_gradcam_results/conv4_attention_sa_20250426-071052/cam_1933.png (deflated 0%)\n",
            "  adding: Att_Res_SNN_gradcam_results/conv4_attention_sa_20250426-071052/mask_1933.png (deflated 58%)\n",
            "  adding: Att_Res_SNN_gradcam_results/conv4_attention_sa_20250426-071052/mask_1445.png (deflated 39%)\n",
            "  adding: Att_Res_SNN_gradcam_results/conv4_attention_sa_20250426-071052/cam_1925.png (deflated 0%)\n",
            "  adding: Att_Res_SNN_gradcam_results/conv4_attention_sa_20250426-071052/mask_2676.png (deflated 55%)\n",
            "  adding: Att_Res_SNN_gradcam_results/conv4_attention_sa_20250426-071052/mask_3064.png (deflated 81%)\n",
            "  adding: Att_Res_SNN_gradcam_results/conv4_attention_sa_20250426-071052/cam_1512.png (deflated 0%)\n",
            "  adding: Att_Res_SNN_gradcam_results/conv4_attention_sa_20250426-071052/cam_2307.png (deflated 0%)\n",
            "  adding: Att_Res_SNN_gradcam_results/conv4_attention_sa_20250426-071052/mask_2279.png (deflated 81%)\n",
            "  adding: Att_Res_SNN_gradcam_results/conv4_attention_sa_20250426-071052/mask_1529.png (deflated 31%)\n",
            "  adding: Att_Res_SNN_gradcam_results/conv4_attention_sa_20250426-071052/mask_1923.png (deflated 81%)\n",
            "  adding: Att_Res_SNN_gradcam_results/conv4_attention_sa_20250426-071052/mask_1512.png (deflated 54%)\n",
            "  adding: Att_Res_SNN_gradcam_results/conv4_attention_sa_20250426-071052/cam_1445.png (deflated 0%)\n",
            "  adding: Att_Res_SNN_gradcam_results/conv4_attention_sa_20250426-071052/mask_2307.png (deflated 39%)\n",
            "  adding: Att_Res_SNN_gradcam_results/conv4_attention_sa_20250426-071052/cam_553.png (deflated 0%)\n",
            "  adding: Att_Res_SNN_gradcam_results/conv4_attention_sa_20250426-071052/mask_553.png (deflated 50%)\n",
            "  adding: Att_Res_SNN_gradcam_results/conv4_attention_sa_20250426-071052/cam_1923.png (deflated 1%)\n",
            "  adding: Att_Res_SNN_gradcam_results/conv4_attention_sa_20250426-071052/cam_3064.png (deflated 1%)\n",
            "  adding: Att_Res_SNN_gradcam_results/conv4_attention_sa_20250426-071052/mask_1539.png (deflated 61%)\n",
            "  adding: Att_Res_SNN_gradcam_results/conv4_attention_sa_20250426-071052/cam_2279.png (deflated 1%)\n",
            "  adding: Att_Res_SNN_gradcam_results/conv4_attention_sa_20250426-071052/mask_555.png (deflated 62%)\n",
            "  adding: Att_Res_SNN_gradcam_results/conv4_attention_sa_20250426-071052/grid_cam_conv4_attention_sa_20250426-071052.png (deflated 1%)\n",
            "  adding: Att_Res_SNN_gradcam_results/conv4_attention_sa_20250426-071052/grid_mask_conv4_attention_sa_20250426-071052.png (deflated 29%)\n",
            "  adding: Att_Res_SNN_gradcam_results/upsampling_layer_2_20250426-071203/ (stored 0%)\n",
            "  adding: Att_Res_SNN_gradcam_results/upsampling_layer_2_20250426-071203/cam_1952.png (deflated 0%)\n",
            "  adding: Att_Res_SNN_gradcam_results/upsampling_layer_2_20250426-071203/mask_1952.png (deflated 68%)\n",
            "  adding: Att_Res_SNN_gradcam_results/upsampling_layer_2_20250426-071203/mask_1936.png (deflated 81%)\n",
            "  adding: Att_Res_SNN_gradcam_results/upsampling_layer_2_20250426-071203/cam_2676.png (deflated 1%)\n",
            "  adding: Att_Res_SNN_gradcam_results/upsampling_layer_2_20250426-071203/cam_1529.png (deflated 1%)\n",
            "  adding: Att_Res_SNN_gradcam_results/upsampling_layer_2_20250426-071203/cam_1539.png (deflated 0%)\n",
            "  adding: Att_Res_SNN_gradcam_results/upsampling_layer_2_20250426-071203/cam_1936.png (deflated 1%)\n",
            "  adding: Att_Res_SNN_gradcam_results/upsampling_layer_2_20250426-071203/cam_13.png (deflated 0%)\n",
            "  adding: Att_Res_SNN_gradcam_results/upsampling_layer_2_20250426-071203/cam_1545.png (deflated 1%)\n",
            "  adding: Att_Res_SNN_gradcam_results/upsampling_layer_2_20250426-071203/mask_13.png (deflated 67%)\n",
            "  adding: Att_Res_SNN_gradcam_results/upsampling_layer_2_20250426-071203/cam_555.png (deflated 0%)\n",
            "  adding: Att_Res_SNN_gradcam_results/upsampling_layer_2_20250426-071203/mask_1925.png (deflated 81%)\n",
            "  adding: Att_Res_SNN_gradcam_results/upsampling_layer_2_20250426-071203/mask_1545.png (deflated 81%)\n",
            "  adding: Att_Res_SNN_gradcam_results/upsampling_layer_2_20250426-071203/grid_mask_upsampling_layer[2]_20250426-071203.png (deflated 41%)\n",
            "  adding: Att_Res_SNN_gradcam_results/upsampling_layer_2_20250426-071203/grid_cam_upsampling_layer[2]_20250426-071203.png (deflated 2%)\n",
            "  adding: Att_Res_SNN_gradcam_results/upsampling_layer_2_20250426-071203/cam_1527.png (deflated 0%)\n",
            "  adding: Att_Res_SNN_gradcam_results/upsampling_layer_2_20250426-071203/mask_1527.png (deflated 81%)\n",
            "  adding: Att_Res_SNN_gradcam_results/upsampling_layer_2_20250426-071203/cam_1933.png (deflated 1%)\n",
            "  adding: Att_Res_SNN_gradcam_results/upsampling_layer_2_20250426-071203/mask_1933.png (deflated 76%)\n",
            "  adding: Att_Res_SNN_gradcam_results/upsampling_layer_2_20250426-071203/mask_1445.png (deflated 71%)\n",
            "  adding: Att_Res_SNN_gradcam_results/upsampling_layer_2_20250426-071203/cam_1925.png (deflated 1%)\n",
            "  adding: Att_Res_SNN_gradcam_results/upsampling_layer_2_20250426-071203/mask_2676.png (deflated 71%)\n",
            "  adding: Att_Res_SNN_gradcam_results/upsampling_layer_2_20250426-071203/mask_3064.png (deflated 81%)\n",
            "  adding: Att_Res_SNN_gradcam_results/upsampling_layer_2_20250426-071203/cam_1512.png (deflated 1%)\n",
            "  adding: Att_Res_SNN_gradcam_results/upsampling_layer_2_20250426-071203/cam_2307.png (deflated 1%)\n",
            "  adding: Att_Res_SNN_gradcam_results/upsampling_layer_2_20250426-071203/mask_2279.png (deflated 81%)\n",
            "  adding: Att_Res_SNN_gradcam_results/upsampling_layer_2_20250426-071203/mask_1529.png (deflated 81%)\n",
            "  adding: Att_Res_SNN_gradcam_results/upsampling_layer_2_20250426-071203/mask_1923.png (deflated 81%)\n",
            "  adding: Att_Res_SNN_gradcam_results/upsampling_layer_2_20250426-071203/mask_1512.png (deflated 75%)\n",
            "  adding: Att_Res_SNN_gradcam_results/upsampling_layer_2_20250426-071203/cam_1445.png (deflated 1%)\n",
            "  adding: Att_Res_SNN_gradcam_results/upsampling_layer_2_20250426-071203/mask_2307.png (deflated 74%)\n",
            "  adding: Att_Res_SNN_gradcam_results/upsampling_layer_2_20250426-071203/cam_553.png (deflated 1%)\n",
            "  adding: Att_Res_SNN_gradcam_results/upsampling_layer_2_20250426-071203/mask_553.png (deflated 81%)\n",
            "  adding: Att_Res_SNN_gradcam_results/upsampling_layer_2_20250426-071203/cam_1923.png (deflated 1%)\n",
            "  adding: Att_Res_SNN_gradcam_results/upsampling_layer_2_20250426-071203/cam_3064.png (deflated 1%)\n",
            "  adding: Att_Res_SNN_gradcam_results/upsampling_layer_2_20250426-071203/mask_1539.png (deflated 71%)\n",
            "  adding: Att_Res_SNN_gradcam_results/upsampling_layer_2_20250426-071203/cam_2279.png (deflated 1%)\n",
            "  adding: Att_Res_SNN_gradcam_results/upsampling_layer_2_20250426-071203/mask_555.png (deflated 71%)\n",
            "  adding: Att_Res_SNN_gradcam_results/upsampling_layer_0_20250426-071145/ (stored 0%)\n",
            "  adding: Att_Res_SNN_gradcam_results/upsampling_layer_0_20250426-071145/cam_1952.png (deflated 0%)\n",
            "  adding: Att_Res_SNN_gradcam_results/upsampling_layer_0_20250426-071145/mask_1952.png (deflated 68%)\n",
            "  adding: Att_Res_SNN_gradcam_results/upsampling_layer_0_20250426-071145/mask_1936.png (deflated 81%)\n",
            "  adding: Att_Res_SNN_gradcam_results/upsampling_layer_0_20250426-071145/cam_2676.png (deflated 1%)\n",
            "  adding: Att_Res_SNN_gradcam_results/upsampling_layer_0_20250426-071145/cam_1529.png (deflated 1%)\n",
            "  adding: Att_Res_SNN_gradcam_results/upsampling_layer_0_20250426-071145/cam_1539.png (deflated 0%)\n",
            "  adding: Att_Res_SNN_gradcam_results/upsampling_layer_0_20250426-071145/cam_1936.png (deflated 1%)\n",
            "  adding: Att_Res_SNN_gradcam_results/upsampling_layer_0_20250426-071145/cam_13.png (deflated 0%)\n",
            "  adding: Att_Res_SNN_gradcam_results/upsampling_layer_0_20250426-071145/cam_1545.png (deflated 1%)\n",
            "  adding: Att_Res_SNN_gradcam_results/upsampling_layer_0_20250426-071145/mask_13.png (deflated 72%)\n",
            "  adding: Att_Res_SNN_gradcam_results/upsampling_layer_0_20250426-071145/cam_555.png (deflated 0%)\n",
            "  adding: Att_Res_SNN_gradcam_results/upsampling_layer_0_20250426-071145/mask_1925.png (deflated 81%)\n",
            "  adding: Att_Res_SNN_gradcam_results/upsampling_layer_0_20250426-071145/mask_1545.png (deflated 81%)\n",
            "  adding: Att_Res_SNN_gradcam_results/upsampling_layer_0_20250426-071145/cam_1527.png (deflated 0%)\n",
            "  adding: Att_Res_SNN_gradcam_results/upsampling_layer_0_20250426-071145/mask_1527.png (deflated 81%)\n",
            "  adding: Att_Res_SNN_gradcam_results/upsampling_layer_0_20250426-071145/cam_1933.png (deflated 1%)\n",
            "  adding: Att_Res_SNN_gradcam_results/upsampling_layer_0_20250426-071145/mask_1933.png (deflated 81%)\n",
            "  adding: Att_Res_SNN_gradcam_results/upsampling_layer_0_20250426-071145/mask_1445.png (deflated 73%)\n",
            "  adding: Att_Res_SNN_gradcam_results/upsampling_layer_0_20250426-071145/cam_1925.png (deflated 1%)\n",
            "  adding: Att_Res_SNN_gradcam_results/upsampling_layer_0_20250426-071145/mask_2676.png (deflated 68%)\n",
            "  adding: Att_Res_SNN_gradcam_results/upsampling_layer_0_20250426-071145/mask_3064.png (deflated 81%)\n",
            "  adding: Att_Res_SNN_gradcam_results/upsampling_layer_0_20250426-071145/cam_1512.png (deflated 1%)\n",
            "  adding: Att_Res_SNN_gradcam_results/upsampling_layer_0_20250426-071145/grid_cam_upsampling_layer[0]_20250426-071145.png (deflated 2%)\n",
            "  adding: Att_Res_SNN_gradcam_results/upsampling_layer_0_20250426-071145/cam_2307.png (deflated 1%)\n",
            "  adding: Att_Res_SNN_gradcam_results/upsampling_layer_0_20250426-071145/mask_2279.png (deflated 81%)\n",
            "  adding: Att_Res_SNN_gradcam_results/upsampling_layer_0_20250426-071145/mask_1529.png (deflated 81%)\n",
            "  adding: Att_Res_SNN_gradcam_results/upsampling_layer_0_20250426-071145/mask_1923.png (deflated 81%)\n",
            "  adding: Att_Res_SNN_gradcam_results/upsampling_layer_0_20250426-071145/mask_1512.png (deflated 81%)\n",
            "  adding: Att_Res_SNN_gradcam_results/upsampling_layer_0_20250426-071145/cam_1445.png (deflated 1%)\n",
            "  adding: Att_Res_SNN_gradcam_results/upsampling_layer_0_20250426-071145/mask_2307.png (deflated 73%)\n",
            "  adding: Att_Res_SNN_gradcam_results/upsampling_layer_0_20250426-071145/cam_553.png (deflated 1%)\n",
            "  adding: Att_Res_SNN_gradcam_results/upsampling_layer_0_20250426-071145/mask_553.png (deflated 81%)\n",
            "  adding: Att_Res_SNN_gradcam_results/upsampling_layer_0_20250426-071145/cam_1923.png (deflated 1%)\n",
            "  adding: Att_Res_SNN_gradcam_results/upsampling_layer_0_20250426-071145/cam_3064.png (deflated 1%)\n",
            "  adding: Att_Res_SNN_gradcam_results/upsampling_layer_0_20250426-071145/mask_1539.png (deflated 69%)\n",
            "  adding: Att_Res_SNN_gradcam_results/upsampling_layer_0_20250426-071145/grid_mask_upsampling_layer[0]_20250426-071145.png (deflated 42%)\n",
            "  adding: Att_Res_SNN_gradcam_results/upsampling_layer_0_20250426-071145/cam_2279.png (deflated 1%)\n",
            "  adding: Att_Res_SNN_gradcam_results/upsampling_layer_0_20250426-071145/mask_555.png (deflated 72%)\n",
            "  adding: Att_Res_SNN_gradcam_results/conv5_residual_20250426-071126/ (stored 0%)\n",
            "  adding: Att_Res_SNN_gradcam_results/conv5_residual_20250426-071126/cam_1952.png (deflated 1%)\n",
            "  adding: Att_Res_SNN_gradcam_results/conv5_residual_20250426-071126/mask_1952.png (deflated 81%)\n",
            "  adding: Att_Res_SNN_gradcam_results/conv5_residual_20250426-071126/mask_1936.png (deflated 81%)\n",
            "  adding: Att_Res_SNN_gradcam_results/conv5_residual_20250426-071126/grid_cam_conv5_residual_20250426-071126.png (deflated 2%)\n",
            "  adding: Att_Res_SNN_gradcam_results/conv5_residual_20250426-071126/cam_2676.png (deflated 1%)\n",
            "  adding: Att_Res_SNN_gradcam_results/conv5_residual_20250426-071126/cam_1529.png (deflated 1%)\n",
            "  adding: Att_Res_SNN_gradcam_results/conv5_residual_20250426-071126/cam_1539.png (deflated 1%)\n",
            "  adding: Att_Res_SNN_gradcam_results/conv5_residual_20250426-071126/cam_1936.png (deflated 1%)\n",
            "  adding: Att_Res_SNN_gradcam_results/conv5_residual_20250426-071126/cam_13.png (deflated 0%)\n",
            "  adding: Att_Res_SNN_gradcam_results/conv5_residual_20250426-071126/cam_1545.png (deflated 1%)\n",
            "  adding: Att_Res_SNN_gradcam_results/conv5_residual_20250426-071126/mask_13.png (deflated 81%)\n",
            "  adding: Att_Res_SNN_gradcam_results/conv5_residual_20250426-071126/cam_555.png (deflated 1%)\n",
            "  adding: Att_Res_SNN_gradcam_results/conv5_residual_20250426-071126/mask_1925.png (deflated 81%)\n",
            "  adding: Att_Res_SNN_gradcam_results/conv5_residual_20250426-071126/mask_1545.png (deflated 81%)\n",
            "  adding: Att_Res_SNN_gradcam_results/conv5_residual_20250426-071126/cam_1527.png (deflated 0%)\n",
            "  adding: Att_Res_SNN_gradcam_results/conv5_residual_20250426-071126/mask_1527.png (deflated 81%)\n",
            "  adding: Att_Res_SNN_gradcam_results/conv5_residual_20250426-071126/cam_1933.png (deflated 1%)\n",
            "  adding: Att_Res_SNN_gradcam_results/conv5_residual_20250426-071126/mask_1933.png (deflated 81%)\n",
            "  adding: Att_Res_SNN_gradcam_results/conv5_residual_20250426-071126/mask_1445.png (deflated 81%)\n",
            "  adding: Att_Res_SNN_gradcam_results/conv5_residual_20250426-071126/cam_1925.png (deflated 1%)\n",
            "  adding: Att_Res_SNN_gradcam_results/conv5_residual_20250426-071126/mask_2676.png (deflated 81%)\n",
            "  adding: Att_Res_SNN_gradcam_results/conv5_residual_20250426-071126/mask_3064.png (deflated 81%)\n",
            "  adding: Att_Res_SNN_gradcam_results/conv5_residual_20250426-071126/cam_1512.png (deflated 1%)\n",
            "  adding: Att_Res_SNN_gradcam_results/conv5_residual_20250426-071126/cam_2307.png (deflated 1%)\n",
            "  adding: Att_Res_SNN_gradcam_results/conv5_residual_20250426-071126/mask_2279.png (deflated 81%)\n",
            "  adding: Att_Res_SNN_gradcam_results/conv5_residual_20250426-071126/mask_1529.png (deflated 81%)\n",
            "  adding: Att_Res_SNN_gradcam_results/conv5_residual_20250426-071126/mask_1923.png (deflated 81%)\n",
            "  adding: Att_Res_SNN_gradcam_results/conv5_residual_20250426-071126/mask_1512.png (deflated 81%)\n",
            "  adding: Att_Res_SNN_gradcam_results/conv5_residual_20250426-071126/cam_1445.png (deflated 1%)\n",
            "  adding: Att_Res_SNN_gradcam_results/conv5_residual_20250426-071126/mask_2307.png (deflated 81%)\n",
            "  adding: Att_Res_SNN_gradcam_results/conv5_residual_20250426-071126/grid_mask_conv5_residual_20250426-071126.png (deflated 45%)\n",
            "  adding: Att_Res_SNN_gradcam_results/conv5_residual_20250426-071126/cam_553.png (deflated 1%)\n",
            "  adding: Att_Res_SNN_gradcam_results/conv5_residual_20250426-071126/mask_553.png (deflated 81%)\n",
            "  adding: Att_Res_SNN_gradcam_results/conv5_residual_20250426-071126/cam_1923.png (deflated 1%)\n",
            "  adding: Att_Res_SNN_gradcam_results/conv5_residual_20250426-071126/cam_3064.png (deflated 1%)\n",
            "  adding: Att_Res_SNN_gradcam_results/conv5_residual_20250426-071126/mask_1539.png (deflated 81%)\n",
            "  adding: Att_Res_SNN_gradcam_results/conv5_residual_20250426-071126/cam_2279.png (deflated 1%)\n",
            "  adding: Att_Res_SNN_gradcam_results/conv5_residual_20250426-071126/mask_555.png (deflated 71%)\n"
          ]
        },
        {
          "output_type": "display_data",
          "data": {
            "text/plain": [
              "<IPython.core.display.Javascript object>"
            ],
            "application/javascript": [
              "\n",
              "    async function download(id, filename, size) {\n",
              "      if (!google.colab.kernel.accessAllowed) {\n",
              "        return;\n",
              "      }\n",
              "      const div = document.createElement('div');\n",
              "      const label = document.createElement('label');\n",
              "      label.textContent = `Downloading \"${filename}\": `;\n",
              "      div.appendChild(label);\n",
              "      const progress = document.createElement('progress');\n",
              "      progress.max = size;\n",
              "      div.appendChild(progress);\n",
              "      document.body.appendChild(div);\n",
              "\n",
              "      const buffers = [];\n",
              "      let downloaded = 0;\n",
              "\n",
              "      const channel = await google.colab.kernel.comms.open(id);\n",
              "      // Send a message to notify the kernel that we're ready.\n",
              "      channel.send({})\n",
              "\n",
              "      for await (const message of channel.messages) {\n",
              "        // Send a message to notify the kernel that we're ready.\n",
              "        channel.send({})\n",
              "        if (message.buffers) {\n",
              "          for (const buffer of message.buffers) {\n",
              "            buffers.push(buffer);\n",
              "            downloaded += buffer.byteLength;\n",
              "            progress.value = downloaded;\n",
              "          }\n",
              "        }\n",
              "      }\n",
              "      const blob = new Blob(buffers, {type: 'application/binary'});\n",
              "      const a = document.createElement('a');\n",
              "      a.href = window.URL.createObjectURL(blob);\n",
              "      a.download = filename;\n",
              "      div.appendChild(a);\n",
              "      a.click();\n",
              "      div.remove();\n",
              "    }\n",
              "  "
            ]
          },
          "metadata": {}
        },
        {
          "output_type": "display_data",
          "data": {
            "text/plain": [
              "<IPython.core.display.Javascript object>"
            ],
            "application/javascript": [
              "download(\"download_ee21061c-4f89-4d27-9ef1-6bbac19f8b2e\", \"Att_Res_SNN_gradcam_results.zip\", 34308249)"
            ]
          },
          "metadata": {}
        },
        {
          "output_type": "stream",
          "name": "stdout",
          "text": [
            "  adding: Att_Res_SNN_saved_images/ (stored 0%)\n",
            "  adding: Att_Res_SNN_saved_images/Att_Res_SNN_checkpoint_5_2025-04-26_06-42-55/ (stored 0%)\n",
            "  adding: Att_Res_SNN_saved_images/Att_Res_SNN_checkpoint_5_2025-04-26_06-42-55/5.png (deflated 35%)\n",
            "  adding: Att_Res_SNN_saved_images/Att_Res_SNN_checkpoint_5_2025-04-26_06-42-55/pred_12-20250426-064255.png (deflated 91%)\n",
            "  adding: Att_Res_SNN_saved_images/Att_Res_SNN_checkpoint_5_2025-04-26_06-42-55/original_1.png (deflated 1%)\n",
            "  adding: Att_Res_SNN_saved_images/Att_Res_SNN_checkpoint_5_2025-04-26_06-42-55/original_13.png (deflated 1%)\n",
            "  adding: Att_Res_SNN_saved_images/Att_Res_SNN_checkpoint_5_2025-04-26_06-42-55/pred_13-20250426-064255.png (deflated 96%)\n",
            "  adding: Att_Res_SNN_saved_images/Att_Res_SNN_checkpoint_5_2025-04-26_06-42-55/pred_5-20250426-064255.png (deflated 87%)\n",
            "  adding: Att_Res_SNN_saved_images/Att_Res_SNN_checkpoint_5_2025-04-26_06-42-55/pred_11-20250426-064255.png (deflated 80%)\n",
            "  adding: Att_Res_SNN_saved_images/Att_Res_SNN_checkpoint_5_2025-04-26_06-42-55/6.png (deflated 39%)\n",
            "  adding: Att_Res_SNN_saved_images/Att_Res_SNN_checkpoint_5_2025-04-26_06-42-55/original_6.png (deflated 2%)\n",
            "  adding: Att_Res_SNN_saved_images/Att_Res_SNN_checkpoint_5_2025-04-26_06-42-55/11.png (deflated 34%)\n",
            "  adding: Att_Res_SNN_saved_images/Att_Res_SNN_checkpoint_5_2025-04-26_06-42-55/pred_7-20250426-064255.png (deflated 90%)\n",
            "  adding: Att_Res_SNN_saved_images/Att_Res_SNN_checkpoint_5_2025-04-26_06-42-55/original_0.png (deflated 1%)\n",
            "  adding: Att_Res_SNN_saved_images/Att_Res_SNN_checkpoint_5_2025-04-26_06-42-55/original_2.png (deflated 1%)\n",
            "  adding: Att_Res_SNN_saved_images/Att_Res_SNN_checkpoint_5_2025-04-26_06-42-55/pred_6-20250426-064255.png (deflated 87%)\n",
            "  adding: Att_Res_SNN_saved_images/Att_Res_SNN_checkpoint_5_2025-04-26_06-42-55/pred_3-20250426-064255.png (deflated 95%)\n",
            "  adding: Att_Res_SNN_saved_images/Att_Res_SNN_checkpoint_5_2025-04-26_06-42-55/9.png (deflated 36%)\n",
            "  adding: Att_Res_SNN_saved_images/Att_Res_SNN_checkpoint_5_2025-04-26_06-42-55/1.png (deflated 56%)\n",
            "  adding: Att_Res_SNN_saved_images/Att_Res_SNN_checkpoint_5_2025-04-26_06-42-55/original_12.png (deflated 1%)\n",
            "  adding: Att_Res_SNN_saved_images/Att_Res_SNN_checkpoint_5_2025-04-26_06-42-55/original_8.png (deflated 2%)\n",
            "  adding: Att_Res_SNN_saved_images/Att_Res_SNN_checkpoint_5_2025-04-26_06-42-55/10.png (deflated 40%)\n",
            "  adding: Att_Res_SNN_saved_images/Att_Res_SNN_checkpoint_5_2025-04-26_06-42-55/4.png (deflated 38%)\n",
            "  adding: Att_Res_SNN_saved_images/Att_Res_SNN_checkpoint_5_2025-04-26_06-42-55/Att_Res_SNN_MatplotOutputs/ (stored 0%)\n",
            "  adding: Att_Res_SNN_saved_images/Att_Res_SNN_checkpoint_5_2025-04-26_06-42-55/original_9.png (deflated 1%)\n",
            "  adding: Att_Res_SNN_saved_images/Att_Res_SNN_checkpoint_5_2025-04-26_06-42-55/12.png (deflated 41%)\n",
            "  adding: Att_Res_SNN_saved_images/Att_Res_SNN_checkpoint_5_2025-04-26_06-42-55/pred_9-20250426-064255.png (deflated 89%)\n",
            "  adding: Att_Res_SNN_saved_images/Att_Res_SNN_checkpoint_5_2025-04-26_06-42-55/0.png (deflated 47%)\n",
            "  adding: Att_Res_SNN_saved_images/Att_Res_SNN_checkpoint_5_2025-04-26_06-42-55/13.png (deflated 43%)\n",
            "  adding: Att_Res_SNN_saved_images/Att_Res_SNN_checkpoint_5_2025-04-26_06-42-55/original_7.png (deflated 1%)\n",
            "  adding: Att_Res_SNN_saved_images/Att_Res_SNN_checkpoint_5_2025-04-26_06-42-55/pred_4-20250426-064255.png (deflated 90%)\n",
            "  adding: Att_Res_SNN_saved_images/Att_Res_SNN_checkpoint_5_2025-04-26_06-42-55/pred_0-20250426-064255.png (deflated 93%)\n",
            "  adding: Att_Res_SNN_saved_images/Att_Res_SNN_checkpoint_5_2025-04-26_06-42-55/pred_1-20250426-064255.png (deflated 97%)\n",
            "  adding: Att_Res_SNN_saved_images/Att_Res_SNN_checkpoint_5_2025-04-26_06-42-55/original_4.png (deflated 1%)\n",
            "  adding: Att_Res_SNN_saved_images/Att_Res_SNN_checkpoint_5_2025-04-26_06-42-55/pred_2-20250426-064255.png (deflated 98%)\n",
            "  adding: Att_Res_SNN_saved_images/Att_Res_SNN_checkpoint_5_2025-04-26_06-42-55/pred_10-20250426-064255.png (deflated 84%)\n",
            "  adding: Att_Res_SNN_saved_images/Att_Res_SNN_checkpoint_5_2025-04-26_06-42-55/7.png (deflated 34%)\n",
            "  adding: Att_Res_SNN_saved_images/Att_Res_SNN_checkpoint_5_2025-04-26_06-42-55/8.png (deflated 42%)\n",
            "  adding: Att_Res_SNN_saved_images/Att_Res_SNN_checkpoint_5_2025-04-26_06-42-55/original_5.png (deflated 1%)\n",
            "  adding: Att_Res_SNN_saved_images/Att_Res_SNN_checkpoint_5_2025-04-26_06-42-55/pred_8-20250426-064255.png (deflated 88%)\n",
            "  adding: Att_Res_SNN_saved_images/Att_Res_SNN_checkpoint_5_2025-04-26_06-42-55/3.png (deflated 45%)\n",
            "  adding: Att_Res_SNN_saved_images/Att_Res_SNN_checkpoint_5_2025-04-26_06-42-55/original_11.png (deflated 1%)\n",
            "  adding: Att_Res_SNN_saved_images/Att_Res_SNN_checkpoint_5_2025-04-26_06-42-55/2.png (deflated 43%)\n",
            "  adding: Att_Res_SNN_saved_images/Att_Res_SNN_checkpoint_5_2025-04-26_06-42-55/original_10.png (deflated 1%)\n",
            "  adding: Att_Res_SNN_saved_images/Att_Res_SNN_checkpoint_5_2025-04-26_06-42-55/original_3.png (deflated 1%)\n",
            "  adding: Att_Res_SNN_saved_images/Att_Res_SNN_checkpoint_5_2025-04-26_06-46-21/ (stored 0%)\n",
            "  adding: Att_Res_SNN_saved_images/Att_Res_SNN_checkpoint_5_2025-04-26_06-46-21/pred_13-20250426-064622.png (deflated 80%)\n",
            "  adding: Att_Res_SNN_saved_images/Att_Res_SNN_checkpoint_5_2025-04-26_06-46-21/5.png (deflated 35%)\n",
            "  adding: Att_Res_SNN_saved_images/Att_Res_SNN_checkpoint_5_2025-04-26_06-46-21/original_1.png (deflated 1%)\n",
            "  adding: Att_Res_SNN_saved_images/Att_Res_SNN_checkpoint_5_2025-04-26_06-46-21/original_13.png (deflated 1%)\n",
            "  adding: Att_Res_SNN_saved_images/Att_Res_SNN_checkpoint_5_2025-04-26_06-46-21/pred_2-20250426-064622.png (deflated 81%)\n",
            "  adding: Att_Res_SNN_saved_images/Att_Res_SNN_checkpoint_5_2025-04-26_06-46-21/6.png (deflated 39%)\n",
            "  adding: Att_Res_SNN_saved_images/Att_Res_SNN_checkpoint_5_2025-04-26_06-46-21/original_6.png (deflated 2%)\n",
            "  adding: Att_Res_SNN_saved_images/Att_Res_SNN_checkpoint_5_2025-04-26_06-46-21/11.png (deflated 34%)\n",
            "  adding: Att_Res_SNN_saved_images/Att_Res_SNN_checkpoint_5_2025-04-26_06-46-21/original_0.png (deflated 1%)\n",
            "  adding: Att_Res_SNN_saved_images/Att_Res_SNN_checkpoint_5_2025-04-26_06-46-21/original_2.png (deflated 1%)\n",
            "  adding: Att_Res_SNN_saved_images/Att_Res_SNN_checkpoint_5_2025-04-26_06-46-21/pred_5-20250426-064622.png (deflated 61%)\n",
            "  adding: Att_Res_SNN_saved_images/Att_Res_SNN_checkpoint_5_2025-04-26_06-46-21/9.png (deflated 36%)\n",
            "  adding: Att_Res_SNN_saved_images/Att_Res_SNN_checkpoint_5_2025-04-26_06-46-21/1.png (deflated 56%)\n",
            "  adding: Att_Res_SNN_saved_images/Att_Res_SNN_checkpoint_5_2025-04-26_06-46-21/pred_10-20250426-064622.png (deflated 68%)\n",
            "  adding: Att_Res_SNN_saved_images/Att_Res_SNN_checkpoint_5_2025-04-26_06-46-21/original_12.png (deflated 1%)\n",
            "  adding: Att_Res_SNN_saved_images/Att_Res_SNN_checkpoint_5_2025-04-26_06-46-21/original_8.png (deflated 2%)\n",
            "  adding: Att_Res_SNN_saved_images/Att_Res_SNN_checkpoint_5_2025-04-26_06-46-21/pred_6-20250426-064622.png (deflated 62%)\n",
            "  adding: Att_Res_SNN_saved_images/Att_Res_SNN_checkpoint_5_2025-04-26_06-46-21/pred_9-20250426-064622.png (deflated 70%)\n",
            "  adding: Att_Res_SNN_saved_images/Att_Res_SNN_checkpoint_5_2025-04-26_06-46-21/10.png (deflated 40%)\n",
            "  adding: Att_Res_SNN_saved_images/Att_Res_SNN_checkpoint_5_2025-04-26_06-46-21/4.png (deflated 38%)\n",
            "  adding: Att_Res_SNN_saved_images/Att_Res_SNN_checkpoint_5_2025-04-26_06-46-21/pred_11-20250426-064622.png (deflated 65%)\n",
            "  adding: Att_Res_SNN_saved_images/Att_Res_SNN_checkpoint_5_2025-04-26_06-46-21/Att_Res_SNN_MatplotOutputs/ (stored 0%)\n",
            "  adding: Att_Res_SNN_saved_images/Att_Res_SNN_checkpoint_5_2025-04-26_06-46-21/original_9.png (deflated 1%)\n",
            "  adding: Att_Res_SNN_saved_images/Att_Res_SNN_checkpoint_5_2025-04-26_06-46-21/pred_1-20250426-064622.png (deflated 85%)\n",
            "  adding: Att_Res_SNN_saved_images/Att_Res_SNN_checkpoint_5_2025-04-26_06-46-21/12.png (deflated 41%)\n",
            "  adding: Att_Res_SNN_saved_images/Att_Res_SNN_checkpoint_5_2025-04-26_06-46-21/pred_4-20250426-064622.png (deflated 64%)\n",
            "  adding: Att_Res_SNN_saved_images/Att_Res_SNN_checkpoint_5_2025-04-26_06-46-21/0.png (deflated 47%)\n",
            "  adding: Att_Res_SNN_saved_images/Att_Res_SNN_checkpoint_5_2025-04-26_06-46-21/pred_3-20250426-064622.png (deflated 78%)\n",
            "  adding: Att_Res_SNN_saved_images/Att_Res_SNN_checkpoint_5_2025-04-26_06-46-21/13.png (deflated 43%)\n",
            "  adding: Att_Res_SNN_saved_images/Att_Res_SNN_checkpoint_5_2025-04-26_06-46-21/original_7.png (deflated 1%)\n",
            "  adding: Att_Res_SNN_saved_images/Att_Res_SNN_checkpoint_5_2025-04-26_06-46-21/original_4.png (deflated 1%)\n",
            "  adding: Att_Res_SNN_saved_images/Att_Res_SNN_checkpoint_5_2025-04-26_06-46-21/7.png (deflated 34%)\n",
            "  adding: Att_Res_SNN_saved_images/Att_Res_SNN_checkpoint_5_2025-04-26_06-46-21/pred_12-20250426-064622.png (deflated 69%)\n",
            "  adding: Att_Res_SNN_saved_images/Att_Res_SNN_checkpoint_5_2025-04-26_06-46-21/8.png (deflated 42%)\n",
            "  adding: Att_Res_SNN_saved_images/Att_Res_SNN_checkpoint_5_2025-04-26_06-46-21/original_5.png (deflated 1%)\n",
            "  adding: Att_Res_SNN_saved_images/Att_Res_SNN_checkpoint_5_2025-04-26_06-46-21/pred_0-20250426-064622.png (deflated 76%)\n",
            "  adding: Att_Res_SNN_saved_images/Att_Res_SNN_checkpoint_5_2025-04-26_06-46-21/3.png (deflated 45%)\n",
            "  adding: Att_Res_SNN_saved_images/Att_Res_SNN_checkpoint_5_2025-04-26_06-46-21/pred_7-20250426-064622.png (deflated 65%)\n",
            "  adding: Att_Res_SNN_saved_images/Att_Res_SNN_checkpoint_5_2025-04-26_06-46-21/original_11.png (deflated 1%)\n",
            "  adding: Att_Res_SNN_saved_images/Att_Res_SNN_checkpoint_5_2025-04-26_06-46-21/pred_8-20250426-064622.png (deflated 74%)\n",
            "  adding: Att_Res_SNN_saved_images/Att_Res_SNN_checkpoint_5_2025-04-26_06-46-21/2.png (deflated 43%)\n",
            "  adding: Att_Res_SNN_saved_images/Att_Res_SNN_checkpoint_5_2025-04-26_06-46-21/original_10.png (deflated 1%)\n",
            "  adding: Att_Res_SNN_saved_images/Att_Res_SNN_checkpoint_5_2025-04-26_06-46-21/original_3.png (deflated 1%)\n",
            "  adding: Att_Res_SNN_saved_images/Att_Res_SNN_checkpoint_2_2025-04-26_06-25-08/ (stored 0%)\n",
            "  adding: Att_Res_SNN_saved_images/Att_Res_SNN_checkpoint_2_2025-04-26_06-25-08/nasar_20250426-062542.png (deflated 14%)\n",
            "  adding: Att_Res_SNN_saved_images/Att_Res_SNN_checkpoint_2_2025-04-26_06-25-08/pred_3-20250426-062517.png (deflated 98%)\n",
            "  adding: Att_Res_SNN_saved_images/Att_Res_SNN_checkpoint_2_2025-04-26_06-25-08/5.png (deflated 35%)\n",
            "  adding: Att_Res_SNN_saved_images/Att_Res_SNN_checkpoint_2_2025-04-26_06-25-08/pred_2-20250426-062515.png (deflated 98%)\n",
            "  adding: Att_Res_SNN_saved_images/Att_Res_SNN_checkpoint_2_2025-04-26_06-25-08/pred_7-20250426-062526.png (deflated 98%)\n",
            "  adding: Att_Res_SNN_saved_images/Att_Res_SNN_checkpoint_2_2025-04-26_06-25-08/original_1.png (deflated 1%)\n",
            "  adding: Att_Res_SNN_saved_images/Att_Res_SNN_checkpoint_2_2025-04-26_06-25-08/original_13.png (deflated 1%)\n",
            "  adding: Att_Res_SNN_saved_images/Att_Res_SNN_checkpoint_2_2025-04-26_06-25-08/pred_5-20250426-062521.png (deflated 98%)\n",
            "  adding: Att_Res_SNN_saved_images/Att_Res_SNN_checkpoint_2_2025-04-26_06-25-08/6.png (deflated 39%)\n",
            "  adding: Att_Res_SNN_saved_images/Att_Res_SNN_checkpoint_2_2025-04-26_06-25-08/original_6.png (deflated 2%)\n",
            "  adding: Att_Res_SNN_saved_images/Att_Res_SNN_checkpoint_2_2025-04-26_06-25-08/11.png (deflated 34%)\n",
            "  adding: Att_Res_SNN_saved_images/Att_Res_SNN_checkpoint_2_2025-04-26_06-25-08/pred_11-20250426-062535.png (deflated 98%)\n",
            "  adding: Att_Res_SNN_saved_images/Att_Res_SNN_checkpoint_2_2025-04-26_06-25-08/pred_8-20250426-062528.png (deflated 98%)\n",
            "  adding: Att_Res_SNN_saved_images/Att_Res_SNN_checkpoint_2_2025-04-26_06-25-08/dice_20250426-062542.png (deflated 30%)\n",
            "  adding: Att_Res_SNN_saved_images/Att_Res_SNN_checkpoint_2_2025-04-26_06-25-08/original_0.png (deflated 1%)\n",
            "  adding: Att_Res_SNN_saved_images/Att_Res_SNN_checkpoint_2_2025-04-26_06-25-08/original_2.png (deflated 1%)\n",
            "  adding: Att_Res_SNN_saved_images/Att_Res_SNN_checkpoint_2_2025-04-26_06-25-08/pred_12-20250426-062537.png (deflated 98%)\n",
            "  adding: Att_Res_SNN_saved_images/Att_Res_SNN_checkpoint_2_2025-04-26_06-25-08/9.png (deflated 36%)\n",
            "  adding: Att_Res_SNN_saved_images/Att_Res_SNN_checkpoint_2_2025-04-26_06-25-08/1.png (deflated 56%)\n",
            "  adding: Att_Res_SNN_saved_images/Att_Res_SNN_checkpoint_2_2025-04-26_06-25-08/pred_9-20250426-062530.png (deflated 98%)\n",
            "  adding: Att_Res_SNN_saved_images/Att_Res_SNN_checkpoint_2_2025-04-26_06-25-08/pred_1-20250426-062513.png (deflated 98%)\n",
            "  adding: Att_Res_SNN_saved_images/Att_Res_SNN_checkpoint_2_2025-04-26_06-25-08/original_12.png (deflated 1%)\n",
            "  adding: Att_Res_SNN_saved_images/Att_Res_SNN_checkpoint_2_2025-04-26_06-25-08/original_8.png (deflated 2%)\n",
            "  adding: Att_Res_SNN_saved_images/Att_Res_SNN_checkpoint_2_2025-04-26_06-25-08/10.png (deflated 40%)\n",
            "  adding: Att_Res_SNN_saved_images/Att_Res_SNN_checkpoint_2_2025-04-26_06-25-08/4.png (deflated 38%)\n",
            "  adding: Att_Res_SNN_saved_images/Att_Res_SNN_checkpoint_2_2025-04-26_06-25-08/Att_Res_SNN_MatplotOutputs/ (stored 0%)\n",
            "  adding: Att_Res_SNN_saved_images/Att_Res_SNN_checkpoint_2_2025-04-26_06-25-08/Att_Res_SNN_MatplotOutputs/output-0-batch-0-20250426-062513.png (deflated 8%)\n",
            "  adding: Att_Res_SNN_saved_images/Att_Res_SNN_checkpoint_2_2025-04-26_06-25-08/Att_Res_SNN_MatplotOutputs/output-0-batch-11-20250426-062537.png (deflated 8%)\n",
            "  adding: Att_Res_SNN_saved_images/Att_Res_SNN_checkpoint_2_2025-04-26_06-25-08/Att_Res_SNN_MatplotOutputs/output-0-batch-10-20250426-062535.png (deflated 8%)\n",
            "  adding: Att_Res_SNN_saved_images/Att_Res_SNN_checkpoint_2_2025-04-26_06-25-08/Att_Res_SNN_MatplotOutputs/output-0-batch-6-20250426-062526.png (deflated 9%)\n",
            "  adding: Att_Res_SNN_saved_images/Att_Res_SNN_checkpoint_2_2025-04-26_06-25-08/Att_Res_SNN_MatplotOutputs/output-0-batch-3-20250426-062519.png (deflated 8%)\n",
            "  adding: Att_Res_SNN_saved_images/Att_Res_SNN_checkpoint_2_2025-04-26_06-25-08/Att_Res_SNN_MatplotOutputs/output-0-batch-13-20250426-062542.png (deflated 7%)\n",
            "  adding: Att_Res_SNN_saved_images/Att_Res_SNN_checkpoint_2_2025-04-26_06-25-08/Att_Res_SNN_MatplotOutputs/output-0-batch-8-20250426-062530.png (deflated 9%)\n",
            "  adding: Att_Res_SNN_saved_images/Att_Res_SNN_checkpoint_2_2025-04-26_06-25-08/Att_Res_SNN_MatplotOutputs/output-0-batch-2-20250426-062517.png (deflated 7%)\n",
            "  adding: Att_Res_SNN_saved_images/Att_Res_SNN_checkpoint_2_2025-04-26_06-25-08/Att_Res_SNN_MatplotOutputs/output-0-batch-1-20250426-062515.png (deflated 8%)\n",
            "  adding: Att_Res_SNN_saved_images/Att_Res_SNN_checkpoint_2_2025-04-26_06-25-08/Att_Res_SNN_MatplotOutputs/output-0-batch-4-20250426-062521.png (deflated 8%)\n",
            "  adding: Att_Res_SNN_saved_images/Att_Res_SNN_checkpoint_2_2025-04-26_06-25-08/Att_Res_SNN_MatplotOutputs/output-0-batch-12-20250426-062540.png (deflated 8%)\n",
            "  adding: Att_Res_SNN_saved_images/Att_Res_SNN_checkpoint_2_2025-04-26_06-25-08/Att_Res_SNN_MatplotOutputs/output-0-batch-7-20250426-062528.png (deflated 9%)\n",
            "  adding: Att_Res_SNN_saved_images/Att_Res_SNN_checkpoint_2_2025-04-26_06-25-08/Att_Res_SNN_MatplotOutputs/output-0-batch-9-20250426-062533.png (deflated 9%)\n",
            "  adding: Att_Res_SNN_saved_images/Att_Res_SNN_checkpoint_2_2025-04-26_06-25-08/Att_Res_SNN_MatplotOutputs/output-0-batch-5-20250426-062524.png (deflated 9%)\n",
            "  adding: Att_Res_SNN_saved_images/Att_Res_SNN_checkpoint_2_2025-04-26_06-25-08/original_9.png (deflated 1%)\n",
            "  adding: Att_Res_SNN_saved_images/Att_Res_SNN_checkpoint_2_2025-04-26_06-25-08/12.png (deflated 41%)\n",
            "  adding: Att_Res_SNN_saved_images/Att_Res_SNN_checkpoint_2_2025-04-26_06-25-08/0.png (deflated 47%)\n",
            "  adding: Att_Res_SNN_saved_images/Att_Res_SNN_checkpoint_2_2025-04-26_06-25-08/13.png (deflated 43%)\n",
            "  adding: Att_Res_SNN_saved_images/Att_Res_SNN_checkpoint_2_2025-04-26_06-25-08/original_7.png (deflated 1%)\n",
            "  adding: Att_Res_SNN_saved_images/Att_Res_SNN_checkpoint_2_2025-04-26_06-25-08/original_4.png (deflated 1%)\n",
            "  adding: Att_Res_SNN_saved_images/Att_Res_SNN_checkpoint_2_2025-04-26_06-25-08/7.png (deflated 34%)\n",
            "  adding: Att_Res_SNN_saved_images/Att_Res_SNN_checkpoint_2_2025-04-26_06-25-08/accuracy_20250426-062542.png (deflated 27%)\n",
            "  adding: Att_Res_SNN_saved_images/Att_Res_SNN_checkpoint_2_2025-04-26_06-25-08/8.png (deflated 42%)\n",
            "  adding: Att_Res_SNN_saved_images/Att_Res_SNN_checkpoint_2_2025-04-26_06-25-08/pred_6-20250426-062524.png (deflated 98%)\n",
            "  adding: Att_Res_SNN_saved_images/Att_Res_SNN_checkpoint_2_2025-04-26_06-25-08/original_5.png (deflated 1%)\n",
            "  adding: Att_Res_SNN_saved_images/Att_Res_SNN_checkpoint_2_2025-04-26_06-25-08/loss_20250426-062542.png (deflated 15%)\n",
            "  adding: Att_Res_SNN_saved_images/Att_Res_SNN_checkpoint_2_2025-04-26_06-25-08/3.png (deflated 45%)\n",
            "  adding: Att_Res_SNN_saved_images/Att_Res_SNN_checkpoint_2_2025-04-26_06-25-08/original_11.png (deflated 1%)\n",
            "  adding: Att_Res_SNN_saved_images/Att_Res_SNN_checkpoint_2_2025-04-26_06-25-08/2.png (deflated 43%)\n",
            "  adding: Att_Res_SNN_saved_images/Att_Res_SNN_checkpoint_2_2025-04-26_06-25-08/pred_13-20250426-062540.png (deflated 98%)\n",
            "  adding: Att_Res_SNN_saved_images/Att_Res_SNN_checkpoint_2_2025-04-26_06-25-08/pred_10-20250426-062533.png (deflated 98%)\n",
            "  adding: Att_Res_SNN_saved_images/Att_Res_SNN_checkpoint_2_2025-04-26_06-25-08/original_10.png (deflated 1%)\n",
            "  adding: Att_Res_SNN_saved_images/Att_Res_SNN_checkpoint_2_2025-04-26_06-25-08/original_3.png (deflated 1%)\n",
            "  adding: Att_Res_SNN_saved_images/Att_Res_SNN_checkpoint_2_2025-04-26_06-25-08/pred_4-20250426-062519.png (deflated 98%)\n",
            "  adding: Att_Res_SNN_saved_images/Att_Res_SNN_checkpoint_2_2025-04-26_06-25-08/pred_0-20250426-062508.png (deflated 98%)\n",
            "  adding: Att_Res_SNN_saved_images/Att_Res_SNN_checkpoint_2_2025-04-26_06-21-42/ (stored 0%)\n",
            "  adding: Att_Res_SNN_saved_images/Att_Res_SNN_checkpoint_2_2025-04-26_06-21-42/pred_0-20250426-062142.png (deflated 98%)\n",
            "  adding: Att_Res_SNN_saved_images/Att_Res_SNN_checkpoint_2_2025-04-26_06-21-42/pred_7-20250426-062142.png (deflated 98%)\n",
            "  adding: Att_Res_SNN_saved_images/Att_Res_SNN_checkpoint_2_2025-04-26_06-21-42/pred_10-20250426-062142.png (deflated 98%)\n",
            "  adding: Att_Res_SNN_saved_images/Att_Res_SNN_checkpoint_2_2025-04-26_06-21-42/5.png (deflated 35%)\n",
            "  adding: Att_Res_SNN_saved_images/Att_Res_SNN_checkpoint_2_2025-04-26_06-21-42/pred_2-20250426-062142.png (deflated 98%)\n",
            "  adding: Att_Res_SNN_saved_images/Att_Res_SNN_checkpoint_2_2025-04-26_06-21-42/original_1.png (deflated 1%)\n",
            "  adding: Att_Res_SNN_saved_images/Att_Res_SNN_checkpoint_2_2025-04-26_06-21-42/original_13.png (deflated 1%)\n",
            "  adding: Att_Res_SNN_saved_images/Att_Res_SNN_checkpoint_2_2025-04-26_06-21-42/pred_12-20250426-062142.png (deflated 98%)\n",
            "  adding: Att_Res_SNN_saved_images/Att_Res_SNN_checkpoint_2_2025-04-26_06-21-42/6.png (deflated 39%)\n",
            "  adding: Att_Res_SNN_saved_images/Att_Res_SNN_checkpoint_2_2025-04-26_06-21-42/original_6.png (deflated 2%)\n",
            "  adding: Att_Res_SNN_saved_images/Att_Res_SNN_checkpoint_2_2025-04-26_06-21-42/11.png (deflated 34%)\n",
            "  adding: Att_Res_SNN_saved_images/Att_Res_SNN_checkpoint_2_2025-04-26_06-21-42/pred_4-20250426-062142.png (deflated 98%)\n",
            "  adding: Att_Res_SNN_saved_images/Att_Res_SNN_checkpoint_2_2025-04-26_06-21-42/original_0.png (deflated 1%)\n",
            "  adding: Att_Res_SNN_saved_images/Att_Res_SNN_checkpoint_2_2025-04-26_06-21-42/original_2.png (deflated 1%)\n",
            "  adding: Att_Res_SNN_saved_images/Att_Res_SNN_checkpoint_2_2025-04-26_06-21-42/pred_9-20250426-062142.png (deflated 98%)\n",
            "  adding: Att_Res_SNN_saved_images/Att_Res_SNN_checkpoint_2_2025-04-26_06-21-42/pred_6-20250426-062142.png (deflated 98%)\n",
            "  adding: Att_Res_SNN_saved_images/Att_Res_SNN_checkpoint_2_2025-04-26_06-21-42/9.png (deflated 36%)\n",
            "  adding: Att_Res_SNN_saved_images/Att_Res_SNN_checkpoint_2_2025-04-26_06-21-42/1.png (deflated 56%)\n",
            "  adding: Att_Res_SNN_saved_images/Att_Res_SNN_checkpoint_2_2025-04-26_06-21-42/original_12.png (deflated 1%)\n",
            "  adding: Att_Res_SNN_saved_images/Att_Res_SNN_checkpoint_2_2025-04-26_06-21-42/original_8.png (deflated 2%)\n",
            "  adding: Att_Res_SNN_saved_images/Att_Res_SNN_checkpoint_2_2025-04-26_06-21-42/10.png (deflated 40%)\n",
            "  adding: Att_Res_SNN_saved_images/Att_Res_SNN_checkpoint_2_2025-04-26_06-21-42/4.png (deflated 38%)\n",
            "  adding: Att_Res_SNN_saved_images/Att_Res_SNN_checkpoint_2_2025-04-26_06-21-42/Att_Res_SNN_MatplotOutputs/ (stored 0%)\n",
            "  adding: Att_Res_SNN_saved_images/Att_Res_SNN_checkpoint_2_2025-04-26_06-21-42/original_9.png (deflated 1%)\n",
            "  adding: Att_Res_SNN_saved_images/Att_Res_SNN_checkpoint_2_2025-04-26_06-21-42/12.png (deflated 41%)\n",
            "  adding: Att_Res_SNN_saved_images/Att_Res_SNN_checkpoint_2_2025-04-26_06-21-42/pred_13-20250426-062142.png (deflated 98%)\n",
            "  adding: Att_Res_SNN_saved_images/Att_Res_SNN_checkpoint_2_2025-04-26_06-21-42/0.png (deflated 47%)\n",
            "  adding: Att_Res_SNN_saved_images/Att_Res_SNN_checkpoint_2_2025-04-26_06-21-42/13.png (deflated 43%)\n",
            "  adding: Att_Res_SNN_saved_images/Att_Res_SNN_checkpoint_2_2025-04-26_06-21-42/original_7.png (deflated 1%)\n",
            "  adding: Att_Res_SNN_saved_images/Att_Res_SNN_checkpoint_2_2025-04-26_06-21-42/pred_11-20250426-062142.png (deflated 98%)\n",
            "  adding: Att_Res_SNN_saved_images/Att_Res_SNN_checkpoint_2_2025-04-26_06-21-42/pred_3-20250426-062142.png (deflated 98%)\n",
            "  adding: Att_Res_SNN_saved_images/Att_Res_SNN_checkpoint_2_2025-04-26_06-21-42/pred_5-20250426-062142.png (deflated 98%)\n",
            "  adding: Att_Res_SNN_saved_images/Att_Res_SNN_checkpoint_2_2025-04-26_06-21-42/original_4.png (deflated 1%)\n",
            "  adding: Att_Res_SNN_saved_images/Att_Res_SNN_checkpoint_2_2025-04-26_06-21-42/7.png (deflated 34%)\n",
            "  adding: Att_Res_SNN_saved_images/Att_Res_SNN_checkpoint_2_2025-04-26_06-21-42/pred_8-20250426-062142.png (deflated 98%)\n",
            "  adding: Att_Res_SNN_saved_images/Att_Res_SNN_checkpoint_2_2025-04-26_06-21-42/8.png (deflated 42%)\n",
            "  adding: Att_Res_SNN_saved_images/Att_Res_SNN_checkpoint_2_2025-04-26_06-21-42/pred_1-20250426-062142.png (deflated 98%)\n",
            "  adding: Att_Res_SNN_saved_images/Att_Res_SNN_checkpoint_2_2025-04-26_06-21-42/original_5.png (deflated 1%)\n",
            "  adding: Att_Res_SNN_saved_images/Att_Res_SNN_checkpoint_2_2025-04-26_06-21-42/3.png (deflated 45%)\n",
            "  adding: Att_Res_SNN_saved_images/Att_Res_SNN_checkpoint_2_2025-04-26_06-21-42/original_11.png (deflated 1%)\n",
            "  adding: Att_Res_SNN_saved_images/Att_Res_SNN_checkpoint_2_2025-04-26_06-21-42/2.png (deflated 43%)\n",
            "  adding: Att_Res_SNN_saved_images/Att_Res_SNN_checkpoint_2_2025-04-26_06-21-42/original_10.png (deflated 1%)\n",
            "  adding: Att_Res_SNN_saved_images/Att_Res_SNN_checkpoint_2_2025-04-26_06-21-42/original_3.png (deflated 1%)\n",
            "  adding: Att_Res_SNN_saved_images/Att_Res_SNN_checkpoint_7_2025-04-26_07-03-30/ (stored 0%)\n",
            "  adding: Att_Res_SNN_saved_images/Att_Res_SNN_checkpoint_7_2025-04-26_07-03-30/5.png (deflated 35%)\n",
            "  adding: Att_Res_SNN_saved_images/Att_Res_SNN_checkpoint_7_2025-04-26_07-03-30/pred_8-20250426-070350.png (deflated 59%)\n",
            "  adding: Att_Res_SNN_saved_images/Att_Res_SNN_checkpoint_7_2025-04-26_07-03-30/original_1.png (deflated 1%)\n",
            "  adding: Att_Res_SNN_saved_images/Att_Res_SNN_checkpoint_7_2025-04-26_07-03-30/original_13.png (deflated 1%)\n",
            "  adding: Att_Res_SNN_saved_images/Att_Res_SNN_checkpoint_7_2025-04-26_07-03-30/6.png (deflated 39%)\n",
            "  adding: Att_Res_SNN_saved_images/Att_Res_SNN_checkpoint_7_2025-04-26_07-03-30/original_6.png (deflated 2%)\n",
            "  adding: Att_Res_SNN_saved_images/Att_Res_SNN_checkpoint_7_2025-04-26_07-03-30/11.png (deflated 34%)\n",
            "  adding: Att_Res_SNN_saved_images/Att_Res_SNN_checkpoint_7_2025-04-26_07-03-30/pred_13-20250426-070402.png (deflated 63%)\n",
            "  adding: Att_Res_SNN_saved_images/Att_Res_SNN_checkpoint_7_2025-04-26_07-03-30/pred_7-20250426-070348.png (deflated 45%)\n",
            "  adding: Att_Res_SNN_saved_images/Att_Res_SNN_checkpoint_7_2025-04-26_07-03-30/original_0.png (deflated 1%)\n",
            "  adding: Att_Res_SNN_saved_images/Att_Res_SNN_checkpoint_7_2025-04-26_07-03-30/original_2.png (deflated 1%)\n",
            "  adding: Att_Res_SNN_saved_images/Att_Res_SNN_checkpoint_7_2025-04-26_07-03-30/pred_3-20250426-070339.png (deflated 53%)\n",
            "  adding: Att_Res_SNN_saved_images/Att_Res_SNN_checkpoint_7_2025-04-26_07-03-30/9.png (deflated 36%)\n",
            "  adding: Att_Res_SNN_saved_images/Att_Res_SNN_checkpoint_7_2025-04-26_07-03-30/1.png (deflated 56%)\n",
            "  adding: Att_Res_SNN_saved_images/Att_Res_SNN_checkpoint_7_2025-04-26_07-03-30/accuracy_20250426-070404.png (deflated 9%)\n",
            "  adding: Att_Res_SNN_saved_images/Att_Res_SNN_checkpoint_7_2025-04-26_07-03-30/pred_2-20250426-070337.png (deflated 50%)\n",
            "  adding: Att_Res_SNN_saved_images/Att_Res_SNN_checkpoint_7_2025-04-26_07-03-30/original_12.png (deflated 1%)\n",
            "  adding: Att_Res_SNN_saved_images/Att_Res_SNN_checkpoint_7_2025-04-26_07-03-30/dice_20250426-070404.png (deflated 11%)\n",
            "  adding: Att_Res_SNN_saved_images/Att_Res_SNN_checkpoint_7_2025-04-26_07-03-30/original_8.png (deflated 2%)\n",
            "  adding: Att_Res_SNN_saved_images/Att_Res_SNN_checkpoint_7_2025-04-26_07-03-30/pred_9-20250426-070352.png (deflated 44%)\n",
            "  adding: Att_Res_SNN_saved_images/Att_Res_SNN_checkpoint_7_2025-04-26_07-03-30/10.png (deflated 40%)\n",
            "  adding: Att_Res_SNN_saved_images/Att_Res_SNN_checkpoint_7_2025-04-26_07-03-30/4.png (deflated 38%)\n",
            "  adding: Att_Res_SNN_saved_images/Att_Res_SNN_checkpoint_7_2025-04-26_07-03-30/pred_4-20250426-070341.png (deflated 51%)\n",
            "  adding: Att_Res_SNN_saved_images/Att_Res_SNN_checkpoint_7_2025-04-26_07-03-30/Att_Res_SNN_MatplotOutputs/ (stored 0%)\n",
            "  adding: Att_Res_SNN_saved_images/Att_Res_SNN_checkpoint_7_2025-04-26_07-03-30/Att_Res_SNN_MatplotOutputs/output-0-batch-5-20250426-070346.png (deflated 8%)\n",
            "  adding: Att_Res_SNN_saved_images/Att_Res_SNN_checkpoint_7_2025-04-26_07-03-30/Att_Res_SNN_MatplotOutputs/output-0-batch-10-20250426-070357.png (deflated 8%)\n",
            "  adding: Att_Res_SNN_saved_images/Att_Res_SNN_checkpoint_7_2025-04-26_07-03-30/Att_Res_SNN_MatplotOutputs/output-0-batch-11-20250426-070359.png (deflated 7%)\n",
            "  adding: Att_Res_SNN_saved_images/Att_Res_SNN_checkpoint_7_2025-04-26_07-03-30/Att_Res_SNN_MatplotOutputs/output-0-batch-7-20250426-070350.png (deflated 8%)\n",
            "  adding: Att_Res_SNN_saved_images/Att_Res_SNN_checkpoint_7_2025-04-26_07-03-30/Att_Res_SNN_MatplotOutputs/output-0-batch-13-20250426-070404.png (deflated 8%)\n",
            "  adding: Att_Res_SNN_saved_images/Att_Res_SNN_checkpoint_7_2025-04-26_07-03-30/Att_Res_SNN_MatplotOutputs/output-0-batch-2-20250426-070339.png (deflated 8%)\n",
            "  adding: Att_Res_SNN_saved_images/Att_Res_SNN_checkpoint_7_2025-04-26_07-03-30/Att_Res_SNN_MatplotOutputs/output-0-batch-12-20250426-070402.png (deflated 8%)\n",
            "  adding: Att_Res_SNN_saved_images/Att_Res_SNN_checkpoint_7_2025-04-26_07-03-30/Att_Res_SNN_MatplotOutputs/output-0-batch-1-20250426-070337.png (deflated 10%)\n",
            "  adding: Att_Res_SNN_saved_images/Att_Res_SNN_checkpoint_7_2025-04-26_07-03-30/Att_Res_SNN_MatplotOutputs/output-0-batch-8-20250426-070352.png (deflated 8%)\n",
            "  adding: Att_Res_SNN_saved_images/Att_Res_SNN_checkpoint_7_2025-04-26_07-03-30/Att_Res_SNN_MatplotOutputs/output-0-batch-4-20250426-070343.png (deflated 8%)\n",
            "  adding: Att_Res_SNN_saved_images/Att_Res_SNN_checkpoint_7_2025-04-26_07-03-30/Att_Res_SNN_MatplotOutputs/output-0-batch-9-20250426-070355.png (deflated 9%)\n",
            "  adding: Att_Res_SNN_saved_images/Att_Res_SNN_checkpoint_7_2025-04-26_07-03-30/Att_Res_SNN_MatplotOutputs/output-0-batch-6-20250426-070348.png (deflated 9%)\n",
            "  adding: Att_Res_SNN_saved_images/Att_Res_SNN_checkpoint_7_2025-04-26_07-03-30/Att_Res_SNN_MatplotOutputs/output-0-batch-0-20250426-070335.png (deflated 8%)\n",
            "  adding: Att_Res_SNN_saved_images/Att_Res_SNN_checkpoint_7_2025-04-26_07-03-30/Att_Res_SNN_MatplotOutputs/output-0-batch-3-20250426-070341.png (deflated 9%)\n",
            "  adding: Att_Res_SNN_saved_images/Att_Res_SNN_checkpoint_7_2025-04-26_07-03-30/original_9.png (deflated 1%)\n",
            "  adding: Att_Res_SNN_saved_images/Att_Res_SNN_checkpoint_7_2025-04-26_07-03-30/12.png (deflated 41%)\n",
            "  adding: Att_Res_SNN_saved_images/Att_Res_SNN_checkpoint_7_2025-04-26_07-03-30/pred_5-20250426-070343.png (deflated 52%)\n",
            "  adding: Att_Res_SNN_saved_images/Att_Res_SNN_checkpoint_7_2025-04-26_07-03-30/loss_20250426-070404.png (deflated 15%)\n",
            "  adding: Att_Res_SNN_saved_images/Att_Res_SNN_checkpoint_7_2025-04-26_07-03-30/0.png (deflated 47%)\n",
            "  adding: Att_Res_SNN_saved_images/Att_Res_SNN_checkpoint_7_2025-04-26_07-03-30/13.png (deflated 43%)\n",
            "  adding: Att_Res_SNN_saved_images/Att_Res_SNN_checkpoint_7_2025-04-26_07-03-30/original_7.png (deflated 1%)\n",
            "  adding: Att_Res_SNN_saved_images/Att_Res_SNN_checkpoint_7_2025-04-26_07-03-30/nasar_20250426-070404.png (deflated 12%)\n",
            "  adding: Att_Res_SNN_saved_images/Att_Res_SNN_checkpoint_7_2025-04-26_07-03-30/pred_1-20250426-070335.png (deflated 63%)\n",
            "  adding: Att_Res_SNN_saved_images/Att_Res_SNN_checkpoint_7_2025-04-26_07-03-30/pred_0-20250426-070330.png (deflated 62%)\n",
            "  adding: Att_Res_SNN_saved_images/Att_Res_SNN_checkpoint_7_2025-04-26_07-03-30/pred_12-20250426-070359.png (deflated 52%)\n",
            "  adding: Att_Res_SNN_saved_images/Att_Res_SNN_checkpoint_7_2025-04-26_07-03-30/original_4.png (deflated 1%)\n",
            "  adding: Att_Res_SNN_saved_images/Att_Res_SNN_checkpoint_7_2025-04-26_07-03-30/7.png (deflated 34%)\n",
            "  adding: Att_Res_SNN_saved_images/Att_Res_SNN_checkpoint_7_2025-04-26_07-03-30/8.png (deflated 42%)\n",
            "  adding: Att_Res_SNN_saved_images/Att_Res_SNN_checkpoint_7_2025-04-26_07-03-30/original_5.png (deflated 1%)\n",
            "  adding: Att_Res_SNN_saved_images/Att_Res_SNN_checkpoint_7_2025-04-26_07-03-30/3.png (deflated 45%)\n",
            "  adding: Att_Res_SNN_saved_images/Att_Res_SNN_checkpoint_7_2025-04-26_07-03-30/pred_6-20250426-070346.png (deflated 50%)\n",
            "  adding: Att_Res_SNN_saved_images/Att_Res_SNN_checkpoint_7_2025-04-26_07-03-30/original_11.png (deflated 1%)\n",
            "  adding: Att_Res_SNN_saved_images/Att_Res_SNN_checkpoint_7_2025-04-26_07-03-30/pred_10-20250426-070355.png (deflated 43%)\n",
            "  adding: Att_Res_SNN_saved_images/Att_Res_SNN_checkpoint_7_2025-04-26_07-03-30/2.png (deflated 43%)\n",
            "  adding: Att_Res_SNN_saved_images/Att_Res_SNN_checkpoint_7_2025-04-26_07-03-30/original_10.png (deflated 1%)\n",
            "  adding: Att_Res_SNN_saved_images/Att_Res_SNN_checkpoint_7_2025-04-26_07-03-30/original_3.png (deflated 1%)\n",
            "  adding: Att_Res_SNN_saved_images/Att_Res_SNN_checkpoint_7_2025-04-26_07-03-30/pred_11-20250426-070357.png (deflated 42%)\n",
            "  adding: Att_Res_SNN_saved_images/Att_Res_SNN_checkpoint_3_2025-04-26_06-36-04/ (stored 0%)\n",
            "  adding: Att_Res_SNN_saved_images/Att_Res_SNN_checkpoint_3_2025-04-26_06-36-04/5.png (deflated 35%)\n",
            "  adding: Att_Res_SNN_saved_images/Att_Res_SNN_checkpoint_3_2025-04-26_06-36-04/original_1.png (deflated 1%)\n",
            "  adding: Att_Res_SNN_saved_images/Att_Res_SNN_checkpoint_3_2025-04-26_06-36-04/pred_1-20250426-063604.png (deflated 98%)\n",
            "  adding: Att_Res_SNN_saved_images/Att_Res_SNN_checkpoint_3_2025-04-26_06-36-04/original_13.png (deflated 1%)\n",
            "  adding: Att_Res_SNN_saved_images/Att_Res_SNN_checkpoint_3_2025-04-26_06-36-04/pred_0-20250426-063604.png (deflated 98%)\n",
            "  adding: Att_Res_SNN_saved_images/Att_Res_SNN_checkpoint_3_2025-04-26_06-36-04/pred_6-20250426-063604.png (deflated 95%)\n",
            "  adding: Att_Res_SNN_saved_images/Att_Res_SNN_checkpoint_3_2025-04-26_06-36-04/6.png (deflated 39%)\n",
            "  adding: Att_Res_SNN_saved_images/Att_Res_SNN_checkpoint_3_2025-04-26_06-36-04/pred_13-20250426-063604.png (deflated 98%)\n",
            "  adding: Att_Res_SNN_saved_images/Att_Res_SNN_checkpoint_3_2025-04-26_06-36-04/original_6.png (deflated 2%)\n",
            "  adding: Att_Res_SNN_saved_images/Att_Res_SNN_checkpoint_3_2025-04-26_06-36-04/11.png (deflated 34%)\n",
            "  adding: Att_Res_SNN_saved_images/Att_Res_SNN_checkpoint_3_2025-04-26_06-36-04/original_0.png (deflated 1%)\n",
            "  adding: Att_Res_SNN_saved_images/Att_Res_SNN_checkpoint_3_2025-04-26_06-36-04/original_2.png (deflated 1%)\n",
            "  adding: Att_Res_SNN_saved_images/Att_Res_SNN_checkpoint_3_2025-04-26_06-36-04/9.png (deflated 36%)\n",
            "  adding: Att_Res_SNN_saved_images/Att_Res_SNN_checkpoint_3_2025-04-26_06-36-04/1.png (deflated 56%)\n",
            "  adding: Att_Res_SNN_saved_images/Att_Res_SNN_checkpoint_3_2025-04-26_06-36-04/original_12.png (deflated 1%)\n",
            "  adding: Att_Res_SNN_saved_images/Att_Res_SNN_checkpoint_3_2025-04-26_06-36-04/pred_7-20250426-063604.png (deflated 97%)\n",
            "  adding: Att_Res_SNN_saved_images/Att_Res_SNN_checkpoint_3_2025-04-26_06-36-04/original_8.png (deflated 2%)\n",
            "  adding: Att_Res_SNN_saved_images/Att_Res_SNN_checkpoint_3_2025-04-26_06-36-04/10.png (deflated 40%)\n",
            "  adding: Att_Res_SNN_saved_images/Att_Res_SNN_checkpoint_3_2025-04-26_06-36-04/4.png (deflated 38%)\n",
            "  adding: Att_Res_SNN_saved_images/Att_Res_SNN_checkpoint_3_2025-04-26_06-36-04/Att_Res_SNN_MatplotOutputs/ (stored 0%)\n",
            "  adding: Att_Res_SNN_saved_images/Att_Res_SNN_checkpoint_3_2025-04-26_06-36-04/original_9.png (deflated 1%)\n",
            "  adding: Att_Res_SNN_saved_images/Att_Res_SNN_checkpoint_3_2025-04-26_06-36-04/12.png (deflated 41%)\n",
            "  adding: Att_Res_SNN_saved_images/Att_Res_SNN_checkpoint_3_2025-04-26_06-36-04/pred_2-20250426-063604.png (deflated 98%)\n",
            "  adding: Att_Res_SNN_saved_images/Att_Res_SNN_checkpoint_3_2025-04-26_06-36-04/pred_8-20250426-063604.png (deflated 98%)\n",
            "  adding: Att_Res_SNN_saved_images/Att_Res_SNN_checkpoint_3_2025-04-26_06-36-04/0.png (deflated 47%)\n",
            "  adding: Att_Res_SNN_saved_images/Att_Res_SNN_checkpoint_3_2025-04-26_06-36-04/13.png (deflated 43%)\n",
            "  adding: Att_Res_SNN_saved_images/Att_Res_SNN_checkpoint_3_2025-04-26_06-36-04/original_7.png (deflated 1%)\n",
            "  adding: Att_Res_SNN_saved_images/Att_Res_SNN_checkpoint_3_2025-04-26_06-36-04/original_4.png (deflated 1%)\n",
            "  adding: Att_Res_SNN_saved_images/Att_Res_SNN_checkpoint_3_2025-04-26_06-36-04/pred_3-20250426-063604.png (deflated 98%)\n",
            "  adding: Att_Res_SNN_saved_images/Att_Res_SNN_checkpoint_3_2025-04-26_06-36-04/7.png (deflated 34%)\n",
            "  adding: Att_Res_SNN_saved_images/Att_Res_SNN_checkpoint_3_2025-04-26_06-36-04/pred_10-20250426-063604.png (deflated 98%)\n",
            "  adding: Att_Res_SNN_saved_images/Att_Res_SNN_checkpoint_3_2025-04-26_06-36-04/pred_4-20250426-063604.png (deflated 88%)\n",
            "  adding: Att_Res_SNN_saved_images/Att_Res_SNN_checkpoint_3_2025-04-26_06-36-04/8.png (deflated 42%)\n",
            "  adding: Att_Res_SNN_saved_images/Att_Res_SNN_checkpoint_3_2025-04-26_06-36-04/original_5.png (deflated 1%)\n",
            "  adding: Att_Res_SNN_saved_images/Att_Res_SNN_checkpoint_3_2025-04-26_06-36-04/pred_5-20250426-063604.png (deflated 94%)\n",
            "  adding: Att_Res_SNN_saved_images/Att_Res_SNN_checkpoint_3_2025-04-26_06-36-04/3.png (deflated 45%)\n",
            "  adding: Att_Res_SNN_saved_images/Att_Res_SNN_checkpoint_3_2025-04-26_06-36-04/pred_12-20250426-063604.png (deflated 96%)\n",
            "  adding: Att_Res_SNN_saved_images/Att_Res_SNN_checkpoint_3_2025-04-26_06-36-04/original_11.png (deflated 1%)\n",
            "  adding: Att_Res_SNN_saved_images/Att_Res_SNN_checkpoint_3_2025-04-26_06-36-04/pred_9-20250426-063604.png (deflated 98%)\n",
            "  adding: Att_Res_SNN_saved_images/Att_Res_SNN_checkpoint_3_2025-04-26_06-36-04/pred_11-20250426-063604.png (deflated 98%)\n",
            "  adding: Att_Res_SNN_saved_images/Att_Res_SNN_checkpoint_3_2025-04-26_06-36-04/2.png (deflated 43%)\n",
            "  adding: Att_Res_SNN_saved_images/Att_Res_SNN_checkpoint_3_2025-04-26_06-36-04/original_10.png (deflated 1%)\n",
            "  adding: Att_Res_SNN_saved_images/Att_Res_SNN_checkpoint_3_2025-04-26_06-36-04/original_3.png (deflated 1%)\n",
            "  adding: Att_Res_SNN_saved_images/Att_Res_SNN_checkpoint_4_2025-04-26_06-39-29/ (stored 0%)\n",
            "  adding: Att_Res_SNN_saved_images/Att_Res_SNN_checkpoint_4_2025-04-26_06-39-29/5.png (deflated 35%)\n",
            "  adding: Att_Res_SNN_saved_images/Att_Res_SNN_checkpoint_4_2025-04-26_06-39-29/original_1.png (deflated 1%)\n",
            "  adding: Att_Res_SNN_saved_images/Att_Res_SNN_checkpoint_4_2025-04-26_06-39-29/original_13.png (deflated 1%)\n",
            "  adding: Att_Res_SNN_saved_images/Att_Res_SNN_checkpoint_4_2025-04-26_06-39-29/pred_2-20250426-063930.png (deflated 65%)\n",
            "  adding: Att_Res_SNN_saved_images/Att_Res_SNN_checkpoint_4_2025-04-26_06-39-29/pred_9-20250426-063930.png (deflated 63%)\n",
            "  adding: Att_Res_SNN_saved_images/Att_Res_SNN_checkpoint_4_2025-04-26_06-39-29/pred_5-20250426-063930.png (deflated 73%)\n",
            "  adding: Att_Res_SNN_saved_images/Att_Res_SNN_checkpoint_4_2025-04-26_06-39-29/pred_11-20250426-063930.png (deflated 64%)\n",
            "  adding: Att_Res_SNN_saved_images/Att_Res_SNN_checkpoint_4_2025-04-26_06-39-29/pred_0-20250426-063930.png (deflated 63%)\n",
            "  adding: Att_Res_SNN_saved_images/Att_Res_SNN_checkpoint_4_2025-04-26_06-39-29/6.png (deflated 39%)\n",
            "  adding: Att_Res_SNN_saved_images/Att_Res_SNN_checkpoint_4_2025-04-26_06-39-29/original_6.png (deflated 2%)\n",
            "  adding: Att_Res_SNN_saved_images/Att_Res_SNN_checkpoint_4_2025-04-26_06-39-29/11.png (deflated 34%)\n",
            "  adding: Att_Res_SNN_saved_images/Att_Res_SNN_checkpoint_4_2025-04-26_06-39-29/pred_7-20250426-063930.png (deflated 63%)\n",
            "  adding: Att_Res_SNN_saved_images/Att_Res_SNN_checkpoint_4_2025-04-26_06-39-29/pred_13-20250426-063930.png (deflated 66%)\n",
            "  adding: Att_Res_SNN_saved_images/Att_Res_SNN_checkpoint_4_2025-04-26_06-39-29/original_0.png (deflated 1%)\n",
            "  adding: Att_Res_SNN_saved_images/Att_Res_SNN_checkpoint_4_2025-04-26_06-39-29/original_2.png (deflated 1%)\n",
            "  adding: Att_Res_SNN_saved_images/Att_Res_SNN_checkpoint_4_2025-04-26_06-39-29/9.png (deflated 36%)\n",
            "  adding: Att_Res_SNN_saved_images/Att_Res_SNN_checkpoint_4_2025-04-26_06-39-29/1.png (deflated 56%)\n",
            "  adding: Att_Res_SNN_saved_images/Att_Res_SNN_checkpoint_4_2025-04-26_06-39-29/original_12.png (deflated 1%)\n",
            "  adding: Att_Res_SNN_saved_images/Att_Res_SNN_checkpoint_4_2025-04-26_06-39-29/original_8.png (deflated 2%)\n",
            "  adding: Att_Res_SNN_saved_images/Att_Res_SNN_checkpoint_4_2025-04-26_06-39-29/10.png (deflated 40%)\n",
            "  adding: Att_Res_SNN_saved_images/Att_Res_SNN_checkpoint_4_2025-04-26_06-39-29/4.png (deflated 38%)\n",
            "  adding: Att_Res_SNN_saved_images/Att_Res_SNN_checkpoint_4_2025-04-26_06-39-29/Att_Res_SNN_MatplotOutputs/ (stored 0%)\n",
            "  adding: Att_Res_SNN_saved_images/Att_Res_SNN_checkpoint_4_2025-04-26_06-39-29/original_9.png (deflated 1%)\n",
            "  adding: Att_Res_SNN_saved_images/Att_Res_SNN_checkpoint_4_2025-04-26_06-39-29/pred_12-20250426-063930.png (deflated 67%)\n",
            "  adding: Att_Res_SNN_saved_images/Att_Res_SNN_checkpoint_4_2025-04-26_06-39-29/pred_8-20250426-063930.png (deflated 77%)\n",
            "  adding: Att_Res_SNN_saved_images/Att_Res_SNN_checkpoint_4_2025-04-26_06-39-29/12.png (deflated 41%)\n",
            "  adding: Att_Res_SNN_saved_images/Att_Res_SNN_checkpoint_4_2025-04-26_06-39-29/0.png (deflated 47%)\n",
            "  adding: Att_Res_SNN_saved_images/Att_Res_SNN_checkpoint_4_2025-04-26_06-39-29/13.png (deflated 43%)\n",
            "  adding: Att_Res_SNN_saved_images/Att_Res_SNN_checkpoint_4_2025-04-26_06-39-29/pred_10-20250426-063930.png (deflated 62%)\n",
            "  adding: Att_Res_SNN_saved_images/Att_Res_SNN_checkpoint_4_2025-04-26_06-39-29/original_7.png (deflated 1%)\n",
            "  adding: Att_Res_SNN_saved_images/Att_Res_SNN_checkpoint_4_2025-04-26_06-39-29/original_4.png (deflated 1%)\n",
            "  adding: Att_Res_SNN_saved_images/Att_Res_SNN_checkpoint_4_2025-04-26_06-39-29/7.png (deflated 34%)\n",
            "  adding: Att_Res_SNN_saved_images/Att_Res_SNN_checkpoint_4_2025-04-26_06-39-29/8.png (deflated 42%)\n",
            "  adding: Att_Res_SNN_saved_images/Att_Res_SNN_checkpoint_4_2025-04-26_06-39-29/pred_6-20250426-063930.png (deflated 63%)\n",
            "  adding: Att_Res_SNN_saved_images/Att_Res_SNN_checkpoint_4_2025-04-26_06-39-29/original_5.png (deflated 1%)\n",
            "  adding: Att_Res_SNN_saved_images/Att_Res_SNN_checkpoint_4_2025-04-26_06-39-29/3.png (deflated 45%)\n",
            "  adding: Att_Res_SNN_saved_images/Att_Res_SNN_checkpoint_4_2025-04-26_06-39-29/pred_4-20250426-063930.png (deflated 62%)\n",
            "  adding: Att_Res_SNN_saved_images/Att_Res_SNN_checkpoint_4_2025-04-26_06-39-29/original_11.png (deflated 1%)\n",
            "  adding: Att_Res_SNN_saved_images/Att_Res_SNN_checkpoint_4_2025-04-26_06-39-29/pred_1-20250426-063930.png (deflated 70%)\n",
            "  adding: Att_Res_SNN_saved_images/Att_Res_SNN_checkpoint_4_2025-04-26_06-39-29/2.png (deflated 43%)\n",
            "  adding: Att_Res_SNN_saved_images/Att_Res_SNN_checkpoint_4_2025-04-26_06-39-29/pred_3-20250426-063930.png (deflated 73%)\n",
            "  adding: Att_Res_SNN_saved_images/Att_Res_SNN_checkpoint_4_2025-04-26_06-39-29/original_10.png (deflated 1%)\n",
            "  adding: Att_Res_SNN_saved_images/Att_Res_SNN_checkpoint_4_2025-04-26_06-39-29/original_3.png (deflated 1%)\n",
            "  adding: Att_Res_SNN_saved_images/Att_Res_SNN_checkpoint_2_2025-04-26_06-32-38/ (stored 0%)\n",
            "  adding: Att_Res_SNN_saved_images/Att_Res_SNN_checkpoint_2_2025-04-26_06-32-38/pred_12-20250426-063239.png (deflated 98%)\n",
            "  adding: Att_Res_SNN_saved_images/Att_Res_SNN_checkpoint_2_2025-04-26_06-32-38/5.png (deflated 35%)\n",
            "  adding: Att_Res_SNN_saved_images/Att_Res_SNN_checkpoint_2_2025-04-26_06-32-38/pred_7-20250426-063239.png (deflated 98%)\n",
            "  adding: Att_Res_SNN_saved_images/Att_Res_SNN_checkpoint_2_2025-04-26_06-32-38/original_1.png (deflated 1%)\n",
            "  adding: Att_Res_SNN_saved_images/Att_Res_SNN_checkpoint_2_2025-04-26_06-32-38/pred_10-20250426-063239.png (deflated 98%)\n",
            "  adding: Att_Res_SNN_saved_images/Att_Res_SNN_checkpoint_2_2025-04-26_06-32-38/original_13.png (deflated 1%)\n",
            "  adding: Att_Res_SNN_saved_images/Att_Res_SNN_checkpoint_2_2025-04-26_06-32-38/pred_0-20250426-063239.png (deflated 98%)\n",
            "  adding: Att_Res_SNN_saved_images/Att_Res_SNN_checkpoint_2_2025-04-26_06-32-38/pred_5-20250426-063239.png (deflated 98%)\n",
            "  adding: Att_Res_SNN_saved_images/Att_Res_SNN_checkpoint_2_2025-04-26_06-32-38/6.png (deflated 39%)\n",
            "  adding: Att_Res_SNN_saved_images/Att_Res_SNN_checkpoint_2_2025-04-26_06-32-38/original_6.png (deflated 2%)\n",
            "  adding: Att_Res_SNN_saved_images/Att_Res_SNN_checkpoint_2_2025-04-26_06-32-38/11.png (deflated 34%)\n",
            "  adding: Att_Res_SNN_saved_images/Att_Res_SNN_checkpoint_2_2025-04-26_06-32-38/original_0.png (deflated 1%)\n",
            "  adding: Att_Res_SNN_saved_images/Att_Res_SNN_checkpoint_2_2025-04-26_06-32-38/original_2.png (deflated 1%)\n",
            "  adding: Att_Res_SNN_saved_images/Att_Res_SNN_checkpoint_2_2025-04-26_06-32-38/9.png (deflated 36%)\n",
            "  adding: Att_Res_SNN_saved_images/Att_Res_SNN_checkpoint_2_2025-04-26_06-32-38/1.png (deflated 56%)\n",
            "  adding: Att_Res_SNN_saved_images/Att_Res_SNN_checkpoint_2_2025-04-26_06-32-38/original_12.png (deflated 1%)\n",
            "  adding: Att_Res_SNN_saved_images/Att_Res_SNN_checkpoint_2_2025-04-26_06-32-38/original_8.png (deflated 2%)\n",
            "  adding: Att_Res_SNN_saved_images/Att_Res_SNN_checkpoint_2_2025-04-26_06-32-38/10.png (deflated 40%)\n",
            "  adding: Att_Res_SNN_saved_images/Att_Res_SNN_checkpoint_2_2025-04-26_06-32-38/4.png (deflated 38%)\n",
            "  adding: Att_Res_SNN_saved_images/Att_Res_SNN_checkpoint_2_2025-04-26_06-32-38/Att_Res_SNN_MatplotOutputs/ (stored 0%)\n",
            "  adding: Att_Res_SNN_saved_images/Att_Res_SNN_checkpoint_2_2025-04-26_06-32-38/pred_8-20250426-063239.png (deflated 98%)\n",
            "  adding: Att_Res_SNN_saved_images/Att_Res_SNN_checkpoint_2_2025-04-26_06-32-38/original_9.png (deflated 1%)\n",
            "  adding: Att_Res_SNN_saved_images/Att_Res_SNN_checkpoint_2_2025-04-26_06-32-38/pred_1-20250426-063239.png (deflated 98%)\n",
            "  adding: Att_Res_SNN_saved_images/Att_Res_SNN_checkpoint_2_2025-04-26_06-32-38/12.png (deflated 41%)\n",
            "  adding: Att_Res_SNN_saved_images/Att_Res_SNN_checkpoint_2_2025-04-26_06-32-38/0.png (deflated 47%)\n",
            "  adding: Att_Res_SNN_saved_images/Att_Res_SNN_checkpoint_2_2025-04-26_06-32-38/13.png (deflated 43%)\n",
            "  adding: Att_Res_SNN_saved_images/Att_Res_SNN_checkpoint_2_2025-04-26_06-32-38/original_7.png (deflated 1%)\n",
            "  adding: Att_Res_SNN_saved_images/Att_Res_SNN_checkpoint_2_2025-04-26_06-32-38/pred_3-20250426-063239.png (deflated 98%)\n",
            "  adding: Att_Res_SNN_saved_images/Att_Res_SNN_checkpoint_2_2025-04-26_06-32-38/pred_6-20250426-063239.png (deflated 98%)\n",
            "  adding: Att_Res_SNN_saved_images/Att_Res_SNN_checkpoint_2_2025-04-26_06-32-38/pred_2-20250426-063239.png (deflated 98%)\n",
            "  adding: Att_Res_SNN_saved_images/Att_Res_SNN_checkpoint_2_2025-04-26_06-32-38/pred_4-20250426-063239.png (deflated 98%)\n",
            "  adding: Att_Res_SNN_saved_images/Att_Res_SNN_checkpoint_2_2025-04-26_06-32-38/original_4.png (deflated 1%)\n",
            "  adding: Att_Res_SNN_saved_images/Att_Res_SNN_checkpoint_2_2025-04-26_06-32-38/7.png (deflated 34%)\n",
            "  adding: Att_Res_SNN_saved_images/Att_Res_SNN_checkpoint_2_2025-04-26_06-32-38/8.png (deflated 42%)\n",
            "  adding: Att_Res_SNN_saved_images/Att_Res_SNN_checkpoint_2_2025-04-26_06-32-38/pred_13-20250426-063239.png (deflated 98%)\n",
            "  adding: Att_Res_SNN_saved_images/Att_Res_SNN_checkpoint_2_2025-04-26_06-32-38/pred_9-20250426-063239.png (deflated 98%)\n",
            "  adding: Att_Res_SNN_saved_images/Att_Res_SNN_checkpoint_2_2025-04-26_06-32-38/original_5.png (deflated 1%)\n",
            "  adding: Att_Res_SNN_saved_images/Att_Res_SNN_checkpoint_2_2025-04-26_06-32-38/pred_11-20250426-063239.png (deflated 98%)\n",
            "  adding: Att_Res_SNN_saved_images/Att_Res_SNN_checkpoint_2_2025-04-26_06-32-38/3.png (deflated 45%)\n",
            "  adding: Att_Res_SNN_saved_images/Att_Res_SNN_checkpoint_2_2025-04-26_06-32-38/original_11.png (deflated 1%)\n",
            "  adding: Att_Res_SNN_saved_images/Att_Res_SNN_checkpoint_2_2025-04-26_06-32-38/2.png (deflated 43%)\n",
            "  adding: Att_Res_SNN_saved_images/Att_Res_SNN_checkpoint_2_2025-04-26_06-32-38/original_10.png (deflated 1%)\n",
            "  adding: Att_Res_SNN_saved_images/Att_Res_SNN_checkpoint_2_2025-04-26_06-32-38/original_3.png (deflated 1%)\n",
            "  adding: Att_Res_SNN_saved_images/Att_Res_SNN_checkpoint_7_2025-04-26_06-53-13/ (stored 0%)\n",
            "  adding: Att_Res_SNN_saved_images/Att_Res_SNN_checkpoint_7_2025-04-26_06-53-13/5.png (deflated 35%)\n",
            "  adding: Att_Res_SNN_saved_images/Att_Res_SNN_checkpoint_7_2025-04-26_06-53-13/original_1.png (deflated 1%)\n",
            "  adding: Att_Res_SNN_saved_images/Att_Res_SNN_checkpoint_7_2025-04-26_06-53-13/pred_0-20250426-065313.png (deflated 50%)\n",
            "  adding: Att_Res_SNN_saved_images/Att_Res_SNN_checkpoint_7_2025-04-26_06-53-13/original_13.png (deflated 1%)\n",
            "  adding: Att_Res_SNN_saved_images/Att_Res_SNN_checkpoint_7_2025-04-26_06-53-13/pred_3-20250426-065313.png (deflated 55%)\n",
            "  adding: Att_Res_SNN_saved_images/Att_Res_SNN_checkpoint_7_2025-04-26_06-53-13/6.png (deflated 39%)\n",
            "  adding: Att_Res_SNN_saved_images/Att_Res_SNN_checkpoint_7_2025-04-26_06-53-13/original_6.png (deflated 2%)\n",
            "  adding: Att_Res_SNN_saved_images/Att_Res_SNN_checkpoint_7_2025-04-26_06-53-13/11.png (deflated 34%)\n",
            "  adding: Att_Res_SNN_saved_images/Att_Res_SNN_checkpoint_7_2025-04-26_06-53-13/pred_12-20250426-065313.png (deflated 47%)\n",
            "  adding: Att_Res_SNN_saved_images/Att_Res_SNN_checkpoint_7_2025-04-26_06-53-13/original_0.png (deflated 1%)\n",
            "  adding: Att_Res_SNN_saved_images/Att_Res_SNN_checkpoint_7_2025-04-26_06-53-13/original_2.png (deflated 1%)\n",
            "  adding: Att_Res_SNN_saved_images/Att_Res_SNN_checkpoint_7_2025-04-26_06-53-13/9.png (deflated 36%)\n",
            "  adding: Att_Res_SNN_saved_images/Att_Res_SNN_checkpoint_7_2025-04-26_06-53-13/1.png (deflated 56%)\n",
            "  adding: Att_Res_SNN_saved_images/Att_Res_SNN_checkpoint_7_2025-04-26_06-53-13/original_12.png (deflated 1%)\n",
            "  adding: Att_Res_SNN_saved_images/Att_Res_SNN_checkpoint_7_2025-04-26_06-53-13/original_8.png (deflated 2%)\n",
            "  adding: Att_Res_SNN_saved_images/Att_Res_SNN_checkpoint_7_2025-04-26_06-53-13/pred_11-20250426-065313.png (deflated 44%)\n",
            "  adding: Att_Res_SNN_saved_images/Att_Res_SNN_checkpoint_7_2025-04-26_06-53-13/pred_7-20250426-065313.png (deflated 48%)\n",
            "  adding: Att_Res_SNN_saved_images/Att_Res_SNN_checkpoint_7_2025-04-26_06-53-13/10.png (deflated 40%)\n",
            "  adding: Att_Res_SNN_saved_images/Att_Res_SNN_checkpoint_7_2025-04-26_06-53-13/4.png (deflated 38%)\n",
            "  adding: Att_Res_SNN_saved_images/Att_Res_SNN_checkpoint_7_2025-04-26_06-53-13/pred_4-20250426-065313.png (deflated 51%)\n",
            "  adding: Att_Res_SNN_saved_images/Att_Res_SNN_checkpoint_7_2025-04-26_06-53-13/Att_Res_SNN_MatplotOutputs/ (stored 0%)\n",
            "  adding: Att_Res_SNN_saved_images/Att_Res_SNN_checkpoint_7_2025-04-26_06-53-13/original_9.png (deflated 1%)\n",
            "  adding: Att_Res_SNN_saved_images/Att_Res_SNN_checkpoint_7_2025-04-26_06-53-13/12.png (deflated 41%)\n",
            "  adding: Att_Res_SNN_saved_images/Att_Res_SNN_checkpoint_7_2025-04-26_06-53-13/0.png (deflated 47%)\n",
            "  adding: Att_Res_SNN_saved_images/Att_Res_SNN_checkpoint_7_2025-04-26_06-53-13/13.png (deflated 43%)\n",
            "  adding: Att_Res_SNN_saved_images/Att_Res_SNN_checkpoint_7_2025-04-26_06-53-13/pred_1-20250426-065313.png (deflated 48%)\n",
            "  adding: Att_Res_SNN_saved_images/Att_Res_SNN_checkpoint_7_2025-04-26_06-53-13/original_7.png (deflated 1%)\n",
            "  adding: Att_Res_SNN_saved_images/Att_Res_SNN_checkpoint_7_2025-04-26_06-53-13/pred_8-20250426-065313.png (deflated 58%)\n",
            "  adding: Att_Res_SNN_saved_images/Att_Res_SNN_checkpoint_7_2025-04-26_06-53-13/original_4.png (deflated 1%)\n",
            "  adding: Att_Res_SNN_saved_images/Att_Res_SNN_checkpoint_7_2025-04-26_06-53-13/7.png (deflated 34%)\n",
            "  adding: Att_Res_SNN_saved_images/Att_Res_SNN_checkpoint_7_2025-04-26_06-53-13/8.png (deflated 42%)\n",
            "  adding: Att_Res_SNN_saved_images/Att_Res_SNN_checkpoint_7_2025-04-26_06-53-13/original_5.png (deflated 1%)\n",
            "  adding: Att_Res_SNN_saved_images/Att_Res_SNN_checkpoint_7_2025-04-26_06-53-13/pred_9-20250426-065313.png (deflated 43%)\n",
            "  adding: Att_Res_SNN_saved_images/Att_Res_SNN_checkpoint_7_2025-04-26_06-53-13/3.png (deflated 45%)\n",
            "  adding: Att_Res_SNN_saved_images/Att_Res_SNN_checkpoint_7_2025-04-26_06-53-13/pred_13-20250426-065313.png (deflated 54%)\n",
            "  adding: Att_Res_SNN_saved_images/Att_Res_SNN_checkpoint_7_2025-04-26_06-53-13/original_11.png (deflated 1%)\n",
            "  adding: Att_Res_SNN_saved_images/Att_Res_SNN_checkpoint_7_2025-04-26_06-53-13/pred_5-20250426-065313.png (deflated 57%)\n",
            "  adding: Att_Res_SNN_saved_images/Att_Res_SNN_checkpoint_7_2025-04-26_06-53-13/pred_2-20250426-065313.png (deflated 48%)\n",
            "  adding: Att_Res_SNN_saved_images/Att_Res_SNN_checkpoint_7_2025-04-26_06-53-13/pred_10-20250426-065313.png (deflated 40%)\n",
            "  adding: Att_Res_SNN_saved_images/Att_Res_SNN_checkpoint_7_2025-04-26_06-53-13/2.png (deflated 43%)\n",
            "  adding: Att_Res_SNN_saved_images/Att_Res_SNN_checkpoint_7_2025-04-26_06-53-13/pred_6-20250426-065313.png (deflated 51%)\n",
            "  adding: Att_Res_SNN_saved_images/Att_Res_SNN_checkpoint_7_2025-04-26_06-53-13/original_10.png (deflated 1%)\n",
            "  adding: Att_Res_SNN_saved_images/Att_Res_SNN_checkpoint_7_2025-04-26_06-53-13/original_3.png (deflated 1%)\n",
            "  adding: Att_Res_SNN_saved_images/Att_Res_SNN_checkpoint_7_2025-04-26_07-00-04/ (stored 0%)\n",
            "  adding: Att_Res_SNN_saved_images/Att_Res_SNN_checkpoint_7_2025-04-26_07-00-04/5.png (deflated 35%)\n",
            "  adding: Att_Res_SNN_saved_images/Att_Res_SNN_checkpoint_7_2025-04-26_07-00-04/pred_1-20250426-070004.png (deflated 47%)\n",
            "  adding: Att_Res_SNN_saved_images/Att_Res_SNN_checkpoint_7_2025-04-26_07-00-04/original_1.png (deflated 1%)\n",
            "  adding: Att_Res_SNN_saved_images/Att_Res_SNN_checkpoint_7_2025-04-26_07-00-04/pred_13-20250426-070004.png (deflated 44%)\n",
            "  adding: Att_Res_SNN_saved_images/Att_Res_SNN_checkpoint_7_2025-04-26_07-00-04/pred_6-20250426-070004.png (deflated 55%)\n",
            "  adding: Att_Res_SNN_saved_images/Att_Res_SNN_checkpoint_7_2025-04-26_07-00-04/original_13.png (deflated 1%)\n",
            "  adding: Att_Res_SNN_saved_images/Att_Res_SNN_checkpoint_7_2025-04-26_07-00-04/pred_2-20250426-070004.png (deflated 40%)\n",
            "  adding: Att_Res_SNN_saved_images/Att_Res_SNN_checkpoint_7_2025-04-26_07-00-04/6.png (deflated 39%)\n",
            "  adding: Att_Res_SNN_saved_images/Att_Res_SNN_checkpoint_7_2025-04-26_07-00-04/original_6.png (deflated 2%)\n",
            "  adding: Att_Res_SNN_saved_images/Att_Res_SNN_checkpoint_7_2025-04-26_07-00-04/11.png (deflated 34%)\n",
            "  adding: Att_Res_SNN_saved_images/Att_Res_SNN_checkpoint_7_2025-04-26_07-00-04/pred_8-20250426-070004.png (deflated 55%)\n",
            "  adding: Att_Res_SNN_saved_images/Att_Res_SNN_checkpoint_7_2025-04-26_07-00-04/original_0.png (deflated 1%)\n",
            "  adding: Att_Res_SNN_saved_images/Att_Res_SNN_checkpoint_7_2025-04-26_07-00-04/original_2.png (deflated 1%)\n",
            "  adding: Att_Res_SNN_saved_images/Att_Res_SNN_checkpoint_7_2025-04-26_07-00-04/9.png (deflated 36%)\n",
            "  adding: Att_Res_SNN_saved_images/Att_Res_SNN_checkpoint_7_2025-04-26_07-00-04/1.png (deflated 56%)\n",
            "  adding: Att_Res_SNN_saved_images/Att_Res_SNN_checkpoint_7_2025-04-26_07-00-04/pred_0-20250426-070004.png (deflated 50%)\n",
            "  adding: Att_Res_SNN_saved_images/Att_Res_SNN_checkpoint_7_2025-04-26_07-00-04/original_12.png (deflated 1%)\n",
            "  adding: Att_Res_SNN_saved_images/Att_Res_SNN_checkpoint_7_2025-04-26_07-00-04/original_8.png (deflated 2%)\n",
            "  adding: Att_Res_SNN_saved_images/Att_Res_SNN_checkpoint_7_2025-04-26_07-00-04/10.png (deflated 40%)\n",
            "  adding: Att_Res_SNN_saved_images/Att_Res_SNN_checkpoint_7_2025-04-26_07-00-04/4.png (deflated 38%)\n",
            "  adding: Att_Res_SNN_saved_images/Att_Res_SNN_checkpoint_7_2025-04-26_07-00-04/Att_Res_SNN_MatplotOutputs/ (stored 0%)\n",
            "  adding: Att_Res_SNN_saved_images/Att_Res_SNN_checkpoint_7_2025-04-26_07-00-04/original_9.png (deflated 1%)\n",
            "  adding: Att_Res_SNN_saved_images/Att_Res_SNN_checkpoint_7_2025-04-26_07-00-04/pred_10-20250426-070004.png (deflated 40%)\n",
            "  adding: Att_Res_SNN_saved_images/Att_Res_SNN_checkpoint_7_2025-04-26_07-00-04/pred_4-20250426-070004.png (deflated 42%)\n",
            "  adding: Att_Res_SNN_saved_images/Att_Res_SNN_checkpoint_7_2025-04-26_07-00-04/12.png (deflated 41%)\n",
            "  adding: Att_Res_SNN_saved_images/Att_Res_SNN_checkpoint_7_2025-04-26_07-00-04/pred_11-20250426-070004.png (deflated 40%)\n",
            "  adding: Att_Res_SNN_saved_images/Att_Res_SNN_checkpoint_7_2025-04-26_07-00-04/pred_3-20250426-070004.png (deflated 45%)\n",
            "  adding: Att_Res_SNN_saved_images/Att_Res_SNN_checkpoint_7_2025-04-26_07-00-04/pred_7-20250426-070004.png (deflated 45%)\n",
            "  adding: Att_Res_SNN_saved_images/Att_Res_SNN_checkpoint_7_2025-04-26_07-00-04/0.png (deflated 47%)\n",
            "  adding: Att_Res_SNN_saved_images/Att_Res_SNN_checkpoint_7_2025-04-26_07-00-04/13.png (deflated 43%)\n",
            "  adding: Att_Res_SNN_saved_images/Att_Res_SNN_checkpoint_7_2025-04-26_07-00-04/original_7.png (deflated 1%)\n",
            "  adding: Att_Res_SNN_saved_images/Att_Res_SNN_checkpoint_7_2025-04-26_07-00-04/pred_9-20250426-070004.png (deflated 44%)\n",
            "  adding: Att_Res_SNN_saved_images/Att_Res_SNN_checkpoint_7_2025-04-26_07-00-04/original_4.png (deflated 1%)\n",
            "  adding: Att_Res_SNN_saved_images/Att_Res_SNN_checkpoint_7_2025-04-26_07-00-04/pred_12-20250426-070004.png (deflated 46%)\n",
            "  adding: Att_Res_SNN_saved_images/Att_Res_SNN_checkpoint_7_2025-04-26_07-00-04/7.png (deflated 34%)\n",
            "  adding: Att_Res_SNN_saved_images/Att_Res_SNN_checkpoint_7_2025-04-26_07-00-04/8.png (deflated 42%)\n",
            "  adding: Att_Res_SNN_saved_images/Att_Res_SNN_checkpoint_7_2025-04-26_07-00-04/original_5.png (deflated 1%)\n",
            "  adding: Att_Res_SNN_saved_images/Att_Res_SNN_checkpoint_7_2025-04-26_07-00-04/3.png (deflated 45%)\n",
            "  adding: Att_Res_SNN_saved_images/Att_Res_SNN_checkpoint_7_2025-04-26_07-00-04/original_11.png (deflated 1%)\n",
            "  adding: Att_Res_SNN_saved_images/Att_Res_SNN_checkpoint_7_2025-04-26_07-00-04/2.png (deflated 43%)\n",
            "  adding: Att_Res_SNN_saved_images/Att_Res_SNN_checkpoint_7_2025-04-26_07-00-04/original_10.png (deflated 1%)\n",
            "  adding: Att_Res_SNN_saved_images/Att_Res_SNN_checkpoint_7_2025-04-26_07-00-04/original_3.png (deflated 1%)\n",
            "  adding: Att_Res_SNN_saved_images/Att_Res_SNN_checkpoint_7_2025-04-26_07-00-04/pred_5-20250426-070004.png (deflated 60%)\n",
            "  adding: Att_Res_SNN_saved_images/Att_Res_SNN_checkpoint_1_2025-04-26_06-18-16/ (stored 0%)\n",
            "  adding: Att_Res_SNN_saved_images/Att_Res_SNN_checkpoint_1_2025-04-26_06-18-16/5.png (deflated 35%)\n",
            "  adding: Att_Res_SNN_saved_images/Att_Res_SNN_checkpoint_1_2025-04-26_06-18-16/original_1.png (deflated 1%)\n",
            "  adding: Att_Res_SNN_saved_images/Att_Res_SNN_checkpoint_1_2025-04-26_06-18-16/pred_7-20250426-061817.png (deflated 98%)\n",
            "  adding: Att_Res_SNN_saved_images/Att_Res_SNN_checkpoint_1_2025-04-26_06-18-16/original_13.png (deflated 1%)\n",
            "  adding: Att_Res_SNN_saved_images/Att_Res_SNN_checkpoint_1_2025-04-26_06-18-16/pred_6-20250426-061817.png (deflated 98%)\n",
            "  adding: Att_Res_SNN_saved_images/Att_Res_SNN_checkpoint_1_2025-04-26_06-18-16/pred_1-20250426-061817.png (deflated 98%)\n",
            "  adding: Att_Res_SNN_saved_images/Att_Res_SNN_checkpoint_1_2025-04-26_06-18-16/pred_11-20250426-061817.png (deflated 98%)\n",
            "  adding: Att_Res_SNN_saved_images/Att_Res_SNN_checkpoint_1_2025-04-26_06-18-16/6.png (deflated 39%)\n",
            "  adding: Att_Res_SNN_saved_images/Att_Res_SNN_checkpoint_1_2025-04-26_06-18-16/pred_4-20250426-061817.png (deflated 98%)\n",
            "  adding: Att_Res_SNN_saved_images/Att_Res_SNN_checkpoint_1_2025-04-26_06-18-16/original_6.png (deflated 2%)\n",
            "  adding: Att_Res_SNN_saved_images/Att_Res_SNN_checkpoint_1_2025-04-26_06-18-16/11.png (deflated 34%)\n",
            "  adding: Att_Res_SNN_saved_images/Att_Res_SNN_checkpoint_1_2025-04-26_06-18-16/pred_2-20250426-061817.png (deflated 98%)\n",
            "  adding: Att_Res_SNN_saved_images/Att_Res_SNN_checkpoint_1_2025-04-26_06-18-16/original_0.png (deflated 1%)\n",
            "  adding: Att_Res_SNN_saved_images/Att_Res_SNN_checkpoint_1_2025-04-26_06-18-16/original_2.png (deflated 1%)\n",
            "  adding: Att_Res_SNN_saved_images/Att_Res_SNN_checkpoint_1_2025-04-26_06-18-16/9.png (deflated 36%)\n",
            "  adding: Att_Res_SNN_saved_images/Att_Res_SNN_checkpoint_1_2025-04-26_06-18-16/1.png (deflated 56%)\n",
            "  adding: Att_Res_SNN_saved_images/Att_Res_SNN_checkpoint_1_2025-04-26_06-18-16/original_12.png (deflated 1%)\n",
            "  adding: Att_Res_SNN_saved_images/Att_Res_SNN_checkpoint_1_2025-04-26_06-18-16/original_8.png (deflated 2%)\n",
            "  adding: Att_Res_SNN_saved_images/Att_Res_SNN_checkpoint_1_2025-04-26_06-18-16/10.png (deflated 40%)\n",
            "  adding: Att_Res_SNN_saved_images/Att_Res_SNN_checkpoint_1_2025-04-26_06-18-16/4.png (deflated 38%)\n",
            "  adding: Att_Res_SNN_saved_images/Att_Res_SNN_checkpoint_1_2025-04-26_06-18-16/Att_Res_SNN_MatplotOutputs/ (stored 0%)\n",
            "  adding: Att_Res_SNN_saved_images/Att_Res_SNN_checkpoint_1_2025-04-26_06-18-16/original_9.png (deflated 1%)\n",
            "  adding: Att_Res_SNN_saved_images/Att_Res_SNN_checkpoint_1_2025-04-26_06-18-16/12.png (deflated 41%)\n",
            "  adding: Att_Res_SNN_saved_images/Att_Res_SNN_checkpoint_1_2025-04-26_06-18-16/pred_3-20250426-061817.png (deflated 98%)\n",
            "  adding: Att_Res_SNN_saved_images/Att_Res_SNN_checkpoint_1_2025-04-26_06-18-16/0.png (deflated 47%)\n",
            "  adding: Att_Res_SNN_saved_images/Att_Res_SNN_checkpoint_1_2025-04-26_06-18-16/13.png (deflated 43%)\n",
            "  adding: Att_Res_SNN_saved_images/Att_Res_SNN_checkpoint_1_2025-04-26_06-18-16/original_7.png (deflated 1%)\n",
            "  adding: Att_Res_SNN_saved_images/Att_Res_SNN_checkpoint_1_2025-04-26_06-18-16/pred_0-20250426-061817.png (deflated 98%)\n",
            "  adding: Att_Res_SNN_saved_images/Att_Res_SNN_checkpoint_1_2025-04-26_06-18-16/pred_12-20250426-061817.png (deflated 98%)\n",
            "  adding: Att_Res_SNN_saved_images/Att_Res_SNN_checkpoint_1_2025-04-26_06-18-16/pred_8-20250426-061817.png (deflated 98%)\n",
            "  adding: Att_Res_SNN_saved_images/Att_Res_SNN_checkpoint_1_2025-04-26_06-18-16/original_4.png (deflated 1%)\n",
            "  adding: Att_Res_SNN_saved_images/Att_Res_SNN_checkpoint_1_2025-04-26_06-18-16/7.png (deflated 34%)\n",
            "  adding: Att_Res_SNN_saved_images/Att_Res_SNN_checkpoint_1_2025-04-26_06-18-16/pred_13-20250426-061817.png (deflated 98%)\n",
            "  adding: Att_Res_SNN_saved_images/Att_Res_SNN_checkpoint_1_2025-04-26_06-18-16/pred_9-20250426-061817.png (deflated 98%)\n",
            "  adding: Att_Res_SNN_saved_images/Att_Res_SNN_checkpoint_1_2025-04-26_06-18-16/8.png (deflated 42%)\n",
            "  adding: Att_Res_SNN_saved_images/Att_Res_SNN_checkpoint_1_2025-04-26_06-18-16/original_5.png (deflated 1%)\n",
            "  adding: Att_Res_SNN_saved_images/Att_Res_SNN_checkpoint_1_2025-04-26_06-18-16/3.png (deflated 45%)\n",
            "  adding: Att_Res_SNN_saved_images/Att_Res_SNN_checkpoint_1_2025-04-26_06-18-16/pred_5-20250426-061817.png (deflated 98%)\n",
            "  adding: Att_Res_SNN_saved_images/Att_Res_SNN_checkpoint_1_2025-04-26_06-18-16/original_11.png (deflated 1%)\n",
            "  adding: Att_Res_SNN_saved_images/Att_Res_SNN_checkpoint_1_2025-04-26_06-18-16/2.png (deflated 43%)\n",
            "  adding: Att_Res_SNN_saved_images/Att_Res_SNN_checkpoint_1_2025-04-26_06-18-16/pred_10-20250426-061817.png (deflated 98%)\n",
            "  adding: Att_Res_SNN_saved_images/Att_Res_SNN_checkpoint_1_2025-04-26_06-18-16/original_10.png (deflated 1%)\n",
            "  adding: Att_Res_SNN_saved_images/Att_Res_SNN_checkpoint_1_2025-04-26_06-18-16/original_3.png (deflated 1%)\n",
            "  adding: Att_Res_SNN_saved_images/Att_Res_SNN_checkpoint_7_2025-04-26_06-56-38/ (stored 0%)\n",
            "  adding: Att_Res_SNN_saved_images/Att_Res_SNN_checkpoint_7_2025-04-26_06-56-38/pred_3-20250426-065638.png (deflated 67%)\n",
            "  adding: Att_Res_SNN_saved_images/Att_Res_SNN_checkpoint_7_2025-04-26_06-56-38/5.png (deflated 35%)\n",
            "  adding: Att_Res_SNN_saved_images/Att_Res_SNN_checkpoint_7_2025-04-26_06-56-38/original_1.png (deflated 1%)\n",
            "  adding: Att_Res_SNN_saved_images/Att_Res_SNN_checkpoint_7_2025-04-26_06-56-38/original_13.png (deflated 1%)\n",
            "  adding: Att_Res_SNN_saved_images/Att_Res_SNN_checkpoint_7_2025-04-26_06-56-38/6.png (deflated 39%)\n",
            "  adding: Att_Res_SNN_saved_images/Att_Res_SNN_checkpoint_7_2025-04-26_06-56-38/original_6.png (deflated 2%)\n",
            "  adding: Att_Res_SNN_saved_images/Att_Res_SNN_checkpoint_7_2025-04-26_06-56-38/11.png (deflated 34%)\n",
            "  adding: Att_Res_SNN_saved_images/Att_Res_SNN_checkpoint_7_2025-04-26_06-56-38/original_0.png (deflated 1%)\n",
            "  adding: Att_Res_SNN_saved_images/Att_Res_SNN_checkpoint_7_2025-04-26_06-56-38/original_2.png (deflated 1%)\n",
            "  adding: Att_Res_SNN_saved_images/Att_Res_SNN_checkpoint_7_2025-04-26_06-56-38/pred_9-20250426-065638.png (deflated 58%)\n",
            "  adding: Att_Res_SNN_saved_images/Att_Res_SNN_checkpoint_7_2025-04-26_06-56-38/9.png (deflated 36%)\n",
            "  adding: Att_Res_SNN_saved_images/Att_Res_SNN_checkpoint_7_2025-04-26_06-56-38/1.png (deflated 56%)\n",
            "  adding: Att_Res_SNN_saved_images/Att_Res_SNN_checkpoint_7_2025-04-26_06-56-38/pred_1-20250426-065638.png (deflated 74%)\n",
            "  adding: Att_Res_SNN_saved_images/Att_Res_SNN_checkpoint_7_2025-04-26_06-56-38/original_12.png (deflated 1%)\n",
            "  adding: Att_Res_SNN_saved_images/Att_Res_SNN_checkpoint_7_2025-04-26_06-56-38/original_8.png (deflated 2%)\n",
            "  adding: Att_Res_SNN_saved_images/Att_Res_SNN_checkpoint_7_2025-04-26_06-56-38/10.png (deflated 40%)\n",
            "  adding: Att_Res_SNN_saved_images/Att_Res_SNN_checkpoint_7_2025-04-26_06-56-38/4.png (deflated 38%)\n",
            "  adding: Att_Res_SNN_saved_images/Att_Res_SNN_checkpoint_7_2025-04-26_06-56-38/Att_Res_SNN_MatplotOutputs/ (stored 0%)\n",
            "  adding: Att_Res_SNN_saved_images/Att_Res_SNN_checkpoint_7_2025-04-26_06-56-38/original_9.png (deflated 1%)\n",
            "  adding: Att_Res_SNN_saved_images/Att_Res_SNN_checkpoint_7_2025-04-26_06-56-38/pred_7-20250426-065638.png (deflated 55%)\n",
            "  adding: Att_Res_SNN_saved_images/Att_Res_SNN_checkpoint_7_2025-04-26_06-56-38/pred_2-20250426-065638.png (deflated 69%)\n",
            "  adding: Att_Res_SNN_saved_images/Att_Res_SNN_checkpoint_7_2025-04-26_06-56-38/12.png (deflated 41%)\n",
            "  adding: Att_Res_SNN_saved_images/Att_Res_SNN_checkpoint_7_2025-04-26_06-56-38/0.png (deflated 47%)\n",
            "  adding: Att_Res_SNN_saved_images/Att_Res_SNN_checkpoint_7_2025-04-26_06-56-38/13.png (deflated 43%)\n",
            "  adding: Att_Res_SNN_saved_images/Att_Res_SNN_checkpoint_7_2025-04-26_06-56-38/original_7.png (deflated 1%)\n",
            "  adding: Att_Res_SNN_saved_images/Att_Res_SNN_checkpoint_7_2025-04-26_06-56-38/pred_8-20250426-065638.png (deflated 62%)\n",
            "  adding: Att_Res_SNN_saved_images/Att_Res_SNN_checkpoint_7_2025-04-26_06-56-38/pred_6-20250426-065638.png (deflated 57%)\n",
            "  adding: Att_Res_SNN_saved_images/Att_Res_SNN_checkpoint_7_2025-04-26_06-56-38/pred_0-20250426-065638.png (deflated 67%)\n",
            "  adding: Att_Res_SNN_saved_images/Att_Res_SNN_checkpoint_7_2025-04-26_06-56-38/original_4.png (deflated 1%)\n",
            "  adding: Att_Res_SNN_saved_images/Att_Res_SNN_checkpoint_7_2025-04-26_06-56-38/pred_10-20250426-065638.png (deflated 58%)\n",
            "  adding: Att_Res_SNN_saved_images/Att_Res_SNN_checkpoint_7_2025-04-26_06-56-38/7.png (deflated 34%)\n",
            "  adding: Att_Res_SNN_saved_images/Att_Res_SNN_checkpoint_7_2025-04-26_06-56-38/8.png (deflated 42%)\n",
            "  adding: Att_Res_SNN_saved_images/Att_Res_SNN_checkpoint_7_2025-04-26_06-56-38/original_5.png (deflated 1%)\n",
            "  adding: Att_Res_SNN_saved_images/Att_Res_SNN_checkpoint_7_2025-04-26_06-56-38/pred_13-20250426-065638.png (deflated 78%)\n",
            "  adding: Att_Res_SNN_saved_images/Att_Res_SNN_checkpoint_7_2025-04-26_06-56-38/pred_5-20250426-065638.png (deflated 60%)\n",
            "  adding: Att_Res_SNN_saved_images/Att_Res_SNN_checkpoint_7_2025-04-26_06-56-38/3.png (deflated 45%)\n",
            "  adding: Att_Res_SNN_saved_images/Att_Res_SNN_checkpoint_7_2025-04-26_06-56-38/original_11.png (deflated 1%)\n",
            "  adding: Att_Res_SNN_saved_images/Att_Res_SNN_checkpoint_7_2025-04-26_06-56-38/pred_12-20250426-065638.png (deflated 60%)\n",
            "  adding: Att_Res_SNN_saved_images/Att_Res_SNN_checkpoint_7_2025-04-26_06-56-38/2.png (deflated 43%)\n",
            "  adding: Att_Res_SNN_saved_images/Att_Res_SNN_checkpoint_7_2025-04-26_06-56-38/pred_4-20250426-065638.png (deflated 61%)\n",
            "  adding: Att_Res_SNN_saved_images/Att_Res_SNN_checkpoint_7_2025-04-26_06-56-38/pred_11-20250426-065638.png (deflated 52%)\n",
            "  adding: Att_Res_SNN_saved_images/Att_Res_SNN_checkpoint_7_2025-04-26_06-56-38/original_10.png (deflated 1%)\n",
            "  adding: Att_Res_SNN_saved_images/Att_Res_SNN_checkpoint_7_2025-04-26_06-56-38/original_3.png (deflated 1%)\n",
            "  adding: Att_Res_SNN_saved_images/Att_Res_SNN_checkpoint_6_2025-04-26_06-49-48/ (stored 0%)\n",
            "  adding: Att_Res_SNN_saved_images/Att_Res_SNN_checkpoint_6_2025-04-26_06-49-48/pred_4-20250426-064949.png (deflated 55%)\n",
            "  adding: Att_Res_SNN_saved_images/Att_Res_SNN_checkpoint_6_2025-04-26_06-49-48/5.png (deflated 35%)\n",
            "  adding: Att_Res_SNN_saved_images/Att_Res_SNN_checkpoint_6_2025-04-26_06-49-48/original_1.png (deflated 1%)\n",
            "  adding: Att_Res_SNN_saved_images/Att_Res_SNN_checkpoint_6_2025-04-26_06-49-48/original_13.png (deflated 1%)\n",
            "  adding: Att_Res_SNN_saved_images/Att_Res_SNN_checkpoint_6_2025-04-26_06-49-48/pred_3-20250426-064949.png (deflated 63%)\n",
            "  adding: Att_Res_SNN_saved_images/Att_Res_SNN_checkpoint_6_2025-04-26_06-49-48/pred_8-20250426-064949.png (deflated 67%)\n",
            "  adding: Att_Res_SNN_saved_images/Att_Res_SNN_checkpoint_6_2025-04-26_06-49-48/pred_6-20250426-064949.png (deflated 55%)\n",
            "  adding: Att_Res_SNN_saved_images/Att_Res_SNN_checkpoint_6_2025-04-26_06-49-48/6.png (deflated 39%)\n",
            "  adding: Att_Res_SNN_saved_images/Att_Res_SNN_checkpoint_6_2025-04-26_06-49-48/pred_7-20250426-064949.png (deflated 57%)\n",
            "  adding: Att_Res_SNN_saved_images/Att_Res_SNN_checkpoint_6_2025-04-26_06-49-48/original_6.png (deflated 2%)\n",
            "  adding: Att_Res_SNN_saved_images/Att_Res_SNN_checkpoint_6_2025-04-26_06-49-48/11.png (deflated 34%)\n",
            "  adding: Att_Res_SNN_saved_images/Att_Res_SNN_checkpoint_6_2025-04-26_06-49-48/pred_9-20250426-064949.png (deflated 53%)\n",
            "  adding: Att_Res_SNN_saved_images/Att_Res_SNN_checkpoint_6_2025-04-26_06-49-48/original_0.png (deflated 1%)\n",
            "  adding: Att_Res_SNN_saved_images/Att_Res_SNN_checkpoint_6_2025-04-26_06-49-48/original_2.png (deflated 1%)\n",
            "  adding: Att_Res_SNN_saved_images/Att_Res_SNN_checkpoint_6_2025-04-26_06-49-48/9.png (deflated 36%)\n",
            "  adding: Att_Res_SNN_saved_images/Att_Res_SNN_checkpoint_6_2025-04-26_06-49-48/1.png (deflated 56%)\n",
            "  adding: Att_Res_SNN_saved_images/Att_Res_SNN_checkpoint_6_2025-04-26_06-49-48/pred_13-20250426-064949.png (deflated 55%)\n",
            "  adding: Att_Res_SNN_saved_images/Att_Res_SNN_checkpoint_6_2025-04-26_06-49-48/original_12.png (deflated 1%)\n",
            "  adding: Att_Res_SNN_saved_images/Att_Res_SNN_checkpoint_6_2025-04-26_06-49-48/original_8.png (deflated 2%)\n",
            "  adding: Att_Res_SNN_saved_images/Att_Res_SNN_checkpoint_6_2025-04-26_06-49-48/10.png (deflated 40%)\n",
            "  adding: Att_Res_SNN_saved_images/Att_Res_SNN_checkpoint_6_2025-04-26_06-49-48/4.png (deflated 38%)\n",
            "  adding: Att_Res_SNN_saved_images/Att_Res_SNN_checkpoint_6_2025-04-26_06-49-48/Att_Res_SNN_MatplotOutputs/ (stored 0%)\n",
            "  adding: Att_Res_SNN_saved_images/Att_Res_SNN_checkpoint_6_2025-04-26_06-49-48/pred_2-20250426-064949.png (deflated 58%)\n",
            "  adding: Att_Res_SNN_saved_images/Att_Res_SNN_checkpoint_6_2025-04-26_06-49-48/original_9.png (deflated 1%)\n",
            "  adding: Att_Res_SNN_saved_images/Att_Res_SNN_checkpoint_6_2025-04-26_06-49-48/12.png (deflated 41%)\n",
            "  adding: Att_Res_SNN_saved_images/Att_Res_SNN_checkpoint_6_2025-04-26_06-49-48/0.png (deflated 47%)\n",
            "  adding: Att_Res_SNN_saved_images/Att_Res_SNN_checkpoint_6_2025-04-26_06-49-48/13.png (deflated 43%)\n",
            "  adding: Att_Res_SNN_saved_images/Att_Res_SNN_checkpoint_6_2025-04-26_06-49-48/original_7.png (deflated 1%)\n",
            "  adding: Att_Res_SNN_saved_images/Att_Res_SNN_checkpoint_6_2025-04-26_06-49-48/pred_1-20250426-064949.png (deflated 57%)\n",
            "  adding: Att_Res_SNN_saved_images/Att_Res_SNN_checkpoint_6_2025-04-26_06-49-48/original_4.png (deflated 1%)\n",
            "  adding: Att_Res_SNN_saved_images/Att_Res_SNN_checkpoint_6_2025-04-26_06-49-48/pred_5-20250426-064949.png (deflated 64%)\n",
            "  adding: Att_Res_SNN_saved_images/Att_Res_SNN_checkpoint_6_2025-04-26_06-49-48/7.png (deflated 34%)\n",
            "  adding: Att_Res_SNN_saved_images/Att_Res_SNN_checkpoint_6_2025-04-26_06-49-48/8.png (deflated 42%)\n",
            "  adding: Att_Res_SNN_saved_images/Att_Res_SNN_checkpoint_6_2025-04-26_06-49-48/original_5.png (deflated 1%)\n",
            "  adding: Att_Res_SNN_saved_images/Att_Res_SNN_checkpoint_6_2025-04-26_06-49-48/pred_11-20250426-064949.png (deflated 49%)\n",
            "  adding: Att_Res_SNN_saved_images/Att_Res_SNN_checkpoint_6_2025-04-26_06-49-48/pred_12-20250426-064949.png (deflated 51%)\n",
            "  adding: Att_Res_SNN_saved_images/Att_Res_SNN_checkpoint_6_2025-04-26_06-49-48/pred_0-20250426-064949.png (deflated 56%)\n",
            "  adding: Att_Res_SNN_saved_images/Att_Res_SNN_checkpoint_6_2025-04-26_06-49-48/3.png (deflated 45%)\n",
            "  adding: Att_Res_SNN_saved_images/Att_Res_SNN_checkpoint_6_2025-04-26_06-49-48/original_11.png (deflated 1%)\n",
            "  adding: Att_Res_SNN_saved_images/Att_Res_SNN_checkpoint_6_2025-04-26_06-49-48/pred_10-20250426-064949.png (deflated 51%)\n",
            "  adding: Att_Res_SNN_saved_images/Att_Res_SNN_checkpoint_6_2025-04-26_06-49-48/2.png (deflated 43%)\n",
            "  adding: Att_Res_SNN_saved_images/Att_Res_SNN_checkpoint_6_2025-04-26_06-49-48/original_10.png (deflated 1%)\n",
            "  adding: Att_Res_SNN_saved_images/Att_Res_SNN_checkpoint_6_2025-04-26_06-49-48/original_3.png (deflated 1%)\n"
          ]
        },
        {
          "output_type": "display_data",
          "data": {
            "text/plain": [
              "<IPython.core.display.Javascript object>"
            ],
            "application/javascript": [
              "\n",
              "    async function download(id, filename, size) {\n",
              "      if (!google.colab.kernel.accessAllowed) {\n",
              "        return;\n",
              "      }\n",
              "      const div = document.createElement('div');\n",
              "      const label = document.createElement('label');\n",
              "      label.textContent = `Downloading \"${filename}\": `;\n",
              "      div.appendChild(label);\n",
              "      const progress = document.createElement('progress');\n",
              "      progress.max = size;\n",
              "      div.appendChild(progress);\n",
              "      document.body.appendChild(div);\n",
              "\n",
              "      const buffers = [];\n",
              "      let downloaded = 0;\n",
              "\n",
              "      const channel = await google.colab.kernel.comms.open(id);\n",
              "      // Send a message to notify the kernel that we're ready.\n",
              "      channel.send({})\n",
              "\n",
              "      for await (const message of channel.messages) {\n",
              "        // Send a message to notify the kernel that we're ready.\n",
              "        channel.send({})\n",
              "        if (message.buffers) {\n",
              "          for (const buffer of message.buffers) {\n",
              "            buffers.push(buffer);\n",
              "            downloaded += buffer.byteLength;\n",
              "            progress.value = downloaded;\n",
              "          }\n",
              "        }\n",
              "      }\n",
              "      const blob = new Blob(buffers, {type: 'application/binary'});\n",
              "      const a = document.createElement('a');\n",
              "      a.href = window.URL.createObjectURL(blob);\n",
              "      a.download = filename;\n",
              "      div.appendChild(a);\n",
              "      a.click();\n",
              "      div.remove();\n",
              "    }\n",
              "  "
            ]
          },
          "metadata": {}
        },
        {
          "output_type": "display_data",
          "data": {
            "text/plain": [
              "<IPython.core.display.Javascript object>"
            ],
            "application/javascript": [
              "download(\"download_09a07752-50ef-4b96-ade0-63dd46b3ac2a\", \"Att_Res_SNN_saved_images.zip\", 383412206)"
            ]
          },
          "metadata": {}
        }
      ]
    }
  ],
  "metadata": {
    "kernelspec": {
      "display_name": "Python 3",
      "name": "python3"
    },
    "language_info": {
      "codemirror_mode": {
        "name": "ipython",
        "version": 3
      },
      "file_extension": ".py",
      "mimetype": "text/x-python",
      "name": "python",
      "nbconvert_exporter": "python",
      "pygments_lexer": "ipython3",
      "version": "3.13.1"
    },
    "colab": {
      "provenance": [],
      "gpuType": "T4"
    },
    "accelerator": "GPU"
  },
  "nbformat": 4,
  "nbformat_minor": 5
}