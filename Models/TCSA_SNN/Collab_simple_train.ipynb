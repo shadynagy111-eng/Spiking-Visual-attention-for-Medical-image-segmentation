{
 "cells": [
  {
   "cell_type": "code",
   "execution_count": null,
   "id": "44dd4bc0",
   "metadata": {},
   "outputs": [],
   "source": [
    "from google.colab import drive\n",
    "drive.mount('/content/drive')"
   ]
  },
  {
   "cell_type": "code",
   "execution_count": null,
   "id": "e9861d66",
   "metadata": {},
   "outputs": [],
   "source": [
    "import sys\n",
    "# sys.path.append('E:/Code/Spiking-Visual-attention-for-Medical-image-segmentation/models/TCSA_SNN')\n",
    "\n",
    "import torch\n",
    "import torch.nn as nn\n",
    "import torch.optim as optim\n",
    "from torchsummary import summary\n",
    "from torch.optim.lr_scheduler import ReduceLROnPlateau, CosineAnnealingLR, CosineAnnealingWarmRestarts\n",
    "\n",
    "from pytorch_grad_cam import GradCAM\n",
    "from pytorch_grad_cam.utils.image import show_cam_on_image\n",
    "from pytorch_grad_cam.utils.model_targets import SemanticSegmentationTarget\n",
    "\n",
    "import numpy as np\n",
    "import matplotlib.pyplot as plt\n",
    "from PIL import Image\n",
    "import os\n",
    "import cv2\n",
    "\n",
    "import albumentations as A\n",
    "from albumentations.pytorch import ToTensorV2\n",
    "\n",
    "from tqdm import tqdm\n",
    "\n",
    "from simple_utils import (\n",
    "    save_checkpoint,\n",
    "    load_checkpoint,\n",
    "    get_loaders,\n",
    "    check_accuracy,\n",
    "    save_predictions_as_imgs\n",
    "    )\n",
    "\n",
    "import resnet_2_copy\n",
    "\n",
    "from datetime import datetime\n",
    "import glob\n",
    "import random\n",
    "from fvcore.nn import FlopCountAnalysis\n",
    "from thop import profile\n",
    "from ptflops import get_model_complexity_info"
   ]
  },
  {
   "cell_type": "code",
   "execution_count": 2,
   "id": "cb2fcd61",
   "metadata": {},
   "outputs": [
    {
     "name": "stdout",
     "output_type": "stream",
     "text": [
      "----------------------------------------------------------------\n",
      "        Layer (type)               Output Shape         Param #\n",
      "================================================================\n",
      "        Snn_Conv2d-1      [32, 2, 64, 128, 128]           3,136\n",
      "      BatchNorm3d1-2      [32, 64, 4, 128, 128]             128\n",
      "     batch_norm_2d-3      [32, 2, 64, 128, 128]               0\n",
      "        mem_update-4      [32, 2, 64, 128, 128]               0\n",
      "        Snn_Conv2d-5        [32, 2, 64, 64, 64]          36,864\n",
      "      BatchNorm3d1-6        [32, 64, 4, 64, 64]             128\n",
      "     batch_norm_2d-7        [32, 2, 64, 64, 64]               0\n",
      "        mem_update-8        [32, 2, 64, 64, 64]               0\n",
      "        Snn_Conv2d-9        [32, 2, 64, 64, 64]          36,864\n",
      "     BatchNorm3d2-10        [32, 64, 4, 64, 64]             128\n",
      "   batch_norm_2d1-11        [32, 2, 64, 64, 64]               0\n",
      "AdaptiveAvgPool3d-12           [32, 4, 1, 1, 1]               0\n",
      "           Conv3d-13           [32, 1, 1, 1, 1]               4\n",
      "             ReLU-14           [32, 1, 1, 1, 1]               0\n",
      "           Conv3d-15           [32, 4, 1, 1, 1]               4\n",
      "AdaptiveMaxPool3d-16           [32, 4, 1, 1, 1]               0\n",
      "           Conv3d-17           [32, 1, 1, 1, 1]               4\n",
      "             ReLU-18           [32, 1, 1, 1, 1]               0\n",
      "           Conv3d-19           [32, 4, 1, 1, 1]               4\n",
      "          Sigmoid-20           [32, 4, 1, 1, 1]               0\n",
      "    TimeAttention-21           [32, 4, 1, 1, 1]               0\n",
      "AdaptiveAvgPool3d-22          [32, 64, 1, 1, 1]               0\n",
      "           Conv3d-23          [32, 12, 1, 1, 1]             768\n",
      "             ReLU-24          [32, 12, 1, 1, 1]               0\n",
      "           Conv3d-25          [32, 64, 1, 1, 1]             768\n",
      "AdaptiveMaxPool3d-26          [32, 64, 1, 1, 1]               0\n",
      "           Conv3d-27          [32, 12, 1, 1, 1]             768\n",
      "             ReLU-28          [32, 12, 1, 1, 1]               0\n",
      "           Conv3d-29          [32, 64, 1, 1, 1]             768\n",
      "          Sigmoid-30          [32, 64, 1, 1, 1]               0\n",
      " ChannelAttention-31          [32, 1, 64, 1, 1]               0\n",
      "           Conv2d-32            [32, 1, 64, 64]              18\n",
      "          Sigmoid-33         [32, 1, 1, 64, 64]               0\n",
      " SpatialAttention-34         [32, 1, 1, 64, 64]               0\n",
      "             ReLU-35        [32, 4, 64, 64, 64]               0\n",
      "             TCSA-36        [32, 4, 64, 64, 64]               0\n",
      "      PruningCell-37        [32, 2, 64, 64, 64]               0\n",
      "        AvgPool3d-38        [32, 2, 64, 64, 64]               0\n",
      "       Snn_Conv2d-39        [32, 2, 64, 64, 64]           4,096\n",
      "     BatchNorm3d1-40        [32, 64, 4, 64, 64]             128\n",
      "    batch_norm_2d-41        [32, 2, 64, 64, 64]               0\n",
      "       BasicBlock-42        [32, 2, 64, 64, 64]               0\n",
      "       mem_update-43        [32, 2, 64, 64, 64]               0\n",
      "       Snn_Conv2d-44        [32, 2, 64, 64, 64]          36,864\n",
      "     BatchNorm3d1-45        [32, 64, 4, 64, 64]             128\n",
      "    batch_norm_2d-46        [32, 2, 64, 64, 64]               0\n",
      "       mem_update-47        [32, 2, 64, 64, 64]               0\n",
      "       Snn_Conv2d-48        [32, 2, 64, 64, 64]          36,864\n",
      "     BatchNorm3d2-49        [32, 64, 4, 64, 64]             128\n",
      "   batch_norm_2d1-50        [32, 2, 64, 64, 64]               0\n",
      "AdaptiveAvgPool3d-51           [32, 4, 1, 1, 1]               0\n",
      "           Conv3d-52           [32, 1, 1, 1, 1]               4\n",
      "             ReLU-53           [32, 1, 1, 1, 1]               0\n",
      "           Conv3d-54           [32, 4, 1, 1, 1]               4\n",
      "AdaptiveMaxPool3d-55           [32, 4, 1, 1, 1]               0\n",
      "           Conv3d-56           [32, 1, 1, 1, 1]               4\n",
      "             ReLU-57           [32, 1, 1, 1, 1]               0\n",
      "           Conv3d-58           [32, 4, 1, 1, 1]               4\n",
      "          Sigmoid-59           [32, 4, 1, 1, 1]               0\n",
      "    TimeAttention-60           [32, 4, 1, 1, 1]               0\n",
      "AdaptiveAvgPool3d-61          [32, 64, 1, 1, 1]               0\n",
      "           Conv3d-62          [32, 12, 1, 1, 1]             768\n",
      "             ReLU-63          [32, 12, 1, 1, 1]               0\n",
      "           Conv3d-64          [32, 64, 1, 1, 1]             768\n",
      "AdaptiveMaxPool3d-65          [32, 64, 1, 1, 1]               0\n",
      "           Conv3d-66          [32, 12, 1, 1, 1]             768\n",
      "             ReLU-67          [32, 12, 1, 1, 1]               0\n",
      "           Conv3d-68          [32, 64, 1, 1, 1]             768\n",
      "          Sigmoid-69          [32, 64, 1, 1, 1]               0\n",
      " ChannelAttention-70          [32, 1, 64, 1, 1]               0\n",
      "           Conv2d-71            [32, 1, 64, 64]              18\n",
      "          Sigmoid-72         [32, 1, 1, 64, 64]               0\n",
      " SpatialAttention-73         [32, 1, 1, 64, 64]               0\n",
      "             ReLU-74        [32, 4, 64, 64, 64]               0\n",
      "             TCSA-75        [32, 4, 64, 64, 64]               0\n",
      "      PruningCell-76        [32, 2, 64, 64, 64]               0\n",
      "       BasicBlock-77        [32, 2, 64, 64, 64]               0\n",
      "       mem_update-78        [32, 2, 64, 64, 64]               0\n",
      "       Snn_Conv2d-79        [32, 2, 64, 64, 64]          36,864\n",
      "     BatchNorm3d1-80        [32, 64, 4, 64, 64]             128\n",
      "    batch_norm_2d-81        [32, 2, 64, 64, 64]               0\n",
      "       mem_update-82        [32, 2, 64, 64, 64]               0\n",
      "       Snn_Conv2d-83        [32, 2, 64, 64, 64]          36,864\n",
      "     BatchNorm3d2-84        [32, 64, 4, 64, 64]             128\n",
      "   batch_norm_2d1-85        [32, 2, 64, 64, 64]               0\n",
      "AdaptiveAvgPool3d-86           [32, 4, 1, 1, 1]               0\n",
      "           Conv3d-87           [32, 1, 1, 1, 1]               4\n",
      "             ReLU-88           [32, 1, 1, 1, 1]               0\n",
      "           Conv3d-89           [32, 4, 1, 1, 1]               4\n",
      "AdaptiveMaxPool3d-90           [32, 4, 1, 1, 1]               0\n",
      "           Conv3d-91           [32, 1, 1, 1, 1]               4\n",
      "             ReLU-92           [32, 1, 1, 1, 1]               0\n",
      "           Conv3d-93           [32, 4, 1, 1, 1]               4\n",
      "          Sigmoid-94           [32, 4, 1, 1, 1]               0\n",
      "    TimeAttention-95           [32, 4, 1, 1, 1]               0\n",
      "AdaptiveAvgPool3d-96          [32, 64, 1, 1, 1]               0\n",
      "           Conv3d-97          [32, 12, 1, 1, 1]             768\n",
      "             ReLU-98          [32, 12, 1, 1, 1]               0\n",
      "           Conv3d-99          [32, 64, 1, 1, 1]             768\n",
      "AdaptiveMaxPool3d-100          [32, 64, 1, 1, 1]               0\n",
      "          Conv3d-101          [32, 12, 1, 1, 1]             768\n",
      "            ReLU-102          [32, 12, 1, 1, 1]               0\n",
      "          Conv3d-103          [32, 64, 1, 1, 1]             768\n",
      "         Sigmoid-104          [32, 64, 1, 1, 1]               0\n",
      "ChannelAttention-105          [32, 1, 64, 1, 1]               0\n",
      "          Conv2d-106            [32, 1, 64, 64]              18\n",
      "         Sigmoid-107         [32, 1, 1, 64, 64]               0\n",
      "SpatialAttention-108         [32, 1, 1, 64, 64]               0\n",
      "            ReLU-109        [32, 4, 64, 64, 64]               0\n",
      "            TCSA-110        [32, 4, 64, 64, 64]               0\n",
      "     PruningCell-111        [32, 2, 64, 64, 64]               0\n",
      "      BasicBlock-112        [32, 2, 64, 64, 64]               0\n",
      "      mem_update-113        [32, 2, 64, 64, 64]               0\n",
      "      Snn_Conv2d-114       [32, 2, 128, 32, 32]          73,728\n",
      "    BatchNorm3d1-115       [32, 128, 4, 32, 32]             256\n",
      "   batch_norm_2d-116       [32, 2, 128, 32, 32]               0\n",
      "      mem_update-117       [32, 2, 128, 32, 32]               0\n",
      "      Snn_Conv2d-118       [32, 2, 128, 32, 32]         147,456\n",
      "    BatchNorm3d2-119       [32, 128, 4, 32, 32]             256\n",
      "  batch_norm_2d1-120       [32, 2, 128, 32, 32]               0\n",
      "AdaptiveAvgPool3d-121           [32, 4, 1, 1, 1]               0\n",
      "          Conv3d-122           [32, 1, 1, 1, 1]               4\n",
      "            ReLU-123           [32, 1, 1, 1, 1]               0\n",
      "          Conv3d-124           [32, 4, 1, 1, 1]               4\n",
      "AdaptiveMaxPool3d-125           [32, 4, 1, 1, 1]               0\n",
      "          Conv3d-126           [32, 1, 1, 1, 1]               4\n",
      "            ReLU-127           [32, 1, 1, 1, 1]               0\n",
      "          Conv3d-128           [32, 4, 1, 1, 1]               4\n",
      "         Sigmoid-129           [32, 4, 1, 1, 1]               0\n",
      "   TimeAttention-130           [32, 4, 1, 1, 1]               0\n",
      "AdaptiveAvgPool3d-131         [32, 128, 1, 1, 1]               0\n",
      "          Conv3d-132          [32, 25, 1, 1, 1]           3,200\n",
      "            ReLU-133          [32, 25, 1, 1, 1]               0\n",
      "          Conv3d-134         [32, 128, 1, 1, 1]           3,200\n",
      "AdaptiveMaxPool3d-135         [32, 128, 1, 1, 1]               0\n",
      "          Conv3d-136          [32, 25, 1, 1, 1]           3,200\n",
      "            ReLU-137          [32, 25, 1, 1, 1]               0\n",
      "          Conv3d-138         [32, 128, 1, 1, 1]           3,200\n",
      "         Sigmoid-139         [32, 128, 1, 1, 1]               0\n",
      "ChannelAttention-140         [32, 1, 128, 1, 1]               0\n",
      "          Conv2d-141            [32, 1, 32, 32]              18\n",
      "         Sigmoid-142         [32, 1, 1, 32, 32]               0\n",
      "SpatialAttention-143         [32, 1, 1, 32, 32]               0\n",
      "            ReLU-144       [32, 4, 128, 32, 32]               0\n",
      "            TCSA-145       [32, 4, 128, 32, 32]               0\n",
      "     PruningCell-146       [32, 2, 128, 32, 32]               0\n",
      "       AvgPool3d-147        [32, 2, 64, 32, 32]               0\n",
      "      Snn_Conv2d-148       [32, 2, 128, 32, 32]           8,192\n",
      "    BatchNorm3d1-149       [32, 128, 4, 32, 32]             256\n",
      "   batch_norm_2d-150       [32, 2, 128, 32, 32]               0\n",
      "      BasicBlock-151       [32, 2, 128, 32, 32]               0\n",
      "      mem_update-152       [32, 2, 128, 32, 32]               0\n",
      "      Snn_Conv2d-153       [32, 2, 128, 32, 32]         147,456\n",
      "    BatchNorm3d1-154       [32, 128, 4, 32, 32]             256\n",
      "   batch_norm_2d-155       [32, 2, 128, 32, 32]               0\n",
      "      mem_update-156       [32, 2, 128, 32, 32]               0\n",
      "      Snn_Conv2d-157       [32, 2, 128, 32, 32]         147,456\n",
      "    BatchNorm3d2-158       [32, 128, 4, 32, 32]             256\n",
      "  batch_norm_2d1-159       [32, 2, 128, 32, 32]               0\n",
      "AdaptiveAvgPool3d-160           [32, 4, 1, 1, 1]               0\n",
      "          Conv3d-161           [32, 1, 1, 1, 1]               4\n",
      "            ReLU-162           [32, 1, 1, 1, 1]               0\n",
      "          Conv3d-163           [32, 4, 1, 1, 1]               4\n",
      "AdaptiveMaxPool3d-164           [32, 4, 1, 1, 1]               0\n",
      "          Conv3d-165           [32, 1, 1, 1, 1]               4\n",
      "            ReLU-166           [32, 1, 1, 1, 1]               0\n",
      "          Conv3d-167           [32, 4, 1, 1, 1]               4\n",
      "         Sigmoid-168           [32, 4, 1, 1, 1]               0\n",
      "   TimeAttention-169           [32, 4, 1, 1, 1]               0\n",
      "AdaptiveAvgPool3d-170         [32, 128, 1, 1, 1]               0\n",
      "          Conv3d-171          [32, 25, 1, 1, 1]           3,200\n",
      "            ReLU-172          [32, 25, 1, 1, 1]               0\n",
      "          Conv3d-173         [32, 128, 1, 1, 1]           3,200\n",
      "AdaptiveMaxPool3d-174         [32, 128, 1, 1, 1]               0\n",
      "          Conv3d-175          [32, 25, 1, 1, 1]           3,200\n",
      "            ReLU-176          [32, 25, 1, 1, 1]               0\n",
      "          Conv3d-177         [32, 128, 1, 1, 1]           3,200\n",
      "         Sigmoid-178         [32, 128, 1, 1, 1]               0\n",
      "ChannelAttention-179         [32, 1, 128, 1, 1]               0\n",
      "          Conv2d-180            [32, 1, 32, 32]              18\n",
      "         Sigmoid-181         [32, 1, 1, 32, 32]               0\n",
      "SpatialAttention-182         [32, 1, 1, 32, 32]               0\n",
      "            ReLU-183       [32, 4, 128, 32, 32]               0\n",
      "            TCSA-184       [32, 4, 128, 32, 32]               0\n",
      "     PruningCell-185       [32, 2, 128, 32, 32]               0\n",
      "      BasicBlock-186       [32, 2, 128, 32, 32]               0\n",
      "      mem_update-187       [32, 2, 128, 32, 32]               0\n",
      "      Snn_Conv2d-188       [32, 2, 128, 32, 32]         147,456\n",
      "    BatchNorm3d1-189       [32, 128, 4, 32, 32]             256\n",
      "   batch_norm_2d-190       [32, 2, 128, 32, 32]               0\n",
      "      mem_update-191       [32, 2, 128, 32, 32]               0\n",
      "      Snn_Conv2d-192       [32, 2, 128, 32, 32]         147,456\n",
      "    BatchNorm3d2-193       [32, 128, 4, 32, 32]             256\n",
      "  batch_norm_2d1-194       [32, 2, 128, 32, 32]               0\n",
      "AdaptiveAvgPool3d-195           [32, 4, 1, 1, 1]               0\n",
      "          Conv3d-196           [32, 1, 1, 1, 1]               4\n",
      "            ReLU-197           [32, 1, 1, 1, 1]               0\n",
      "          Conv3d-198           [32, 4, 1, 1, 1]               4\n",
      "AdaptiveMaxPool3d-199           [32, 4, 1, 1, 1]               0\n",
      "          Conv3d-200           [32, 1, 1, 1, 1]               4\n",
      "            ReLU-201           [32, 1, 1, 1, 1]               0\n",
      "          Conv3d-202           [32, 4, 1, 1, 1]               4\n",
      "         Sigmoid-203           [32, 4, 1, 1, 1]               0\n",
      "   TimeAttention-204           [32, 4, 1, 1, 1]               0\n",
      "AdaptiveAvgPool3d-205         [32, 128, 1, 1, 1]               0\n",
      "          Conv3d-206          [32, 25, 1, 1, 1]           3,200\n",
      "            ReLU-207          [32, 25, 1, 1, 1]               0\n",
      "          Conv3d-208         [32, 128, 1, 1, 1]           3,200\n",
      "AdaptiveMaxPool3d-209         [32, 128, 1, 1, 1]               0\n",
      "          Conv3d-210          [32, 25, 1, 1, 1]           3,200\n",
      "            ReLU-211          [32, 25, 1, 1, 1]               0\n",
      "          Conv3d-212         [32, 128, 1, 1, 1]           3,200\n",
      "         Sigmoid-213         [32, 128, 1, 1, 1]               0\n",
      "ChannelAttention-214         [32, 1, 128, 1, 1]               0\n",
      "          Conv2d-215            [32, 1, 32, 32]              18\n",
      "         Sigmoid-216         [32, 1, 1, 32, 32]               0\n",
      "SpatialAttention-217         [32, 1, 1, 32, 32]               0\n",
      "            ReLU-218       [32, 4, 128, 32, 32]               0\n",
      "            TCSA-219       [32, 4, 128, 32, 32]               0\n",
      "     PruningCell-220       [32, 2, 128, 32, 32]               0\n",
      "      BasicBlock-221       [32, 2, 128, 32, 32]               0\n",
      "      mem_update-222       [32, 2, 128, 32, 32]               0\n",
      "      Snn_Conv2d-223       [32, 2, 128, 32, 32]         147,456\n",
      "    BatchNorm3d1-224       [32, 128, 4, 32, 32]             256\n",
      "   batch_norm_2d-225       [32, 2, 128, 32, 32]               0\n",
      "      mem_update-226       [32, 2, 128, 32, 32]               0\n",
      "      Snn_Conv2d-227       [32, 2, 128, 32, 32]         147,456\n",
      "    BatchNorm3d2-228       [32, 128, 4, 32, 32]             256\n",
      "  batch_norm_2d1-229       [32, 2, 128, 32, 32]               0\n",
      "AdaptiveAvgPool3d-230           [32, 4, 1, 1, 1]               0\n",
      "          Conv3d-231           [32, 1, 1, 1, 1]               4\n",
      "            ReLU-232           [32, 1, 1, 1, 1]               0\n",
      "          Conv3d-233           [32, 4, 1, 1, 1]               4\n",
      "AdaptiveMaxPool3d-234           [32, 4, 1, 1, 1]               0\n",
      "          Conv3d-235           [32, 1, 1, 1, 1]               4\n",
      "            ReLU-236           [32, 1, 1, 1, 1]               0\n",
      "          Conv3d-237           [32, 4, 1, 1, 1]               4\n",
      "         Sigmoid-238           [32, 4, 1, 1, 1]               0\n",
      "   TimeAttention-239           [32, 4, 1, 1, 1]               0\n",
      "AdaptiveAvgPool3d-240         [32, 128, 1, 1, 1]               0\n",
      "          Conv3d-241          [32, 25, 1, 1, 1]           3,200\n",
      "            ReLU-242          [32, 25, 1, 1, 1]               0\n",
      "          Conv3d-243         [32, 128, 1, 1, 1]           3,200\n",
      "AdaptiveMaxPool3d-244         [32, 128, 1, 1, 1]               0\n",
      "          Conv3d-245          [32, 25, 1, 1, 1]           3,200\n",
      "            ReLU-246          [32, 25, 1, 1, 1]               0\n",
      "          Conv3d-247         [32, 128, 1, 1, 1]           3,200\n",
      "         Sigmoid-248         [32, 128, 1, 1, 1]               0\n",
      "ChannelAttention-249         [32, 1, 128, 1, 1]               0\n",
      "          Conv2d-250            [32, 1, 32, 32]              18\n",
      "         Sigmoid-251         [32, 1, 1, 32, 32]               0\n",
      "SpatialAttention-252         [32, 1, 1, 32, 32]               0\n",
      "            ReLU-253       [32, 4, 128, 32, 32]               0\n",
      "            TCSA-254       [32, 4, 128, 32, 32]               0\n",
      "     PruningCell-255       [32, 2, 128, 32, 32]               0\n",
      "      BasicBlock-256       [32, 2, 128, 32, 32]               0\n",
      "      mem_update-257       [32, 2, 128, 32, 32]               0\n",
      "      Snn_Conv2d-258       [32, 2, 256, 16, 16]         294,912\n",
      "    BatchNorm3d1-259       [32, 256, 4, 16, 16]             512\n",
      "   batch_norm_2d-260       [32, 2, 256, 16, 16]               0\n",
      "      mem_update-261       [32, 2, 256, 16, 16]               0\n",
      "      Snn_Conv2d-262       [32, 2, 256, 16, 16]         589,824\n",
      "    BatchNorm3d2-263       [32, 256, 4, 16, 16]             512\n",
      "  batch_norm_2d1-264       [32, 2, 256, 16, 16]               0\n",
      "AdaptiveAvgPool3d-265           [32, 4, 1, 1, 1]               0\n",
      "          Conv3d-266           [32, 1, 1, 1, 1]               4\n",
      "            ReLU-267           [32, 1, 1, 1, 1]               0\n",
      "          Conv3d-268           [32, 4, 1, 1, 1]               4\n",
      "AdaptiveMaxPool3d-269           [32, 4, 1, 1, 1]               0\n",
      "          Conv3d-270           [32, 1, 1, 1, 1]               4\n",
      "            ReLU-271           [32, 1, 1, 1, 1]               0\n",
      "          Conv3d-272           [32, 4, 1, 1, 1]               4\n",
      "         Sigmoid-273           [32, 4, 1, 1, 1]               0\n",
      "   TimeAttention-274           [32, 4, 1, 1, 1]               0\n",
      "AdaptiveAvgPool3d-275         [32, 256, 1, 1, 1]               0\n",
      "          Conv3d-276          [32, 51, 1, 1, 1]          13,056\n",
      "            ReLU-277          [32, 51, 1, 1, 1]               0\n",
      "          Conv3d-278         [32, 256, 1, 1, 1]          13,056\n",
      "AdaptiveMaxPool3d-279         [32, 256, 1, 1, 1]               0\n",
      "          Conv3d-280          [32, 51, 1, 1, 1]          13,056\n",
      "            ReLU-281          [32, 51, 1, 1, 1]               0\n",
      "          Conv3d-282         [32, 256, 1, 1, 1]          13,056\n",
      "         Sigmoid-283         [32, 256, 1, 1, 1]               0\n",
      "ChannelAttention-284         [32, 1, 256, 1, 1]               0\n",
      "          Conv2d-285            [32, 1, 16, 16]              18\n",
      "         Sigmoid-286         [32, 1, 1, 16, 16]               0\n",
      "SpatialAttention-287         [32, 1, 1, 16, 16]               0\n",
      "            ReLU-288       [32, 4, 256, 16, 16]               0\n",
      "            TCSA-289       [32, 4, 256, 16, 16]               0\n",
      "     PruningCell-290       [32, 2, 256, 16, 16]               0\n",
      "       AvgPool3d-291       [32, 2, 128, 16, 16]               0\n",
      "      Snn_Conv2d-292       [32, 2, 256, 16, 16]          32,768\n",
      "    BatchNorm3d1-293       [32, 256, 4, 16, 16]             512\n",
      "   batch_norm_2d-294       [32, 2, 256, 16, 16]               0\n",
      "      BasicBlock-295       [32, 2, 256, 16, 16]               0\n",
      "      mem_update-296       [32, 2, 256, 16, 16]               0\n",
      "      Snn_Conv2d-297       [32, 2, 256, 16, 16]         589,824\n",
      "    BatchNorm3d1-298       [32, 256, 4, 16, 16]             512\n",
      "   batch_norm_2d-299       [32, 2, 256, 16, 16]               0\n",
      "      mem_update-300       [32, 2, 256, 16, 16]               0\n",
      "      Snn_Conv2d-301       [32, 2, 256, 16, 16]         589,824\n",
      "    BatchNorm3d2-302       [32, 256, 4, 16, 16]             512\n",
      "  batch_norm_2d1-303       [32, 2, 256, 16, 16]               0\n",
      "AdaptiveAvgPool3d-304           [32, 4, 1, 1, 1]               0\n",
      "          Conv3d-305           [32, 1, 1, 1, 1]               4\n",
      "            ReLU-306           [32, 1, 1, 1, 1]               0\n",
      "          Conv3d-307           [32, 4, 1, 1, 1]               4\n",
      "AdaptiveMaxPool3d-308           [32, 4, 1, 1, 1]               0\n",
      "          Conv3d-309           [32, 1, 1, 1, 1]               4\n",
      "            ReLU-310           [32, 1, 1, 1, 1]               0\n",
      "          Conv3d-311           [32, 4, 1, 1, 1]               4\n",
      "         Sigmoid-312           [32, 4, 1, 1, 1]               0\n",
      "   TimeAttention-313           [32, 4, 1, 1, 1]               0\n",
      "AdaptiveAvgPool3d-314         [32, 256, 1, 1, 1]               0\n",
      "          Conv3d-315          [32, 51, 1, 1, 1]          13,056\n",
      "            ReLU-316          [32, 51, 1, 1, 1]               0\n",
      "          Conv3d-317         [32, 256, 1, 1, 1]          13,056\n",
      "AdaptiveMaxPool3d-318         [32, 256, 1, 1, 1]               0\n",
      "          Conv3d-319          [32, 51, 1, 1, 1]          13,056\n",
      "            ReLU-320          [32, 51, 1, 1, 1]               0\n",
      "          Conv3d-321         [32, 256, 1, 1, 1]          13,056\n",
      "         Sigmoid-322         [32, 256, 1, 1, 1]               0\n",
      "ChannelAttention-323         [32, 1, 256, 1, 1]               0\n",
      "          Conv2d-324            [32, 1, 16, 16]              18\n",
      "         Sigmoid-325         [32, 1, 1, 16, 16]               0\n",
      "SpatialAttention-326         [32, 1, 1, 16, 16]               0\n",
      "            ReLU-327       [32, 4, 256, 16, 16]               0\n",
      "            TCSA-328       [32, 4, 256, 16, 16]               0\n",
      "     PruningCell-329       [32, 2, 256, 16, 16]               0\n",
      "      BasicBlock-330       [32, 2, 256, 16, 16]               0\n",
      "      mem_update-331       [32, 2, 256, 16, 16]               0\n",
      "      Snn_Conv2d-332       [32, 2, 256, 16, 16]         589,824\n",
      "    BatchNorm3d1-333       [32, 256, 4, 16, 16]             512\n",
      "   batch_norm_2d-334       [32, 2, 256, 16, 16]               0\n",
      "      mem_update-335       [32, 2, 256, 16, 16]               0\n",
      "      Snn_Conv2d-336       [32, 2, 256, 16, 16]         589,824\n",
      "    BatchNorm3d2-337       [32, 256, 4, 16, 16]             512\n",
      "  batch_norm_2d1-338       [32, 2, 256, 16, 16]               0\n",
      "AdaptiveAvgPool3d-339           [32, 4, 1, 1, 1]               0\n",
      "          Conv3d-340           [32, 1, 1, 1, 1]               4\n",
      "            ReLU-341           [32, 1, 1, 1, 1]               0\n",
      "          Conv3d-342           [32, 4, 1, 1, 1]               4\n",
      "AdaptiveMaxPool3d-343           [32, 4, 1, 1, 1]               0\n",
      "          Conv3d-344           [32, 1, 1, 1, 1]               4\n",
      "            ReLU-345           [32, 1, 1, 1, 1]               0\n",
      "          Conv3d-346           [32, 4, 1, 1, 1]               4\n",
      "         Sigmoid-347           [32, 4, 1, 1, 1]               0\n",
      "   TimeAttention-348           [32, 4, 1, 1, 1]               0\n",
      "AdaptiveAvgPool3d-349         [32, 256, 1, 1, 1]               0\n",
      "          Conv3d-350          [32, 51, 1, 1, 1]          13,056\n",
      "            ReLU-351          [32, 51, 1, 1, 1]               0\n",
      "          Conv3d-352         [32, 256, 1, 1, 1]          13,056\n",
      "AdaptiveMaxPool3d-353         [32, 256, 1, 1, 1]               0\n",
      "          Conv3d-354          [32, 51, 1, 1, 1]          13,056\n",
      "            ReLU-355          [32, 51, 1, 1, 1]               0\n",
      "          Conv3d-356         [32, 256, 1, 1, 1]          13,056\n",
      "         Sigmoid-357         [32, 256, 1, 1, 1]               0\n",
      "ChannelAttention-358         [32, 1, 256, 1, 1]               0\n",
      "          Conv2d-359            [32, 1, 16, 16]              18\n",
      "         Sigmoid-360         [32, 1, 1, 16, 16]               0\n",
      "SpatialAttention-361         [32, 1, 1, 16, 16]               0\n",
      "            ReLU-362       [32, 4, 256, 16, 16]               0\n",
      "            TCSA-363       [32, 4, 256, 16, 16]               0\n",
      "     PruningCell-364       [32, 2, 256, 16, 16]               0\n",
      "      BasicBlock-365       [32, 2, 256, 16, 16]               0\n",
      "      mem_update-366       [32, 2, 256, 16, 16]               0\n",
      "      Snn_Conv2d-367       [32, 2, 256, 16, 16]         589,824\n",
      "    BatchNorm3d1-368       [32, 256, 4, 16, 16]             512\n",
      "   batch_norm_2d-369       [32, 2, 256, 16, 16]               0\n",
      "      mem_update-370       [32, 2, 256, 16, 16]               0\n",
      "      Snn_Conv2d-371       [32, 2, 256, 16, 16]         589,824\n",
      "    BatchNorm3d2-372       [32, 256, 4, 16, 16]             512\n",
      "  batch_norm_2d1-373       [32, 2, 256, 16, 16]               0\n",
      "AdaptiveAvgPool3d-374           [32, 4, 1, 1, 1]               0\n",
      "          Conv3d-375           [32, 1, 1, 1, 1]               4\n",
      "            ReLU-376           [32, 1, 1, 1, 1]               0\n",
      "          Conv3d-377           [32, 4, 1, 1, 1]               4\n",
      "AdaptiveMaxPool3d-378           [32, 4, 1, 1, 1]               0\n",
      "          Conv3d-379           [32, 1, 1, 1, 1]               4\n",
      "            ReLU-380           [32, 1, 1, 1, 1]               0\n",
      "          Conv3d-381           [32, 4, 1, 1, 1]               4\n",
      "         Sigmoid-382           [32, 4, 1, 1, 1]               0\n",
      "   TimeAttention-383           [32, 4, 1, 1, 1]               0\n",
      "AdaptiveAvgPool3d-384         [32, 256, 1, 1, 1]               0\n",
      "          Conv3d-385          [32, 51, 1, 1, 1]          13,056\n",
      "            ReLU-386          [32, 51, 1, 1, 1]               0\n",
      "          Conv3d-387         [32, 256, 1, 1, 1]          13,056\n",
      "AdaptiveMaxPool3d-388         [32, 256, 1, 1, 1]               0\n",
      "          Conv3d-389          [32, 51, 1, 1, 1]          13,056\n",
      "            ReLU-390          [32, 51, 1, 1, 1]               0\n",
      "          Conv3d-391         [32, 256, 1, 1, 1]          13,056\n",
      "         Sigmoid-392         [32, 256, 1, 1, 1]               0\n",
      "ChannelAttention-393         [32, 1, 256, 1, 1]               0\n",
      "          Conv2d-394            [32, 1, 16, 16]              18\n",
      "         Sigmoid-395         [32, 1, 1, 16, 16]               0\n",
      "SpatialAttention-396         [32, 1, 1, 16, 16]               0\n",
      "            ReLU-397       [32, 4, 256, 16, 16]               0\n",
      "            TCSA-398       [32, 4, 256, 16, 16]               0\n",
      "     PruningCell-399       [32, 2, 256, 16, 16]               0\n",
      "      BasicBlock-400       [32, 2, 256, 16, 16]               0\n",
      "      mem_update-401       [32, 2, 256, 16, 16]               0\n",
      "      Snn_Conv2d-402       [32, 2, 256, 16, 16]         589,824\n",
      "    BatchNorm3d1-403       [32, 256, 4, 16, 16]             512\n",
      "   batch_norm_2d-404       [32, 2, 256, 16, 16]               0\n",
      "      mem_update-405       [32, 2, 256, 16, 16]               0\n",
      "      Snn_Conv2d-406       [32, 2, 256, 16, 16]         589,824\n",
      "    BatchNorm3d2-407       [32, 256, 4, 16, 16]             512\n",
      "  batch_norm_2d1-408       [32, 2, 256, 16, 16]               0\n",
      "AdaptiveAvgPool3d-409           [32, 4, 1, 1, 1]               0\n",
      "          Conv3d-410           [32, 1, 1, 1, 1]               4\n",
      "            ReLU-411           [32, 1, 1, 1, 1]               0\n",
      "          Conv3d-412           [32, 4, 1, 1, 1]               4\n",
      "AdaptiveMaxPool3d-413           [32, 4, 1, 1, 1]               0\n",
      "          Conv3d-414           [32, 1, 1, 1, 1]               4\n",
      "            ReLU-415           [32, 1, 1, 1, 1]               0\n",
      "          Conv3d-416           [32, 4, 1, 1, 1]               4\n",
      "         Sigmoid-417           [32, 4, 1, 1, 1]               0\n",
      "   TimeAttention-418           [32, 4, 1, 1, 1]               0\n",
      "AdaptiveAvgPool3d-419         [32, 256, 1, 1, 1]               0\n",
      "          Conv3d-420          [32, 51, 1, 1, 1]          13,056\n",
      "            ReLU-421          [32, 51, 1, 1, 1]               0\n",
      "          Conv3d-422         [32, 256, 1, 1, 1]          13,056\n",
      "AdaptiveMaxPool3d-423         [32, 256, 1, 1, 1]               0\n",
      "          Conv3d-424          [32, 51, 1, 1, 1]          13,056\n",
      "            ReLU-425          [32, 51, 1, 1, 1]               0\n",
      "          Conv3d-426         [32, 256, 1, 1, 1]          13,056\n",
      "         Sigmoid-427         [32, 256, 1, 1, 1]               0\n",
      "ChannelAttention-428         [32, 1, 256, 1, 1]               0\n",
      "          Conv2d-429            [32, 1, 16, 16]              18\n",
      "         Sigmoid-430         [32, 1, 1, 16, 16]               0\n",
      "SpatialAttention-431         [32, 1, 1, 16, 16]               0\n",
      "            ReLU-432       [32, 4, 256, 16, 16]               0\n",
      "            TCSA-433       [32, 4, 256, 16, 16]               0\n",
      "     PruningCell-434       [32, 2, 256, 16, 16]               0\n",
      "      BasicBlock-435       [32, 2, 256, 16, 16]               0\n",
      "      mem_update-436       [32, 2, 256, 16, 16]               0\n",
      "      Snn_Conv2d-437       [32, 2, 256, 16, 16]         589,824\n",
      "    BatchNorm3d1-438       [32, 256, 4, 16, 16]             512\n",
      "   batch_norm_2d-439       [32, 2, 256, 16, 16]               0\n",
      "      mem_update-440       [32, 2, 256, 16, 16]               0\n",
      "      Snn_Conv2d-441       [32, 2, 256, 16, 16]         589,824\n",
      "    BatchNorm3d2-442       [32, 256, 4, 16, 16]             512\n",
      "  batch_norm_2d1-443       [32, 2, 256, 16, 16]               0\n",
      "AdaptiveAvgPool3d-444           [32, 4, 1, 1, 1]               0\n",
      "          Conv3d-445           [32, 1, 1, 1, 1]               4\n",
      "            ReLU-446           [32, 1, 1, 1, 1]               0\n",
      "          Conv3d-447           [32, 4, 1, 1, 1]               4\n",
      "AdaptiveMaxPool3d-448           [32, 4, 1, 1, 1]               0\n",
      "          Conv3d-449           [32, 1, 1, 1, 1]               4\n",
      "            ReLU-450           [32, 1, 1, 1, 1]               0\n",
      "          Conv3d-451           [32, 4, 1, 1, 1]               4\n",
      "         Sigmoid-452           [32, 4, 1, 1, 1]               0\n",
      "   TimeAttention-453           [32, 4, 1, 1, 1]               0\n",
      "AdaptiveAvgPool3d-454         [32, 256, 1, 1, 1]               0\n",
      "          Conv3d-455          [32, 51, 1, 1, 1]          13,056\n",
      "            ReLU-456          [32, 51, 1, 1, 1]               0\n",
      "          Conv3d-457         [32, 256, 1, 1, 1]          13,056\n",
      "AdaptiveMaxPool3d-458         [32, 256, 1, 1, 1]               0\n",
      "          Conv3d-459          [32, 51, 1, 1, 1]          13,056\n",
      "            ReLU-460          [32, 51, 1, 1, 1]               0\n",
      "          Conv3d-461         [32, 256, 1, 1, 1]          13,056\n",
      "         Sigmoid-462         [32, 256, 1, 1, 1]               0\n",
      "ChannelAttention-463         [32, 1, 256, 1, 1]               0\n",
      "          Conv2d-464            [32, 1, 16, 16]              18\n",
      "         Sigmoid-465         [32, 1, 1, 16, 16]               0\n",
      "SpatialAttention-466         [32, 1, 1, 16, 16]               0\n",
      "            ReLU-467       [32, 4, 256, 16, 16]               0\n",
      "            TCSA-468       [32, 4, 256, 16, 16]               0\n",
      "     PruningCell-469       [32, 2, 256, 16, 16]               0\n",
      "      BasicBlock-470       [32, 2, 256, 16, 16]               0\n",
      "      mem_update-471       [32, 2, 256, 16, 16]               0\n",
      "      Snn_Conv2d-472         [32, 2, 512, 8, 8]       1,179,648\n",
      "    BatchNorm3d1-473         [32, 512, 4, 8, 8]           1,024\n",
      "   batch_norm_2d-474         [32, 2, 512, 8, 8]               0\n",
      "      mem_update-475         [32, 2, 512, 8, 8]               0\n",
      "      Snn_Conv2d-476         [32, 2, 512, 8, 8]       2,359,296\n",
      "    BatchNorm3d2-477         [32, 512, 4, 8, 8]           1,024\n",
      "  batch_norm_2d1-478         [32, 2, 512, 8, 8]               0\n",
      "AdaptiveAvgPool3d-479           [32, 4, 1, 1, 1]               0\n",
      "          Conv3d-480           [32, 1, 1, 1, 1]               4\n",
      "            ReLU-481           [32, 1, 1, 1, 1]               0\n",
      "          Conv3d-482           [32, 4, 1, 1, 1]               4\n",
      "AdaptiveMaxPool3d-483           [32, 4, 1, 1, 1]               0\n",
      "          Conv3d-484           [32, 1, 1, 1, 1]               4\n",
      "            ReLU-485           [32, 1, 1, 1, 1]               0\n",
      "          Conv3d-486           [32, 4, 1, 1, 1]               4\n",
      "         Sigmoid-487           [32, 4, 1, 1, 1]               0\n",
      "   TimeAttention-488           [32, 4, 1, 1, 1]               0\n",
      "AdaptiveAvgPool3d-489         [32, 512, 1, 1, 1]               0\n",
      "          Conv3d-490         [32, 102, 1, 1, 1]          52,224\n",
      "            ReLU-491         [32, 102, 1, 1, 1]               0\n",
      "          Conv3d-492         [32, 512, 1, 1, 1]          52,224\n",
      "AdaptiveMaxPool3d-493         [32, 512, 1, 1, 1]               0\n",
      "          Conv3d-494         [32, 102, 1, 1, 1]          52,224\n",
      "            ReLU-495         [32, 102, 1, 1, 1]               0\n",
      "          Conv3d-496         [32, 512, 1, 1, 1]          52,224\n",
      "         Sigmoid-497         [32, 512, 1, 1, 1]               0\n",
      "ChannelAttention-498         [32, 1, 512, 1, 1]               0\n",
      "          Conv2d-499              [32, 1, 8, 8]              18\n",
      "         Sigmoid-500           [32, 1, 1, 8, 8]               0\n",
      "SpatialAttention-501           [32, 1, 1, 8, 8]               0\n",
      "            ReLU-502         [32, 4, 512, 8, 8]               0\n",
      "            TCSA-503         [32, 4, 512, 8, 8]               0\n",
      "     PruningCell-504         [32, 2, 512, 8, 8]               0\n",
      "       AvgPool3d-505         [32, 2, 256, 8, 8]               0\n",
      "      Snn_Conv2d-506         [32, 2, 512, 8, 8]         131,072\n",
      "    BatchNorm3d1-507         [32, 512, 4, 8, 8]           1,024\n",
      "   batch_norm_2d-508         [32, 2, 512, 8, 8]               0\n",
      "      BasicBlock-509         [32, 2, 512, 8, 8]               0\n",
      "      mem_update-510         [32, 2, 512, 8, 8]               0\n",
      "      Snn_Conv2d-511         [32, 2, 512, 8, 8]       2,359,296\n",
      "    BatchNorm3d1-512         [32, 512, 4, 8, 8]           1,024\n",
      "   batch_norm_2d-513         [32, 2, 512, 8, 8]               0\n",
      "      mem_update-514         [32, 2, 512, 8, 8]               0\n",
      "      Snn_Conv2d-515         [32, 2, 512, 8, 8]       2,359,296\n",
      "    BatchNorm3d2-516         [32, 512, 4, 8, 8]           1,024\n",
      "  batch_norm_2d1-517         [32, 2, 512, 8, 8]               0\n",
      "AdaptiveAvgPool3d-518           [32, 4, 1, 1, 1]               0\n",
      "          Conv3d-519           [32, 1, 1, 1, 1]               4\n",
      "            ReLU-520           [32, 1, 1, 1, 1]               0\n",
      "          Conv3d-521           [32, 4, 1, 1, 1]               4\n",
      "AdaptiveMaxPool3d-522           [32, 4, 1, 1, 1]               0\n",
      "          Conv3d-523           [32, 1, 1, 1, 1]               4\n",
      "            ReLU-524           [32, 1, 1, 1, 1]               0\n",
      "          Conv3d-525           [32, 4, 1, 1, 1]               4\n",
      "         Sigmoid-526           [32, 4, 1, 1, 1]               0\n",
      "   TimeAttention-527           [32, 4, 1, 1, 1]               0\n",
      "AdaptiveAvgPool3d-528         [32, 512, 1, 1, 1]               0\n",
      "          Conv3d-529         [32, 102, 1, 1, 1]          52,224\n",
      "            ReLU-530         [32, 102, 1, 1, 1]               0\n",
      "          Conv3d-531         [32, 512, 1, 1, 1]          52,224\n",
      "AdaptiveMaxPool3d-532         [32, 512, 1, 1, 1]               0\n",
      "          Conv3d-533         [32, 102, 1, 1, 1]          52,224\n",
      "            ReLU-534         [32, 102, 1, 1, 1]               0\n",
      "          Conv3d-535         [32, 512, 1, 1, 1]          52,224\n",
      "         Sigmoid-536         [32, 512, 1, 1, 1]               0\n",
      "ChannelAttention-537         [32, 1, 512, 1, 1]               0\n",
      "          Conv2d-538              [32, 1, 8, 8]              18\n",
      "         Sigmoid-539           [32, 1, 1, 8, 8]               0\n",
      "SpatialAttention-540           [32, 1, 1, 8, 8]               0\n",
      "            ReLU-541         [32, 4, 512, 8, 8]               0\n",
      "            TCSA-542         [32, 4, 512, 8, 8]               0\n",
      "     PruningCell-543         [32, 2, 512, 8, 8]               0\n",
      "      BasicBlock-544         [32, 2, 512, 8, 8]               0\n",
      "      mem_update-545         [32, 2, 512, 8, 8]               0\n",
      "      Snn_Conv2d-546         [32, 2, 512, 8, 8]       2,359,296\n",
      "    BatchNorm3d1-547         [32, 512, 4, 8, 8]           1,024\n",
      "   batch_norm_2d-548         [32, 2, 512, 8, 8]               0\n",
      "      mem_update-549         [32, 2, 512, 8, 8]               0\n",
      "      Snn_Conv2d-550         [32, 2, 512, 8, 8]       2,359,296\n",
      "    BatchNorm3d2-551         [32, 512, 4, 8, 8]           1,024\n",
      "  batch_norm_2d1-552         [32, 2, 512, 8, 8]               0\n",
      "AdaptiveAvgPool3d-553           [32, 4, 1, 1, 1]               0\n",
      "          Conv3d-554           [32, 1, 1, 1, 1]               4\n",
      "            ReLU-555           [32, 1, 1, 1, 1]               0\n",
      "          Conv3d-556           [32, 4, 1, 1, 1]               4\n",
      "AdaptiveMaxPool3d-557           [32, 4, 1, 1, 1]               0\n",
      "          Conv3d-558           [32, 1, 1, 1, 1]               4\n",
      "            ReLU-559           [32, 1, 1, 1, 1]               0\n",
      "          Conv3d-560           [32, 4, 1, 1, 1]               4\n",
      "         Sigmoid-561           [32, 4, 1, 1, 1]               0\n",
      "   TimeAttention-562           [32, 4, 1, 1, 1]               0\n",
      "AdaptiveAvgPool3d-563         [32, 512, 1, 1, 1]               0\n",
      "          Conv3d-564         [32, 102, 1, 1, 1]          52,224\n",
      "            ReLU-565         [32, 102, 1, 1, 1]               0\n",
      "          Conv3d-566         [32, 512, 1, 1, 1]          52,224\n",
      "AdaptiveMaxPool3d-567         [32, 512, 1, 1, 1]               0\n",
      "          Conv3d-568         [32, 102, 1, 1, 1]          52,224\n",
      "            ReLU-569         [32, 102, 1, 1, 1]               0\n",
      "          Conv3d-570         [32, 512, 1, 1, 1]          52,224\n",
      "         Sigmoid-571         [32, 512, 1, 1, 1]               0\n",
      "ChannelAttention-572         [32, 1, 512, 1, 1]               0\n",
      "          Conv2d-573              [32, 1, 8, 8]              18\n",
      "         Sigmoid-574           [32, 1, 1, 8, 8]               0\n",
      "SpatialAttention-575           [32, 1, 1, 8, 8]               0\n",
      "            ReLU-576         [32, 4, 512, 8, 8]               0\n",
      "            TCSA-577         [32, 4, 512, 8, 8]               0\n",
      "     PruningCell-578         [32, 2, 512, 8, 8]               0\n",
      "      BasicBlock-579         [32, 2, 512, 8, 8]               0\n",
      "      mem_update-580         [32, 2, 512, 8, 8]               0\n",
      " ConvTranspose2d-581          [32, 256, 16, 16]         524,544\n",
      "            ReLU-582          [32, 256, 16, 16]               0\n",
      " ConvTranspose2d-583          [32, 128, 32, 32]         131,200\n",
      "            ReLU-584          [32, 128, 32, 32]               0\n",
      " ConvTranspose2d-585           [32, 64, 64, 64]          32,832\n",
      "            ReLU-586           [32, 64, 64, 64]               0\n",
      " ConvTranspose2d-587         [32, 32, 128, 128]           8,224\n",
      "            ReLU-588         [32, 32, 128, 128]               0\n",
      " ConvTranspose2d-589         [32, 16, 256, 256]           2,064\n",
      "            ReLU-590         [32, 16, 256, 256]               0\n",
      "          Conv2d-591          [32, 1, 256, 256]              17\n",
      "================================================================\n",
      "Total params: 22,982,497\n",
      "Trainable params: 22,982,497\n",
      "Non-trainable params: 0\n",
      "----------------------------------------------------------------\n",
      "Input size (MB): 8.00\n",
      "Forward/backward pass size (MB): 18811.64\n",
      "Params size (MB): 87.67\n",
      "Estimated Total Size (MB): 18907.31\n",
      "----------------------------------------------------------------\n"
     ]
    }
   ],
   "source": [
    "device = torch.device(\"cuda\" if torch.cuda.is_available() else \"cpu\")\n",
    "model = resnet_2_copy.resnet34().to(device)\n",
    "summary(model, input_size=(1, 256, 256), batch_size=32)"
   ]
  },
  {
   "cell_type": "code",
   "execution_count": null,
   "id": "8516833e",
   "metadata": {},
   "outputs": [],
   "source": [
    "import zipfile\n",
    "import os\n",
    "\n",
    "zip_path = \"/content/drive/MyDrive/05-GP25-Mostafa-SpikingNeuralNetwork/Dataset/Modified_3_Brain_Tumor_Segmentation.zip\"\n",
    "extract_path = \"/content/drive/MyDrive/05-GP25-Mostafa-SpikingNeuralNetwork/Dataset/Modified_3_Brain_Tumor_Segmentation Extracted\"\n",
    "\n",
    "# # Extract ZIP\n",
    "# with zipfile.ZipFile(zip_path, 'r') as zip_ref:\n",
    "#     zip_ref.extractall(extract_path)\n",
    "\n",
    "# List extracted files\n",
    "os.listdir(extract_path)"
   ]
  },
  {
   "cell_type": "code",
   "execution_count": null,
   "id": "890da0e5",
   "metadata": {},
   "outputs": [],
   "source": [
    "IMG_DIR      =  \"/content/drive/MyDrive/05-GP25-Mostafa-SpikingNeuralNetwork/Dataset/Modified_3_Brain_Tumor_Segmentation Extracted/Modified_3_Brain_Tumor_Segmentation/images\"\n",
    "MASK_DIR     =  \"/content/drive/MyDrive/05-GP25-Mostafa-SpikingNeuralNetwork/Dataset/Modified_3_Brain_Tumor_Segmentation Extracted/Modified_3_Brain_Tumor_Segmentation/masks\"\n",
    "VAL_IMG_DIR  =  \"/content/drive/MyDrive/05-GP25-Mostafa-SpikingNeuralNetwork/Dataset/Modified_3_Brain_Tumor_Segmentation Extracted/Modified_3_Brain_Tumor_Segmentation/val_images\"\n",
    "VAL_MASK_DIR =  \"/content/drive/MyDrive/05-GP25-Mostafa-SpikingNeuralNetwork/Dataset/Modified_3_Brain_Tumor_Segmentation Extracted/Modified_3_Brain_Tumor_Segmentation/val_masks\""
   ]
  },
  {
   "cell_type": "code",
   "execution_count": null,
   "id": "d822dc74",
   "metadata": {},
   "outputs": [],
   "source": [
    "Device = \"cuda\" if torch.cuda.is_available() else \"cpu\"\n",
    "Learning_rate = 1e-3 # 1e-3 -> 1e-4 -> 5e-5 \n",
    "Batch_size  = 32\n",
    "num_epochs  = 3\n",
    "num_workers = 4\n",
    "IMAGE_HEIGHT = 256 # 256 -> 512 originally\n",
    "IMAGE_WIDTH  = 256 # 256 -> 512 originally\n",
    "PIN_MEMORY = True\n",
    "LOAD_MODEL = False\n",
    "CHECKPOINT_NAME = None"
   ]
  },
  {
   "cell_type": "code",
   "execution_count": 4,
   "id": "929a5f2c",
   "metadata": {},
   "outputs": [],
   "source": [
    "def train_fn(loader, model, optimizer, loss_fn, scaler):\n",
    "    loop = tqdm(loader)\n",
    "    running_loss=0\n",
    "\n",
    "    for batch_idx, (data, targets) in enumerate(loop):\n",
    "        data = data.to(device=Device)\n",
    "        targets = targets.float().unsqueeze(1).to(device=Device) \n",
    "\n",
    "        with torch.amp.autocast(device_type=Device):\n",
    "            predictions = model(data)\n",
    "            loss = loss_fn(predictions, targets)\n",
    "        \n",
    "        running_loss+=loss.item()\n",
    "\n",
    "        optimizer.zero_grad()\n",
    "        scaler.scale(loss).backward()\n",
    "        scaler.step(optimizer)\n",
    "        scaler.update()\n",
    "        \n",
    "        loop.set_postfix(loss=loss.item())\n",
    "        \n",
    "    nasar = model.calculate_nasar()\n",
    "\n",
    "    return running_loss/len(loader), nasar "
   ]
  },
  {
   "cell_type": "code",
   "execution_count": null,
   "id": "776f1658",
   "metadata": {},
   "outputs": [],
   "source": [
    "def main():\n",
    "    train_transform = A.Compose(\n",
    "        [\n",
    "            A.Resize(height=IMAGE_HEIGHT, width=IMAGE_WIDTH),\n",
    "            A.Rotate(limit=35, p=1.0),\n",
    "            A.HorizontalFlip(p=0.5),\n",
    "            A.VerticalFlip(p=0.1),\n",
    "            A.Normalize(\n",
    "                mean=[0.0],\n",
    "                std=[1.0],\n",
    "                max_pixel_value=255.0,\n",
    "            ),\n",
    "            ToTensorV2(),\n",
    "        ]\n",
    "    )\n",
    "    val_transform = A.Compose(\n",
    "        [\n",
    "            A.Resize(height=IMAGE_HEIGHT, width=IMAGE_WIDTH),\n",
    "            A.Normalize(\n",
    "                mean=[0.0],\n",
    "                std=[1.0],\n",
    "                max_pixel_value=255.0,\n",
    "            ),\n",
    "            ToTensorV2(),\n",
    "        ]\n",
    "    )\n",
    "    model = resnet_2_copy.resnet34().to(device)\n",
    "    loss_fn = nn.BCEWithLogitsLoss()\n",
    "    optimizer = optim.Adam(model.parameters(), lr=Learning_rate)\n",
    "    # scheduler = ReduceLROnPlateau(optimizer, mode='min', patience=5, factor=0.5)\n",
    "    # scheduler = CosineAnnealingLR(optimizer, T_max=num_epochs)  \n",
    "    scheduler = CosineAnnealingWarmRestarts(optimizer, T_0=10, T_mult=2)\n",
    "\n",
    "    train_loader, val_loader = get_loaders(\n",
    "        IMG_DIR,\n",
    "        MASK_DIR,\n",
    "        VAL_IMG_DIR,\n",
    "        VAL_MASK_DIR,\n",
    "        Batch_size,\n",
    "        train_transform,\n",
    "        val_transform,\n",
    "        num_workers,\n",
    "        PIN_MEMORY,\n",
    "    )\n",
    "\n",
    "    train_losses=[]\n",
    "    val_dice_scores=[]\n",
    "    val_accs=[]\n",
    "    train_nasar=[]\n",
    "\n",
    "    if LOAD_MODEL:\n",
    "        load_checkpoint(model=model, optimizer=optimizer, checkpoint_name=CHECKPOINT_NAME)\n",
    "        val_acc_loaded, val_dice_loaded = check_accuracy(val_loader, model, device=Device)\n",
    "\n",
    "    scaler = torch.amp.GradScaler()\n",
    "\n",
    "    for epoch in range(num_epochs):\n",
    "        train_loss, nasar = train_fn(train_loader, model, optimizer, loss_fn, scaler)\n",
    "\n",
    "        val_acc, val_dice = check_accuracy(val_loader, model, device=Device)\n",
    "\n",
    "        train_losses.append(train_loss)\n",
    "        val_accs.append(val_acc.cpu().item())\n",
    "        val_dice_scores.append(val_dice.cpu().item())\n",
    "        train_nasar.append(nasar)\n",
    "\n",
    "        scheduler.step(val_dice)\n",
    "        print(f\"Epoch {epoch}: LR = {optimizer.param_groups[0]['lr']}\")\n",
    "\n",
    "        checkpoint = {\n",
    "        \"state_dict\": model.state_dict(),\n",
    "        \"optimizer\": optimizer.state_dict(),\n",
    "        }\n",
    "\n",
    "        checkpoint_filename = save_checkpoint(checkpoint, is_best=len(val_dice_scores) == 1 or val_dice_scores[-1] > max(val_dice_scores[:-1]))\n",
    "        \n",
    "        if epoch != num_epochs - 1:\n",
    "            save_predictions_as_imgs(\n",
    "                val_loader, \n",
    "                model, \n",
    "                checkpoint_filename=checkpoint_filename, \n",
    "                train_losses=train_losses,\n",
    "                val_accs=val_accs,\n",
    "                val_dice_scores=val_dice_scores,\n",
    "                train_nasar=train_nasar,\n",
    "                folder=\"Att_Res_SNN_saved_images/\", \n",
    "                device=Device, \n",
    "                show_last_epoch=False,\n",
    "            )\n",
    "        else:\n",
    "            save_predictions_as_imgs(\n",
    "                val_loader, \n",
    "                model, \n",
    "                checkpoint_filename=checkpoint_filename, \n",
    "                train_losses=train_losses,\n",
    "                val_accs=val_accs,\n",
    "                val_dice_scores=val_dice_scores,\n",
    "                train_nasar=train_nasar, \n",
    "                folder=\"Att_Res_SNN_saved_images/\", \n",
    "                device=Device, \n",
    "                show_last_epoch=True,\n",
    "            )"
   ]
  },
  {
   "cell_type": "code",
   "execution_count": 6,
   "id": "693d6caf",
   "metadata": {},
   "outputs": [
    {
     "name": "stderr",
     "output_type": "stream",
     "text": [
      "100%|███████████████████████████████████████████████████████████████████████| 82/82 [02:40<00:00,  1.96s/it, loss=0.0715]\n"
     ]
    },
    {
     "name": "stdout",
     "output_type": "stream",
     "text": [
      "NASAR: 0.17817558145299203\n",
      "Got 28818978/29360128 with acc  98.16\n",
      "Dice score: 0.0\n",
      "Epoch 0: LR = 0.001\n",
      "✅ Checkpoint saved: Att_Res_SNN_checkpoint_24_2025-04-23_22-07-08.pth.tar\n"
     ]
    },
    {
     "name": "stderr",
     "output_type": "stream",
     "text": [
      "100%|███████████████████████████████████████████████████████████████████████| 82/82 [02:27<00:00,  1.80s/it, loss=0.0572]\n"
     ]
    },
    {
     "name": "stdout",
     "output_type": "stream",
     "text": [
      "NASAR: 0.16996044284301184\n",
      "Got 28822350/29360128 with acc  98.17\n",
      "Dice score: 0.013110661879181862\n",
      "Epoch 1: LR = 0.0009999957588034576\n",
      "✅ Checkpoint saved: Att_Res_SNN_checkpoint_25_2025-04-23_22-10-25.pth.tar\n"
     ]
    },
    {
     "name": "stderr",
     "output_type": "stream",
     "text": [
      "100%|███████████████████████████████████████████████████████████████████████| 82/82 [02:07<00:00,  1.56s/it, loss=0.0453]\n"
     ]
    },
    {
     "name": "stdout",
     "output_type": "stream",
     "text": [
      "NASAR: 0.16466474756948266\n",
      "Got 28852617/29360128 with acc  98.27\n",
      "Dice score: 0.1977100521326065\n",
      "Epoch 2: LR = 0.0009990358210256326\n",
      "✅ Checkpoint saved: Att_Res_SNN_checkpoint_26_2025-04-23_22-13-07.pth.tar\n"
     ]
    },
    {
     "name": "stderr",
     "output_type": "stream",
     "text": [
      "100%|████████████████████████████████████████████████████████████████████████| 82/82 [02:15<00:00,  1.65s/it, loss=0.042]\n"
     ]
    },
    {
     "name": "stdout",
     "output_type": "stream",
     "text": [
      "NASAR: 0.1623323915150244\n",
      "Got 28897474/29360128 with acc  98.42\n",
      "Dice score: 0.3092058598995209\n",
      "Epoch 3: LR = 0.0009976428150025285\n",
      "✅ Checkpoint saved: Att_Res_SNN_checkpoint_27_2025-04-23_22-16-05.pth.tar\n"
     ]
    },
    {
     "name": "stderr",
     "output_type": "stream",
     "text": [
      "100%|███████████████████████████████████████████████████████████████████████| 82/82 [02:32<00:00,  1.87s/it, loss=0.0374]\n"
     ]
    },
    {
     "name": "stdout",
     "output_type": "stream",
     "text": [
      "NASAR: 0.1540888396786972\n",
      "Got 28937078/29360128 with acc  98.56\n",
      "Dice score: 0.4503011703491211\n",
      "Epoch 4: LR = 0.0009950051605806265\n",
      "✅ Checkpoint saved: Att_Res_SNN_checkpoint_28_2025-04-23_22-19-29.pth.tar\n"
     ]
    },
    {
     "name": "stderr",
     "output_type": "stream",
     "text": [
      "100%|███████████████████████████████████████████████████████████████████████| 82/82 [02:31<00:00,  1.85s/it, loss=0.0374]\n"
     ]
    },
    {
     "name": "stdout",
     "output_type": "stream",
     "text": [
      "NASAR: 0.1578169451073302\n",
      "Got 28988804/29360128 with acc  98.74\n",
      "Dice score: 0.5433835387229919\n",
      "Epoch 5: LR = 0.0009927322858058294\n",
      "✅ Checkpoint saved: Att_Res_SNN_checkpoint_29_2025-04-23_22-22-53.pth.tar\n"
     ]
    },
    {
     "name": "stderr",
     "output_type": "stream",
     "text": [
      "100%|███████████████████████████████████████████████████████████████████████| 82/82 [02:38<00:00,  1.93s/it, loss=0.0279]\n"
     ]
    },
    {
     "name": "stdout",
     "output_type": "stream",
     "text": [
      "NASAR: 0.16025331882243984\n",
      "Got 28959912/29360128 with acc  98.64\n",
      "Dice score: 0.4679892659187317\n",
      "Epoch 6: LR = 0.000994605774009284\n",
      " Checkpoint not saved as best model.\n"
     ]
    },
    {
     "name": "stderr",
     "output_type": "stream",
     "text": [
      "100%|███████████████████████████████████████████████████████████████████████| 82/82 [02:36<00:00,  1.91s/it, loss=0.0216]\n"
     ]
    },
    {
     "name": "stdout",
     "output_type": "stream",
     "text": [
      "NASAR: 0.151043842655952\n",
      "Got 28925617/29360128 with acc  98.52\n",
      "Dice score: 0.4064474403858185\n",
      "Epoch 7: LR = 0.0009959294005798221\n",
      " Checkpoint not saved as best model.\n"
     ]
    },
    {
     "name": "stderr",
     "output_type": "stream",
     "text": [
      "100%|███████████████████████████████████████████████████████████████████████| 82/82 [02:36<00:00,  1.91s/it, loss=0.0251]\n"
     ]
    },
    {
     "name": "stdout",
     "output_type": "stream",
     "text": [
      "NASAR: 0.15393095956721775\n",
      "Got 28987836/29360128 with acc  98.73\n",
      "Dice score: 0.5394655466079712\n",
      "Epoch 8: LR = 0.0009928364641767402\n",
      " Checkpoint not saved as best model.\n"
     ]
    },
    {
     "name": "stderr",
     "output_type": "stream",
     "text": [
      "100%|███████████████████████████████████████████████████████████████████████| 82/82 [02:40<00:00,  1.96s/it, loss=0.0224]\n"
     ]
    },
    {
     "name": "stdout",
     "output_type": "stream",
     "text": [
      "NASAR: 0.15220692236098884\n",
      "Got 28961514/29360128 with acc  98.64\n",
      "Dice score: 0.5060362219810486\n",
      "Epoch 9: LR = 0.0009936949558793935\n",
      " Checkpoint not saved as best model.\n"
     ]
    },
    {
     "name": "stderr",
     "output_type": "stream",
     "text": [
      "100%|███████████████████████████████████████████████████████████████████████| 82/82 [02:40<00:00,  1.96s/it, loss=0.0273]\n"
     ]
    },
    {
     "name": "stdout",
     "output_type": "stream",
     "text": [
      "NASAR: 0.13394965588206975\n",
      "Got 28877679/29360128 with acc  98.36\n",
      "Dice score: 0.30485010147094727\n",
      "Epoch 10: LR = 0.0009977087078576862\n",
      " Checkpoint not saved as best model.\n"
     ]
    },
    {
     "name": "stderr",
     "output_type": "stream",
     "text": [
      "100%|███████████████████████████████████████████████████████████████████████| 82/82 [02:44<00:00,  2.01s/it, loss=0.0194]\n"
     ]
    },
    {
     "name": "stdout",
     "output_type": "stream",
     "text": [
      "NASAR: 0.14917868851496022\n",
      "Got 28917120/29360128 with acc  98.49\n",
      "Dice score: 0.4313684105873108\n",
      "Epoch 11: LR = 0.0009954157141027515\n",
      " Checkpoint not saved as best model.\n"
     ]
    },
    {
     "name": "stderr",
     "output_type": "stream",
     "text": [
      "100%|███████████████████████████████████████████████████████████████████████| 82/82 [02:40<00:00,  1.96s/it, loss=0.0233]\n"
     ]
    },
    {
     "name": "stdout",
     "output_type": "stream",
     "text": [
      "NASAR: 0.15220760291730853\n",
      "Got 29005380/29360128 with acc  98.79\n",
      "Dice score: 0.5640794634819031\n",
      "Epoch 12: LR = 0.0009921696078539486\n",
      "✅ Checkpoint saved: Att_Res_SNN_checkpoint_30_2025-04-23_22-44-26.pth.tar\n"
     ]
    },
    {
     "name": "stderr",
     "output_type": "stream",
     "text": [
      "100%|███████████████████████████████████████████████████████████████████████| 82/82 [02:40<00:00,  1.95s/it, loss=0.0275]\n"
     ]
    },
    {
     "name": "stdout",
     "output_type": "stream",
     "text": [
      "NASAR: 0.14314699844575265\n",
      "Got 29009491/29360128 with acc  98.81\n",
      "Dice score: 0.6353523135185242\n",
      "Epoch 13: LR = 0.0009900728037297998\n",
      "✅ Checkpoint saved: Att_Res_SNN_checkpoint_31_2025-04-23_22-48-01.pth.tar\n"
     ]
    },
    {
     "name": "stderr",
     "output_type": "stream",
     "text": [
      "100%|███████████████████████████████████████████████████████████████████████| 82/82 [02:39<00:00,  1.95s/it, loss=0.0189]\n"
     ]
    },
    {
     "name": "stdout",
     "output_type": "stream",
     "text": [
      "NASAR: 0.1457181044027839\n",
      "Got 28996004/29360128 with acc  98.76\n",
      "Dice score: 0.5775715708732605\n",
      "Epoch 14: LR = 0.0009917915817692772\n",
      " Checkpoint not saved as best model.\n"
     ]
    },
    {
     "name": "stderr",
     "output_type": "stream",
     "text": [
      "100%|███████████████████████████████████████████████████████████████████████| 82/82 [02:38<00:00,  1.93s/it, loss=0.0269]\n"
     ]
    },
    {
     "name": "stdout",
     "output_type": "stream",
     "text": [
      "NASAR: 0.12037666750625825\n",
      "Got 28922736/29360128 with acc  98.51\n",
      "Dice score: 0.35283035039901733\n",
      "Epoch 15: LR = 0.0009969314943700362\n",
      " Checkpoint not saved as best model.\n"
     ]
    },
    {
     "name": "stderr",
     "output_type": "stream",
     "text": [
      "100%|███████████████████████████████████████████████████████████████████████| 82/82 [02:39<00:00,  1.95s/it, loss=0.0193]\n"
     ]
    },
    {
     "name": "stdout",
     "output_type": "stream",
     "text": [
      "NASAR: 0.1259999521461451\n",
      "Got 29011755/29360128 with acc  98.81\n",
      "Dice score: 0.5938996076583862\n",
      "Epoch 16: LR = 0.000991322279638263\n",
      " Checkpoint not saved as best model.\n"
     ]
    },
    {
     "name": "stderr",
     "output_type": "stream",
     "text": [
      "100%|███████████████████████████████████████████████████████████████████████| 82/82 [02:45<00:00,  2.01s/it, loss=0.0222]\n"
     ]
    },
    {
     "name": "stdout",
     "output_type": "stream",
     "text": [
      "NASAR: 0.1306579571934373\n",
      "Got 29018141/29360128 with acc  98.84\n",
      "Dice score: 0.5995096564292908\n",
      "Epoch 17: LR = 0.0009911580508071638\n",
      " Checkpoint not saved as best model.\n"
     ]
    },
    {
     "name": "stderr",
     "output_type": "stream",
     "text": [
      "100%|███████████████████████████████████████████████████████████████████████| 82/82 [02:45<00:00,  2.02s/it, loss=0.0238]\n"
     ]
    },
    {
     "name": "stdout",
     "output_type": "stream",
     "text": [
      "NASAR: 0.11784682475345236\n",
      "Got 29013787/29360128 with acc  98.82\n",
      "Dice score: 0.6395869255065918\n",
      "Epoch 18: LR = 0.00098994047874294\n",
      "✅ Checkpoint saved: Att_Res_SNN_checkpoint_32_2025-04-23_23-04-08.pth.tar\n"
     ]
    },
    {
     "name": "stderr",
     "output_type": "stream",
     "text": [
      "100%|███████████████████████████████████████████████████████████████████████| 82/82 [02:41<00:00,  1.97s/it, loss=0.0183]\n"
     ]
    },
    {
     "name": "stdout",
     "output_type": "stream",
     "text": [
      "NASAR: 0.1110584814223885\n",
      "Got 29043952/29360128 with acc  98.92\n",
      "Dice score: 0.6806653141975403\n",
      "Epoch 19: LR = 0.000988611895284042\n",
      "✅ Checkpoint saved: Att_Res_SNN_checkpoint_33_2025-04-23_23-07-49.pth.tar\n"
     ]
    },
    {
     "name": "stderr",
     "output_type": "stream",
     "text": [
      "100%|███████████████████████████████████████████████████████████████████████| 82/82 [02:42<00:00,  1.99s/it, loss=0.0176]\n"
     ]
    },
    {
     "name": "stdout",
     "output_type": "stream",
     "text": [
      "NASAR: 0.1287711327064765\n",
      "Got 29056441/29360128 with acc  98.97\n",
      "Dice score: 0.6649622321128845\n",
      "Epoch 20: LR = 0.000989129393670344\n",
      " Checkpoint not saved as best model.\n"
     ]
    },
    {
     "name": "stderr",
     "output_type": "stream",
     "text": [
      "100%|███████████████████████████████████████████████████████████████████████| 82/82 [02:40<00:00,  1.96s/it, loss=0.0212]\n"
     ]
    },
    {
     "name": "stdout",
     "output_type": "stream",
     "text": [
      "NASAR: 0.1283515070525693\n",
      "Got 29002460/29360128 with acc  98.78\n",
      "Dice score: 0.5869576334953308\n",
      "Epoch 21: LR = 0.0009915233868191757\n",
      " Checkpoint not saved as best model.\n"
     ]
    },
    {
     "name": "stderr",
     "output_type": "stream",
     "text": [
      "100%|███████████████████████████████████████████████████████████████████████| 82/82 [02:39<00:00,  1.94s/it, loss=0.0214]\n"
     ]
    },
    {
     "name": "stdout",
     "output_type": "stream",
     "text": [
      "NASAR: 0.12698346348435666\n",
      "Got 29046667/29360128 with acc  98.93\n",
      "Dice score: 0.6858803033828735\n",
      "Epoch 22: LR = 0.0009884374010469094\n",
      "✅ Checkpoint saved: Att_Res_SNN_checkpoint_34_2025-04-23_23-17-30.pth.tar\n"
     ]
    },
    {
     "name": "stderr",
     "output_type": "stream",
     "text": [
      "100%|███████████████████████████████████████████████████████████████████████| 82/82 [02:38<00:00,  1.93s/it, loss=0.0171]\n"
     ]
    },
    {
     "name": "stdout",
     "output_type": "stream",
     "text": [
      "NASAR: 0.11874572324081206\n",
      "Got 28973170/29360128 with acc  98.68\n",
      "Dice score: 0.5237757563591003\n",
      "Epoch 23: LR = 0.000993246164536279\n",
      " Checkpoint not saved as best model.\n"
     ]
    },
    {
     "name": "stderr",
     "output_type": "stream",
     "text": [
      "100%|███████████████████████████████████████████████████████████████████████| 82/82 [02:41<00:00,  1.97s/it, loss=0.0209]\n"
     ]
    },
    {
     "name": "stdout",
     "output_type": "stream",
     "text": [
      "NASAR: 0.12090217339600756\n",
      "Got 29052051/29360128 with acc  98.95\n",
      "Dice score: 0.7101943492889404\n",
      "Epoch 24: LR = 0.0009876065611736623\n",
      "✅ Checkpoint saved: Att_Res_SNN_checkpoint_35_2025-04-23_23-24-06.pth.tar\n"
     ]
    },
    {
     "name": "stderr",
     "output_type": "stream",
     "text": [
      "100%|███████████████████████████████████████████████████████████████████████| 82/82 [02:39<00:00,  1.95s/it, loss=0.0137]\n"
     ]
    },
    {
     "name": "stdout",
     "output_type": "stream",
     "text": [
      "NASAR: 0.1322679474879878\n",
      "Got 29044528/29360128 with acc  98.93\n",
      "Dice score: 0.6835374236106873\n",
      "Epoch 25: LR = 0.000988515954584896\n",
      " Checkpoint not saved as best model.\n"
     ]
    },
    {
     "name": "stderr",
     "output_type": "stream",
     "text": [
      "100%|███████████████████████████████████████████████████████████████████████| 82/82 [02:40<00:00,  1.95s/it, loss=0.0135]\n"
     ]
    },
    {
     "name": "stdout",
     "output_type": "stream",
     "text": [
      "NASAR: 0.11851171036841164\n",
      "Got 29084656/29360128 with acc  99.06\n",
      "Dice score: 0.7071134448051453\n",
      "Epoch 26: LR = 0.0009877134124857737\n",
      " Checkpoint not saved as best model.\n"
     ]
    },
    {
     "name": "stderr",
     "output_type": "stream",
     "text": [
      "100%|███████████████████████████████████████████████████████████████████████| 82/82 [02:40<00:00,  1.95s/it, loss=0.0126]\n"
     ]
    },
    {
     "name": "stdout",
     "output_type": "stream",
     "text": [
      "NASAR: 0.10499401719357486\n",
      "Got 29080317/29360128 with acc  99.05\n",
      "Dice score: 0.6957746148109436\n",
      "Epoch 27: LR = 0.0009881027370423183\n",
      " Checkpoint not saved as best model.\n"
     ]
    },
    {
     "name": "stderr",
     "output_type": "stream",
     "text": [
      "100%|███████████████████████████████████████████████████████████████████████| 82/82 [02:41<00:00,  1.97s/it, loss=0.0125]\n"
     ]
    },
    {
     "name": "stdout",
     "output_type": "stream",
     "text": [
      "NASAR: 0.10637917317135233\n",
      "Got 29048183/29360128 with acc  98.94\n",
      "Dice score: 0.676809549331665\n",
      "Epoch 28: LR = 0.0009887400626600637\n",
      " Checkpoint not saved as best model.\n"
     ]
    },
    {
     "name": "stderr",
     "output_type": "stream",
     "text": [
      "100%|███████████████████████████████████████████████████████████████████████| 82/82 [02:41<00:00,  1.97s/it, loss=0.0189]\n"
     ]
    },
    {
     "name": "stdout",
     "output_type": "stream",
     "text": [
      "NASAR: 0.11816528929231312\n",
      "Got 28935983/29360128 with acc  98.56\n",
      "Dice score: 0.502980649471283\n",
      "Epoch 29: LR = 0.000993770710530915\n",
      " Checkpoint not saved as best model.\n"
     ]
    },
    {
     "name": "stderr",
     "output_type": "stream",
     "text": [
      "100%|███████████████████████████████████████████████████████████████████████| 82/82 [02:41<00:00,  1.96s/it, loss=0.0147]\n"
     ]
    },
    {
     "name": "stdout",
     "output_type": "stream",
     "text": [
      "NASAR: 0.11666747437956188\n",
      "Got 29092735/29360128 with acc  99.09\n",
      "Dice score: 0.7477772831916809\n",
      "Epoch 30: LR = 0.0009862663463985739\n",
      "✅ Checkpoint saved: Att_Res_SNN_checkpoint_36_2025-04-23_23-42-44.pth.tar\n"
     ]
    },
    {
     "name": "stderr",
     "output_type": "stream",
     "text": [
      "100%|███████████████████████████████████████████████████████████████████████| 82/82 [02:37<00:00,  1.93s/it, loss=0.0166]\n"
     ]
    },
    {
     "name": "stdout",
     "output_type": "stream",
     "text": [
      "NASAR: 0.10383528051242022\n",
      "Got 29078732/29360128 with acc  99.04\n",
      "Dice score: 0.7252413034439087\n",
      "Epoch 31: LR = 0.0009870781319062177\n",
      " Checkpoint not saved as best model.\n"
     ]
    },
    {
     "name": "stderr",
     "output_type": "stream",
     "text": [
      "100%|███████████████████████████████████████████████████████████████████████| 82/82 [02:43<00:00,  1.99s/it, loss=0.0233]\n"
     ]
    },
    {
     "name": "stdout",
     "output_type": "stream",
     "text": [
      "NASAR: 0.09593905417572164\n",
      "Got 29043453/29360128 with acc  98.92\n",
      "Dice score: 0.6448948979377747\n",
      "Epoch 32: LR = 0.0009897733910241562\n",
      " Checkpoint not saved as best model.\n"
     ]
    },
    {
     "name": "stderr",
     "output_type": "stream",
     "text": [
      "100%|███████████████████████████████████████████████████████████████████████| 82/82 [02:48<00:00,  2.05s/it, loss=0.0158]\n"
     ]
    },
    {
     "name": "stdout",
     "output_type": "stream",
     "text": [
      "NASAR: 0.10684590944102113\n",
      "Got 28940120/29360128 with acc  98.57\n",
      "Dice score: 0.5383761525154114\n",
      "Epoch 33: LR = 0.0009928652986044735\n",
      " Checkpoint not saved as best model.\n"
     ]
    },
    {
     "name": "stderr",
     "output_type": "stream",
     "text": [
      "100%|███████████████████████████████████████████████████████████████████████| 82/82 [02:45<00:00,  2.01s/it, loss=0.0194]\n"
     ]
    },
    {
     "name": "stdout",
     "output_type": "stream",
     "text": [
      "NASAR: 0.11352419069675213\n",
      "Got 29042829/29360128 with acc  98.92\n",
      "Dice score: 0.6327813863754272\n",
      "Epoch 34: LR = 0.0009901527161735504\n",
      " Checkpoint not saved as best model.\n"
     ]
    },
    {
     "name": "stderr",
     "output_type": "stream",
     "text": [
      "100%|███████████████████████████████████████████████████████████████████████| 82/82 [02:47<00:00,  2.04s/it, loss=0.0127]\n"
     ]
    },
    {
     "name": "stdout",
     "output_type": "stream",
     "text": [
      "NASAR: 0.10860988455758967\n",
      "Got 29078563/29360128 with acc  99.04\n",
      "Dice score: 0.71254962682724\n",
      "Epoch 35: LR = 0.0009875245661907083\n",
      " Checkpoint not saved as best model.\n"
     ]
    },
    {
     "name": "stderr",
     "output_type": "stream",
     "text": [
      "100%|████████████████████████████████████████████████████████████████████████| 82/82 [02:45<00:00,  2.02s/it, loss=0.011]\n"
     ]
    },
    {
     "name": "stdout",
     "output_type": "stream",
     "text": [
      "NASAR: 0.11719514730390808\n",
      "Got 28908448/29360128 with acc  98.46\n",
      "Dice score: 0.4969998002052307\n",
      "Epoch 36: LR = 0.0009939176737009353\n",
      " Checkpoint not saved as best model.\n"
     ]
    },
    {
     "name": "stderr",
     "output_type": "stream",
     "text": [
      "100%|███████████████████████████████████████████████████████████████████████| 82/82 [02:44<00:00,  2.01s/it, loss=0.0164]\n"
     ]
    },
    {
     "name": "stdout",
     "output_type": "stream",
     "text": [
      "NASAR: 0.10264275779186839\n",
      "Got 29091700/29360128 with acc  99.09\n",
      "Dice score: 0.745006799697876\n",
      "Epoch 37: LR = 0.0009863674594057714\n",
      " Checkpoint not saved as best model.\n"
     ]
    },
    {
     "name": "stderr",
     "output_type": "stream",
     "text": [
      "100%|███████████████████████████████████████████████████████████████████████| 82/82 [02:41<00:00,  1.97s/it, loss=0.0175]\n"
     ]
    },
    {
     "name": "stdout",
     "output_type": "stream",
     "text": [
      "NASAR: 0.110974799859132\n",
      "Got 29088664/29360128 with acc  99.08\n",
      "Dice score: 0.7562161684036255\n",
      "Epoch 38: LR = 0.0009859560898222578\n",
      "✅ Checkpoint saved: Att_Res_SNN_checkpoint_37_2025-04-24_00-08-03.pth.tar\n"
     ]
    },
    {
     "name": "stderr",
     "output_type": "stream",
     "text": [
      "100%|███████████████████████████████████████████████████████████████████████| 82/82 [02:29<00:00,  1.82s/it, loss=0.0197]\n"
     ]
    },
    {
     "name": "stdout",
     "output_type": "stream",
     "text": [
      "NASAR: 0.11504786674965156\n",
      "Got 29025890/29360128 with acc  98.86\n",
      "Dice score: 0.6268124580383301\n",
      "Epoch 39: LR = 0.0009903370176485235\n",
      " Checkpoint not saved as best model.\n"
     ]
    },
    {
     "name": "stderr",
     "output_type": "stream",
     "text": [
      "100%|███████████████████████████████████████████████████████████████████████| 82/82 [02:24<00:00,  1.76s/it, loss=0.0161]\n"
     ]
    },
    {
     "name": "stdout",
     "output_type": "stream",
     "text": [
      "NASAR: 0.10006689689528774\n",
      "Got 29038460/29360128 with acc  98.90\n",
      "Dice score: 0.6416898965835571\n",
      "Epoch 40: LR = 0.0009898744438383328\n",
      " Checkpoint not saved as best model.\n"
     ]
    },
    {
     "name": "stderr",
     "output_type": "stream",
     "text": [
      "100%|███████████████████████████████████████████████████████████████████████| 82/82 [02:37<00:00,  1.92s/it, loss=0.0125]\n"
     ]
    },
    {
     "name": "stdout",
     "output_type": "stream",
     "text": [
      "NASAR: 0.10326835918874248\n",
      "Got 28999670/29360128 with acc  98.77\n",
      "Dice score: 0.5843667984008789\n",
      "Epoch 41: LR = 0.0009915978431609316\n",
      " Checkpoint not saved as best model.\n"
     ]
    },
    {
     "name": "stderr",
     "output_type": "stream",
     "text": [
      "100%|███████████████████████████████████████████████████████████████████████| 82/82 [02:36<00:00,  1.90s/it, loss=0.0214]\n"
     ]
    },
    {
     "name": "stdout",
     "output_type": "stream",
     "text": [
      "NASAR: 0.11117604752661477\n",
      "Got 29074405/29360128 with acc  99.03\n",
      "Dice score: 0.7449815273284912\n",
      "Epoch 42: LR = 0.000986368378652923\n",
      " Checkpoint not saved as best model.\n"
     ]
    },
    {
     "name": "stderr",
     "output_type": "stream",
     "text": [
      "100%|███████████████████████████████████████████████████████████████████████| 82/82 [02:36<00:00,  1.91s/it, loss=0.0166]\n"
     ]
    },
    {
     "name": "stdout",
     "output_type": "stream",
     "text": [
      "NASAR: 0.1041858476092558\n",
      "Got 29074920/29360128 with acc  99.03\n",
      "Dice score: 0.7110733389854431\n",
      "Epoch 43: LR = 0.0009875759895888853\n",
      " Checkpoint not saved as best model.\n"
     ]
    },
    {
     "name": "stderr",
     "output_type": "stream",
     "text": [
      "100%|███████████████████████████████████████████████████████████████████████| 82/82 [02:39<00:00,  1.94s/it, loss=0.0135]\n"
     ]
    },
    {
     "name": "stdout",
     "output_type": "stream",
     "text": [
      "NASAR: 0.10461080130277105\n",
      "Got 29104295/29360128 with acc  99.13\n",
      "Dice score: 0.7480543255805969\n",
      "Epoch 44: LR = 0.0009862562165708995\n",
      " Checkpoint not saved as best model.\n"
     ]
    },
    {
     "name": "stderr",
     "output_type": "stream",
     "text": [
      "100%|███████████████████████████████████████████████████████████████████████| 82/82 [02:39<00:00,  1.95s/it, loss=0.0134]\n"
     ]
    },
    {
     "name": "stdout",
     "output_type": "stream",
     "text": [
      "NASAR: 0.09874134332361356\n",
      "Got 29104525/29360128 with acc  99.13\n",
      "Dice score: 0.763681173324585\n",
      "Epoch 45: LR = 0.0009856787890214088\n",
      "✅ Checkpoint saved: Att_Res_SNN_checkpoint_38_2025-04-24_00-28-49.pth.tar\n"
     ]
    },
    {
     "name": "stderr",
     "output_type": "stream",
     "text": [
      "100%|███████████████████████████████████████████████████████████████████████| 82/82 [02:38<00:00,  1.93s/it, loss=0.0127]\n"
     ]
    },
    {
     "name": "stdout",
     "output_type": "stream",
     "text": [
      "NASAR: 0.10631259506297223\n",
      "Got 29071246/29360128 with acc  99.02\n",
      "Dice score: 0.7131072282791138\n",
      "Epoch 46: LR = 0.0009875051132405225\n",
      " Checkpoint not saved as best model.\n"
     ]
    },
    {
     "name": "stderr",
     "output_type": "stream",
     "text": [
      "100%|███████████████████████████████████████████████████████████████████████| 82/82 [02:34<00:00,  1.89s/it, loss=0.0138]\n"
     ]
    },
    {
     "name": "stdout",
     "output_type": "stream",
     "text": [
      "NASAR: 0.11108578426737181\n",
      "Got 29099849/29360128 with acc  99.11\n",
      "Dice score: 0.7594100832939148\n",
      "Epoch 47: LR = 0.000985837771512344\n",
      " Checkpoint not saved as best model.\n"
     ]
    },
    {
     "name": "stderr",
     "output_type": "stream",
     "text": [
      "100%|███████████████████████████████████████████████████████████████████████| 82/82 [02:29<00:00,  1.82s/it, loss=0.0182]\n"
     ]
    },
    {
     "name": "stdout",
     "output_type": "stream",
     "text": [
      "NASAR: 0.10171541025940802\n",
      "Got 28999542/29360128 with acc  98.77\n",
      "Dice score: 0.6217542886734009\n",
      "Epoch 48: LR = 0.000990491847296509\n",
      " Checkpoint not saved as best model.\n"
     ]
    },
    {
     "name": "stderr",
     "output_type": "stream",
     "text": [
      "100%|███████████████████████████████████████████████████████████████████████| 82/82 [02:28<00:00,  1.81s/it, loss=0.0168]\n"
     ]
    },
    {
     "name": "stdout",
     "output_type": "stream",
     "text": [
      "NASAR: 0.10912358816800542\n",
      "Got 29099063/29360128 with acc  99.11\n",
      "Dice score: 0.745825469493866\n",
      "Epoch 49: LR = 0.0009863376191287898\n",
      " Checkpoint not saved as best model.\n"
     ]
    },
    {
     "name": "stderr",
     "output_type": "stream",
     "text": [
      "100%|███████████████████████████████████████████████████████████████████████| 82/82 [02:29<00:00,  1.82s/it, loss=0.0108]\n"
     ]
    },
    {
     "name": "stdout",
     "output_type": "stream",
     "text": [
      "NASAR: 0.11016732874050947\n",
      "Got 29065427/29360128 with acc  99.00\n",
      "Dice score: 0.7227364182472229\n",
      "Epoch 50: LR = 0.0009871668550770877\n",
      " Checkpoint not saved as best model.\n"
     ]
    },
    {
     "name": "stderr",
     "output_type": "stream",
     "text": [
      "100%|███████████████████████████████████████████████████████████████████████| 82/82 [02:37<00:00,  1.92s/it, loss=0.0137]\n"
     ]
    },
    {
     "name": "stdout",
     "output_type": "stream",
     "text": [
      "NASAR: 0.10596106981447605\n",
      "Got 29097223/29360128 with acc  99.10\n",
      "Dice score: 0.7410470247268677\n",
      "Epoch 51: LR = 0.0009865113363936432\n",
      " Checkpoint not saved as best model.\n"
     ]
    },
    {
     "name": "stderr",
     "output_type": "stream",
     "text": [
      "100%|███████████████████████████████████████████████████████████████████████| 82/82 [02:41<00:00,  1.97s/it, loss=0.0122]\n"
     ]
    },
    {
     "name": "stdout",
     "output_type": "stream",
     "text": [
      "NASAR: 0.10264109221982284\n",
      "Got 29100462/29360128 with acc  99.12\n",
      "Dice score: 0.7510010004043579\n",
      "Epoch 52: LR = 0.0009861482291317158\n",
      " Checkpoint not saved as best model.\n"
     ]
    },
    {
     "name": "stderr",
     "output_type": "stream",
     "text": [
      "100%|███████████████████████████████████████████████████████████████████████| 82/82 [02:41<00:00,  1.97s/it, loss=0.0134]\n"
     ]
    },
    {
     "name": "stdout",
     "output_type": "stream",
     "text": [
      "NASAR: 0.11104176301911403\n",
      "Got 29097141/29360128 with acc  99.10\n",
      "Dice score: 0.752902626991272\n",
      "Epoch 53: LR = 0.000986078317139996\n",
      " Checkpoint not saved as best model.\n"
     ]
    },
    {
     "name": "stderr",
     "output_type": "stream",
     "text": [
      "100%|███████████████████████████████████████████████████████████████████████| 82/82 [02:39<00:00,  1.94s/it, loss=0.0112]\n"
     ]
    },
    {
     "name": "stdout",
     "output_type": "stream",
     "text": [
      "NASAR: 0.1015220068989785\n",
      "Got 29084123/29360128 with acc  99.06\n",
      "Dice score: 0.7203543782234192\n",
      "Epoch 54: LR = 0.0009872509487523112\n",
      " Checkpoint not saved as best model.\n"
     ]
    },
    {
     "name": "stderr",
     "output_type": "stream",
     "text": [
      "100%|███████████████████████████████████████████████████████████████████████| 82/82 [02:40<00:00,  1.96s/it, loss=0.0104]\n"
     ]
    },
    {
     "name": "stdout",
     "output_type": "stream",
     "text": [
      "NASAR: 0.10810480431211947\n",
      "Got 29086252/29360128 with acc  99.07\n",
      "Dice score: 0.7383591532707214\n",
      "Epoch 55: LR = 0.0009866085723903857\n",
      " Checkpoint not saved as best model.\n"
     ]
    },
    {
     "name": "stderr",
     "output_type": "stream",
     "text": [
      "100%|███████████████████████████████████████████████████████████████████████| 82/82 [02:38<00:00,  1.94s/it, loss=0.0231]\n"
     ]
    },
    {
     "name": "stdout",
     "output_type": "stream",
     "text": [
      "NASAR: 0.09463636192357597\n",
      "Got 29101866/29360128 with acc  99.12\n",
      "Dice score: 0.7444708943367004\n",
      "Epoch 56: LR = 0.000986386976471047\n",
      " Checkpoint not saved as best model.\n"
     ]
    },
    {
     "name": "stderr",
     "output_type": "stream",
     "text": [
      "100%|██████████████████████████████████████████████████████████████████████| 82/82 [02:39<00:00,  1.95s/it, loss=0.00948]\n"
     ]
    },
    {
     "name": "stdout",
     "output_type": "stream",
     "text": [
      "NASAR: 0.1063768807711176\n",
      "Got 29106396/29360128 with acc  99.14\n",
      "Dice score: 0.758739709854126\n",
      "Epoch 57: LR = 0.0009858626448990087\n",
      " Checkpoint not saved as best model.\n"
     ]
    },
    {
     "name": "stderr",
     "output_type": "stream",
     "text": [
      "100%|████████████████████████████████████████████████████████████████████████| 82/82 [02:43<00:00,  1.99s/it, loss=0.012]\n"
     ]
    },
    {
     "name": "stdout",
     "output_type": "stream",
     "text": [
      "NASAR: 0.10324746790066572\n",
      "Got 29092540/29360128 with acc  99.09\n",
      "Dice score: 0.7274970412254333\n",
      "Epoch 58: LR = 0.0009869979758940271\n",
      " Checkpoint not saved as best model.\n"
     ]
    },
    {
     "name": "stderr",
     "output_type": "stream",
     "text": [
      "100%|███████████████████████████████████████████████████████████████████████| 82/82 [02:42<00:00,  1.98s/it, loss=0.0116]\n"
     ]
    },
    {
     "name": "stdout",
     "output_type": "stream",
     "text": [
      "NASAR: 0.10616154737875495\n",
      "Got 29083432/29360128 with acc  99.06\n",
      "Dice score: 0.7266072630882263\n",
      "Epoch 59: LR = 0.0009870296228820228\n",
      " Checkpoint not saved as best model.\n"
     ]
    }
   ],
   "source": [
    "if __name__ == \"__main__\": \n",
    "    main()"
   ]
  },
  {
   "cell_type": "markdown",
   "id": "39dfb49f",
   "metadata": {},
   "source": [
    "## Grad-CAM"
   ]
  },
  {
   "cell_type": "code",
   "execution_count": 9,
   "id": "24a93c12",
   "metadata": {},
   "outputs": [],
   "source": [
    "def load_and_preprocess_image(image_path):\n",
    "    transform = A.Compose([\n",
    "    A.Resize(height=256, width=256),\n",
    "    A.Normalize(mean=(0.0), std=(1.0), max_pixel_value=255.0),\n",
    "    ToTensorV2(),\n",
    "    ])\n",
    "    image = Image.open(image_path).convert(\"L\")\n",
    "    image_rgb = Image.open(image_path).convert(\"RGB\")\n",
    "    processed = transform(image=np.array(image))\n",
    "    input_tensor = processed['image'].unsqueeze(0)\n",
    "    vis_image = np.array(image_rgb.resize((256, 256))) / 255.0\n",
    "    return input_tensor, vis_image\n",
    "\n",
    "def reshape_transform_csa(tensor):\n",
    "    # If tensor shape is [B, C, T, H, W], convert to [B, C*T, H, W]\n",
    "    if tensor.ndim == 5:\n",
    "        B, C, T, H, W = tensor.size()\n",
    "        return tensor.permute(0, 2, 1, 3, 4).reshape(B, T * C, H, W)\n",
    "    elif tensor.ndim == 4:\n",
    "        return tensor  # Already [B, C, H, W]\n",
    "    else:\n",
    "        raise ValueError(f\"Unexpected tensor shape: {tensor.shape}\")\n",
    "    \n",
    "def reshape_transform_spiking(tensor):\n",
    "    \"\"\"Special reshape for spiking networks with attention\"\"\"\n",
    "    if tensor.ndim == 5:  # [T,B,C,H,W]\n",
    "        # For attention weights\n",
    "        if tensor.shape[2] == 1:  # Attention mask case\n",
    "            return tensor.mean(dim=0).mean(dim=1)  # [B,H,W]\n",
    "        \n",
    "        # For regular feature maps\n",
    "        B, C, T, H, W = tensor.permute(1,2,0,3,4).shape\n",
    "        return tensor.permute(1,0,2,3,4).reshape(B, T*C, H, W)\n",
    "    \n",
    "    elif tensor.ndim == 4:  # [B,C,H,W]\n",
    "        return tensor\n",
    "    \n",
    "    raise ValueError(f\"Unexpected tensor shape: {tensor.shape}\")\n",
    "\n",
    "def generate_gradcam_grid_multi_layers(\n",
    "    model,\n",
    "    image_paths,\n",
    "    mask_paths,\n",
    "    target_layers_dict,\n",
    "    device=\"cuda\",\n",
    "    save_folder=\"Att_Res_SNN_gradcam_results\",\n",
    "    grid_rows=3,\n",
    "    grid_cols=6\n",
    "    ):\n",
    "    os.makedirs(save_folder, exist_ok=True)\n",
    "    model.to(device).eval()\n",
    "\n",
    "    selected = random.sample(list(zip(image_paths, mask_paths)), grid_rows * grid_cols)\n",
    "\n",
    "    for layer_name, target_layer in target_layers_dict.items():\n",
    "\n",
    "        timestamp = datetime.now().strftime(\"%Y%m%d-%H%M%S\")\n",
    "        layer_folder_name = f\"{layer_name.replace('.', '_').replace('[', '_').replace(']', '')}_{timestamp}\"\n",
    "        layer_folder = os.path.join(save_folder, layer_folder_name)\n",
    "        os.makedirs(layer_folder, exist_ok=True)\n",
    "\n",
    "        cam = GradCAM(model=model, target_layers=[target_layer], reshape_transform=reshape_transform_csa)\n",
    "        # cam = GradCAM(model=model, target_layers=[target_layer], reshape_transform=reshape_transform_spiking)\n",
    "\n",
    "        fig_cam, axes_cam = plt.subplots(grid_rows, grid_cols, figsize=(grid_cols * 4, grid_rows * 4))\n",
    "        fig_mask, axes_mask = plt.subplots(grid_rows, grid_cols, figsize=(grid_cols * 4, grid_rows * 4))\n",
    "        fig_idx = 0\n",
    "\n",
    "        for img_path, mask_path in selected:\n",
    "            input_tensor, vis_image = load_and_preprocess_image(img_path)\n",
    "            input_tensor = input_tensor.to(device)\n",
    "\n",
    "            mask_tensor, _ = load_and_preprocess_image(mask_path)\n",
    "            input_mask_tensor = mask_tensor.squeeze(0).cpu().numpy()\n",
    "\n",
    "            targets = [SemanticSegmentationTarget(0, input_mask_tensor)]\n",
    "            grayscale_cam = cam(input_tensor=input_tensor, targets=targets)[0]\n",
    "            binary_seg_mask = (grayscale_cam > 0.8).astype(np.uint8)\n",
    "\n",
    "            # Save CAM image\n",
    "            cam_image = show_cam_on_image(vis_image, grayscale_cam, use_rgb=True)\n",
    "            cam_save_path = os.path.join(layer_folder, f\"cam_{os.path.basename(img_path)}\")\n",
    "            plt.imsave(cam_save_path, cam_image)\n",
    "\n",
    "            # Save binary segmentation mask\n",
    "            bin_mask_path = os.path.join(layer_folder, f\"mask_{os.path.basename(img_path)}\")\n",
    "            plt.imsave(bin_mask_path, binary_seg_mask, cmap='gray')\n",
    "\n",
    "            row = fig_idx // grid_cols\n",
    "            col = fig_idx % grid_cols\n",
    "\n",
    "            if row < grid_rows:\n",
    "                axes_cam[row, col].imshow(cam_image)\n",
    "                axes_cam[row, col].axis(\"off\")\n",
    "                axes_cam[row, col].set_title(f\"{os.path.basename(img_path)}\")\n",
    "\n",
    "                axes_mask[row, col].imshow(binary_seg_mask, cmap='gray')\n",
    "                axes_mask[row, col].axis(\"off\")\n",
    "                axes_mask[row, col].set_title(f\"{os.path.basename(img_path)}\")\n",
    "\n",
    "                fig_idx += 1\n",
    "\n",
    "        # Save full CAM grid\n",
    "        grid_cam_path = os.path.join(layer_folder, f\"grid_cam_{layer_name}_{timestamp}.png\")\n",
    "        plt.tight_layout()\n",
    "        fig_cam.savefig(grid_cam_path)\n",
    "        plt.close(fig_cam)\n",
    "\n",
    "        # Save full binary segmentation mask grid\n",
    "        grid_mask_path = os.path.join(layer_folder, f\"grid_mask_{layer_name}_{timestamp}.png\")\n",
    "        plt.tight_layout()\n",
    "        fig_mask.savefig(grid_mask_path)\n",
    "        plt.close(fig_mask)\n",
    "\n",
    "        print(f\"✅ Saved {grid_cam_path}\")\n",
    "        print(f\"✅ Saved {grid_mask_path}\")"
   ]
  },
  {
   "cell_type": "code",
   "execution_count": null,
   "id": "ecbda1ba",
   "metadata": {},
   "outputs": [
    {
     "name": "stdout",
     "output_type": "stream",
     "text": [
      "✅ Saved Att_Res_SNN_gradcam_results\\conv4_attention_sa_20250424-021353\\grid_cam_conv4_attention_sa_20250424-021353.png\n",
      "✅ Saved Att_Res_SNN_gradcam_results\\conv4_attention_sa_20250424-021353\\grid_mask_conv4_attention_sa_20250424-021353.png\n",
      "✅ Saved Att_Res_SNN_gradcam_results\\conv4_residual_20250424-021405\\grid_cam_conv4_residual_20250424-021405.png\n",
      "✅ Saved Att_Res_SNN_gradcam_results\\conv4_residual_20250424-021405\\grid_mask_conv4_residual_20250424-021405.png\n",
      "✅ Saved Att_Res_SNN_gradcam_results\\conv4_20250424-021417\\grid_cam_conv4_20250424-021417.png\n",
      "✅ Saved Att_Res_SNN_gradcam_results\\conv4_20250424-021417\\grid_mask_conv4_20250424-021417.png\n",
      "✅ Saved Att_Res_SNN_gradcam_results\\conv5_attention_sa_20250424-021427\\grid_cam_conv5_attention_sa_20250424-021427.png\n",
      "✅ Saved Att_Res_SNN_gradcam_results\\conv5_attention_sa_20250424-021427\\grid_mask_conv5_attention_sa_20250424-021427.png\n",
      "✅ Saved Att_Res_SNN_gradcam_results\\conv5_residual_20250424-021437\\grid_cam_conv5_residual_20250424-021437.png\n",
      "✅ Saved Att_Res_SNN_gradcam_results\\conv5_residual_20250424-021437\\grid_mask_conv5_residual_20250424-021437.png\n",
      "✅ Saved Att_Res_SNN_gradcam_results\\conv5_20250424-021449\\grid_cam_conv5_20250424-021449.png\n",
      "✅ Saved Att_Res_SNN_gradcam_results\\conv5_20250424-021449\\grid_mask_conv5_20250424-021449.png\n",
      "✅ Saved Att_Res_SNN_gradcam_results\\segmentation_head_0_20250424-021459\\grid_cam_segmentation_head[0]_20250424-021459.png\n",
      "✅ Saved Att_Res_SNN_gradcam_results\\segmentation_head_0_20250424-021459\\grid_mask_segmentation_head[0]_20250424-021459.png\n",
      "✅ Saved Att_Res_SNN_gradcam_results\\segmentation_head_1_20250424-021512\\grid_cam_segmentation_head[1]_20250424-021512.png\n",
      "✅ Saved Att_Res_SNN_gradcam_results\\segmentation_head_1_20250424-021512\\grid_mask_segmentation_head[1]_20250424-021512.png\n",
      "✅ Saved Att_Res_SNN_gradcam_results\\segmentation_head_2_20250424-021522\\grid_cam_segmentation_head[2]_20250424-021522.png\n",
      "✅ Saved Att_Res_SNN_gradcam_results\\segmentation_head_2_20250424-021522\\grid_mask_segmentation_head[2]_20250424-021522.png\n",
      "✅ Saved Att_Res_SNN_gradcam_results\\segmentation_head_3_20250424-021532\\grid_cam_segmentation_head[3]_20250424-021532.png\n",
      "✅ Saved Att_Res_SNN_gradcam_results\\segmentation_head_3_20250424-021532\\grid_mask_segmentation_head[3]_20250424-021532.png\n",
      "✅ Saved Att_Res_SNN_gradcam_results\\segmentation_head_4_20250424-021542\\grid_cam_segmentation_head[4]_20250424-021542.png\n",
      "✅ Saved Att_Res_SNN_gradcam_results\\segmentation_head_4_20250424-021542\\grid_mask_segmentation_head[4]_20250424-021542.png\n"
     ]
    }
   ],
   "source": [
    "model = resnet_2_copy.resnet50().to(device)\n",
    "checkpoint = torch.load(\"E:/Code/Attention-SNN/Att_Res_SNN_checkpoints/\", map_location=\"cuda\")\n",
    "model.load_state_dict(checkpoint[\"state_dict\"])\n",
    "\n",
    "image_paths = sorted(glob.glob(os.path.join(VAL_IMG_DIR, \"*.png\")))\n",
    "mask_paths = sorted(glob.glob(os.path.join(VAL_MASK_DIR, \"*.png\")))\n",
    "\n",
    "target_layers = {\n",
    "    \"conv4_attention_sa\": model.conv4_x[-1].residual_function[-1].attention.sa.conv,\n",
    "    \"conv4_residual\":     model.conv4_x[-1].residual_function[-1],\n",
    "    \"conv4\":              model.conv4_x[-1],\n",
    "\n",
    "    \"conv5_attention_sa\": model.conv5_x[-1].residual_function[-1].attention.sa.conv,\n",
    "    \"conv5_residual\":     model.conv5_x[-1].residual_function[-1],\n",
    "    \"conv5\":              model.conv5_x[-1],\n",
    "\n",
    "    \"segmentation_head[0]\": model.segmentation_head[0],\n",
    "    \"segmentation_head[1]\": model.segmentation_head[1],\n",
    "    \"segmentation_head[2]\": model.segmentation_head[2],\n",
    "    \"segmentation_head[3]\": model.segmentation_head[3],\n",
    "    \"segmentation_head[4]\": model.segmentation_head[4],\n",
    "}\n",
    "\n",
    "generate_gradcam_grid_multi_layers(\n",
    "    model=model,\n",
    "    image_paths=image_paths,\n",
    "    mask_paths=mask_paths,\n",
    "    target_layers_dict=target_layers,\n",
    "    device=device,\n",
    "    save_folder=\"Att_Res_SNN_gradcam_results\",\n",
    "    grid_rows=3,\n",
    "    grid_cols=6\n",
    ")"
   ]
  }
 ],
 "metadata": {
  "kernelspec": {
   "display_name": "Python 3 (ipykernel)",
   "language": "python",
   "name": "python3"
  },
  "language_info": {
   "codemirror_mode": {
    "name": "ipython",
    "version": 3
   },
   "file_extension": ".py",
   "mimetype": "text/x-python",
   "name": "python",
   "nbconvert_exporter": "python",
   "pygments_lexer": "ipython3",
   "version": "3.13.1"
  }
 },
 "nbformat": 4,
 "nbformat_minor": 5
}
