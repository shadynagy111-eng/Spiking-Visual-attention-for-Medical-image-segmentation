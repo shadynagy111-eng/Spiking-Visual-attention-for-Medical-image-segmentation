{
  "cells": [
    {
      "cell_type": "code",
      "execution_count": null,
      "id": "a62994d2",
      "metadata": {},
      "outputs": [],
      "source": [
        "!pip install eco2ai"
      ]
    },
    {
      "cell_type": "code",
      "execution_count": null,
      "id": "e9861d66",
      "metadata": {
        "colab": {
          "base_uri": "https://localhost:8080/"
        },
        "id": "e9861d66",
        "outputId": "04d9115c-43c2-44d5-d61d-8791125c295e"
      },
      "outputs": [],
      "source": [
        "import sys\n",
        "sys.path.append('/kaggle/input/tcsa_snn/pytorch/tcsa_snn_attention/1')\n",
        "\n",
        "import torch\n",
        "import torch.nn as nn\n",
        "import torch.optim as optim\n",
        "from torchsummary import summary\n",
        "from torch.optim.lr_scheduler import ReduceLROnPlateau, CosineAnnealingLR, CosineAnnealingWarmRestarts\n",
        "\n",
        "import numpy as np\n",
        "import matplotlib.pyplot as plt\n",
        "from PIL import Image\n",
        "import os\n",
        "import cv2\n",
        "\n",
        "import albumentations as A\n",
        "from albumentations.pytorch import ToTensorV2\n",
        "\n",
        "from tqdm import tqdm\n",
        "\n",
        "from simple_utils import (\n",
        "    save_checkpoint,\n",
        "    load_checkpoint,\n",
        "    get_loaders,\n",
        "    check_accuracy,\n",
        "    save_predictions_as_imgs,\n",
        "    summarize_eco2ai_log,\n",
        "    )\n",
        "\n",
        "import resnet_2_copy\n",
        "\n",
        "from datetime import datetime\n",
        "import glob\n",
        "import random\n",
        "\n",
        "from eco2ai import Tracker\n",
        "import warnings\n",
        "warnings.filterwarnings(\"ignore\", category=FutureWarning)\n",
        "warnings.filterwarnings(\"ignore\", category=UserWarning)"
      ]
    },
    {
      "cell_type": "code",
      "execution_count": null,
      "id": "cb2fcd61",
      "metadata": {
        "colab": {
          "base_uri": "https://localhost:8080/"
        },
        "id": "cb2fcd61",
        "outputId": "c3dfdf5c-17a2-4592-8641-faf2179fc1be"
      },
      "outputs": [],
      "source": [
        "device = torch.device(\"cuda\" if torch.cuda.is_available() else \"cpu\")\n",
        "model = resnet_2_copy.resnet34().to(device)\n",
        "summary(model, input_size=(1, 256, 256), batch_size=32)"
      ]
    },
    {
      "cell_type": "code",
      "execution_count": null,
      "id": "890da0e5",
      "metadata": {
        "id": "890da0e5"
      },
      "outputs": [],
      "source": [
        "IMG_DIR      =  \"/kaggle/input/braindataset/Modified_3_Brain_Tumor_Segmentation/images\"\n",
        "MASK_DIR     =  \"/kaggle/input/braindataset/Modified_3_Brain_Tumor_Segmentation/masks\"\n",
        "VAL_IMG_DIR  =  \"/kaggle/input/braindataset/Modified_3_Brain_Tumor_Segmentation/val_images\"\n",
        "VAL_MASK_DIR =  \"/kaggle/input/braindataset/Modified_3_Brain_Tumor_Segmentation/val_masks\""
      ]
    },
    {
      "cell_type": "code",
      "execution_count": null,
      "id": "d822dc74",
      "metadata": {
        "id": "d822dc74"
      },
      "outputs": [],
      "source": [
        "Device = \"cuda\" if torch.cuda.is_available() else \"cpu\"\n",
        "Learning_rate = 1e-3\n",
        "Batch_size  = 32\n",
        "num_epochs  = 60\n",
        "num_workers = 4\n",
        "IMAGE_HEIGHT = 256 \n",
        "IMAGE_WIDTH  = 256 \n",
        "PIN_MEMORY = True\n",
        "LOAD_MODEL = False\n",
        "CHECKPOINT_NAME = None"
      ]
    },
    {
      "cell_type": "code",
      "execution_count": 8,
      "id": "929a5f2c",
      "metadata": {
        "id": "929a5f2c"
      },
      "outputs": [],
      "source": [
        "def train_fn(loader, model, optimizer, loss_fn, scaler):\n",
        "    tracker = Tracker(\n",
        "        project_name=\"TCSA_SNN_Training_Project\",\n",
        "        experiment_description=\"Training TCSA Spiking Model\",\n",
        "        file_name=\"TCSA_SNN_eco2ai_logs.csv\",\n",
        "        alpha_2_code=\"EG\",\n",
        "    )\n",
        "    tracker.start()\n",
        "\n",
        "    loop = tqdm(loader)\n",
        "    running_loss=0\n",
        "\n",
        "    for batch_idx, (data, targets) in enumerate(loop):\n",
        "        data = data.to(device=Device)\n",
        "        targets = targets.float().unsqueeze(1).to(device=Device)\n",
        "\n",
        "        with torch.amp.autocast(device_type=Device):\n",
        "            predictions = model(data)\n",
        "            loss = loss_fn(predictions, targets)\n",
        "\n",
        "        running_loss+=loss.item()\n",
        "\n",
        "        optimizer.zero_grad()\n",
        "        scaler.scale(loss).backward()\n",
        "        scaler.step(optimizer)\n",
        "        scaler.update()\n",
        "\n",
        "        loop.set_postfix(loss=loss.item())\n",
        "\n",
        "    tracker.stop()\n",
        "\n",
        "    nasar = model.calculate_nasar()\n",
        "\n",
        "    return running_loss/len(loader), nasar"
      ]
    },
    {
      "cell_type": "code",
      "execution_count": 9,
      "id": "776f1658",
      "metadata": {
        "id": "776f1658"
      },
      "outputs": [],
      "source": [
        "def main():\n",
        "    train_transform = A.Compose(\n",
        "        [\n",
        "            A.Resize(height=IMAGE_HEIGHT, width=IMAGE_WIDTH),\n",
        "            A.Rotate(limit=35, p=1.0),\n",
        "            A.HorizontalFlip(p=0.5),\n",
        "            A.VerticalFlip(p=0.1),\n",
        "            A.Normalize(\n",
        "                mean=[0.0],\n",
        "                std=[1.0],\n",
        "                max_pixel_value=255.0,\n",
        "            ),\n",
        "            ToTensorV2(),\n",
        "        ]\n",
        "    )\n",
        "    val_transform = A.Compose(\n",
        "        [\n",
        "            A.Resize(height=IMAGE_HEIGHT, width=IMAGE_WIDTH),\n",
        "            A.Normalize(\n",
        "                mean=[0.0],\n",
        "                std=[1.0],\n",
        "                max_pixel_value=255.0,\n",
        "            ),\n",
        "            ToTensorV2(),\n",
        "        ]\n",
        "    )\n",
        "    model = resnet_2_copy.resnet34().to(device)\n",
        "    loss_fn = nn.BCEWithLogitsLoss()\n",
        "    optimizer = optim.Adam(model.parameters(), lr=Learning_rate)\n",
        "    # scheduler = ReduceLROnPlateau(optimizer, mode='min', patience=5, factor=0.5)\n",
        "    # scheduler = CosineAnnealingLR(optimizer, T_max=num_epochs)\n",
        "    scheduler = CosineAnnealingWarmRestarts(optimizer, T_0=10, T_mult=2)\n",
        "\n",
        "    train_loader, val_loader = get_loaders(\n",
        "        IMG_DIR,\n",
        "        MASK_DIR,\n",
        "        VAL_IMG_DIR,\n",
        "        VAL_MASK_DIR,\n",
        "        Batch_size,\n",
        "        train_transform,\n",
        "        val_transform,\n",
        "        num_workers,\n",
        "        PIN_MEMORY,\n",
        "    )\n",
        "\n",
        "    train_losses=[]\n",
        "    val_dice_scores=[]\n",
        "    val_accs=[]\n",
        "    train_nasar=[]\n",
        "\n",
        "    if LOAD_MODEL:\n",
        "        load_checkpoint(model=model, optimizer=optimizer, checkpoint_name=CHECKPOINT_NAME)\n",
        "        val_acc_loaded, val_dice_loaded = check_accuracy(val_loader, model, device=Device)\n",
        "\n",
        "    scaler = torch.amp.GradScaler()\n",
        "\n",
        "    for epoch in range(num_epochs):\n",
        "        train_fn(train_loader, model, optimizer, loss_fn, scaler)"
      ]
    },
    {
      "cell_type": "code",
      "execution_count": null,
      "id": "693d6caf",
      "metadata": {
        "colab": {
          "base_uri": "https://localhost:8080/"
        },
        "id": "693d6caf",
        "outputId": "2f2bce0c-488a-4279-a31a-0b790887bd3e"
      },
      "outputs": [],
      "source": [
        "if __name__ == \"__main__\":\n",
        "    main()"
      ]
    },
    {
      "cell_type": "code",
      "execution_count": null,
      "id": "0de787bb",
      "metadata": {
        "colab": {
          "base_uri": "https://localhost:8080/",
          "height": 537
        },
        "id": "0de787bb",
        "outputId": "ac67c092-57f5-408e-8687-c8b1e7555892"
      },
      "outputs": [],
      "source": [
        "summarize_eco2ai_log(\"TCSA_SNN_eco2ai_logs.csv\")"
      ]
    }
  ],
  "metadata": {
    "accelerator": "GPU",
    "colab": {
      "gpuType": "T4",
      "provenance": []
    },
    "kernelspec": {
      "display_name": "Python 3",
      "name": "python3"
    },
    "language_info": {
      "codemirror_mode": {
        "name": "ipython",
        "version": 3
      },
      "file_extension": ".py",
      "mimetype": "text/x-python",
      "name": "python",
      "nbconvert_exporter": "python",
      "pygments_lexer": "ipython3",
      "version": "3.13.1"
    }
  },
  "nbformat": 4,
  "nbformat_minor": 5
}
